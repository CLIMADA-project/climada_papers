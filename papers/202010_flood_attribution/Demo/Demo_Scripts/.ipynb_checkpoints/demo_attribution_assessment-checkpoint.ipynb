{
 "cells": [
  {
   "cell_type": "markdown",
   "metadata": {},
   "source": [
    "This tutorial shows how the contributions of different drivers are quantified. The output datafile from the tutorial 'demo_vulnerability_assessment' is required as an input."
   ]
  },
  {
   "cell_type": "code",
   "execution_count": 36,
   "metadata": {},
   "outputs": [],
   "source": [
    "import pandas as pd\n",
    "import numpy as np\n",
    "import pymannkendall as mk\n",
    "import matplotlib.pyplot as plt\n",
    "from scipy import stats\n",
    "vul_data = pd.read_csv('~/projects/NC_Submission/Climada_papers/Test/DEMO_VulnerabilityTimeSeriesSubregions.csv')"
   ]
  },
  {
   "cell_type": "code",
   "execution_count": 5,
   "metadata": {},
   "outputs": [],
   "source": [
    "\n",
    "def normalise(dataFrame):\n",
    "    \"\"\"normalise all the model median data to observed damage\"\"\"\n",
    "    for dis in ['Pos', 'Neg']:\n",
    "        # Norm_D_Full can be used as it is already normalised to observed damage\n",
    "        norm_CliExp = dataFrame.loc[dataFrame['Year'] >= 1980, 'Norm_D_Full_{}'.format(dis)].mean() / \\\n",
    "            dataFrame.loc[dataFrame['Year'] >= 1980, 'Norm_D_CliExp_{}'.format(dis)].mean()\n",
    "\n",
    "        dataFrame['TNorm_D_CliExp_{}'.format(dis)] = dataFrame['D_CliExp_{}'.format(dis)] * norm_CliExp\n",
    "\n",
    "        norm_1980 = dataFrame.loc[dataFrame['Year'] >= 1980, 'Norm_D_Full_{}'.format(dis)].mean() / \\\n",
    "            dataFrame.loc[dataFrame['Year'] >= 1980, 'Norm_D_1980_{}'.format(dis)].mean()\n",
    "\n",
    "        dataFrame['TNorm_D_1980_{}'.format(dis)] = dataFrame['D_1980_{}'.format(dis)] * norm_1980\n",
    "\n",
    "        norm_2010 = dataFrame.loc[dataFrame['Year'] >= 1980, 'Norm_D_Full_{}'.format(dis)].mean() / \\\n",
    "            dataFrame.loc[dataFrame['Year'] >= 1980, 'Norm_D_2010_{}'.format(dis)].mean()\n",
    "\n",
    "        dataFrame['TNorm_D_2010_{}'.format(dis)] = dataFrame['D_2010_{}'.format(dis)] * norm_2010\n",
    "\n",
    "\n",
    "    return dataFrame"
   ]
  },
  {
   "cell_type": "code",
   "execution_count": 22,
   "metadata": {},
   "outputs": [],
   "source": [
    "def rel_time_attr_MK(dataFrame71, dis):\n",
    "    \"\"\"\n",
    "    Theil-Sen-Slope estimation and Mann-Kendall-Test to estimate the\n",
    "    contribution of each driver!\n",
    "\n",
    "    Parameters\n",
    "    ----------\n",
    "    dataFrame71 : time series\n",
    "        Time series.\n",
    "    dis : string\n",
    "        discharge group\n",
    "\n",
    "    Returns\n",
    "    -------\n",
    "    regH : List MK-output\n",
    "        Sen_slope and MK-test result with uncertainty range of hazard\n",
    "        (with 1980 fixed exposure)(TS_Haz) 1980-2010\n",
    "    regHE : List MK-output\n",
    "        Sen_slope and MK-test result with uncertainty range of TS_HazExp\n",
    "        1980-2010\n",
    "    regF : List MK-output\n",
    "        Sen_slope and MK-test result with uncertainty range of TS_Full\n",
    "        1980-2010.\n",
    "    regH7 : List MK-output\n",
    "        Sen_slope and MK-test result with uncertainty range of hazard\n",
    "        (with 1980 fixed exposure)(TS_Haz) 1971-2010\n",
    "    regH107 : List MK-output\n",
    "        Sen_slope and MK-test result with uncertainty range of hazard\n",
    "        (with 2010 fixed exposure)(TS_Haz) 1971-2010\n",
    "    regH10 : List MK-output\n",
    "        Sen_slope and MK-test result with uncertainty range of hazard\n",
    "        (with 2010 fixed exposure)(TS_Haz) 1980-2010\n",
    "    regE : List MK-output\n",
    "        Sen_slope and MK-test result with uncertainty range of exposure\n",
    "        difference function (TS_HazExp - TS_Haz) 1980-2010 (not used)\n",
    "    regE7 : List MK-output\n",
    "        Sen_slope and MK-test result with uncertainty range of exposure\n",
    "        difference function (TS_HazExp - TS_Haz) 1971-2010 (not used)\n",
    "    regV : List MK-output\n",
    "        Sen_slope and MK-test result with uncertainty range of vulnerability\n",
    "        difference function (TS_full - TS_Haz_Exp)(not used)\n",
    "    regI : List MK-output\n",
    "        Sen_slope and MK-test result with uncertainty range of modeled damges\n",
    "        (including vulnerability)\n",
    "    regN : List MK-output\n",
    "        Sen_slope and MK-test result with uncertainty range of observed damages\n",
    "\n",
    "    \"\"\"\n",
    "\n",
    "    dataFrame = dataFrame71[dataFrame71['Year'] > 1979]\n",
    "    \n",
    "    # Estimate trend in Time Series D_CliExp\n",
    "\n",
    "    regCliExp = mk.original_test(dataFrame['TNorm_D_CliExp_{}'.format(dis)],\n",
    "                                  alpha=0.1)\n",
    "    slopeCliExp = stats.theilslopes(dataFrame['TNorm_D_CliExp_{}'.format(dis)],\n",
    "                                     alpha=1/3)\n",
    "\n",
    "    regCE = [regCliExp.slope, regCliExp.p, slopeCliExp[2], slopeCliExp[3]]\n",
    "\n",
    "    # Estimate trend in Time Series D_Full\n",
    "    \n",
    "    regLFull = mk.original_test(dataFrame['Norm_D_Full_{}'.format(dis)],\n",
    "                                alpha=0.1)\n",
    "\n",
    "    slopeLFull = stats.theilslopes(dataFrame['Norm_D_Full_{}'.format(dis)],\n",
    "                                   alpha=1/3)\n",
    "\n",
    "    regF = [regLFull.slope, regLFull.p, slopeLFull[2], slopeLFull[3]]\n",
    "    \n",
    "    # Estimate trend in Time Series D_1980 (starting in 1980)\n",
    "\n",
    "    regC = mk.original_test(dataFrame['TNorm_D_1980_{}'.format(dis)],\n",
    "                              alpha=0.1)\n",
    "\n",
    "    slopeC = stats.theilslopes(dataFrame['TNorm_D_1980_{}'.format(dis)],\n",
    "                                 alpha=1/3)\n",
    "\n",
    "    regC = [regC.slope, regC.p, slopeC[2], slopeC[3]]\n",
    "    \n",
    "    # Estimate trend in Time Series D_1980 (starting in 1971)\n",
    "\n",
    "    regC7 = mk.original_test(dataFrame71['TNorm_D_1980_{}'.format(dis)], alpha=0.1)\n",
    "\n",
    "    slopeC7 = stats.theilslopes(dataFrame71['TNorm_D_1980_{}'.format(dis)],\n",
    "                                  alpha=1/3)\n",
    "    regC7 = [regC7.slope, regC7.p, slopeC7[2], slopeC7[3]]\n",
    "    \n",
    "    # Estimate trend in Time Series D_2010 (starting in 1971)\n",
    "\n",
    "    regC107 = mk.original_test(dataFrame71['TNorm_D_2010_{}'.format(dis)],\n",
    "                                 alpha=0.1)\n",
    "\n",
    "    slopeC107 = stats.theilslopes(dataFrame71['TNorm_D_2010_{}'.format(dis)],\n",
    "                                    alpha=1/3)\n",
    "\n",
    "    regC107 = [regC107.slope, regC107.p, slopeC107[2], slopeC107[3]]\n",
    "\n",
    "    \n",
    "    # Estimate trend in Time Series D_2010 (starting in 1980)\n",
    "    regC10 = mk.original_test(dataFrame['TNorm_D_2010_{}'.format(dis)],\n",
    "                                alpha=0.1)\n",
    "\n",
    "    slopeC10 = stats.theilslopes(dataFrame['TNorm_D_2010_{}'.format(dis)],\n",
    "                                   alpha=1/3)\n",
    "\n",
    "    regC10 = [regC10.slope, regC10.p, slopeC10[2], slopeC10[3]]\n",
    "    \n",
    "    # Estimate trend in Time Series D_Obs (starting in 1980)\n",
    "\n",
    "\n",
    "    regN = mk.original_test(dataFrame['D_obs_dummy_{}'.format(dis)],\n",
    "                              alpha=0.1)\n",
    "\n",
    "    slopeN = stats.theilslopes(dataFrame['D_obs_dummy_{}'.format(dis)],\n",
    "                                 alpha=1/3)\n",
    "\n",
    "    regN = [regN.slope, regN.p, slopeN[2], slopeN[3]]\n",
    "\n",
    "    return regC, regCE, regF, regC7, regC107, regC10,regN"
   ]
  },
  {
   "cell_type": "code",
   "execution_count": 54,
   "metadata": {},
   "outputs": [],
   "source": [
    "vul_data = normalise(vul_data)\n",
    "\n",
    "regC_Pos, regCE_Pos, regF_Pos, regC7_Pos, regC107_Pos, regC10_Pos,regN_Pos = rel_time_attr_MK(vul_data, 'Pos')\n",
    "\n",
    "regC_Neg, regCE_Neg, regF_Neg, regC7_Neg, regC107_Neg, regC10_Neg,regN_Neg = rel_time_attr_MK(vul_data, 'Neg')"
   ]
  },
  {
   "cell_type": "code",
   "execution_count": 59,
   "metadata": {},
   "outputs": [],
   "source": [
    "# get attribution for LAM+\n",
    "\n",
    "# First get normalisation factor\n",
    "nat_norm = np.nanmean(vul_data.loc[(vul_data['Year'] > 1979) & (vul_data['Year'] < 1996),\n",
    "                        'D_obs_dummy_Pos'])\n",
    "\n",
    "nat_norm_neg = np.nanmean(vul_data.loc[(vul_data['Year'] > 1979) & (vul_data['Year'] < 1996),\n",
    "                        'D_obs_dummy_Neg'])\n",
    "\n",
    "#calculate attribution of each driver\n",
    "\n",
    "# all climate contributionsnat_norm = np.nanmean(data.loc[(data['Year'] > 1979) & (data['Year'] < 1996),\n",
    "                        'natcat_damages_2005_CPI_{}'.format(dis)])\n",
    "c_norm = regC_Pos[0]*100/nat_norm\n",
    "\n",
    "c7_normCL = regC7_Pos[0]*100/nat_norm\n",
    "\n",
    "c10_normCL = regC10_Pos[0]*100/nat_norm\n",
    "\n",
    "c107_normCL = regC107_Pos[0]*100/nat_norm\n",
    "\n",
    "# exposure contribution\n",
    "e_norm = (regCE_Pos[0]-regC_Pos[0])*100/nat_norm\n",
    "# vulnerability contribution\n",
    "v_norm = (regF_Pos[0]-regCE_Pos[0])*100/nat_norm\n",
    "\n",
    "# modeled damage trend\n",
    "m_norm = regF_Pos[0]*100/nat_norm\n",
    "# observed damage trend\n",
    "n_norm = regN_Pos[0]*100/nat_norm\n"
   ]
  },
  {
   "cell_type": "code",
   "execution_count": 48,
   "metadata": {},
   "outputs": [
    {
     "data": {
      "text/plain": [
       "([<matplotlib.axis.XTick at 0x7faf723aae10>,\n",
       "  <matplotlib.axis.XTick at 0x7faf70910890>,\n",
       "  <matplotlib.axis.XTick at 0x7faf70910950>,\n",
       "  <matplotlib.axis.XTick at 0x7faf70a1ced0>],\n",
       " <a list of 4 Text xticklabel objects>)"
      ]
     },
     "execution_count": 48,
     "metadata": {},
     "output_type": "execute_result"
    },
    {
     "data": {
      "image/png": "[encoded data removed]",
      "text/plain": [
       "<Figure size 432x288 with 1 Axes>"
      ]
     },
     "metadata": {
      "needs_background": "light"
     },
     "output_type": "display_data"
    }
   ],
   "source": [
    "plt.bar([0,1,2,3],[c_norm, e_norm, v_norm, m_norm], color = ['blue', 'orange', 'brown', 'purple'])\n",
    "plt.ylim([-3,3])\n",
    "plt.ylabel('Trend in %/year')\n",
    "plt.xticks([0,1,2,3],['C','E','V','M'])\n",
    "# "
   ]
  },
  {
   "cell_type": "code",
   "execution_count": 84,
   "metadata": {},
   "outputs": [
    {
     "data": {
      "text/plain": [
       "Text(0.5, 1.0, 'Climate contributions in Latin America')"
      ]
     },
     "execution_count": 84,
     "metadata": {},
     "output_type": "execute_result"
    },
    {
     "data": {
      "image/png": "[encoded data removed]",
      "text/plain": [
       "<Figure size 432x288 with 1 Axes>"
      ]
     },
     "metadata": {
      "needs_background": "light"
     },
     "output_type": "display_data"
    }
   ],
   "source": [
    "# looking at 2010 fixed exposure climate contributions\n",
    "\n",
    "c10_norm_Neg = regC10_Neg[0]*100/nat_norm_neg\n",
    "\n",
    "c107_norm_Neg = regC107_Neg[0]*100/nat_norm_neg\n",
    "\n",
    "# get significance \n",
    "c10_Pos_sig = regC10_Pos[1]\n",
    "c107_Pos_sig = regC107_Pos[1]\n",
    "\n",
    "c10_Neg_sig = regC10_Neg[1]\n",
    "c107_Neg_sig = regC107_Neg[1]\n",
    "\n",
    "signs = [c10_Pos_sig, c10_Neg_sig, c107_Pos_sig, c107_Neg_sig]\n",
    "magn = [c10_normCL, c10_norm_Neg, c107_normCL, c107_norm_Neg]\n",
    "x = [0,1,3,4]\n",
    "col = ['mediumseagreen', 'goldenrod','mediumseagreen', 'goldenrod']\n",
    "for i in range(4):\n",
    "    if signs[i] < 0.1:\n",
    "        plt.scatter(x[i],magn[i], marker = '*', s =500, c = col[i])\n",
    "    else:\n",
    "        plt.scatter(x[i],magn[i], s =500, c = col[i])\n",
    "\n",
    "plt.ylim([-1,1])\n",
    "plt.ylabel('Trend in %/year')\n",
    "plt.xticks([0,1,3,4],['R+ 1980','R-1980','R+ 1971','R- 1971'])\n",
    "plt.title('Climate contributions in Latin America')"
   ]
  },
  {
   "cell_type": "markdown",
   "metadata": {},
   "source": [
    "As we can see, we get the significant climate trend indicated by the star over the longer time period 1971 -2010 in LAM+\n",
    "Differences in the absolute numbers arise from the normalisation on dummy data"
   ]
  },
  {
   "cell_type": "markdown",
   "metadata": {},
   "source": [
    "For the last tutorial (demo_teleconnections.ipynb) we can now just use the same input dataset as for this tutorial"
   ]
  }
 ],
 "metadata": {
  "kernelspec": {
   "display_name": "Python 3",
   "language": "python",
   "name": "python3"
  },
  "language_info": {
   "codemirror_mode": {
    "name": "ipython",
    "version": 3
   },
   "file_extension": ".py",
   "mimetype": "text/x-python",
   "name": "python",
   "nbconvert_exporter": "python",
   "pygments_lexer": "ipython3",
   "version": "3.7.7"
  }
 },
 "nbformat": 4,
 "nbformat_minor": 4
}
