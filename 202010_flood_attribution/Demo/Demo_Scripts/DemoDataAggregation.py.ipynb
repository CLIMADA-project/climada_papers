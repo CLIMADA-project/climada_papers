{
 "cells": [
  {
   "cell_type": "markdown",
   "metadata": {},
   "source": [
    "This script shows how data from the different model simulation runs and countries is aggregated to country and region level. The example is only done for Latin America and a small model selection of 6 GHM and climate forcing combinations. Real data contains all the countries and 46 model combinateions.\n",
    "In order to see how damages are generated with CLIMADA to create the input file please the the CLIMADA RiverFlood tutorial here:\n",
    "\n",
    "https://github.com/CLIMADA-project/climada_python/blob/main/doc/tutorial/climada_hazard_RiverFlood.ipynb\n",
    "\n",
    "The pre-processing that is additionally necessary to convert asset damages and observed damages is described in the readme.txt under chapter 4 Instructions for use."
   ]
  },
  {
   "cell_type": "code",
   "execution_count": null,
   "metadata": {},
   "outputs": [],
   "source": [
    "import numpy as np\n",
    "import pandas as pd\n",
    "import os\n",
    "\n",
    "pd.read_csv('/home/insauer/projects/NC_Submission/Climada_papers/Test/DEMO_AssembledDataSubregions.csv')"
   ]
  }
 ],
 "metadata": {
  "kernelspec": {
   "display_name": "Python 3",
   "language": "python",
   "name": "python3"
  },
  "language_info": {
   "codemirror_mode": {
    "name": "ipython",
    "version": 3
   },
   "file_extension": ".py",
   "mimetype": "text/x-python",
   "name": "python",
   "nbconvert_exporter": "python",
   "pygments_lexer": "ipython3",
   "version": "3.7.7"
  }
 },
 "nbformat": 4,
 "nbformat_minor": 4
}
