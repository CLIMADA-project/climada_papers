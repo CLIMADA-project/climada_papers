{
 "cells": [
  {
   "cell_type": "markdown",
   "id": "138f30ad",
   "metadata": {},
   "source": [
    "# Case study 2 - winter storms in France"
   ]
  },
  {
   "cell_type": "code",
   "execution_count": null,
   "id": "8bb5e568",
   "metadata": {},
   "outputs": [],
   "source": [
    "import os\n",
    "import numpy as np\n",
    "import matplotlib.pyplot as plt\n",
    "import geopandas\n",
    "import matplotlib.patches as mpatches\n",
    "from matplotlib.lines import Line2D\n",
    "import matplotlib.cm as cm_mp\n",
    "from matplotlib.colors import LinearSegmentedColormap\n",
    "import cartopy.crs as ccrs\n",
    "\n",
    "from climada.hazard.base import Hazard\n",
    "from climada.hazard import TCTracks\n",
    "from climada.hazard import TropCyclone\n",
    "from climada.entity import ImpactFuncSet\n",
    "from climada.entity.impact_funcs.trop_cyclone import ImpfSetTropCyclone\n",
    "from climada.entity.impact_funcs.storm_europe import ImpfStormEurope\n",
    "from climada.engine import Impact\n",
    "import climada.util.coordinates as u_coord\n",
    "\n",
    "import functions as fct\n",
    "\n",
    "#Define directories\n",
    "home = str(Path.home())\n",
    "project_path = home+'/Documents/CLIMADA/own_projects/parametric_casestudy/data/' \n",
    "figures_path = home+'/Library/CloudStorage/Dropbox/Aplicaciones/Overleaf/WP1_Parametric_paper_V2/art/'\n",
    "\n",
    "#Plotting settings\n",
    "plt.rcParams[\"font.family\"] = \"Arial\"\n",
    "plt.rcParams['font.size'] = '11'\n",
    "cm = 1/2.54  # centimeters in inches\n",
    "fig_width = 17.4 #cm\n",
    "max_fig_height = 23.4 #cm\n",
    "horizontal_plots_height = 4 #inch"
   ]
  },
  {
   "cell_type": "code",
   "execution_count": null,
   "id": "52c678e5",
   "metadata": {},
   "outputs": [],
   "source": [
    "country_iso_FRA = 'FRA'\n",
    "country_name_FRA  = 'france'\n",
    "basin_FRA  = None\n",
    "impf_id_FRA  = 1\n",
    "hazard_name_FRA = 'storm_europe'\n",
    "bounds_FRA  = None\n",
    "steps_FRA  = 10 #payout\n",
    "categories_FRA  = np.arange(40,70,10) #intensity\n",
    "radius_FRA = np.array([10, 20, 30, 40, 50])*1000 #meter"
   ]
  },
  {
   "cell_type": "code",
   "execution_count": null,
   "id": "5756da54",
   "metadata": {},
   "outputs": [],
   "source": [
    "# Generate or load winter storms in France\n",
    "winter_storms, ws_present_folder, hospitals_FRA, max_payout_FRA = fct.wrapper_haz_exp(hazard_name_FRA, country_iso_FRA, country_name_FRA, impf_id_FRA, \n",
    "                                             project_path, basin_FRA, bounds_FRA)\n",
    "fct.wrapper_generate_haz_in_a_circle(winter_storms, hospitals_FRA, hazard_name_FRA, ws_present_folder, radius_FRA)"
   ]
  },
  {
   "cell_type": "code",
   "execution_count": null,
   "id": "d00a48b3",
   "metadata": {},
   "outputs": [],
   "source": [
    "#Compute impacts\n",
    "impf = ImpactFuncSet()\n",
    "impf.append(ImpfStormEurope.from_welker())\n",
    "\n",
    "#Synthetic impacts \n",
    "damages_syn_FRA = Impact()\n",
    "damages_syn_FRA.calc(hospitals_FRA, impf, winter_storms.select(orig=False), save_mat=True)\n",
    "#Historic damages\n",
    "damages_his_FRA = Impact()\n",
    "damages_his_FRA.calc(hospitals_FRA, impf, winter_storms.select(orig=True), save_mat=True)"
   ]
  },
  {
   "cell_type": "code",
   "execution_count": null,
   "id": "bc85e9a0",
   "metadata": {},
   "outputs": [],
   "source": [
    "#Parametric options\n",
    "payf_FRA = fct.generate_payout_options(steps_FRA, categories_FRA)\n",
    "\n",
    "payouts_syn, list_radius, list_payout_structure = fct.compute_payout(hazard_name_FRA, payf_FRA, categories_FRA, \n",
    "                                                                    radius, ws_present_folder, max_payout_FRA, impf_id_FRA, orig=False)"
   ]
  },
  {
   "cell_type": "code",
   "execution_count": null,
   "id": "b4ae2c31",
   "metadata": {},
   "outputs": [],
   "source": [
    "#Optimization\n",
    "RMSE_all = fct.RMSE_payouts(payouts_syn, impact_syn)\n",
    "idx_min_errors = np.where(RMSE_all == np.min(RMSE_all)) \n",
    "min_radius = np.asarray(list_radius)[idx_min_errors]\n",
    "min_structure = np.asarray(list_payout_structure)[idx_min_errors]\n",
    "one_best = idx_min_errors[0][0]\n",
    "\n",
    "#Payouts for historic storms\n",
    "payouts_his, _, _ = fct.compute_payout(hazard_name, payout_options, categories, \n",
    "                                      radius, hazard_present_folder, insured, impf_id, orig=True)"
   ]
  },
  {
   "cell_type": "code",
   "execution_count": null,
   "id": "7daefbf9",
   "metadata": {},
   "outputs": [],
   "source": [
    "\"\"\"Fig7: Plotting parametric products and basis risk\"\"\"\n",
    "fig7 = plt.figure()\n",
    "ax7 = fig7.add_subplot(111)\n",
    "fig7.set_figwidth(fig_width*cm)\n",
    "categories_plot = np.arange(35,70,5)\n",
    "ax7 = fct.plot_vul_his_FRA(hazard, categories_plot, impf, impf_id, min_structure[-1])\n",
    "#plt.savefig(figures_path+'Fig7.jpeg', format='jpeg', dpi=300, bbox_inches='tight')"
   ]
  }
 ],
 "metadata": {
  "kernelspec": {
   "display_name": "Python 3 (ipykernel)",
   "language": "python",
   "name": "python3"
  },
  "language_info": {
   "codemirror_mode": {
    "name": "ipython",
    "version": 3
   },
   "file_extension": ".py",
   "mimetype": "text/x-python",
   "name": "python",
   "nbconvert_exporter": "python",
   "pygments_lexer": "ipython3",
   "version": "3.9.16"
  }
 },
 "nbformat": 4,
 "nbformat_minor": 5
}
