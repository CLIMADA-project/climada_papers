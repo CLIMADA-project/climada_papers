{
 "cells": [
  {
   "attachments": {},
   "cell_type": "markdown",
   "metadata": {},
   "source": [
    "# Damage exposure mismatch including unertainty quantification due to the random placement\n",
    "\n",
    "This Notebook analyzes the mismatch between damage and exposure dataset. It also quantifies uncertainties related to the random placement of about 25% of damage claims without exact coordinate. It uses 1000 resamples of the randomly placed damage, i.e. 1000 slightly different damage datasets, for wheat and grapevine. This allows, providing a Confidence Intervals for FAR, POD, and HSS. It also produces a plot showing the fraction of grid cells with damage that have no exposure or the fraction of grid cells that have more damage than exposure, including uncertainty estimates (in a boxplot). The Figure is not used for the manuscript, but some of the numbers behind it are noted. "
   ]
  },
  {
   "cell_type": "code",
   "execution_count": 1,
   "metadata": {},
   "outputs": [],
   "source": [
    "import sys, os\n",
    "#change path to path of current skript, where also utility.py lies\n",
    "sys.path.append('C:/Users/F80840370/projects/scClim/climada/scClim/subproj_D/papers/NHESS/code_and_data/')\n",
    "import matplotlib.pyplot as plt\n",
    "import numpy as np\n",
    "import matplotlib \n",
    "from climada import CONFIG\n",
    "import re\n",
    "\n",
    "from matplotlib.legend_handler import HandlerTuple\n",
    "from utility import data_dir, read_at_centroid_data, compute_verification_stats\n"
   ]
  },
  {
   "attachments": {},
   "cell_type": "markdown",
   "metadata": {},
   "source": [
    "Define some useful functions"
   ]
  },
  {
   "cell_type": "code",
   "execution_count": 2,
   "metadata": {},
   "outputs": [],
   "source": [
    "#%% handy functions\n",
    "def prep_monte_carlo_samples(at_centroid_data, resolutions, get_years=None):\n",
    "    \n",
    "    f_mc_no_exp={r: [] for r in resolutions}\n",
    "    f_mc_larger_exp={r: [] for r in resolutions}\n",
    "    for data_n in at_centroid_data:\n",
    "        for res in resolutions:\n",
    "            data=data_n[res]\n",
    "            \n",
    "            if get_years is not None:\n",
    "                datelist=[d for d in list(set(data['date'])) if d.year in get_years]\n",
    "            else:\n",
    "                datelist=list(set(data['date']))\n",
    "            data=data[data['date'].isin(datelist)]\n",
    "            \n",
    "            n_dmg_without_exp=len(data[(data['n_exp'].fillna(0)==0) & (data['n_dmgs']>0)])\n",
    "            n_dmg_larger_exp=len(data[(data['n_exp'].fillna(0)<data['n_dmgs'])])\n",
    "            n_centroids_with_dmg = len(data[data['n_dmgs']>0])\n",
    "            \n",
    "            f_mc_no_exp[res].append(n_dmg_without_exp / n_centroids_with_dmg)\n",
    "            f_mc_larger_exp[res].append(n_dmg_larger_exp / n_centroids_with_dmg)\n",
    "    \n",
    "    return f_mc_no_exp, f_mc_larger_exp\n",
    "\n",
    "def prep_orig_data(at_centroid_data_orig, resolutions, get_years=None):\n",
    "    #prep data\n",
    "    f_dmg_no_exp =[]\n",
    "    f_dmg_larger_exp=[]\n",
    "    n_exp_dmgs=[]\n",
    "    for res in resolutions:\n",
    "        data=at_centroid_data_orig[res]\n",
    "        if get_years is not None:\n",
    "            datelist=[d for d in list(set(data['date'])) if d.year in get_years]\n",
    "        else:\n",
    "            datelist=list(set(data['date']))\n",
    "        data=data[data['date'].isin(datelist)]\n",
    "        n_dmg_without_exp=len(data[(data['n_exp'].fillna(0)==0) & (data['n_dmgs']>0)])\n",
    "        n_dmg_larger_exp=len(data[(data['n_exp'].fillna(0)<data['n_dmgs'])])\n",
    "        n_centroids_with_dmg = len(data[data['n_dmgs']>0])\n",
    "        \n",
    "        n_exp_dmgs.append(data[data['n_dmgs']>0]['n_exp'].sum())\n",
    "        f_dmg_no_exp.append(n_dmg_without_exp / n_centroids_with_dmg)\n",
    "        f_dmg_larger_exp.append(n_dmg_larger_exp / n_centroids_with_dmg)\n",
    "\n",
    "        n_dates=len(datelist)\n",
    "        \n",
    "    return f_dmg_no_exp, f_dmg_larger_exp, n_dates, n_exp_dmgs\n",
    "    \n",
    "def plot_damage_exposure_mismatch(ax, f_dmg_no_exp, f_dmg_larger_exp,n_exp_dmgs, f_mc_no_exp, f_mc_larger_exp, resolutions):\n",
    " \n",
    "    names=['more damaged \\n than exposed \\n fields',\n",
    "           '','',\n",
    "           'damaged but \\n no exposed \\n fields']\n",
    "  \n",
    "    box1=ax.boxplot([f_mc_larger_exp[km] for km in f_mc_larger_exp.keys()],patch_artist=True,medianprops=dict(color='k'),boxprops=dict(facecolor='mistyrose'))  \n",
    "    box2=ax.boxplot([f_mc_no_exp[km] for km in f_mc_no_exp.keys()],patch_artist=True,medianprops=dict(color='k'),boxprops=dict(facecolor='lightblue'))  \n",
    "    x=[1,2,3]\n",
    "    h1=ax.scatter(x,f_dmg_larger_exp, color='r', s=300, marker='d', edgecolors='k', label = names[0],zorder=10)  \n",
    "    h2=ax.scatter(x,f_dmg_no_exp, color = 'blue',s=300, marker='*',edgecolors='k', label = names[1],zorder=10) \n",
    "    h3=ax.scatter(1,0.5, color = 'none')\n",
    "    \n",
    "    frac=np.round(np.array(n_exp_dmgs)/n_exp_dmgs[0]*100)\n",
    "    \n",
    "    #for k,xx in enumerate(x):\n",
    "    #    ax.text(xx,0.3,f'{int(n_exp_dmgs[k])}\\n({int(frac[k])}%)',ha='center',fontsize=15)\n",
    "        \n",
    "    handles=[(h1,box1['boxes'][0]),(h3, h3),(h3, h3),(h2,box2['boxes'][0])]\n",
    "    \n",
    "\n",
    "    \n",
    "    return handles,names"
   ]
  },
  {
   "attachments": {},
   "cell_type": "markdown",
   "metadata": {},
   "source": [
    "Define directories"
   ]
  },
  {
   "cell_type": "code",
   "execution_count": 3,
   "metadata": {},
   "outputs": [],
   "source": [
    "#%% directories\n",
    "datadir = f\"{data_dir}/data_at_centroid/\"\n",
    "figdir = 'C:/Users/F80840370/projects/scClim/climada/scClim/subproj_D/papers/NHESS/fig/'\n",
    "variable='MESHS'"
   ]
  },
  {
   "attachments": {},
   "cell_type": "markdown",
   "metadata": {},
   "source": [
    "read at centroid data for wheat and grapevine"
   ]
  },
  {
   "cell_type": "code",
   "execution_count": 8,
   "metadata": {},
   "outputs": [],
   "source": [
    "at_centroid_data_orig={}\n",
    "croptype_lists= [['Weizen'],['Reben']]\n",
    "#get original data\n",
    "for croptypes in croptype_lists:\n",
    "    data, croptype = read_at_centroid_data(datadir,croptypes,variable=variable)\n",
    "    at_centroid_data_orig[croptype]=data\n"
   ]
  },
  {
   "attachments": {},
   "cell_type": "markdown",
   "metadata": {},
   "source": [
    "read at centroid data for all crops"
   ]
  },
  {
   "cell_type": "code",
   "execution_count": 4,
   "metadata": {},
   "outputs": [],
   "source": [
    "at_centroid_data_orig_2={}    \n",
    "croptypes_2=[['Weizen','Mais','Gerste','Raps'],['Mais'],['Gerste'],['Raps'],['Reben'],['Weizen']]\n",
    "for c in croptypes_2:\n",
    "    data, ct = read_at_centroid_data(f'{datadir}/data_at_centroid/',c,variable=variable)\n",
    "    at_centroid_data_orig_2[ct]=data"
   ]
  },
  {
   "attachments": {},
   "cell_type": "markdown",
   "metadata": {},
   "source": [
    "Print the fraction of grid cells without and with more damaged than exposed fields for different resolutions"
   ]
  },
  {
   "cell_type": "code",
   "execution_count": 12,
   "metadata": {},
   "outputs": [
    {
     "name": "stdout",
     "output_type": "stream",
     "text": [
      "Gerste\n",
      "resolutions: ['1km', '2km', '4km']\n",
      "Fraction of damage grid cells without exposure:\n",
      " [0.09398756046993781, 0.020856201975850714, 0.00597609561752988]\n",
      "Fraction of damage grid cells with more damaged than exposed fields:\n",
      " [0.09398756046993781, 0.020856201975850714, 0.00597609561752988]\n"
     ]
    }
   ],
   "source": [
    "croptype='Gerste'\n",
    "resolutions=['1km','2km','4km']\n",
    "f_dmg_no_exp, f_dmg_larger_exp, n_dat,n_exp_dmgs = prep_orig_data(at_centroid_data_orig_2[croptype], resolutions) \n",
    "print(croptype)\n",
    "print('resolutions:', resolutions)\n",
    "print('Fraction of damage grid cells without exposure:\\n',f_dmg_no_exp)\n",
    "print('Fraction of damage grid cells with more damaged than exposed fields:\\n',f_dmg_no_exp)\n"
   ]
  },
  {
   "attachments": {},
   "cell_type": "markdown",
   "metadata": {},
   "source": [
    "Get at centroid data from monte carlo samples for wheat and grapevine"
   ]
  },
  {
   "cell_type": "code",
   "execution_count": 10,
   "metadata": {},
   "outputs": [],
   "source": [
    "#%% get data from montecarlo samples\n",
    "at_centroid_data_mc={c[0]: [] for c in croptype_lists}\n",
    "for croptypes in croptype_lists:\n",
    "    croptype=croptypes[0]\n",
    "    if croptype=='Reben':\n",
    "        mc_files=[file for file in os.listdir(f'{datadir}/MonteCarlo/') if file.startswith(f'values_at_centroid_{variable}_1_2_4_8km_{croptype}')]\n",
    "    else:\n",
    "        mc_files=[file for file in os.listdir(f'{datadir}/MonteCarlo/') if file.startswith(f'values_at_centroid_{variable}_1_2_4_8km_{croptype}')]\n",
    "\n",
    "    for mc_file in mc_files: \n",
    "        sample_id = re.findall('[0-9]+', mc_file)[-1]\n",
    "        at_centroid_data_n, _ = read_at_centroid_data(f'{datadir}/MonteCarlo/',croptypes,variable=variable, sample_id=sample_id)\n",
    "        at_centroid_data_mc[croptype].append(at_centroid_data_n)"
   ]
  },
  {
   "attachments": {},
   "cell_type": "markdown",
   "metadata": {},
   "source": [
    "quantify 95% confidence interval"
   ]
  },
  {
   "cell_type": "code",
   "execution_count": 24,
   "metadata": {},
   "outputs": [],
   "source": [
    "fars=[]\n",
    "pods=[]\n",
    "hss=[]\n",
    "for data in at_centroid_data_mc['Weizen']:\n",
    "    df, npred = compute_verification_stats(data['1km'],\n",
    "                                                variable = variable,\n",
    "                                                exposure_thresh=1)\n",
    "    fars.append(df.loc[40]['FAR'])\n",
    "    pods.append(df.loc[40]['POD'])\n",
    "    hss.append(df.loc[40]['HSS'])\n"
   ]
  },
  {
   "cell_type": "code",
   "execution_count": 26,
   "metadata": {},
   "outputs": [
    {
     "name": "stdout",
     "output_type": "stream",
     "text": [
      "FAR CI:[0.00729121]\n",
      "POD CI:[0.01118825]\n",
      "HSS CI:[0.00888628]\n"
     ]
    }
   ],
   "source": [
    "qs=[0.025,0.975]\n",
    "print(f'FAR CI:{np.diff(np.quantile(fars,q=qs))}')\n",
    "print(f'POD CI:{np.diff(np.quantile(pods,q=qs))}')\n",
    "print(f'HSS CI:{np.diff(np.quantile(hss,q=qs))}')"
   ]
  },
  {
   "attachments": {},
   "cell_type": "markdown",
   "metadata": {},
   "source": [
    "Prepare data for final plot (takes a long time)"
   ]
  },
  {
   "cell_type": "code",
   "execution_count": 13,
   "metadata": {},
   "outputs": [
    {
     "name": "stdout",
     "output_type": "stream",
     "text": [
      "Weizen\n",
      "Reben\n"
     ]
    }
   ],
   "source": [
    "#%% Plot damage exposure mismatches\n",
    "\n",
    "#prepare data\n",
    "resolutions=['1km','2km','4km']\n",
    "get_years=[[2017,2018,2019,2020],[2021]]\n",
    "mc_data={c[0]: [] for c in croptype_lists}\n",
    "orig_data={c[0]: [] for c in croptype_lists}\n",
    "n_dates={c[0]: [] for c in croptype_lists}\n",
    "n_dates_crops={c: [] for c in at_centroid_data_orig_2.keys()}\n",
    "orig_data_2={c: [] for c in at_centroid_data_orig_2.keys()}\n",
    "\n",
    "#\n",
    "for croptypes in croptype_lists:\n",
    "    croptype=croptypes[0]\n",
    "    print(croptype)\n",
    "    for i,yearlist in enumerate(get_years):\n",
    "        f_mc_no_exp, f_mc_larger_exp = prep_monte_carlo_samples(at_centroid_data_mc[croptype], resolutions, get_years=yearlist)\n",
    "        f_dmg_no_exp, f_dmg_larger_exp, n_dat,n_exp_dmgs = prep_orig_data(at_centroid_data_orig[croptype], resolutions, get_years=yearlist) \n",
    "        mc_data[croptype].append([f_mc_no_exp, f_mc_larger_exp])\n",
    "        orig_data[croptype].append([f_dmg_no_exp, f_dmg_larger_exp,n_exp_dmgs])\n",
    "        n_dates[croptype].append(n_dat)\n",
    "        for c in at_centroid_data_orig_2.keys():\n",
    "            f_dmg_no_exp, f_dmg_larger_exp, n_dat, n_exp_dmgs = prep_orig_data(at_centroid_data_orig_2[c], resolutions, get_years=yearlist) \n",
    "            orig_data_2[c].append([f_dmg_no_exp, f_dmg_larger_exp])\n",
    "            n_dates_crops[c].append(n_dat)"
   ]
  },
  {
   "attachments": {},
   "cell_type": "markdown",
   "metadata": {},
   "source": [
    "Produce final plot"
   ]
  },
  {
   "cell_type": "code",
   "execution_count": 15,
   "metadata": {},
   "outputs": [
    {
     "data": {
      "text/plain": [
       "[<matplotlib.axis.YTick at 0x1a5eed01700>,\n",
       " <matplotlib.axis.YTick at 0x1a5eed010a0>,\n",
       " <matplotlib.axis.YTick at 0x1a5eeb430d0>,\n",
       " <matplotlib.axis.YTick at 0x1a623fae850>,\n",
       " <matplotlib.axis.YTick at 0x1a623fb4340>,\n",
       " <matplotlib.axis.YTick at 0x1a623fb4df0>,\n",
       " <matplotlib.axis.YTick at 0x1a623fb4880>,\n",
       " <matplotlib.axis.YTick at 0x1a623fbaa00>,\n",
       " <matplotlib.axis.YTick at 0x1a623fbf4f0>]"
      ]
     },
     "execution_count": 15,
     "metadata": {},
     "output_type": "execute_result"
    },
    {
     "data": {
      "image/png": "[encoded data removed]",
      "text/plain": [
       "<Figure size 1500x1200 with 4 Axes>"
      ]
     },
     "metadata": {},
     "output_type": "display_data"
    }
   ],
   "source": [
    "#%%Plot\n",
    "titles=['prior 2021','2021']\n",
    "labels=['a)','b)','c)','d)']\n",
    "cropnames=['wheat','grapevine']\n",
    "fig, axes = plt.subplots(2,2,figsize=(15,12),sharey=True)\n",
    "axs=axes.flatten()\n",
    "matplotlib.rcParams.update({'font.size': 18,\n",
    "                            'axes.labelsize': 18})\n",
    "bboxx=1.3\n",
    "bboxy=0.56\n",
    "\n",
    "#loop over croptypes\n",
    "for j,croptype in enumerate(orig_data.keys()):\n",
    "    for i,_ in enumerate(get_years):\n",
    "        ax=axes[j,i]\n",
    "        handles,names=plot_damage_exposure_mismatch(ax, orig_data[croptype][i][0], orig_data[croptype][i][1], orig_data[croptype][i][2], mc_data[croptype][i][0], mc_data[croptype][i][1], resolutions)                                          \n",
    "            \n",
    "        if j==1:\n",
    "            ax.set_xticklabels(resolutions+resolutions)    \n",
    "            ax.set_xlabel('hazard resolution')\n",
    "        elif j==0:\n",
    "            ax.set_xticklabels([])\n",
    "            ax.set_title(f'{titles[i]}',fontweight='bold',pad=40)\n",
    "        ax.spines[['right', 'top']].set_visible(False)\n",
    "        ax.text(0,1.015,labels[2*j+i],\n",
    "                    transform=ax.transAxes,fontweight='bold')\n",
    "        ax.text(0.4,1.015,f'{n_dates[croptype][i]} events',\n",
    "                    transform=ax.transAxes)\n",
    "        if i==1:\n",
    "            ax.text(1,0.5,cropnames[j],\n",
    "                    transform=ax.transAxes,fontweight='bold')\n",
    "\n",
    "ax=axes[0,1]\n",
    "leg=ax.legend(handles=handles,labels=names,handlelength=2.5,handler_map={tuple: HandlerTuple(ndivide=2)},ncol=1,loc='center',title='fraction of grid cells with', bbox_to_anchor=(bboxx,0.5-bboxy),edgecolor='none')\n",
    "leg._legend_box.align = \"left\"\n",
    "fs=15\n",
    "ast=\"->\"\n",
    "ax.annotate(\"this study\", xy=(bboxx-0.25, 0.58-bboxy),xytext=(bboxx-0.43, 0.45-bboxy),arrowprops=dict(arrowstyle=ast,color='k'), xycoords=ax.transAxes,zorder=10,color='w',fontsize=fs)\n",
    "ax.annotate(\"this study\", xy=(bboxx-0.25, 0.34-bboxy),xytext=(bboxx-0.43, 0.45-bboxy),arrowprops=dict(arrowstyle=ast,color='k'), xycoords=ax.transAxes,zorder=10,fontsize=fs)\n",
    "ax.annotate(\"1000 random \\n samples\", xy=(bboxx-0.2, 0.58-bboxy),xytext=(bboxx-0.1, 0.43-bboxy),arrowprops=dict(arrowstyle=ast,color='k'), xycoords=ax.transAxes,zorder=10,color='w',fontsize=fs,ha='center')\n",
    "ax.annotate(\"1000 random \\n samples\", xy=(bboxx-0.2, 0.35-bboxy),xytext=(bboxx-0.1, 0.43-bboxy),arrowprops=dict(arrowstyle=ast,color='k'), xycoords=ax.transAxes,zorder=10,fontsize=fs,ha='center')\n",
    "plt.subplots_adjust(hspace=0.2,wspace=0.05)\n",
    "\n",
    "## only if want to plot all other cps\n",
    "# orig_data_2['field crops']=orig_data_2['Weizen_Mais_Gerste_Raps']\n",
    "# for i,_ in enumerate(get_years):\n",
    "#     ax=axs[2+i]\n",
    "#     for c in ['Reben']:\n",
    "#         if c=='Reben':\n",
    "#             name='grapevine'\n",
    "#         h0=ax.scatter([1,2,3],orig_data_2[c][i][0],color = 'blue',s=300, marker='*',edgecolors='k', label = name,zorder=10,alpha=1)\n",
    "#         h1=ax.scatter([1,2,3],orig_data_2[c][i][1],color = 'r',s=300, marker='d',edgecolors='k', label = name,zorder=10,alpha=1)\n",
    "#     ax.text(0,1.015,labels[2+i],\n",
    "#                     transform=ax.transAxes,fontweight='bold')\n",
    "ax.set_ylim([0,0.34])\n",
    "ax.set_yticks(np.arange(0,0.34,0.04))\n",
    "  "
   ]
  },
  {
   "attachments": {},
   "cell_type": "markdown",
   "metadata": {},
   "source": [
    "Save Figure"
   ]
  },
  {
   "cell_type": "code",
   "execution_count": 16,
   "metadata": {},
   "outputs": [],
   "source": [
    "figname='Figure_0'\n",
    "fig.savefig(f'{figdir}/{figname}_1_2_4km.png',dpi=300,bbox_inches='tight')\n",
    "fig.savefig(f'{figdir}/{figname}_1_2_4km.pdf',dpi=300,bbox_inches='tight')\n"
   ]
  },
  {
   "attachments": {},
   "cell_type": "markdown",
   "metadata": {},
   "source": [
    "Get fraction of damage claims outside exposure"
   ]
  },
  {
   "cell_type": "code",
   "execution_count": 17,
   "metadata": {},
   "outputs": [
    {
     "name": "stdout",
     "output_type": "stream",
     "text": [
      "Weizen_Mais_Gerste_Raps 1km 0.00531475138774064\n",
      "Weizen_Mais_Gerste_Raps 2km 0.0008857918979567733\n",
      "Weizen_Mais_Gerste_Raps 4km 0.00035431675918270935\n",
      "Weizen_Mais_Gerste_Raps 8km 0.0\n",
      "Weizen_Mais_Gerste_Raps 16km 0.0\n",
      "Weizen_Mais_Gerste_Raps 32km 0.0\n",
      "Mais 1km 0.021120563215019067\n",
      "Mais 2km 0.0026400704018773834\n",
      "Mais 4km 0.0005866823115283074\n",
      "Mais 8km 0.0\n",
      "Mais 16km 0.0\n",
      "Mais 32km 0.0\n",
      "Gerste 1km 0.07378190255220418\n",
      "Gerste 2km 0.00974477958236659\n",
      "Gerste 4km 0.0013921113689095127\n",
      "Gerste 8km 0.0\n",
      "Gerste 16km 0.0\n",
      "Gerste 32km 0.0\n",
      "Raps 1km 0.10564454614797865\n",
      "Raps 2km 0.018688024408848206\n",
      "Raps 4km 0.004958047292143402\n",
      "Raps 8km 0.00038138825324180017\n",
      "Raps 16km 0.00038138825324180017\n",
      "Raps 32km 0.0\n",
      "Reben 1km 0.00436029833620195\n",
      "Reben 2km 0.002294893861158921\n",
      "Reben 4km 0.0012621916236374069\n",
      "Reben 8km 0.0009179575444635686\n",
      "Reben 16km 0.0\n",
      "Reben 32km 0.0\n",
      "Aepfel 1km 0.512280701754386\n",
      "Aepfel 2km 0.33157894736842103\n",
      "Aepfel 4km 0.20701754385964913\n",
      "Aepfel 8km 0.13157894736842105\n",
      "Aepfel 16km 0.12456140350877193\n",
      "Aepfel 32km 0.08947368421052632\n",
      "Weizen 1km 0.03165386776549916\n",
      "Weizen 2km 0.005431728788162577\n",
      "Weizen 4km 0.001311106948866829\n",
      "Weizen 8km 0.00018730099269526128\n",
      "Weizen 16km 0.0\n",
      "Weizen 32km 0.0\n"
     ]
    }
   ],
   "source": [
    "for croptype in at_centroid_data_orig_2.keys():\n",
    "    data=at_centroid_data_orig_2[croptype]\n",
    "    for res in data.keys():\n",
    "        no_exp=data[res][data[res]['n_exp'].fillna(0)==0]['n_dmgs'].sum()\n",
    "        all=data[res]['n_dmgs'].sum()\n",
    "        print(croptype,res,no_exp/all)"
   ]
  },
  {
   "attachments": {},
   "cell_type": "markdown",
   "metadata": {},
   "source": [
    "Now, show these same numbers but only for claims in 2021"
   ]
  },
  {
   "cell_type": "code",
   "execution_count": 28,
   "metadata": {},
   "outputs": [
    {
     "name": "stdout",
     "output_type": "stream",
     "text": [
      "Weizen_Mais_Gerste_Raps 1km 0.003453379378391712\n",
      "Weizen_Mais_Gerste_Raps 2km 0.000657786548265088\n",
      "Weizen_Mais_Gerste_Raps 4km 0.000493339911198816\n",
      "Weizen_Mais_Gerste_Raps 8km 0.0\n",
      "Weizen_Mais_Gerste_Raps 16km 0.0\n",
      "Weizen_Mais_Gerste_Raps 32km 0.0\n",
      "Mais 1km 0.014460285132382893\n",
      "Mais 2km 0.0018329938900203666\n",
      "Mais 4km 0.000814663951120163\n",
      "Mais 8km 0.0\n",
      "Mais 16km 0.0\n",
      "Mais 32km 0.0\n",
      "Gerste 1km 0.06052193225985564\n",
      "Gerste 2km 0.009994447529150472\n",
      "Gerste 4km 0.001665741254858412\n",
      "Gerste 8km 0.0\n",
      "Gerste 16km 0.0\n",
      "Gerste 32km 0.0\n",
      "Raps 1km 0.08374083129584352\n",
      "Raps 2km 0.017726161369193152\n",
      "Raps 4km 0.003667481662591687\n",
      "Raps 8km 0.0006112469437652812\n",
      "Raps 16km 0.0006112469437652812\n",
      "Raps 32km 0.0\n",
      "Reben 1km 0.005434782608695652\n",
      "Reben 2km 0.002717391304347826\n",
      "Reben 4km 0.0017292490118577075\n",
      "Reben 8km 0.0014822134387351778\n",
      "Reben 16km 0.0\n",
      "Reben 32km 0.0\n",
      "Aepfel 1km 0.5046511627906977\n",
      "Aepfel 2km 0.3372093023255814\n",
      "Aepfel 4km 0.19534883720930232\n",
      "Aepfel 8km 0.10697674418604651\n",
      "Aepfel 16km 0.1\n",
      "Aepfel 32km 0.06279069767441861\n",
      "Weizen 1km 0.03328964613368283\n",
      "Weizen 2km 0.004456094364351245\n",
      "Weizen 4km 0.001834862385321101\n",
      "Weizen 8km 0.0002621231979030144\n",
      "Weizen 16km 0.0\n",
      "Weizen 32km 0.0\n"
     ]
    }
   ],
   "source": [
    "for croptype in at_centroid_data_orig_2.keys():\n",
    "    \n",
    "    for res in at_centroid_data_orig_2[croptype].keys():\n",
    "        data=at_centroid_data_orig_2[croptype][res]\n",
    "        datelist=[d for d in list(set(data['date'])) if d.year in [2021]]\n",
    "        data=data[data['date'].isin(datelist)]\n",
    "        no_exp=data[data['n_exp'].fillna(0)==0]['n_dmgs'].sum()\n",
    "        all=data['n_dmgs'].sum()\n",
    "        print(croptype,res,no_exp/all)"
   ]
  },
  {
   "cell_type": "code",
   "execution_count": 27,
   "metadata": {},
   "outputs": [
    {
     "data": {
      "text/plain": [
       "'n_exp'"
      ]
     },
     "execution_count": 27,
     "metadata": {},
     "output_type": "execute_result"
    }
   ],
   "source": [
    "res"
   ]
  },
  {
   "cell_type": "code",
   "execution_count": 23,
   "metadata": {},
   "outputs": [
    {
     "data": {
      "text/plain": [
       "Index(['n_exp', 'n_dmgs', 'MESHS', 'PAA', 'date'], dtype='object')"
      ]
     },
     "execution_count": 23,
     "metadata": {},
     "output_type": "execute_result"
    }
   ],
   "source": [
    "data.keys()"
   ]
  },
  {
   "cell_type": "code",
   "execution_count": 20,
   "metadata": {},
   "outputs": [
    {
     "data": {
      "text/plain": [
       "{'1km':                      n_exp  n_dmgs  MESHS  PAA       date\n",
       " centr_HL date                                            \n",
       " 168026   2017-06-27    1.0     0.0   21.0  NaN 2017-06-27\n",
       "          2017-07-08    1.0     0.0    0.0  NaN 2017-07-08\n",
       "          2017-08-01    1.0     0.0    0.0  NaN 2017-08-01\n",
       "          2019-06-15    1.0     0.0    0.0  NaN 2019-06-15\n",
       "          2019-06-30    1.0     0.0    0.0  NaN 2019-06-30\n",
       " ...                    ...     ...    ...  ...        ...\n",
       " 325619   2021-06-20    3.0     0.0    0.0  NaN 2021-06-20\n",
       "          2021-06-21    3.0     0.0    0.0  NaN 2021-06-21\n",
       "          2021-06-28    3.0     0.0    0.0  NaN 2021-06-28\n",
       "          2021-07-12    3.0     0.0    0.0  NaN 2021-07-12\n",
       "          2021-07-24    3.0     0.0    0.0  NaN 2021-07-24\n",
       " \n",
       " [149155 rows x 5 columns],\n",
       " '2km':                      n_exp  n_dmgs  MESHS  PAA       date\n",
       " centr_HL date                                            \n",
       " 37052    2017-06-27    2.0     0.0    0.0  NaN 2017-06-27\n",
       "          2017-07-08    2.0     0.0    0.0  NaN 2017-07-08\n",
       "          2019-06-15    2.0     0.0   42.0  NaN 2019-06-15\n",
       "          2019-06-30    2.0     0.0    0.0  NaN 2019-06-30\n",
       "          2019-07-01    2.0     0.0    0.0  NaN 2019-07-01\n",
       " ...                    ...     ...    ...  ...        ...\n",
       " 91981    2021-06-21    1.0     0.0    0.0  NaN 2021-06-21\n",
       "          2021-06-28    1.0     0.0    0.0  NaN 2021-06-28\n",
       "          2021-07-12    1.0     0.0    0.0  NaN 2021-07-12\n",
       "          2021-07-13    1.0     0.0    0.0  NaN 2021-07-13\n",
       "          2021-07-24    1.0     0.0    0.0  NaN 2021-07-24\n",
       " \n",
       " [48610 rows x 5 columns],\n",
       " '4km':                      n_exp  n_dmgs  MESHS  PAA       date\n",
       " centr_HL date                                            \n",
       " 9405     2017-06-27    8.0     0.0    0.0  NaN 2017-06-27\n",
       "          2017-07-08    8.0     0.0    0.0  NaN 2017-07-08\n",
       "          2017-08-01    1.0     0.0    0.0  NaN 2017-08-01\n",
       "          2019-06-15    8.0     0.0   51.0  NaN 2019-06-15\n",
       "          2019-06-30    8.0     0.0    0.0  NaN 2019-06-30\n",
       " ...                    ...     ...    ...  ...        ...\n",
       " 23110    2021-06-21    1.0     0.0    0.0  NaN 2021-06-21\n",
       "          2021-06-28    1.0     0.0    0.0  NaN 2021-06-28\n",
       "          2021-07-12    1.0     0.0    0.0  NaN 2021-07-12\n",
       "          2021-07-13    1.0     0.0    0.0  NaN 2021-07-13\n",
       "          2021-07-24    1.0     0.0    0.0  NaN 2021-07-24\n",
       " \n",
       " [15734 rows x 5 columns],\n",
       " '8km':                      n_exp  n_dmgs  MESHS  PAA       date\n",
       " centr_HL date                                            \n",
       " 2382     2017-06-27    8.0     0.0    0.0  NaN 2017-06-27\n",
       "          2017-07-08    8.0     0.0    0.0  NaN 2017-07-08\n",
       "          2017-08-01    1.0     0.0    0.0  NaN 2017-08-01\n",
       "          2019-06-15    8.0     0.0   58.0  NaN 2019-06-15\n",
       "          2019-06-30    8.0     0.0    0.0  NaN 2019-06-30\n",
       " ...                    ...     ...    ...  ...        ...\n",
       " 5875     2021-06-21    1.0     0.0    0.0  NaN 2021-06-21\n",
       "          2021-06-28    1.0     0.0    0.0  NaN 2021-06-28\n",
       "          2021-07-12    1.0     0.0    0.0  NaN 2021-07-12\n",
       "          2021-07-13    1.0     0.0    0.0  NaN 2021-07-13\n",
       "          2021-07-24    1.0     0.0    0.0  NaN 2021-07-24\n",
       " \n",
       " [5274 rows x 5 columns],\n",
       " '16km':                      n_exp  n_dmgs  MESHS       PAA       date\n",
       " centr_HL date                                                 \n",
       " 631      2017-06-27  179.0     0.0    0.0       NaN 2017-06-27\n",
       "          2017-07-08  160.0     0.0    0.0       NaN 2017-07-08\n",
       "          2017-08-01   11.0     0.0    0.0       NaN 2017-08-01\n",
       "          2019-06-15  179.0    29.0   58.0  0.162011 2019-06-15\n",
       "          2019-06-30  179.0     0.0    0.0       NaN 2019-06-30\n",
       " ...                    ...     ...    ...       ...        ...\n",
       " 1497     2021-06-21    2.0     0.0    0.0       NaN 2021-06-21\n",
       "          2021-06-28    2.0     0.0    0.0       NaN 2021-06-28\n",
       "          2021-07-12    2.0     0.0    0.0       NaN 2021-07-12\n",
       "          2021-07-13    2.0     0.0    0.0       NaN 2021-07-13\n",
       "          2021-07-24    2.0     0.0    0.0       NaN 2021-07-24\n",
       " \n",
       " [1818 rows x 5 columns],\n",
       " '32km':                       n_exp  n_dmgs  MESHS       PAA       date\n",
       " centr_HL date                                                  \n",
       " 176      2017-06-27  1965.0     0.0    0.0       NaN 2017-06-27\n",
       "          2017-07-08  1721.0     0.0    0.0       NaN 2017-07-08\n",
       "          2017-08-01   184.0     0.0    0.0       NaN 2017-08-01\n",
       "          2019-06-15  1965.0   113.0   68.0  0.057506 2019-06-15\n",
       "          2019-06-30  1965.0    15.0   71.0  0.007634 2019-06-30\n",
       " ...                     ...     ...    ...       ...        ...\n",
       " 388      2021-06-21     2.0     0.0    0.0       NaN 2021-06-21\n",
       "          2021-06-28     2.0     0.0    0.0       NaN 2021-06-28\n",
       "          2021-07-12     2.0     0.0    0.0       NaN 2021-07-12\n",
       "          2021-07-13     2.0     0.0    0.0       NaN 2021-07-13\n",
       "          2021-07-24     2.0     0.0    0.0       NaN 2021-07-24\n",
       " \n",
       " [632 rows x 5 columns]}"
      ]
     },
     "execution_count": 20,
     "metadata": {},
     "output_type": "execute_result"
    }
   ],
   "source": [
    "data"
   ]
  },
  {
   "attachments": {},
   "cell_type": "markdown",
   "metadata": {},
   "source": [
    "Or the fraction of grid cells with damage that have zero exposure"
   ]
  },
  {
   "cell_type": "code",
   "execution_count": 14,
   "metadata": {},
   "outputs": [
    {
     "name": "stdout",
     "output_type": "stream",
     "text": [
      "Weizen_Mais_Gerste_Raps 1km 0.015201715065289417\n",
      "Weizen_Mais_Gerste_Raps 2km 0.004782781984854523\n",
      "Weizen_Mais_Gerste_Raps 4km 0.0033585222502099076\n",
      "Weizen_Mais_Gerste_Raps 8km 0.0\n",
      "Weizen_Mais_Gerste_Raps 16km 0.0\n",
      "Weizen_Mais_Gerste_Raps 32km 0.0\n",
      "Mais 1km 0.03519604816301328\n",
      "Mais 2km 0.008115942028985508\n",
      "Mais 4km 0.0023121387283236996\n",
      "Mais 8km 0.0\n",
      "Mais 16km 0.0\n",
      "Mais 32km 0.0\n",
      "Gerste 1km 0.09398756046993781\n",
      "Gerste 2km 0.020856201975850714\n",
      "Gerste 4km 0.00597609561752988\n",
      "Gerste 8km 0.0\n",
      "Gerste 16km 0.0\n",
      "Gerste 32km 0.0\n",
      "Raps 1km 0.13431986340352875\n",
      "Raps 2km 0.036155202821869487\n",
      "Raps 4km 0.019966722129783693\n",
      "Raps 8km 0.0030959752321981426\n",
      "Raps 16km 0.005917159763313609\n",
      "Raps 32km 0.0\n",
      "Reben 1km 0.036603221083455345\n",
      "Reben 2km 0.03836930455635491\n",
      "Reben 4km 0.030534351145038167\n",
      "Reben 8km 0.024539877300613498\n",
      "Reben 16km 0.0\n",
      "Reben 32km 0.0\n",
      "Aepfel 1km 0.5934426229508196\n",
      "Aepfel 2km 0.45622119815668205\n",
      "Aepfel 4km 0.3051948051948052\n",
      "Aepfel 8km 0.22115384615384615\n",
      "Aepfel 16km 0.21428571428571427\n",
      "Aepfel 32km 0.1956521739130435\n",
      "Weizen 1km 0.053469852104664393\n",
      "Weizen 2km 0.016666666666666666\n",
      "Weizen 4km 0.009722222222222222\n",
      "Weizen 8km 0.0027397260273972603\n",
      "Weizen 16km 0.0\n",
      "Weizen 32km 0.0\n"
     ]
    }
   ],
   "source": [
    "for croptype in at_centroid_data_orig_2.keys():\n",
    "    for res in at_centroid_data_orig_2[croptype].keys():\n",
    "        data=at_centroid_data_orig_2[croptype][res]\n",
    "        n_dmg_without_exp=len(data[(data['n_exp'].fillna(0)==0) & (data['n_dmgs']>0)])\n",
    "        n_dmg_larger_exp=len(data[(data['n_exp'].fillna(0)<data['n_dmgs'])])\n",
    "        n_centroids_with_dmg = len(data[data['n_dmgs']>0])\n",
    "        print(croptype,res,n_dmg_without_exp/n_centroids_with_dmg)"
   ]
  },
  {
   "cell_type": "code",
   "execution_count": 16,
   "metadata": {},
   "outputs": [
    {
     "data": {
      "text/html": [
       "<div>\n",
       "<style scoped>\n",
       "    .dataframe tbody tr th:only-of-type {\n",
       "        vertical-align: middle;\n",
       "    }\n",
       "\n",
       "    .dataframe tbody tr th {\n",
       "        vertical-align: top;\n",
       "    }\n",
       "\n",
       "    .dataframe thead th {\n",
       "        text-align: right;\n",
       "    }\n",
       "</style>\n",
       "<table border=\"1\" class=\"dataframe\">\n",
       "  <thead>\n",
       "    <tr style=\"text-align: right;\">\n",
       "      <th></th>\n",
       "      <th>PAA</th>\n",
       "      <th>MDR</th>\n",
       "      <th>MESHS</th>\n",
       "      <th>n_exp</th>\n",
       "      <th>n_dmgs</th>\n",
       "      <th>exp_val</th>\n",
       "      <th>dmg_val</th>\n",
       "      <th>date</th>\n",
       "      <th>PVA</th>\n",
       "      <th>MDD</th>\n",
       "      <th>centr_HL</th>\n",
       "    </tr>\n",
       "  </thead>\n",
       "  <tbody>\n",
       "    <tr>\n",
       "      <th>1017</th>\n",
       "      <td>NaN</td>\n",
       "      <td>NaN</td>\n",
       "      <td>21.0</td>\n",
       "      <td>NaN</td>\n",
       "      <td>1.0</td>\n",
       "      <td>NaN</td>\n",
       "      <td>0.238919</td>\n",
       "      <td>2017-06-27</td>\n",
       "      <td>NaN</td>\n",
       "      <td>0.15</td>\n",
       "      <td>228200</td>\n",
       "    </tr>\n",
       "    <tr>\n",
       "      <th>1055</th>\n",
       "      <td>NaN</td>\n",
       "      <td>NaN</td>\n",
       "      <td>24.0</td>\n",
       "      <td>NaN</td>\n",
       "      <td>1.0</td>\n",
       "      <td>NaN</td>\n",
       "      <td>0.079640</td>\n",
       "      <td>2017-06-27</td>\n",
       "      <td>NaN</td>\n",
       "      <td>0.05</td>\n",
       "      <td>228910</td>\n",
       "    </tr>\n",
       "    <tr>\n",
       "      <th>1092</th>\n",
       "      <td>NaN</td>\n",
       "      <td>NaN</td>\n",
       "      <td>25.0</td>\n",
       "      <td>NaN</td>\n",
       "      <td>1.0</td>\n",
       "      <td>NaN</td>\n",
       "      <td>0.095568</td>\n",
       "      <td>2017-06-27</td>\n",
       "      <td>NaN</td>\n",
       "      <td>0.06</td>\n",
       "      <td>229620</td>\n",
       "    </tr>\n",
       "    <tr>\n",
       "      <th>3100</th>\n",
       "      <td>NaN</td>\n",
       "      <td>NaN</td>\n",
       "      <td>0.0</td>\n",
       "      <td>NaN</td>\n",
       "      <td>1.0</td>\n",
       "      <td>NaN</td>\n",
       "      <td>0.238919</td>\n",
       "      <td>2017-06-27</td>\n",
       "      <td>NaN</td>\n",
       "      <td>0.15</td>\n",
       "      <td>254465</td>\n",
       "    </tr>\n",
       "    <tr>\n",
       "      <th>3860</th>\n",
       "      <td>NaN</td>\n",
       "      <td>NaN</td>\n",
       "      <td>0.0</td>\n",
       "      <td>NaN</td>\n",
       "      <td>1.0</td>\n",
       "      <td>NaN</td>\n",
       "      <td>0.095568</td>\n",
       "      <td>2017-06-27</td>\n",
       "      <td>NaN</td>\n",
       "      <td>0.06</td>\n",
       "      <td>264484</td>\n",
       "    </tr>\n",
       "    <tr>\n",
       "      <th>...</th>\n",
       "      <td>...</td>\n",
       "      <td>...</td>\n",
       "      <td>...</td>\n",
       "      <td>...</td>\n",
       "      <td>...</td>\n",
       "      <td>...</td>\n",
       "      <td>...</td>\n",
       "      <td>...</td>\n",
       "      <td>...</td>\n",
       "      <td>...</td>\n",
       "      <td>...</td>\n",
       "    </tr>\n",
       "    <tr>\n",
       "      <th>91108</th>\n",
       "      <td>NaN</td>\n",
       "      <td>NaN</td>\n",
       "      <td>0.0</td>\n",
       "      <td>NaN</td>\n",
       "      <td>1.0</td>\n",
       "      <td>NaN</td>\n",
       "      <td>0.063712</td>\n",
       "      <td>2021-07-24</td>\n",
       "      <td>NaN</td>\n",
       "      <td>0.04</td>\n",
       "      <td>265899</td>\n",
       "    </tr>\n",
       "    <tr>\n",
       "      <th>91451</th>\n",
       "      <td>NaN</td>\n",
       "      <td>NaN</td>\n",
       "      <td>0.0</td>\n",
       "      <td>NaN</td>\n",
       "      <td>1.0</td>\n",
       "      <td>NaN</td>\n",
       "      <td>0.079640</td>\n",
       "      <td>2021-07-24</td>\n",
       "      <td>NaN</td>\n",
       "      <td>0.05</td>\n",
       "      <td>269458</td>\n",
       "    </tr>\n",
       "    <tr>\n",
       "      <th>91488</th>\n",
       "      <td>NaN</td>\n",
       "      <td>NaN</td>\n",
       "      <td>0.0</td>\n",
       "      <td>NaN</td>\n",
       "      <td>1.0</td>\n",
       "      <td>NaN</td>\n",
       "      <td>0.525622</td>\n",
       "      <td>2021-07-24</td>\n",
       "      <td>NaN</td>\n",
       "      <td>0.33</td>\n",
       "      <td>269559</td>\n",
       "    </tr>\n",
       "    <tr>\n",
       "      <th>91911</th>\n",
       "      <td>NaN</td>\n",
       "      <td>NaN</td>\n",
       "      <td>0.0</td>\n",
       "      <td>NaN</td>\n",
       "      <td>1.0</td>\n",
       "      <td>NaN</td>\n",
       "      <td>0.095568</td>\n",
       "      <td>2021-07-24</td>\n",
       "      <td>NaN</td>\n",
       "      <td>0.06</td>\n",
       "      <td>273733</td>\n",
       "    </tr>\n",
       "    <tr>\n",
       "      <th>92554</th>\n",
       "      <td>NaN</td>\n",
       "      <td>NaN</td>\n",
       "      <td>0.0</td>\n",
       "      <td>NaN</td>\n",
       "      <td>1.0</td>\n",
       "      <td>NaN</td>\n",
       "      <td>0.350415</td>\n",
       "      <td>2021-07-24</td>\n",
       "      <td>NaN</td>\n",
       "      <td>0.22</td>\n",
       "      <td>279429</td>\n",
       "    </tr>\n",
       "  </tbody>\n",
       "</table>\n",
       "<p>141 rows × 11 columns</p>\n",
       "</div>"
      ],
      "text/plain": [
       "       PAA  MDR  MESHS  n_exp  n_dmgs  exp_val   dmg_val       date  PVA  \\\n",
       "1017   NaN  NaN   21.0    NaN     1.0      NaN  0.238919 2017-06-27  NaN   \n",
       "1055   NaN  NaN   24.0    NaN     1.0      NaN  0.079640 2017-06-27  NaN   \n",
       "1092   NaN  NaN   25.0    NaN     1.0      NaN  0.095568 2017-06-27  NaN   \n",
       "3100   NaN  NaN    0.0    NaN     1.0      NaN  0.238919 2017-06-27  NaN   \n",
       "3860   NaN  NaN    0.0    NaN     1.0      NaN  0.095568 2017-06-27  NaN   \n",
       "...    ...  ...    ...    ...     ...      ...       ...        ...  ...   \n",
       "91108  NaN  NaN    0.0    NaN     1.0      NaN  0.063712 2021-07-24  NaN   \n",
       "91451  NaN  NaN    0.0    NaN     1.0      NaN  0.079640 2021-07-24  NaN   \n",
       "91488  NaN  NaN    0.0    NaN     1.0      NaN  0.525622 2021-07-24  NaN   \n",
       "91911  NaN  NaN    0.0    NaN     1.0      NaN  0.095568 2021-07-24  NaN   \n",
       "92554  NaN  NaN    0.0    NaN     1.0      NaN  0.350415 2021-07-24  NaN   \n",
       "\n",
       "        MDD  centr_HL  \n",
       "1017   0.15    228200  \n",
       "1055   0.05    228910  \n",
       "1092   0.06    229620  \n",
       "3100   0.15    254465  \n",
       "3860   0.06    264484  \n",
       "...     ...       ...  \n",
       "91108  0.04    265899  \n",
       "91451  0.05    269458  \n",
       "91488  0.33    269559  \n",
       "91911  0.06    273733  \n",
       "92554  0.22    279429  \n",
       "\n",
       "[141 rows x 11 columns]"
      ]
     },
     "execution_count": 16,
     "metadata": {},
     "output_type": "execute_result"
    }
   ],
   "source": [
    "data=at_centroid_data_orig_2['Weizen']['1km']\n",
    "data[(data['n_exp'].fillna(0)==0) & (data['n_dmgs']>0)]\n",
    "#n_dmg_without_exp=len(data[(data['n_exp'].fillna(0)==0) & (data['n_dmgs']>0)])"
   ]
  }
 ],
 "metadata": {
  "kernelspec": {
   "display_name": "climada_env_3.9",
   "language": "python",
   "name": "python3"
  },
  "language_info": {
   "codemirror_mode": {
    "name": "ipython",
    "version": 3
   },
   "file_extension": ".py",
   "mimetype": "text/x-python",
   "name": "python",
   "nbconvert_exporter": "python",
   "pygments_lexer": "ipython3",
   "version": "3.9.16"
  },
  "orig_nbformat": 4
 },
 "nbformat": 4,
 "nbformat_minor": 2
}
