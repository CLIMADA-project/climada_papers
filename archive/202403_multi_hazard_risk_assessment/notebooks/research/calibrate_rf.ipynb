{
 "cells": [
  {
   "cell_type": "code",
   "execution_count": 1,
   "id": "1e2fc774",
   "metadata": {},
   "outputs": [],
   "source": [
    "from climada.engine.calibration_opt import calib_instance"
   ]
  },
  {
   "cell_type": "code",
   "execution_count": 2,
   "id": "2dbe5362",
   "metadata": {},
   "outputs": [],
   "source": [
    "from climada.hazard import Hazard"
   ]
  },
  {
   "cell_type": "code",
   "execution_count": 404,
   "id": "ea25dfd2",
   "metadata": {},
   "outputs": [],
   "source": [
    "import pandas as pd\n",
    "emdat = pd.read_excel(\"/Users/szelie/Library/CloudStorage/OneDrive-ETHZurich/data/emdat_public_2023_01_31_query_uid-75h3ij.xlsx\")\n",
    "emdat_RF = emdat[emdat['Disaster Subtype']=='Riverine flood'][[\"Year\",\"Total Damages, Adjusted ('000 US$)\", \"Country\", \"ISO\"]]\n",
    "emdat_RF = emdat_RF[(emdat_RF['Year']<2010)&(emdat_RF['Year']>1981)]\n",
    "emdat_RF = emdat_RF.dropna()"
   ]
  },
  {
   "cell_type": "code",
   "execution_count": 405,
   "id": "375ad1ae",
   "metadata": {
    "scrolled": true
   },
   "outputs": [],
   "source": [
    "gdp = pd.read_csv(\"/Users/szelie/Library/CloudStorage/OneDrive-ETHZurich/data/API_NY/API_NY.GDP.MKTP.CD_DS2_en_csv_v2_4770391.csv\")\n",
    "years = [str(1980+n) for n in range(41)]\n",
    "gdp_factor = (gdp[gdp['Country Code']=='WLD'][years]/gdp[gdp['Country Code']=='WLD']['2020'][259])\n",
    "gdp_factor = gdp_factor.transpose().reset_index().rename(columns={'index':'Year',259:'Growth Factor Rel 2020'})\n",
    "gdp_factor['Year'] = gdp_factor['Year'].astype('int')\n",
    "emdat_RF = pd.merge(emdat_RF, gdp_factor, on='Year')\n",
    "emdat_RF['Total Damages, growth adjusted']=emdat_RF[\"Total Damages, Adjusted ('000 US$)\"]*emdat_RF[\"Growth Factor Rel 2020\"]\n"
   ]
  },
  {
   "cell_type": "code",
   "execution_count": null,
   "id": "85562ac3",
   "metadata": {},
   "outputs": [],
   "source": []
  },
  {
   "cell_type": "code",
   "execution_count": 453,
   "id": "17006306",
   "metadata": {},
   "outputs": [],
   "source": [
    "from climada_petals.entity.impact_funcs.river_flood import ImpfRiverFlood, flood_imp_func_set\n",
    "\n",
    "impf_set_flood = flood_imp_func_set()"
   ]
  },
  {
   "cell_type": "code",
   "execution_count": 254,
   "id": "cc5029a3",
   "metadata": {},
   "outputs": [],
   "source": [
    "from climada.util.constants import RIVER_FLOOD_REGIONS_CSV\n",
    "\n",
    "regions_df = pd.read_csv(RIVER_FLOOD_REGIONS_CSV)\n"
   ]
  },
  {
   "cell_type": "code",
   "execution_count": 42,
   "id": "4e4ff6c5",
   "metadata": {},
   "outputs": [
    {
     "name": "stdout",
     "output_type": "stream",
     "text": [
      "https://climada.ethz.ch/data-api/v1/dataset\tdata_type=litpop\texponents=(1,1)\tlimit=100000\tname=None\tspatial_coverage=global\tstatus=active\tversion=None\n"
     ]
    }
   ],
   "source": [
    "from climada.util.api_client import Client\n",
    "client = Client()\n",
    "assets = client.get_litpop()"
   ]
  },
  {
   "cell_type": "code",
   "execution_count": 188,
   "id": "b4f272f7",
   "metadata": {
    "scrolled": true
   },
   "outputs": [],
   "source": [
    "import pycountry\n",
    "#assets.gdf['region_id2']\n",
    "a = [regions_df['Reg_name'][regions_df['ISO']==pycountry.countries.lookup(format(country, '03d')).alpha_3].values[0] for country in assets.gdf.region_id[0:1000]]"
   ]
  },
  {
   "cell_type": "code",
   "execution_count": 429,
   "id": "df3fb205",
   "metadata": {},
   "outputs": [
    {
     "data": {
      "text/html": [
       "<div>\n",
       "<style scoped>\n",
       "    .dataframe tbody tr th:only-of-type {\n",
       "        vertical-align: middle;\n",
       "    }\n",
       "\n",
       "    .dataframe tbody tr th {\n",
       "        vertical-align: top;\n",
       "    }\n",
       "\n",
       "    .dataframe thead th {\n",
       "        text-align: right;\n",
       "    }\n",
       "</style>\n",
       "<table border=\"1\" class=\"dataframe\">\n",
       "  <thead>\n",
       "    <tr style=\"text-align: right;\">\n",
       "      <th></th>\n",
       "      <th>ISO</th>\n",
       "      <th>ID</th>\n",
       "      <th>Reg_ID</th>\n",
       "      <th>Reg_name</th>\n",
       "      <th>impf_RF</th>\n",
       "      <th>region_id</th>\n",
       "    </tr>\n",
       "  </thead>\n",
       "  <tbody>\n",
       "    <tr>\n",
       "      <th>0</th>\n",
       "      <td>ABW</td>\n",
       "      <td>1</td>\n",
       "      <td>2</td>\n",
       "      <td>CAR</td>\n",
       "      <td>6</td>\n",
       "      <td>533</td>\n",
       "    </tr>\n",
       "    <tr>\n",
       "      <th>1</th>\n",
       "      <td>AFG</td>\n",
       "      <td>2</td>\n",
       "      <td>6</td>\n",
       "      <td>SWA</td>\n",
       "      <td>2</td>\n",
       "      <td>4</td>\n",
       "    </tr>\n",
       "    <tr>\n",
       "      <th>2</th>\n",
       "      <td>AGO</td>\n",
       "      <td>3</td>\n",
       "      <td>13</td>\n",
       "      <td>SAF</td>\n",
       "      <td>1</td>\n",
       "      <td>24</td>\n",
       "    </tr>\n",
       "    <tr>\n",
       "      <th>3</th>\n",
       "      <td>AIA</td>\n",
       "      <td>4</td>\n",
       "      <td>2</td>\n",
       "      <td>CAR</td>\n",
       "      <td>6</td>\n",
       "      <td>660</td>\n",
       "    </tr>\n",
       "    <tr>\n",
       "      <th>4</th>\n",
       "      <td>ALB</td>\n",
       "      <td>5</td>\n",
       "      <td>11</td>\n",
       "      <td>EUR</td>\n",
       "      <td>3</td>\n",
       "      <td>8</td>\n",
       "    </tr>\n",
       "    <tr>\n",
       "      <th>...</th>\n",
       "      <td>...</td>\n",
       "      <td>...</td>\n",
       "      <td>...</td>\n",
       "      <td>...</td>\n",
       "      <td>...</td>\n",
       "      <td>...</td>\n",
       "    </tr>\n",
       "    <tr>\n",
       "      <th>225</th>\n",
       "      <td>WSM</td>\n",
       "      <td>226</td>\n",
       "      <td>10</td>\n",
       "      <td>PIS2</td>\n",
       "      <td>5</td>\n",
       "      <td>882</td>\n",
       "    </tr>\n",
       "    <tr>\n",
       "      <th>226</th>\n",
       "      <td>YEM</td>\n",
       "      <td>227</td>\n",
       "      <td>15</td>\n",
       "      <td>ARA</td>\n",
       "      <td>2</td>\n",
       "      <td>887</td>\n",
       "    </tr>\n",
       "    <tr>\n",
       "      <th>227</th>\n",
       "      <td>ZAF</td>\n",
       "      <td>228</td>\n",
       "      <td>13</td>\n",
       "      <td>SAF</td>\n",
       "      <td>1</td>\n",
       "      <td>710</td>\n",
       "    </tr>\n",
       "    <tr>\n",
       "      <th>228</th>\n",
       "      <td>ZMB</td>\n",
       "      <td>229</td>\n",
       "      <td>5</td>\n",
       "      <td>SSA</td>\n",
       "      <td>1</td>\n",
       "      <td>894</td>\n",
       "    </tr>\n",
       "    <tr>\n",
       "      <th>229</th>\n",
       "      <td>ZWE</td>\n",
       "      <td>230</td>\n",
       "      <td>5</td>\n",
       "      <td>SSA</td>\n",
       "      <td>1</td>\n",
       "      <td>716</td>\n",
       "    </tr>\n",
       "  </tbody>\n",
       "</table>\n",
       "<p>228 rows × 6 columns</p>\n",
       "</div>"
      ],
      "text/plain": [
       "     ISO   ID  Reg_ID Reg_name  impf_RF  region_id\n",
       "0    ABW    1       2      CAR        6        533\n",
       "1    AFG    2       6      SWA        2          4\n",
       "2    AGO    3      13      SAF        1         24\n",
       "3    AIA    4       2      CAR        6        660\n",
       "4    ALB    5      11      EUR        3          8\n",
       "..   ...  ...     ...      ...      ...        ...\n",
       "225  WSM  226      10     PIS2        5        882\n",
       "226  YEM  227      15      ARA        2        887\n",
       "227  ZAF  228      13      SAF        1        710\n",
       "228  ZMB  229       5      SSA        1        894\n",
       "229  ZWE  230       5      SSA        1        716\n",
       "\n",
       "[228 rows x 6 columns]"
      ]
     },
     "execution_count": 429,
     "metadata": {},
     "output_type": "execute_result"
    }
   ],
   "source": [
    "regions_df"
   ]
  },
  {
   "cell_type": "code",
   "execution_count": 257,
   "id": "77882540",
   "metadata": {},
   "outputs": [],
   "source": [
    "regions_df = regions_df[regions_df[\"ISO\"]!='SCG']\n",
    "regions_df = regions_df[regions_df[\"ISO\"]!='ANT']"
   ]
  },
  {
   "cell_type": "code",
   "execution_count": 258,
   "id": "7c9ebcc6",
   "metadata": {},
   "outputs": [],
   "source": [
    "regions_df[\"region_id\"] = [pycountry.countries.lookup(c).numeric for c in regions_df[\"ISO\"]]\n",
    "regions_df[\"region_id\"] = regions_df[\"region_id\"].astype(\"int\")"
   ]
  },
  {
   "cell_type": "code",
   "execution_count": 430,
   "id": "01e8a1af",
   "metadata": {},
   "outputs": [
    {
     "data": {
      "text/html": [
       "<div>\n",
       "<style scoped>\n",
       "    .dataframe tbody tr th:only-of-type {\n",
       "        vertical-align: middle;\n",
       "    }\n",
       "\n",
       "    .dataframe tbody tr th {\n",
       "        vertical-align: top;\n",
       "    }\n",
       "\n",
       "    .dataframe thead th {\n",
       "        text-align: right;\n",
       "    }\n",
       "</style>\n",
       "<table border=\"1\" class=\"dataframe\">\n",
       "  <thead>\n",
       "    <tr style=\"text-align: right;\">\n",
       "      <th></th>\n",
       "      <th>ISO</th>\n",
       "      <th>ID</th>\n",
       "      <th>Reg_ID</th>\n",
       "      <th>Reg_name</th>\n",
       "      <th>impf_RF</th>\n",
       "      <th>region_id</th>\n",
       "    </tr>\n",
       "  </thead>\n",
       "  <tbody>\n",
       "    <tr>\n",
       "      <th>216</th>\n",
       "      <td>USA</td>\n",
       "      <td>217</td>\n",
       "      <td>1</td>\n",
       "      <td>NAM</td>\n",
       "      <td>4</td>\n",
       "      <td>840</td>\n",
       "    </tr>\n",
       "  </tbody>\n",
       "</table>\n",
       "</div>"
      ],
      "text/plain": [
       "     ISO   ID  Reg_ID Reg_name  impf_RF  region_id\n",
       "216  USA  217       1      NAM        4        840"
      ]
     },
     "execution_count": 430,
     "metadata": {},
     "output_type": "execute_result"
    }
   ],
   "source": [
    "regions_df[regions_df.ISO=='USA']"
   ]
  },
  {
   "cell_type": "code",
   "execution_count": 211,
   "id": "6e8f81b8",
   "metadata": {},
   "outputs": [],
   "source": [
    "assets.gdf = assets.gdf.merge(regions_df[[\"region_id\",\"Reg_name\",\"impf_RF\"]])"
   ]
  },
  {
   "cell_type": "code",
   "execution_count": 45,
   "id": "76329b53",
   "metadata": {},
   "outputs": [],
   "source": [
    "haz_rf_path = \"/Users/szelie/OneDrive - ETH Zurich/data/river_flood/hazard/river_flood_150arcsec_hist_1980_2010.hdf5\"\n",
    "haz_rf = Hazard.from_hdf5(haz_rf_path)"
   ]
  },
  {
   "cell_type": "code",
   "execution_count": 48,
   "id": "f46b855d",
   "metadata": {},
   "outputs": [],
   "source": [
    "models = [\"_\".join(event_name.split(\"_\")[1:4]) for event_name in haz_rf.event_name]"
   ]
  },
  {
   "cell_type": "code",
   "execution_count": 49,
   "id": "5336712f",
   "metadata": {},
   "outputs": [],
   "source": [
    "import numpy as np\n",
    "models = np.unique(models)"
   ]
  },
  {
   "cell_type": "code",
   "execution_count": 50,
   "id": "9a6a6326",
   "metadata": {},
   "outputs": [],
   "source": [
    "import copy\n"
   ]
  },
  {
   "cell_type": "code",
   "execution_count": 212,
   "id": "5718acee",
   "metadata": {},
   "outputs": [
    {
     "data": {
      "text/html": [
       "<div>\n",
       "<style scoped>\n",
       "    .dataframe tbody tr th:only-of-type {\n",
       "        vertical-align: middle;\n",
       "    }\n",
       "\n",
       "    .dataframe tbody tr th {\n",
       "        vertical-align: top;\n",
       "    }\n",
       "\n",
       "    .dataframe thead th {\n",
       "        text-align: right;\n",
       "    }\n",
       "</style>\n",
       "<table border=\"1\" class=\"dataframe\">\n",
       "  <thead>\n",
       "    <tr style=\"text-align: right;\">\n",
       "      <th></th>\n",
       "      <th>value</th>\n",
       "      <th>geometry</th>\n",
       "      <th>latitude</th>\n",
       "      <th>longitude</th>\n",
       "      <th>region_id</th>\n",
       "      <th>impf_</th>\n",
       "      <th>region_id2</th>\n",
       "      <th>Reg_name</th>\n",
       "      <th>impf_RF</th>\n",
       "    </tr>\n",
       "  </thead>\n",
       "  <tbody>\n",
       "    <tr>\n",
       "      <th>0</th>\n",
       "      <td>1.282043e+09</td>\n",
       "      <td>POINT (-70.02083 12.56250)</td>\n",
       "      <td>12.562500</td>\n",
       "      <td>-70.020833</td>\n",
       "      <td>533</td>\n",
       "      <td>1</td>\n",
       "      <td>0    CAR\\nName: Reg_name, dtype: object</td>\n",
       "      <td>CAR</td>\n",
       "      <td>6</td>\n",
       "    </tr>\n",
       "    <tr>\n",
       "      <th>1</th>\n",
       "      <td>6.681992e+07</td>\n",
       "      <td>POINT (-69.97917 12.56250)</td>\n",
       "      <td>12.562500</td>\n",
       "      <td>-69.979167</td>\n",
       "      <td>533</td>\n",
       "      <td>1</td>\n",
       "      <td>0    CAR\\nName: Reg_name, dtype: object</td>\n",
       "      <td>CAR</td>\n",
       "      <td>6</td>\n",
       "    </tr>\n",
       "    <tr>\n",
       "      <th>2</th>\n",
       "      <td>1.130641e+09</td>\n",
       "      <td>POINT (-70.02083 12.52083)</td>\n",
       "      <td>12.520833</td>\n",
       "      <td>-70.020833</td>\n",
       "      <td>533</td>\n",
       "      <td>1</td>\n",
       "      <td>0    CAR\\nName: Reg_name, dtype: object</td>\n",
       "      <td>CAR</td>\n",
       "      <td>6</td>\n",
       "    </tr>\n",
       "    <tr>\n",
       "      <th>3</th>\n",
       "      <td>7.358551e+08</td>\n",
       "      <td>POINT (-69.97917 12.52083)</td>\n",
       "      <td>12.520833</td>\n",
       "      <td>-69.979167</td>\n",
       "      <td>533</td>\n",
       "      <td>1</td>\n",
       "      <td>0    CAR\\nName: Reg_name, dtype: object</td>\n",
       "      <td>CAR</td>\n",
       "      <td>6</td>\n",
       "    </tr>\n",
       "    <tr>\n",
       "      <th>4</th>\n",
       "      <td>2.680846e+07</td>\n",
       "      <td>POINT (-69.93750 12.52083)</td>\n",
       "      <td>12.520833</td>\n",
       "      <td>-69.937500</td>\n",
       "      <td>533</td>\n",
       "      <td>1</td>\n",
       "      <td>0    CAR\\nName: Reg_name, dtype: object</td>\n",
       "      <td>CAR</td>\n",
       "      <td>6</td>\n",
       "    </tr>\n",
       "    <tr>\n",
       "      <th>...</th>\n",
       "      <td>...</td>\n",
       "      <td>...</td>\n",
       "      <td>...</td>\n",
       "      <td>...</td>\n",
       "      <td>...</td>\n",
       "      <td>...</td>\n",
       "      <td>...</td>\n",
       "      <td>...</td>\n",
       "      <td>...</td>\n",
       "    </tr>\n",
       "    <tr>\n",
       "      <th>8418523</th>\n",
       "      <td>1.614874e+04</td>\n",
       "      <td>POINT (31.39583 -22.31250)</td>\n",
       "      <td>-22.312500</td>\n",
       "      <td>31.395833</td>\n",
       "      <td>716</td>\n",
       "      <td>1</td>\n",
       "      <td>229    SSA\\nName: Reg_name, dtype: object</td>\n",
       "      <td>SSA</td>\n",
       "      <td>1</td>\n",
       "    </tr>\n",
       "    <tr>\n",
       "      <th>8418524</th>\n",
       "      <td>1.296877e+04</td>\n",
       "      <td>POINT (31.22917 -22.35417)</td>\n",
       "      <td>-22.354167</td>\n",
       "      <td>31.229167</td>\n",
       "      <td>716</td>\n",
       "      <td>1</td>\n",
       "      <td>229    SSA\\nName: Reg_name, dtype: object</td>\n",
       "      <td>SSA</td>\n",
       "      <td>1</td>\n",
       "    </tr>\n",
       "    <tr>\n",
       "      <th>8418525</th>\n",
       "      <td>1.663883e+04</td>\n",
       "      <td>POINT (31.27083 -22.35417)</td>\n",
       "      <td>-22.354167</td>\n",
       "      <td>31.270833</td>\n",
       "      <td>716</td>\n",
       "      <td>1</td>\n",
       "      <td>229    SSA\\nName: Reg_name, dtype: object</td>\n",
       "      <td>SSA</td>\n",
       "      <td>1</td>\n",
       "    </tr>\n",
       "    <tr>\n",
       "      <th>8418526</th>\n",
       "      <td>1.928599e+04</td>\n",
       "      <td>POINT (31.31250 -22.35417)</td>\n",
       "      <td>-22.354167</td>\n",
       "      <td>31.312500</td>\n",
       "      <td>716</td>\n",
       "      <td>1</td>\n",
       "      <td>229    SSA\\nName: Reg_name, dtype: object</td>\n",
       "      <td>SSA</td>\n",
       "      <td>1</td>\n",
       "    </tr>\n",
       "    <tr>\n",
       "      <th>8418527</th>\n",
       "      <td>1.118102e+04</td>\n",
       "      <td>POINT (31.35417 -22.35417)</td>\n",
       "      <td>-22.354167</td>\n",
       "      <td>31.354167</td>\n",
       "      <td>716</td>\n",
       "      <td>1</td>\n",
       "      <td>229    SSA\\nName: Reg_name, dtype: object</td>\n",
       "      <td>SSA</td>\n",
       "      <td>1</td>\n",
       "    </tr>\n",
       "  </tbody>\n",
       "</table>\n",
       "<p>8418528 rows × 9 columns</p>\n",
       "</div>"
      ],
      "text/plain": [
       "                value                    geometry   latitude  longitude  \\\n",
       "0        1.282043e+09  POINT (-70.02083 12.56250)  12.562500 -70.020833   \n",
       "1        6.681992e+07  POINT (-69.97917 12.56250)  12.562500 -69.979167   \n",
       "2        1.130641e+09  POINT (-70.02083 12.52083)  12.520833 -70.020833   \n",
       "3        7.358551e+08  POINT (-69.97917 12.52083)  12.520833 -69.979167   \n",
       "4        2.680846e+07  POINT (-69.93750 12.52083)  12.520833 -69.937500   \n",
       "...               ...                         ...        ...        ...   \n",
       "8418523  1.614874e+04  POINT (31.39583 -22.31250) -22.312500  31.395833   \n",
       "8418524  1.296877e+04  POINT (31.22917 -22.35417) -22.354167  31.229167   \n",
       "8418525  1.663883e+04  POINT (31.27083 -22.35417) -22.354167  31.270833   \n",
       "8418526  1.928599e+04  POINT (31.31250 -22.35417) -22.354167  31.312500   \n",
       "8418527  1.118102e+04  POINT (31.35417 -22.35417) -22.354167  31.354167   \n",
       "\n",
       "         region_id  impf_                                 region_id2 Reg_name  \\\n",
       "0              533      1    0    CAR\\nName: Reg_name, dtype: object      CAR   \n",
       "1              533      1    0    CAR\\nName: Reg_name, dtype: object      CAR   \n",
       "2              533      1    0    CAR\\nName: Reg_name, dtype: object      CAR   \n",
       "3              533      1    0    CAR\\nName: Reg_name, dtype: object      CAR   \n",
       "4              533      1    0    CAR\\nName: Reg_name, dtype: object      CAR   \n",
       "...            ...    ...                                        ...      ...   \n",
       "8418523        716      1  229    SSA\\nName: Reg_name, dtype: object      SSA   \n",
       "8418524        716      1  229    SSA\\nName: Reg_name, dtype: object      SSA   \n",
       "8418525        716      1  229    SSA\\nName: Reg_name, dtype: object      SSA   \n",
       "8418526        716      1  229    SSA\\nName: Reg_name, dtype: object      SSA   \n",
       "8418527        716      1  229    SSA\\nName: Reg_name, dtype: object      SSA   \n",
       "\n",
       "         impf_RF  \n",
       "0              6  \n",
       "1              6  \n",
       "2              6  \n",
       "3              6  \n",
       "4              6  \n",
       "...          ...  \n",
       "8418523        1  \n",
       "8418524        1  \n",
       "8418525        1  \n",
       "8418526        1  \n",
       "8418527        1  \n",
       "\n",
       "[8418528 rows x 9 columns]"
      ]
     },
     "execution_count": 212,
     "metadata": {},
     "output_type": "execute_result"
    }
   ],
   "source": [
    "assets.gdf"
   ]
  },
  {
   "cell_type": "code",
   "execution_count": 279,
   "id": "5445a4c9",
   "metadata": {},
   "outputs": [
    {
     "name": "stdout",
     "output_type": "stream",
     "text": [
      "The autoreload extension is already loaded. To reload it, use:\n",
      "  %reload_ext autoreload\n"
     ]
    }
   ],
   "source": [
    "# Use these commands in the same cell.\n",
    "\n",
    "%load_ext autoreload\n",
    "%autoreload 2\n",
    "from climada.engine import calibration_opt as clb "
   ]
  },
  {
   "cell_type": "code",
   "execution_count": 214,
   "id": "772af1c8",
   "metadata": {},
   "outputs": [
    {
     "data": {
      "text/html": [
       "<div>\n",
       "<style scoped>\n",
       "    .dataframe tbody tr th:only-of-type {\n",
       "        vertical-align: middle;\n",
       "    }\n",
       "\n",
       "    .dataframe tbody tr th {\n",
       "        vertical-align: top;\n",
       "    }\n",
       "\n",
       "    .dataframe thead th {\n",
       "        text-align: right;\n",
       "    }\n",
       "</style>\n",
       "<table border=\"1\" class=\"dataframe\">\n",
       "  <thead>\n",
       "    <tr style=\"text-align: right;\">\n",
       "      <th></th>\n",
       "      <th>year</th>\n",
       "      <th>Total Damages, Adjusted ('000 US$)</th>\n",
       "      <th>Country</th>\n",
       "      <th>ISO</th>\n",
       "      <th>Growth Factor Rel 2020_x</th>\n",
       "      <th>Growth Factor Rel 2020_y</th>\n",
       "      <th>Growth Factor Rel 2020</th>\n",
       "      <th>impact_scaled</th>\n",
       "      <th>impact_CLIMADA</th>\n",
       "    </tr>\n",
       "  </thead>\n",
       "  <tbody>\n",
       "    <tr>\n",
       "      <th>0</th>\n",
       "      <td>1983</td>\n",
       "      <td>1774734.0</td>\n",
       "      <td>France</td>\n",
       "      <td>FRA</td>\n",
       "      <td>0.139122</td>\n",
       "      <td>0.139122</td>\n",
       "      <td>0.139122</td>\n",
       "      <td>246905.350922</td>\n",
       "      <td>0.0</td>\n",
       "    </tr>\n",
       "    <tr>\n",
       "      <th>1</th>\n",
       "      <td>1985</td>\n",
       "      <td>625757.0</td>\n",
       "      <td>Argentina</td>\n",
       "      <td>ARG</td>\n",
       "      <td>0.151132</td>\n",
       "      <td>0.151132</td>\n",
       "      <td>0.151132</td>\n",
       "      <td>94572.057366</td>\n",
       "      <td>0.0</td>\n",
       "    </tr>\n",
       "    <tr>\n",
       "      <th>2</th>\n",
       "      <td>1985</td>\n",
       "      <td>544137.0</td>\n",
       "      <td>Brazil</td>\n",
       "      <td>BRA</td>\n",
       "      <td>0.151132</td>\n",
       "      <td>0.151132</td>\n",
       "      <td>0.151132</td>\n",
       "      <td>82236.643904</td>\n",
       "      <td>0.0</td>\n",
       "    </tr>\n",
       "    <tr>\n",
       "      <th>3</th>\n",
       "      <td>1985</td>\n",
       "      <td>837971.0</td>\n",
       "      <td>India</td>\n",
       "      <td>IND</td>\n",
       "      <td>0.151132</td>\n",
       "      <td>0.151132</td>\n",
       "      <td>0.151132</td>\n",
       "      <td>126644.434634</td>\n",
       "      <td>0.0</td>\n",
       "    </tr>\n",
       "    <tr>\n",
       "      <th>4</th>\n",
       "      <td>1985</td>\n",
       "      <td>1360.0</td>\n",
       "      <td>Mozambique</td>\n",
       "      <td>MOZ</td>\n",
       "      <td>0.151132</td>\n",
       "      <td>0.151132</td>\n",
       "      <td>0.151132</td>\n",
       "      <td>205.539847</td>\n",
       "      <td>0.0</td>\n",
       "    </tr>\n",
       "    <tr>\n",
       "      <th>...</th>\n",
       "      <td>...</td>\n",
       "      <td>...</td>\n",
       "      <td>...</td>\n",
       "      <td>...</td>\n",
       "      <td>...</td>\n",
       "      <td>...</td>\n",
       "      <td>...</td>\n",
       "      <td>...</td>\n",
       "      <td>...</td>\n",
       "    </tr>\n",
       "    <tr>\n",
       "      <th>653</th>\n",
       "      <td>2009</td>\n",
       "      <td>128.0</td>\n",
       "      <td>Mongolia</td>\n",
       "      <td>MNG</td>\n",
       "      <td>0.714455</td>\n",
       "      <td>0.714455</td>\n",
       "      <td>0.714455</td>\n",
       "      <td>91.450208</td>\n",
       "      <td>0.0</td>\n",
       "    </tr>\n",
       "    <tr>\n",
       "      <th>654</th>\n",
       "      <td>2009</td>\n",
       "      <td>81847.0</td>\n",
       "      <td>Nepal</td>\n",
       "      <td>NPL</td>\n",
       "      <td>0.714455</td>\n",
       "      <td>0.714455</td>\n",
       "      <td>0.714455</td>\n",
       "      <td>58475.977758</td>\n",
       "      <td>0.0</td>\n",
       "    </tr>\n",
       "    <tr>\n",
       "      <th>655</th>\n",
       "      <td>2009</td>\n",
       "      <td>1119.0</td>\n",
       "      <td>Paraguay</td>\n",
       "      <td>PRY</td>\n",
       "      <td>0.714455</td>\n",
       "      <td>0.714455</td>\n",
       "      <td>0.714455</td>\n",
       "      <td>799.474863</td>\n",
       "      <td>0.0</td>\n",
       "    </tr>\n",
       "    <tr>\n",
       "      <th>656</th>\n",
       "      <td>2009</td>\n",
       "      <td>1227711.0</td>\n",
       "      <td>Saudi Arabia</td>\n",
       "      <td>SAU</td>\n",
       "      <td>0.714455</td>\n",
       "      <td>0.714455</td>\n",
       "      <td>0.714455</td>\n",
       "      <td>877143.953102</td>\n",
       "      <td>0.0</td>\n",
       "    </tr>\n",
       "    <tr>\n",
       "      <th>657</th>\n",
       "      <td>2009</td>\n",
       "      <td>682061.0</td>\n",
       "      <td>United States of America (the)</td>\n",
       "      <td>USA</td>\n",
       "      <td>0.714455</td>\n",
       "      <td>0.714455</td>\n",
       "      <td>0.714455</td>\n",
       "      <td>487301.719864</td>\n",
       "      <td>0.0</td>\n",
       "    </tr>\n",
       "  </tbody>\n",
       "</table>\n",
       "<p>658 rows × 9 columns</p>\n",
       "</div>"
      ],
      "text/plain": [
       "     year  Total Damages, Adjusted ('000 US$)                         Country  \\\n",
       "0    1983                           1774734.0                          France   \n",
       "1    1985                            625757.0                       Argentina   \n",
       "2    1985                            544137.0                          Brazil   \n",
       "3    1985                            837971.0                           India   \n",
       "4    1985                              1360.0                      Mozambique   \n",
       "..    ...                                 ...                             ...   \n",
       "653  2009                               128.0                        Mongolia   \n",
       "654  2009                             81847.0                           Nepal   \n",
       "655  2009                              1119.0                        Paraguay   \n",
       "656  2009                           1227711.0                    Saudi Arabia   \n",
       "657  2009                            682061.0  United States of America (the)   \n",
       "\n",
       "     ISO  Growth Factor Rel 2020_x  Growth Factor Rel 2020_y  \\\n",
       "0    FRA                  0.139122                  0.139122   \n",
       "1    ARG                  0.151132                  0.151132   \n",
       "2    BRA                  0.151132                  0.151132   \n",
       "3    IND                  0.151132                  0.151132   \n",
       "4    MOZ                  0.151132                  0.151132   \n",
       "..   ...                       ...                       ...   \n",
       "653  MNG                  0.714455                  0.714455   \n",
       "654  NPL                  0.714455                  0.714455   \n",
       "655  PRY                  0.714455                  0.714455   \n",
       "656  SAU                  0.714455                  0.714455   \n",
       "657  USA                  0.714455                  0.714455   \n",
       "\n",
       "     Growth Factor Rel 2020  impact_scaled  impact_CLIMADA  \n",
       "0                  0.139122  246905.350922             0.0  \n",
       "1                  0.151132   94572.057366             0.0  \n",
       "2                  0.151132   82236.643904             0.0  \n",
       "3                  0.151132  126644.434634             0.0  \n",
       "4                  0.151132     205.539847             0.0  \n",
       "..                      ...            ...             ...  \n",
       "653                0.714455      91.450208             0.0  \n",
       "654                0.714455   58475.977758             0.0  \n",
       "655                0.714455     799.474863             0.0  \n",
       "656                0.714455  877143.953102             0.0  \n",
       "657                0.714455  487301.719864             0.0  \n",
       "\n",
       "[658 rows x 9 columns]"
      ]
     },
     "execution_count": 214,
     "metadata": {},
     "output_type": "execute_result"
    }
   ],
   "source": [
    "emdat_RF"
   ]
  },
  {
   "cell_type": "code",
   "execution_count": 216,
   "id": "a6632e97",
   "metadata": {},
   "outputs": [
    {
     "data": {
      "text/html": [
       "<div>\n",
       "<style scoped>\n",
       "    .dataframe tbody tr th:only-of-type {\n",
       "        vertical-align: middle;\n",
       "    }\n",
       "\n",
       "    .dataframe tbody tr th {\n",
       "        vertical-align: top;\n",
       "    }\n",
       "\n",
       "    .dataframe thead th {\n",
       "        text-align: right;\n",
       "    }\n",
       "</style>\n",
       "<table border=\"1\" class=\"dataframe\">\n",
       "  <thead>\n",
       "    <tr style=\"text-align: right;\">\n",
       "      <th></th>\n",
       "      <th>value</th>\n",
       "      <th>geometry</th>\n",
       "      <th>latitude</th>\n",
       "      <th>longitude</th>\n",
       "      <th>region_id</th>\n",
       "      <th>impf_</th>\n",
       "      <th>region_id2</th>\n",
       "      <th>Reg_name</th>\n",
       "      <th>impf_RF</th>\n",
       "    </tr>\n",
       "  </thead>\n",
       "  <tbody>\n",
       "    <tr>\n",
       "      <th>97488</th>\n",
       "      <td>4.405133e+05</td>\n",
       "      <td>POINT (53.72917 24.22917)</td>\n",
       "      <td>24.229167</td>\n",
       "      <td>53.729167</td>\n",
       "      <td>784</td>\n",
       "      <td>1</td>\n",
       "      <td>7    ARA\\nName: Reg_name, dtype: object</td>\n",
       "      <td>ARA</td>\n",
       "      <td>2</td>\n",
       "    </tr>\n",
       "    <tr>\n",
       "      <th>97489</th>\n",
       "      <td>4.263395e+06</td>\n",
       "      <td>POINT (53.81250 24.22917)</td>\n",
       "      <td>24.229167</td>\n",
       "      <td>53.812500</td>\n",
       "      <td>784</td>\n",
       "      <td>1</td>\n",
       "      <td>7    ARA\\nName: Reg_name, dtype: object</td>\n",
       "      <td>ARA</td>\n",
       "      <td>2</td>\n",
       "    </tr>\n",
       "    <tr>\n",
       "      <th>97490</th>\n",
       "      <td>7.694630e+05</td>\n",
       "      <td>POINT (53.85417 24.22917)</td>\n",
       "      <td>24.229167</td>\n",
       "      <td>53.854167</td>\n",
       "      <td>784</td>\n",
       "      <td>1</td>\n",
       "      <td>7    ARA\\nName: Reg_name, dtype: object</td>\n",
       "      <td>ARA</td>\n",
       "      <td>2</td>\n",
       "    </tr>\n",
       "    <tr>\n",
       "      <th>97491</th>\n",
       "      <td>3.900159e+05</td>\n",
       "      <td>POINT (53.64583 24.18750)</td>\n",
       "      <td>24.187500</td>\n",
       "      <td>53.645833</td>\n",
       "      <td>784</td>\n",
       "      <td>1</td>\n",
       "      <td>7    ARA\\nName: Reg_name, dtype: object</td>\n",
       "      <td>ARA</td>\n",
       "      <td>2</td>\n",
       "    </tr>\n",
       "    <tr>\n",
       "      <th>97492</th>\n",
       "      <td>7.319897e+05</td>\n",
       "      <td>POINT (53.68750 24.18750)</td>\n",
       "      <td>24.187500</td>\n",
       "      <td>53.687500</td>\n",
       "      <td>784</td>\n",
       "      <td>1</td>\n",
       "      <td>7    ARA\\nName: Reg_name, dtype: object</td>\n",
       "      <td>ARA</td>\n",
       "      <td>2</td>\n",
       "    </tr>\n",
       "    <tr>\n",
       "      <th>...</th>\n",
       "      <td>...</td>\n",
       "      <td>...</td>\n",
       "      <td>...</td>\n",
       "      <td>...</td>\n",
       "      <td>...</td>\n",
       "      <td>...</td>\n",
       "      <td>...</td>\n",
       "      <td>...</td>\n",
       "      <td>...</td>\n",
       "    </tr>\n",
       "    <tr>\n",
       "      <th>8297979</th>\n",
       "      <td>3.148548e+04</td>\n",
       "      <td>POINT (44.10417 12.64583)</td>\n",
       "      <td>12.645833</td>\n",
       "      <td>44.104167</td>\n",
       "      <td>887</td>\n",
       "      <td>1</td>\n",
       "      <td>226    ARA\\nName: Reg_name, dtype: object</td>\n",
       "      <td>ARA</td>\n",
       "      <td>2</td>\n",
       "    </tr>\n",
       "    <tr>\n",
       "      <th>8297980</th>\n",
       "      <td>2.940464e+04</td>\n",
       "      <td>POINT (44.22917 12.64583)</td>\n",
       "      <td>12.645833</td>\n",
       "      <td>44.229167</td>\n",
       "      <td>887</td>\n",
       "      <td>1</td>\n",
       "      <td>226    ARA\\nName: Reg_name, dtype: object</td>\n",
       "      <td>ARA</td>\n",
       "      <td>2</td>\n",
       "    </tr>\n",
       "    <tr>\n",
       "      <th>8297981</th>\n",
       "      <td>2.920067e+04</td>\n",
       "      <td>POINT (44.27083 12.64583)</td>\n",
       "      <td>12.645833</td>\n",
       "      <td>44.270833</td>\n",
       "      <td>887</td>\n",
       "      <td>1</td>\n",
       "      <td>226    ARA\\nName: Reg_name, dtype: object</td>\n",
       "      <td>ARA</td>\n",
       "      <td>2</td>\n",
       "    </tr>\n",
       "    <tr>\n",
       "      <th>8297982</th>\n",
       "      <td>2.561849e+04</td>\n",
       "      <td>POINT (43.93750 12.60417)</td>\n",
       "      <td>12.604167</td>\n",
       "      <td>43.937500</td>\n",
       "      <td>887</td>\n",
       "      <td>1</td>\n",
       "      <td>226    ARA\\nName: Reg_name, dtype: object</td>\n",
       "      <td>ARA</td>\n",
       "      <td>2</td>\n",
       "    </tr>\n",
       "    <tr>\n",
       "      <th>8297983</th>\n",
       "      <td>2.558914e+04</td>\n",
       "      <td>POINT (44.02083 12.60417)</td>\n",
       "      <td>12.604167</td>\n",
       "      <td>44.020833</td>\n",
       "      <td>887</td>\n",
       "      <td>1</td>\n",
       "      <td>226    ARA\\nName: Reg_name, dtype: object</td>\n",
       "      <td>ARA</td>\n",
       "      <td>2</td>\n",
       "    </tr>\n",
       "  </tbody>\n",
       "</table>\n",
       "<p>349088 rows × 9 columns</p>\n",
       "</div>"
      ],
      "text/plain": [
       "                value                   geometry   latitude  longitude  \\\n",
       "97488    4.405133e+05  POINT (53.72917 24.22917)  24.229167  53.729167   \n",
       "97489    4.263395e+06  POINT (53.81250 24.22917)  24.229167  53.812500   \n",
       "97490    7.694630e+05  POINT (53.85417 24.22917)  24.229167  53.854167   \n",
       "97491    3.900159e+05  POINT (53.64583 24.18750)  24.187500  53.645833   \n",
       "97492    7.319897e+05  POINT (53.68750 24.18750)  24.187500  53.687500   \n",
       "...               ...                        ...        ...        ...   \n",
       "8297979  3.148548e+04  POINT (44.10417 12.64583)  12.645833  44.104167   \n",
       "8297980  2.940464e+04  POINT (44.22917 12.64583)  12.645833  44.229167   \n",
       "8297981  2.920067e+04  POINT (44.27083 12.64583)  12.645833  44.270833   \n",
       "8297982  2.561849e+04  POINT (43.93750 12.60417)  12.604167  43.937500   \n",
       "8297983  2.558914e+04  POINT (44.02083 12.60417)  12.604167  44.020833   \n",
       "\n",
       "         region_id  impf_                                 region_id2 Reg_name  \\\n",
       "97488          784      1    7    ARA\\nName: Reg_name, dtype: object      ARA   \n",
       "97489          784      1    7    ARA\\nName: Reg_name, dtype: object      ARA   \n",
       "97490          784      1    7    ARA\\nName: Reg_name, dtype: object      ARA   \n",
       "97491          784      1    7    ARA\\nName: Reg_name, dtype: object      ARA   \n",
       "97492          784      1    7    ARA\\nName: Reg_name, dtype: object      ARA   \n",
       "...            ...    ...                                        ...      ...   \n",
       "8297979        887      1  226    ARA\\nName: Reg_name, dtype: object      ARA   \n",
       "8297980        887      1  226    ARA\\nName: Reg_name, dtype: object      ARA   \n",
       "8297981        887      1  226    ARA\\nName: Reg_name, dtype: object      ARA   \n",
       "8297982        887      1  226    ARA\\nName: Reg_name, dtype: object      ARA   \n",
       "8297983        887      1  226    ARA\\nName: Reg_name, dtype: object      ARA   \n",
       "\n",
       "         impf_RF  \n",
       "97488          2  \n",
       "97489          2  \n",
       "97490          2  \n",
       "97491          2  \n",
       "97492          2  \n",
       "...          ...  \n",
       "8297979        2  \n",
       "8297980        2  \n",
       "8297981        2  \n",
       "8297982        2  \n",
       "8297983        2  \n",
       "\n",
       "[349088 rows x 9 columns]"
      ]
     },
     "execution_count": 216,
     "metadata": {},
     "output_type": "execute_result"
    }
   ],
   "source": [
    "assets_reg.gdf"
   ]
  },
  {
   "cell_type": "code",
   "execution_count": 253,
   "id": "7d629992",
   "metadata": {},
   "outputs": [
    {
     "data": {
      "text/html": [
       "<div>\n",
       "<style scoped>\n",
       "    .dataframe tbody tr th:only-of-type {\n",
       "        vertical-align: middle;\n",
       "    }\n",
       "\n",
       "    .dataframe tbody tr th {\n",
       "        vertical-align: top;\n",
       "    }\n",
       "\n",
       "    .dataframe thead th {\n",
       "        text-align: right;\n",
       "    }\n",
       "</style>\n",
       "<table border=\"1\" class=\"dataframe\">\n",
       "  <thead>\n",
       "    <tr style=\"text-align: right;\">\n",
       "      <th></th>\n",
       "      <th>year</th>\n",
       "      <th>Total Damages, Adjusted ('000 US$)</th>\n",
       "      <th>Country</th>\n",
       "      <th>ISO</th>\n",
       "      <th>Growth Factor Rel 2020_x</th>\n",
       "      <th>Growth Factor Rel 2020_y</th>\n",
       "      <th>Growth Factor Rel 2020</th>\n",
       "      <th>impact_scaled</th>\n",
       "      <th>impact_CLIMADA</th>\n",
       "    </tr>\n",
       "  </thead>\n",
       "  <tbody>\n",
       "    <tr>\n",
       "      <th>0</th>\n",
       "      <td>1983</td>\n",
       "      <td>1774734.0</td>\n",
       "      <td>France</td>\n",
       "      <td>FRA</td>\n",
       "      <td>0.139122</td>\n",
       "      <td>0.139122</td>\n",
       "      <td>0.139122</td>\n",
       "      <td>246905.350922</td>\n",
       "      <td>30850.701181</td>\n",
       "    </tr>\n",
       "    <tr>\n",
       "      <th>1</th>\n",
       "      <td>1985</td>\n",
       "      <td>625757.0</td>\n",
       "      <td>Argentina</td>\n",
       "      <td>ARG</td>\n",
       "      <td>0.151132</td>\n",
       "      <td>0.151132</td>\n",
       "      <td>0.151132</td>\n",
       "      <td>94572.057366</td>\n",
       "      <td>57950.441938</td>\n",
       "    </tr>\n",
       "    <tr>\n",
       "      <th>2</th>\n",
       "      <td>1985</td>\n",
       "      <td>544137.0</td>\n",
       "      <td>Brazil</td>\n",
       "      <td>BRA</td>\n",
       "      <td>0.151132</td>\n",
       "      <td>0.151132</td>\n",
       "      <td>0.151132</td>\n",
       "      <td>82236.643904</td>\n",
       "      <td>57950.441938</td>\n",
       "    </tr>\n",
       "    <tr>\n",
       "      <th>3</th>\n",
       "      <td>1985</td>\n",
       "      <td>837971.0</td>\n",
       "      <td>India</td>\n",
       "      <td>IND</td>\n",
       "      <td>0.151132</td>\n",
       "      <td>0.151132</td>\n",
       "      <td>0.151132</td>\n",
       "      <td>126644.434634</td>\n",
       "      <td>57950.441938</td>\n",
       "    </tr>\n",
       "    <tr>\n",
       "      <th>4</th>\n",
       "      <td>1985</td>\n",
       "      <td>1360.0</td>\n",
       "      <td>Mozambique</td>\n",
       "      <td>MOZ</td>\n",
       "      <td>0.151132</td>\n",
       "      <td>0.151132</td>\n",
       "      <td>0.151132</td>\n",
       "      <td>205.539847</td>\n",
       "      <td>57950.441938</td>\n",
       "    </tr>\n",
       "    <tr>\n",
       "      <th>...</th>\n",
       "      <td>...</td>\n",
       "      <td>...</td>\n",
       "      <td>...</td>\n",
       "      <td>...</td>\n",
       "      <td>...</td>\n",
       "      <td>...</td>\n",
       "      <td>...</td>\n",
       "      <td>...</td>\n",
       "      <td>...</td>\n",
       "    </tr>\n",
       "    <tr>\n",
       "      <th>653</th>\n",
       "      <td>2009</td>\n",
       "      <td>128.0</td>\n",
       "      <td>Mongolia</td>\n",
       "      <td>MNG</td>\n",
       "      <td>0.714455</td>\n",
       "      <td>0.714455</td>\n",
       "      <td>0.714455</td>\n",
       "      <td>91.450208</td>\n",
       "      <td>40526.301785</td>\n",
       "    </tr>\n",
       "    <tr>\n",
       "      <th>654</th>\n",
       "      <td>2009</td>\n",
       "      <td>81847.0</td>\n",
       "      <td>Nepal</td>\n",
       "      <td>NPL</td>\n",
       "      <td>0.714455</td>\n",
       "      <td>0.714455</td>\n",
       "      <td>0.714455</td>\n",
       "      <td>58475.977758</td>\n",
       "      <td>40526.301785</td>\n",
       "    </tr>\n",
       "    <tr>\n",
       "      <th>655</th>\n",
       "      <td>2009</td>\n",
       "      <td>1119.0</td>\n",
       "      <td>Paraguay</td>\n",
       "      <td>PRY</td>\n",
       "      <td>0.714455</td>\n",
       "      <td>0.714455</td>\n",
       "      <td>0.714455</td>\n",
       "      <td>799.474863</td>\n",
       "      <td>40526.301785</td>\n",
       "    </tr>\n",
       "    <tr>\n",
       "      <th>656</th>\n",
       "      <td>2009</td>\n",
       "      <td>1227711.0</td>\n",
       "      <td>Saudi Arabia</td>\n",
       "      <td>SAU</td>\n",
       "      <td>0.714455</td>\n",
       "      <td>0.714455</td>\n",
       "      <td>0.714455</td>\n",
       "      <td>877143.953102</td>\n",
       "      <td>40526.301785</td>\n",
       "    </tr>\n",
       "    <tr>\n",
       "      <th>657</th>\n",
       "      <td>2009</td>\n",
       "      <td>682061.0</td>\n",
       "      <td>United States of America (the)</td>\n",
       "      <td>USA</td>\n",
       "      <td>0.714455</td>\n",
       "      <td>0.714455</td>\n",
       "      <td>0.714455</td>\n",
       "      <td>487301.719864</td>\n",
       "      <td>40526.301785</td>\n",
       "    </tr>\n",
       "  </tbody>\n",
       "</table>\n",
       "<p>658 rows × 9 columns</p>\n",
       "</div>"
      ],
      "text/plain": [
       "     year  Total Damages, Adjusted ('000 US$)                         Country  \\\n",
       "0    1983                           1774734.0                          France   \n",
       "1    1985                            625757.0                       Argentina   \n",
       "2    1985                            544137.0                          Brazil   \n",
       "3    1985                            837971.0                           India   \n",
       "4    1985                              1360.0                      Mozambique   \n",
       "..    ...                                 ...                             ...   \n",
       "653  2009                               128.0                        Mongolia   \n",
       "654  2009                             81847.0                           Nepal   \n",
       "655  2009                              1119.0                        Paraguay   \n",
       "656  2009                           1227711.0                    Saudi Arabia   \n",
       "657  2009                            682061.0  United States of America (the)   \n",
       "\n",
       "     ISO  Growth Factor Rel 2020_x  Growth Factor Rel 2020_y  \\\n",
       "0    FRA                  0.139122                  0.139122   \n",
       "1    ARG                  0.151132                  0.151132   \n",
       "2    BRA                  0.151132                  0.151132   \n",
       "3    IND                  0.151132                  0.151132   \n",
       "4    MOZ                  0.151132                  0.151132   \n",
       "..   ...                       ...                       ...   \n",
       "653  MNG                  0.714455                  0.714455   \n",
       "654  NPL                  0.714455                  0.714455   \n",
       "655  PRY                  0.714455                  0.714455   \n",
       "656  SAU                  0.714455                  0.714455   \n",
       "657  USA                  0.714455                  0.714455   \n",
       "\n",
       "     Growth Factor Rel 2020  impact_scaled  impact_CLIMADA  \n",
       "0                  0.139122  246905.350922    30850.701181  \n",
       "1                  0.151132   94572.057366    57950.441938  \n",
       "2                  0.151132   82236.643904    57950.441938  \n",
       "3                  0.151132  126644.434634    57950.441938  \n",
       "4                  0.151132     205.539847    57950.441938  \n",
       "..                      ...            ...             ...  \n",
       "653                0.714455      91.450208    40526.301785  \n",
       "654                0.714455   58475.977758    40526.301785  \n",
       "655                0.714455     799.474863    40526.301785  \n",
       "656                0.714455  877143.953102    40526.301785  \n",
       "657                0.714455  487301.719864    40526.301785  \n",
       "\n",
       "[658 rows x 9 columns]"
      ]
     },
     "execution_count": 253,
     "metadata": {},
     "output_type": "execute_result"
    }
   ],
   "source": [
    "emdat_RF"
   ]
  },
  {
   "cell_type": "code",
   "execution_count": 256,
   "id": "763b3892",
   "metadata": {},
   "outputs": [
    {
     "data": {
      "text/html": [
       "<div>\n",
       "<style scoped>\n",
       "    .dataframe tbody tr th:only-of-type {\n",
       "        vertical-align: middle;\n",
       "    }\n",
       "\n",
       "    .dataframe tbody tr th {\n",
       "        vertical-align: top;\n",
       "    }\n",
       "\n",
       "    .dataframe thead th {\n",
       "        text-align: right;\n",
       "    }\n",
       "</style>\n",
       "<table border=\"1\" class=\"dataframe\">\n",
       "  <thead>\n",
       "    <tr style=\"text-align: right;\">\n",
       "      <th></th>\n",
       "      <th>ISO</th>\n",
       "      <th>ID</th>\n",
       "      <th>Reg_ID</th>\n",
       "      <th>Reg_name</th>\n",
       "      <th>impf_RF</th>\n",
       "    </tr>\n",
       "  </thead>\n",
       "  <tbody>\n",
       "    <tr>\n",
       "      <th>0</th>\n",
       "      <td>ABW</td>\n",
       "      <td>1</td>\n",
       "      <td>2</td>\n",
       "      <td>CAR</td>\n",
       "      <td>6</td>\n",
       "    </tr>\n",
       "    <tr>\n",
       "      <th>1</th>\n",
       "      <td>AFG</td>\n",
       "      <td>2</td>\n",
       "      <td>6</td>\n",
       "      <td>SWA</td>\n",
       "      <td>2</td>\n",
       "    </tr>\n",
       "    <tr>\n",
       "      <th>2</th>\n",
       "      <td>AGO</td>\n",
       "      <td>3</td>\n",
       "      <td>13</td>\n",
       "      <td>SAF</td>\n",
       "      <td>1</td>\n",
       "    </tr>\n",
       "    <tr>\n",
       "      <th>3</th>\n",
       "      <td>AIA</td>\n",
       "      <td>4</td>\n",
       "      <td>2</td>\n",
       "      <td>CAR</td>\n",
       "      <td>6</td>\n",
       "    </tr>\n",
       "    <tr>\n",
       "      <th>4</th>\n",
       "      <td>ALB</td>\n",
       "      <td>5</td>\n",
       "      <td>11</td>\n",
       "      <td>EUR</td>\n",
       "      <td>3</td>\n",
       "    </tr>\n",
       "    <tr>\n",
       "      <th>...</th>\n",
       "      <td>...</td>\n",
       "      <td>...</td>\n",
       "      <td>...</td>\n",
       "      <td>...</td>\n",
       "      <td>...</td>\n",
       "    </tr>\n",
       "    <tr>\n",
       "      <th>225</th>\n",
       "      <td>WSM</td>\n",
       "      <td>226</td>\n",
       "      <td>10</td>\n",
       "      <td>PIS2</td>\n",
       "      <td>5</td>\n",
       "    </tr>\n",
       "    <tr>\n",
       "      <th>226</th>\n",
       "      <td>YEM</td>\n",
       "      <td>227</td>\n",
       "      <td>15</td>\n",
       "      <td>ARA</td>\n",
       "      <td>2</td>\n",
       "    </tr>\n",
       "    <tr>\n",
       "      <th>227</th>\n",
       "      <td>ZAF</td>\n",
       "      <td>228</td>\n",
       "      <td>13</td>\n",
       "      <td>SAF</td>\n",
       "      <td>1</td>\n",
       "    </tr>\n",
       "    <tr>\n",
       "      <th>228</th>\n",
       "      <td>ZMB</td>\n",
       "      <td>229</td>\n",
       "      <td>5</td>\n",
       "      <td>SSA</td>\n",
       "      <td>1</td>\n",
       "    </tr>\n",
       "    <tr>\n",
       "      <th>229</th>\n",
       "      <td>ZWE</td>\n",
       "      <td>230</td>\n",
       "      <td>5</td>\n",
       "      <td>SSA</td>\n",
       "      <td>1</td>\n",
       "    </tr>\n",
       "  </tbody>\n",
       "</table>\n",
       "<p>230 rows × 5 columns</p>\n",
       "</div>"
      ],
      "text/plain": [
       "     ISO   ID  Reg_ID Reg_name  impf_RF\n",
       "0    ABW    1       2      CAR        6\n",
       "1    AFG    2       6      SWA        2\n",
       "2    AGO    3      13      SAF        1\n",
       "3    AIA    4       2      CAR        6\n",
       "4    ALB    5      11      EUR        3\n",
       "..   ...  ...     ...      ...      ...\n",
       "225  WSM  226      10     PIS2        5\n",
       "226  YEM  227      15      ARA        2\n",
       "227  ZAF  228      13      SAF        1\n",
       "228  ZMB  229       5      SSA        1\n",
       "229  ZWE  230       5      SSA        1\n",
       "\n",
       "[230 rows x 5 columns]"
      ]
     },
     "execution_count": 256,
     "metadata": {},
     "output_type": "execute_result"
    }
   ],
   "source": [
    "regions_df"
   ]
  },
  {
   "cell_type": "code",
   "execution_count": 314,
   "id": "81a8e33d",
   "metadata": {},
   "outputs": [
    {
     "name": "stderr",
     "output_type": "stream",
     "text": [
      "/var/folders/f5/lms0b90j1kx7kk4v552qkjqw0000gp/T/ipykernel_62486/3808737182.py:1: FutureWarning: The default value of numeric_only in DataFrameGroupBy.sum is deprecated. In a future version, numeric_only will default to False. Either specify numeric_only or select only columns which should be valid for the function.\n",
      "  emdat_reg.groupby(\"year\").sum().reset_index()\n"
     ]
    },
    {
     "data": {
      "text/html": [
       "<div>\n",
       "<style scoped>\n",
       "    .dataframe tbody tr th:only-of-type {\n",
       "        vertical-align: middle;\n",
       "    }\n",
       "\n",
       "    .dataframe tbody tr th {\n",
       "        vertical-align: top;\n",
       "    }\n",
       "\n",
       "    .dataframe thead th {\n",
       "        text-align: right;\n",
       "    }\n",
       "</style>\n",
       "<table border=\"1\" class=\"dataframe\">\n",
       "  <thead>\n",
       "    <tr style=\"text-align: right;\">\n",
       "      <th></th>\n",
       "      <th>year</th>\n",
       "      <th>region_id</th>\n",
       "      <th>Total Damages, Adjusted ('000 US$)</th>\n",
       "      <th>Growth Factor Rel 2020</th>\n",
       "      <th>impact_scaled</th>\n",
       "      <th>impact_CLIMADA</th>\n",
       "    </tr>\n",
       "  </thead>\n",
       "  <tbody>\n",
       "    <tr>\n",
       "      <th>0</th>\n",
       "      <td>1986</td>\n",
       "      <td>364</td>\n",
       "      <td>4167878.0</td>\n",
       "      <td>0.178693</td>\n",
       "      <td>7.447718e+05</td>\n",
       "      <td>1.234689e+04</td>\n",
       "    </tr>\n",
       "    <tr>\n",
       "      <th>1</th>\n",
       "      <td>1989</td>\n",
       "      <td>262</td>\n",
       "      <td>2597.0</td>\n",
       "      <td>0.237323</td>\n",
       "      <td>6.163273e+02</td>\n",
       "      <td>1.030690e+04</td>\n",
       "    </tr>\n",
       "    <tr>\n",
       "      <th>2</th>\n",
       "      <td>1990</td>\n",
       "      <td>1156</td>\n",
       "      <td>509341.0</td>\n",
       "      <td>0.535424</td>\n",
       "      <td>1.363568e+05</td>\n",
       "      <td>1.275470e+04</td>\n",
       "    </tr>\n",
       "    <tr>\n",
       "      <th>3</th>\n",
       "      <td>1991</td>\n",
       "      <td>1092</td>\n",
       "      <td>931310.0</td>\n",
       "      <td>0.837675</td>\n",
       "      <td>2.600449e+05</td>\n",
       "      <td>3.709017e+04</td>\n",
       "    </tr>\n",
       "    <tr>\n",
       "      <th>4</th>\n",
       "      <td>1992</td>\n",
       "      <td>728</td>\n",
       "      <td>7236038.0</td>\n",
       "      <td>0.597148</td>\n",
       "      <td>2.160491e+06</td>\n",
       "      <td>4.505811e+05</td>\n",
       "    </tr>\n",
       "    <tr>\n",
       "      <th>5</th>\n",
       "      <td>1993</td>\n",
       "      <td>2046</td>\n",
       "      <td>2231240.0</td>\n",
       "      <td>0.910385</td>\n",
       "      <td>6.770961e+05</td>\n",
       "      <td>1.448029e+06</td>\n",
       "    </tr>\n",
       "    <tr>\n",
       "      <th>6</th>\n",
       "      <td>1994</td>\n",
       "      <td>626</td>\n",
       "      <td>284548.0</td>\n",
       "      <td>0.655111</td>\n",
       "      <td>9.320524e+04</td>\n",
       "      <td>1.563330e+04</td>\n",
       "    </tr>\n",
       "    <tr>\n",
       "      <th>7</th>\n",
       "      <td>1995</td>\n",
       "      <td>1156</td>\n",
       "      <td>217979.0</td>\n",
       "      <td>0.729646</td>\n",
       "      <td>7.952380e+04</td>\n",
       "      <td>5.874654e+04</td>\n",
       "    </tr>\n",
       "    <tr>\n",
       "      <th>8</th>\n",
       "      <td>1996</td>\n",
       "      <td>2866</td>\n",
       "      <td>2326554.0</td>\n",
       "      <td>1.864854</td>\n",
       "      <td>8.677366e+05</td>\n",
       "      <td>5.962529e+04</td>\n",
       "    </tr>\n",
       "    <tr>\n",
       "      <th>9</th>\n",
       "      <td>1997</td>\n",
       "      <td>728</td>\n",
       "      <td>45580.0</td>\n",
       "      <td>0.743260</td>\n",
       "      <td>1.693890e+04</td>\n",
       "      <td>2.565159e+04</td>\n",
       "    </tr>\n",
       "    <tr>\n",
       "      <th>10</th>\n",
       "      <td>1998</td>\n",
       "      <td>364</td>\n",
       "      <td>90664.0</td>\n",
       "      <td>0.370676</td>\n",
       "      <td>3.360697e+04</td>\n",
       "      <td>1.717800e+04</td>\n",
       "    </tr>\n",
       "    <tr>\n",
       "      <th>11</th>\n",
       "      <td>2000</td>\n",
       "      <td>792</td>\n",
       "      <td>67980.0</td>\n",
       "      <td>0.397619</td>\n",
       "      <td>2.703014e+04</td>\n",
       "      <td>1.166981e+04</td>\n",
       "    </tr>\n",
       "    <tr>\n",
       "      <th>12</th>\n",
       "      <td>2001</td>\n",
       "      <td>1156</td>\n",
       "      <td>82640.0</td>\n",
       "      <td>0.790171</td>\n",
       "      <td>3.264988e+04</td>\n",
       "      <td>4.457656e+04</td>\n",
       "    </tr>\n",
       "    <tr>\n",
       "      <th>13</th>\n",
       "      <td>2002</td>\n",
       "      <td>728</td>\n",
       "      <td>102598.0</td>\n",
       "      <td>0.820581</td>\n",
       "      <td>4.209496e+04</td>\n",
       "      <td>6.549934e+04</td>\n",
       "    </tr>\n",
       "    <tr>\n",
       "      <th>14</th>\n",
       "      <td>2003</td>\n",
       "      <td>364</td>\n",
       "      <td>1333.0</td>\n",
       "      <td>0.460044</td>\n",
       "      <td>6.132383e+02</td>\n",
       "      <td>1.952916e+05</td>\n",
       "    </tr>\n",
       "    <tr>\n",
       "      <th>15</th>\n",
       "      <td>2006</td>\n",
       "      <td>732</td>\n",
       "      <td>25115.0</td>\n",
       "      <td>1.216846</td>\n",
       "      <td>1.528054e+04</td>\n",
       "      <td>1.431762e+05</td>\n",
       "    </tr>\n",
       "    <tr>\n",
       "      <th>16</th>\n",
       "      <td>2009</td>\n",
       "      <td>682</td>\n",
       "      <td>1227711.0</td>\n",
       "      <td>0.714455</td>\n",
       "      <td>8.771440e+05</td>\n",
       "      <td>1.211631e+04</td>\n",
       "    </tr>\n",
       "  </tbody>\n",
       "</table>\n",
       "</div>"
      ],
      "text/plain": [
       "    year  region_id  Total Damages, Adjusted ('000 US$)  \\\n",
       "0   1986        364                           4167878.0   \n",
       "1   1989        262                              2597.0   \n",
       "2   1990       1156                            509341.0   \n",
       "3   1991       1092                            931310.0   \n",
       "4   1992        728                           7236038.0   \n",
       "5   1993       2046                           2231240.0   \n",
       "6   1994        626                            284548.0   \n",
       "7   1995       1156                            217979.0   \n",
       "8   1996       2866                           2326554.0   \n",
       "9   1997        728                             45580.0   \n",
       "10  1998        364                             90664.0   \n",
       "11  2000        792                             67980.0   \n",
       "12  2001       1156                             82640.0   \n",
       "13  2002        728                            102598.0   \n",
       "14  2003        364                              1333.0   \n",
       "15  2006        732                             25115.0   \n",
       "16  2009        682                           1227711.0   \n",
       "\n",
       "    Growth Factor Rel 2020  impact_scaled  impact_CLIMADA  \n",
       "0                 0.178693   7.447718e+05    1.234689e+04  \n",
       "1                 0.237323   6.163273e+02    1.030690e+04  \n",
       "2                 0.535424   1.363568e+05    1.275470e+04  \n",
       "3                 0.837675   2.600449e+05    3.709017e+04  \n",
       "4                 0.597148   2.160491e+06    4.505811e+05  \n",
       "5                 0.910385   6.770961e+05    1.448029e+06  \n",
       "6                 0.655111   9.320524e+04    1.563330e+04  \n",
       "7                 0.729646   7.952380e+04    5.874654e+04  \n",
       "8                 1.864854   8.677366e+05    5.962529e+04  \n",
       "9                 0.743260   1.693890e+04    2.565159e+04  \n",
       "10                0.370676   3.360697e+04    1.717800e+04  \n",
       "11                0.397619   2.703014e+04    1.166981e+04  \n",
       "12                0.790171   3.264988e+04    4.457656e+04  \n",
       "13                0.820581   4.209496e+04    6.549934e+04  \n",
       "14                0.460044   6.132383e+02    1.952916e+05  \n",
       "15                1.216846   1.528054e+04    1.431762e+05  \n",
       "16                0.714455   8.771440e+05    1.211631e+04  "
      ]
     },
     "execution_count": 314,
     "metadata": {},
     "output_type": "execute_result"
    }
   ],
   "source": [
    "emdat_reg.groupby(\"year\").sum().reset_index()"
   ]
  },
  {
   "cell_type": "code",
   "execution_count": 406,
   "id": "f7704b48",
   "metadata": {},
   "outputs": [],
   "source": [
    "emdat_RF = emdat_RF.rename(columns={\"Year\":'year', \"Total Damages, growth adjusted\":\"impact_scaled\"})    \n",
    "emdat_RF[\"impact_scaled\"] =emdat_RF[\"impact_scaled\"]*1000\n",
    "emdat_RF = regions_df[['ISO','region_id','Reg_name']].merge(emdat_RF)"
   ]
  },
  {
   "cell_type": "code",
   "execution_count": 428,
   "id": "a31e97e8",
   "metadata": {},
   "outputs": [
    {
     "data": {
      "text/plain": [
       "array(['ARA', 'AUS', 'CAR', 'CAS', 'CHN', 'EUA', 'EUR', 'LAN', 'LAS',\n",
       "       'NAF', 'NAM', 'PIS1', 'PIS2', 'SAF', 'SEA', 'SSA', 'SWA', 'nan'],\n",
       "      dtype='<U32')"
      ]
     },
     "execution_count": 428,
     "metadata": {},
     "output_type": "execute_result"
    }
   ],
   "source": [
    "np.unique(list(regions_df.Reg_name))"
   ]
  },
  {
   "cell_type": "markdown",
   "id": "22bb11a4-ef99-41a4-a6d9-9a1fb4ac4962",
   "metadata": {},
   "source": [
    "## Some attemps at calibration, not successful:"
   ]
  },
  {
   "cell_type": "code",
   "execution_count": 451,
   "id": "7fd57c4d",
   "metadata": {},
   "outputs": [
    {
     "name": "stderr",
     "output_type": "stream",
     "text": [
      "/var/folders/f5/lms0b90j1kx7kk4v552qkjqw0000gp/T/ipykernel_62486/4244973268.py:14: FutureWarning: The default value of numeric_only in DataFrameGroupBy.sum is deprecated. In a future version, numeric_only will default to False. Either specify numeric_only or select only columns which should be valid for the function.\n",
      "  emdat_reg = emdat_reg.groupby(\"year\").sum().reset_index()\n"
     ]
    },
    {
     "name": "stdout",
     "output_type": "stream",
     "text": [
      "{'mdd_shift': 0.0, 'mdd_scale': 0.9}\n",
      "2023-03-09 15:12:55,439 - climada.engine.impact - WARNING - The use of Impact().calc() is deprecated. Use ImpactCalc().impact() instead.\n",
      "2023-03-09 15:12:55,496 - climada.hazard.base - WARNING - Impact function id=3 has mdr(0) != 0.The mean damage ratio must thus be computed for all values ofhazard intensity including 0 which can be very time consuming.\n",
      "2023-03-09 15:12:55,791 - climada.engine.impact - WARNING - The use of Impact.calc_impact_year_set is deprecated.Use Impact.impact_per_year instead.\n",
      "{'mdd_shift': 1.4901161193847656e-08, 'mdd_scale': 0.9}\n",
      "2023-03-09 15:12:55,799 - climada.engine.impact - WARNING - The use of Impact().calc() is deprecated. Use ImpactCalc().impact() instead.\n",
      "2023-03-09 15:12:55,849 - climada.hazard.base - WARNING - Impact function id=3 has mdr(0) != 0.The mean damage ratio must thus be computed for all values ofhazard intensity including 0 which can be very time consuming.\n"
     ]
    },
    {
     "name": "stderr",
     "output_type": "stream",
     "text": [
      "/Users/szelie/python_projects/climada_python/climada/engine/calibration_opt.py:87: FutureWarning: iteritems is deprecated and will be removed in a future version. Use .items instead.\n",
      "  for cnt_, year in years_in_common.iteritems():\n"
     ]
    },
    {
     "name": "stdout",
     "output_type": "stream",
     "text": [
      "2023-03-09 15:12:56,094 - climada.engine.impact - WARNING - The use of Impact.calc_impact_year_set is deprecated.Use Impact.impact_per_year instead.\n",
      "{'mdd_shift': 0.0, 'mdd_scale': 0.9000000149011612}\n",
      "2023-03-09 15:12:56,102 - climada.engine.impact - WARNING - The use of Impact().calc() is deprecated. Use ImpactCalc().impact() instead.\n",
      "2023-03-09 15:12:56,140 - climada.hazard.base - WARNING - Impact function id=3 has mdr(0) != 0.The mean damage ratio must thus be computed for all values ofhazard intensity including 0 which can be very time consuming.\n"
     ]
    },
    {
     "name": "stderr",
     "output_type": "stream",
     "text": [
      "/Users/szelie/python_projects/climada_python/climada/engine/calibration_opt.py:87: FutureWarning: iteritems is deprecated and will be removed in a future version. Use .items instead.\n",
      "  for cnt_, year in years_in_common.iteritems():\n"
     ]
    },
    {
     "name": "stdout",
     "output_type": "stream",
     "text": [
      "2023-03-09 15:12:56,386 - climada.engine.impact - WARNING - The use of Impact.calc_impact_year_set is deprecated.Use Impact.impact_per_year instead.\n",
      "{'mdd_shift': 0.34414447200064124, 'mdd_scale': 1.3526146752390076}\n",
      "2023-03-09 15:12:56,399 - climada.engine.impact - WARNING - The use of Impact().calc() is deprecated. Use ImpactCalc().impact() instead.\n",
      "2023-03-09 15:12:56,442 - climada.hazard.base - WARNING - Impact function id=3 has mdr(0) != 0.The mean damage ratio must thus be computed for all values ofhazard intensity including 0 which can be very time consuming.\n"
     ]
    },
    {
     "name": "stderr",
     "output_type": "stream",
     "text": [
      "/Users/szelie/python_projects/climada_python/climada/engine/calibration_opt.py:87: FutureWarning: iteritems is deprecated and will be removed in a future version. Use .items instead.\n",
      "  for cnt_, year in years_in_common.iteritems():\n"
     ]
    },
    {
     "name": "stdout",
     "output_type": "stream",
     "text": [
      "2023-03-09 15:12:56,697 - climada.engine.impact - WARNING - The use of Impact.calc_impact_year_set is deprecated.Use Impact.impact_per_year instead.\n",
      "{'mdd_shift': 0.34414448690180244, 'mdd_scale': 1.3526146752390076}\n",
      "2023-03-09 15:12:56,704 - climada.engine.impact - WARNING - The use of Impact().calc() is deprecated. Use ImpactCalc().impact() instead.\n",
      "2023-03-09 15:12:56,742 - climada.hazard.base - WARNING - Impact function id=3 has mdr(0) != 0.The mean damage ratio must thus be computed for all values ofhazard intensity including 0 which can be very time consuming.\n"
     ]
    },
    {
     "name": "stderr",
     "output_type": "stream",
     "text": [
      "/Users/szelie/python_projects/climada_python/climada/engine/calibration_opt.py:87: FutureWarning: iteritems is deprecated and will be removed in a future version. Use .items instead.\n",
      "  for cnt_, year in years_in_common.iteritems():\n"
     ]
    },
    {
     "name": "stdout",
     "output_type": "stream",
     "text": [
      "2023-03-09 15:12:56,988 - climada.engine.impact - WARNING - The use of Impact.calc_impact_year_set is deprecated.Use Impact.impact_per_year instead.\n",
      "{'mdd_shift': 0.34414447200064124, 'mdd_scale': 1.3526146953945368}\n",
      "2023-03-09 15:12:56,995 - climada.engine.impact - WARNING - The use of Impact().calc() is deprecated. Use ImpactCalc().impact() instead.\n",
      "2023-03-09 15:12:57,035 - climada.hazard.base - WARNING - Impact function id=3 has mdr(0) != 0.The mean damage ratio must thus be computed for all values ofhazard intensity including 0 which can be very time consuming.\n"
     ]
    },
    {
     "name": "stderr",
     "output_type": "stream",
     "text": [
      "/Users/szelie/python_projects/climada_python/climada/engine/calibration_opt.py:87: FutureWarning: iteritems is deprecated and will be removed in a future version. Use .items instead.\n",
      "  for cnt_, year in years_in_common.iteritems():\n"
     ]
    },
    {
     "name": "stdout",
     "output_type": "stream",
     "text": [
      "2023-03-09 15:12:57,281 - climada.engine.impact - WARNING - The use of Impact.calc_impact_year_set is deprecated.Use Impact.impact_per_year instead.\n",
      "{'mdd_shift': 0.5417387767203405, 'mdd_scale': 1.6124883310320828}\n",
      "2023-03-09 15:12:57,291 - climada.engine.impact - WARNING - The use of Impact().calc() is deprecated. Use ImpactCalc().impact() instead.\n",
      "2023-03-09 15:12:57,331 - climada.hazard.base - WARNING - Impact function id=3 has mdr(0) != 0.The mean damage ratio must thus be computed for all values ofhazard intensity including 0 which can be very time consuming.\n"
     ]
    },
    {
     "name": "stderr",
     "output_type": "stream",
     "text": [
      "/Users/szelie/python_projects/climada_python/climada/engine/calibration_opt.py:87: FutureWarning: iteritems is deprecated and will be removed in a future version. Use .items instead.\n",
      "  for cnt_, year in years_in_common.iteritems():\n",
      "/Users/szelie/miniconda3/envs/climada_env/lib/python3.8/site-packages/scipy/optimize/_hessian_update_strategy.py:182: UserWarning: delta_grad == 0.0. Check if the approximated function is linear. If the function is linear better results can be obtained by defining the Hessian as zero instead of using quasi-Newton approximations.\n",
      "  warn('delta_grad == 0.0. Check if the approximated '\n"
     ]
    },
    {
     "name": "stdout",
     "output_type": "stream",
     "text": [
      "2023-03-09 15:12:57,586 - climada.engine.impact - WARNING - The use of Impact.calc_impact_year_set is deprecated.Use Impact.impact_per_year instead.\n",
      "{'mdd_shift': 0.5417387916215017, 'mdd_scale': 1.6124883310320828}\n",
      "2023-03-09 15:12:57,593 - climada.engine.impact - WARNING - The use of Impact().calc() is deprecated. Use ImpactCalc().impact() instead.\n",
      "2023-03-09 15:12:57,631 - climada.hazard.base - WARNING - Impact function id=3 has mdr(0) != 0.The mean damage ratio must thus be computed for all values ofhazard intensity including 0 which can be very time consuming.\n"
     ]
    },
    {
     "name": "stderr",
     "output_type": "stream",
     "text": [
      "/Users/szelie/python_projects/climada_python/climada/engine/calibration_opt.py:87: FutureWarning: iteritems is deprecated and will be removed in a future version. Use .items instead.\n",
      "  for cnt_, year in years_in_common.iteritems():\n"
     ]
    },
    {
     "name": "stdout",
     "output_type": "stream",
     "text": [
      "2023-03-09 15:12:57,878 - climada.engine.impact - WARNING - The use of Impact.calc_impact_year_set is deprecated.Use Impact.impact_per_year instead.\n",
      "{'mdd_shift': 0.5417387767203405, 'mdd_scale': 1.6124883550600313}\n",
      "2023-03-09 15:12:57,886 - climada.engine.impact - WARNING - The use of Impact().calc() is deprecated. Use ImpactCalc().impact() instead.\n",
      "2023-03-09 15:12:57,929 - climada.hazard.base - WARNING - Impact function id=3 has mdr(0) != 0.The mean damage ratio must thus be computed for all values ofhazard intensity including 0 which can be very time consuming.\n"
     ]
    },
    {
     "name": "stderr",
     "output_type": "stream",
     "text": [
      "/Users/szelie/python_projects/climada_python/climada/engine/calibration_opt.py:87: FutureWarning: iteritems is deprecated and will be removed in a future version. Use .items instead.\n",
      "  for cnt_, year in years_in_common.iteritems():\n"
     ]
    },
    {
     "name": "stdout",
     "output_type": "stream",
     "text": [
      "2023-03-09 15:12:58,175 - climada.engine.impact - WARNING - The use of Impact.calc_impact_year_set is deprecated.Use Impact.impact_per_year instead.\n",
      "{'mdd_shift': 0.6006313947665916, 'mdd_scale': 1.6899431947874686}\n",
      "2023-03-09 15:12:58,187 - climada.engine.impact - WARNING - The use of Impact().calc() is deprecated. Use ImpactCalc().impact() instead.\n",
      "2023-03-09 15:12:58,228 - climada.hazard.base - WARNING - Impact function id=3 has mdr(0) != 0.The mean damage ratio must thus be computed for all values ofhazard intensity including 0 which can be very time consuming.\n"
     ]
    },
    {
     "name": "stderr",
     "output_type": "stream",
     "text": [
      "/Users/szelie/python_projects/climada_python/climada/engine/calibration_opt.py:87: FutureWarning: iteritems is deprecated and will be removed in a future version. Use .items instead.\n",
      "  for cnt_, year in years_in_common.iteritems():\n",
      "/Users/szelie/miniconda3/envs/climada_env/lib/python3.8/site-packages/scipy/optimize/_hessian_update_strategy.py:182: UserWarning: delta_grad == 0.0. Check if the approximated function is linear. If the function is linear better results can be obtained by defining the Hessian as zero instead of using quasi-Newton approximations.\n",
      "  warn('delta_grad == 0.0. Check if the approximated '\n"
     ]
    },
    {
     "name": "stdout",
     "output_type": "stream",
     "text": [
      "2023-03-09 15:12:58,484 - climada.engine.impact - WARNING - The use of Impact.calc_impact_year_set is deprecated.Use Impact.impact_per_year instead.\n",
      "{'mdd_shift': 0.6006314096677527, 'mdd_scale': 1.6899431947874686}\n",
      "2023-03-09 15:12:58,491 - climada.engine.impact - WARNING - The use of Impact().calc() is deprecated. Use ImpactCalc().impact() instead.\n",
      "2023-03-09 15:12:58,528 - climada.hazard.base - WARNING - Impact function id=3 has mdr(0) != 0.The mean damage ratio must thus be computed for all values ofhazard intensity including 0 which can be very time consuming.\n"
     ]
    },
    {
     "name": "stderr",
     "output_type": "stream",
     "text": [
      "/Users/szelie/python_projects/climada_python/climada/engine/calibration_opt.py:87: FutureWarning: iteritems is deprecated and will be removed in a future version. Use .items instead.\n",
      "  for cnt_, year in years_in_common.iteritems():\n"
     ]
    },
    {
     "name": "stdout",
     "output_type": "stream",
     "text": [
      "2023-03-09 15:12:58,776 - climada.engine.impact - WARNING - The use of Impact.calc_impact_year_set is deprecated.Use Impact.impact_per_year instead.\n",
      "{'mdd_shift': 0.6006313947665916, 'mdd_scale': 1.6899432199695845}\n",
      "2023-03-09 15:12:58,782 - climada.engine.impact - WARNING - The use of Impact().calc() is deprecated. Use ImpactCalc().impact() instead.\n",
      "2023-03-09 15:12:58,823 - climada.hazard.base - WARNING - Impact function id=3 has mdr(0) != 0.The mean damage ratio must thus be computed for all values ofhazard intensity including 0 which can be very time consuming.\n"
     ]
    },
    {
     "name": "stderr",
     "output_type": "stream",
     "text": [
      "/Users/szelie/python_projects/climada_python/climada/engine/calibration_opt.py:87: FutureWarning: iteritems is deprecated and will be removed in a future version. Use .items instead.\n",
      "  for cnt_, year in years_in_common.iteritems():\n"
     ]
    },
    {
     "name": "stdout",
     "output_type": "stream",
     "text": [
      "2023-03-09 15:12:59,067 - climada.engine.impact - WARNING - The use of Impact.calc_impact_year_set is deprecated.Use Impact.impact_per_year instead.\n",
      "{'mdd_shift': 0.6118183546435112, 'mdd_scale': 1.7046561500244608}\n",
      "2023-03-09 15:12:59,079 - climada.engine.impact - WARNING - The use of Impact().calc() is deprecated. Use ImpactCalc().impact() instead.\n",
      "2023-03-09 15:12:59,118 - climada.hazard.base - WARNING - Impact function id=3 has mdr(0) != 0.The mean damage ratio must thus be computed for all values ofhazard intensity including 0 which can be very time consuming.\n"
     ]
    },
    {
     "name": "stderr",
     "output_type": "stream",
     "text": [
      "/Users/szelie/python_projects/climada_python/climada/engine/calibration_opt.py:87: FutureWarning: iteritems is deprecated and will be removed in a future version. Use .items instead.\n",
      "  for cnt_, year in years_in_common.iteritems():\n",
      "/Users/szelie/miniconda3/envs/climada_env/lib/python3.8/site-packages/scipy/optimize/_hessian_update_strategy.py:182: UserWarning: delta_grad == 0.0. Check if the approximated function is linear. If the function is linear better results can be obtained by defining the Hessian as zero instead of using quasi-Newton approximations.\n",
      "  warn('delta_grad == 0.0. Check if the approximated '\n"
     ]
    },
    {
     "name": "stdout",
     "output_type": "stream",
     "text": [
      "2023-03-09 15:12:59,372 - climada.engine.impact - WARNING - The use of Impact.calc_impact_year_set is deprecated.Use Impact.impact_per_year instead.\n",
      "{'mdd_shift': 0.6118183695446724, 'mdd_scale': 1.7046561500244608}\n",
      "2023-03-09 15:12:59,379 - climada.engine.impact - WARNING - The use of Impact().calc() is deprecated. Use ImpactCalc().impact() instead.\n",
      "2023-03-09 15:12:59,416 - climada.hazard.base - WARNING - Impact function id=3 has mdr(0) != 0.The mean damage ratio must thus be computed for all values ofhazard intensity including 0 which can be very time consuming.\n"
     ]
    },
    {
     "name": "stderr",
     "output_type": "stream",
     "text": [
      "/Users/szelie/python_projects/climada_python/climada/engine/calibration_opt.py:87: FutureWarning: iteritems is deprecated and will be removed in a future version. Use .items instead.\n",
      "  for cnt_, year in years_in_common.iteritems():\n"
     ]
    },
    {
     "name": "stdout",
     "output_type": "stream",
     "text": [
      "2023-03-09 15:12:59,661 - climada.engine.impact - WARNING - The use of Impact.calc_impact_year_set is deprecated.Use Impact.impact_per_year instead.\n",
      "{'mdd_shift': 0.6118183546435112, 'mdd_scale': 1.704656175425817}\n",
      "2023-03-09 15:12:59,668 - climada.engine.impact - WARNING - The use of Impact().calc() is deprecated. Use ImpactCalc().impact() instead.\n",
      "2023-03-09 15:12:59,705 - climada.hazard.base - WARNING - Impact function id=3 has mdr(0) != 0.The mean damage ratio must thus be computed for all values ofhazard intensity including 0 which can be very time consuming.\n"
     ]
    },
    {
     "name": "stderr",
     "output_type": "stream",
     "text": [
      "/Users/szelie/python_projects/climada_python/climada/engine/calibration_opt.py:87: FutureWarning: iteritems is deprecated and will be removed in a future version. Use .items instead.\n",
      "  for cnt_, year in years_in_common.iteritems():\n"
     ]
    },
    {
     "name": "stdout",
     "output_type": "stream",
     "text": [
      "2023-03-09 15:12:59,951 - climada.engine.impact - WARNING - The use of Impact.calc_impact_year_set is deprecated.Use Impact.impact_per_year instead.\n",
      "{'mdd_shift': 0.6123078651383602, 'mdd_scale': 1.7052999483466136}\n",
      "2023-03-09 15:12:59,963 - climada.engine.impact - WARNING - The use of Impact().calc() is deprecated. Use ImpactCalc().impact() instead.\n",
      "2023-03-09 15:13:00,002 - climada.hazard.base - WARNING - Impact function id=3 has mdr(0) != 0.The mean damage ratio must thus be computed for all values ofhazard intensity including 0 which can be very time consuming.\n"
     ]
    },
    {
     "name": "stderr",
     "output_type": "stream",
     "text": [
      "/Users/szelie/python_projects/climada_python/climada/engine/calibration_opt.py:87: FutureWarning: iteritems is deprecated and will be removed in a future version. Use .items instead.\n",
      "  for cnt_, year in years_in_common.iteritems():\n",
      "/Users/szelie/miniconda3/envs/climada_env/lib/python3.8/site-packages/scipy/optimize/_hessian_update_strategy.py:182: UserWarning: delta_grad == 0.0. Check if the approximated function is linear. If the function is linear better results can be obtained by defining the Hessian as zero instead of using quasi-Newton approximations.\n",
      "  warn('delta_grad == 0.0. Check if the approximated '\n"
     ]
    },
    {
     "name": "stdout",
     "output_type": "stream",
     "text": [
      "2023-03-09 15:13:00,257 - climada.engine.impact - WARNING - The use of Impact.calc_impact_year_set is deprecated.Use Impact.impact_per_year instead.\n",
      "{'mdd_shift': 0.6123078800395214, 'mdd_scale': 1.7052999483466136}\n",
      "2023-03-09 15:13:00,264 - climada.engine.impact - WARNING - The use of Impact().calc() is deprecated. Use ImpactCalc().impact() instead.\n",
      "2023-03-09 15:13:00,301 - climada.hazard.base - WARNING - Impact function id=3 has mdr(0) != 0.The mean damage ratio must thus be computed for all values ofhazard intensity including 0 which can be very time consuming.\n"
     ]
    },
    {
     "name": "stderr",
     "output_type": "stream",
     "text": [
      "/Users/szelie/python_projects/climada_python/climada/engine/calibration_opt.py:87: FutureWarning: iteritems is deprecated and will be removed in a future version. Use .items instead.\n",
      "  for cnt_, year in years_in_common.iteritems():\n"
     ]
    },
    {
     "name": "stdout",
     "output_type": "stream",
     "text": [
      "2023-03-09 15:13:00,544 - climada.engine.impact - WARNING - The use of Impact.calc_impact_year_set is deprecated.Use Impact.impact_per_year instead.\n",
      "{'mdd_shift': 0.6123078651383602, 'mdd_scale': 1.705299973757563}\n",
      "2023-03-09 15:13:00,551 - climada.engine.impact - WARNING - The use of Impact().calc() is deprecated. Use ImpactCalc().impact() instead.\n",
      "2023-03-09 15:13:00,589 - climada.hazard.base - WARNING - Impact function id=3 has mdr(0) != 0.The mean damage ratio must thus be computed for all values ofhazard intensity including 0 which can be very time consuming.\n"
     ]
    },
    {
     "name": "stderr",
     "output_type": "stream",
     "text": [
      "/Users/szelie/python_projects/climada_python/climada/engine/calibration_opt.py:87: FutureWarning: iteritems is deprecated and will be removed in a future version. Use .items instead.\n",
      "  for cnt_, year in years_in_common.iteritems():\n"
     ]
    },
    {
     "name": "stdout",
     "output_type": "stream",
     "text": [
      "2023-03-09 15:13:00,835 - climada.engine.impact - WARNING - The use of Impact.calc_impact_year_set is deprecated.Use Impact.impact_per_year instead.\n",
      "{'mdd_shift': 0.6123088209357558, 'mdd_scale': 1.7053012053998657}\n",
      "2023-03-09 15:13:00,847 - climada.engine.impact - WARNING - The use of Impact().calc() is deprecated. Use ImpactCalc().impact() instead.\n",
      "2023-03-09 15:13:00,886 - climada.hazard.base - WARNING - Impact function id=3 has mdr(0) != 0.The mean damage ratio must thus be computed for all values ofhazard intensity including 0 which can be very time consuming.\n"
     ]
    },
    {
     "name": "stderr",
     "output_type": "stream",
     "text": [
      "/Users/szelie/python_projects/climada_python/climada/engine/calibration_opt.py:87: FutureWarning: iteritems is deprecated and will be removed in a future version. Use .items instead.\n",
      "  for cnt_, year in years_in_common.iteritems():\n",
      "/Users/szelie/miniconda3/envs/climada_env/lib/python3.8/site-packages/scipy/optimize/_hessian_update_strategy.py:182: UserWarning: delta_grad == 0.0. Check if the approximated function is linear. If the function is linear better results can be obtained by defining the Hessian as zero instead of using quasi-Newton approximations.\n",
      "  warn('delta_grad == 0.0. Check if the approximated '\n"
     ]
    },
    {
     "name": "stdout",
     "output_type": "stream",
     "text": [
      "2023-03-09 15:13:01,140 - climada.engine.impact - WARNING - The use of Impact.calc_impact_year_set is deprecated.Use Impact.impact_per_year instead.\n",
      "{'mdd_shift': 0.612308835836917, 'mdd_scale': 1.7053012053998657}\n",
      "2023-03-09 15:13:01,146 - climada.engine.impact - WARNING - The use of Impact().calc() is deprecated. Use ImpactCalc().impact() instead.\n",
      "2023-03-09 15:13:01,184 - climada.hazard.base - WARNING - Impact function id=3 has mdr(0) != 0.The mean damage ratio must thus be computed for all values ofhazard intensity including 0 which can be very time consuming.\n"
     ]
    },
    {
     "name": "stderr",
     "output_type": "stream",
     "text": [
      "/Users/szelie/python_projects/climada_python/climada/engine/calibration_opt.py:87: FutureWarning: iteritems is deprecated and will be removed in a future version. Use .items instead.\n",
      "  for cnt_, year in years_in_common.iteritems():\n"
     ]
    },
    {
     "name": "stdout",
     "output_type": "stream",
     "text": [
      "2023-03-09 15:13:01,429 - climada.engine.impact - WARNING - The use of Impact.calc_impact_year_set is deprecated.Use Impact.impact_per_year instead.\n",
      "{'mdd_shift': 0.6123088209357558, 'mdd_scale': 1.705301230810834}\n",
      "2023-03-09 15:13:01,435 - climada.engine.impact - WARNING - The use of Impact().calc() is deprecated. Use ImpactCalc().impact() instead.\n",
      "2023-03-09 15:13:01,474 - climada.hazard.base - WARNING - Impact function id=3 has mdr(0) != 0.The mean damage ratio must thus be computed for all values ofhazard intensity including 0 which can be very time consuming.\n"
     ]
    },
    {
     "name": "stderr",
     "output_type": "stream",
     "text": [
      "/Users/szelie/python_projects/climada_python/climada/engine/calibration_opt.py:87: FutureWarning: iteritems is deprecated and will be removed in a future version. Use .items instead.\n",
      "  for cnt_, year in years_in_common.iteritems():\n"
     ]
    },
    {
     "name": "stdout",
     "output_type": "stream",
     "text": [
      "2023-03-09 15:13:01,723 - climada.engine.impact - WARNING - The use of Impact.calc_impact_year_set is deprecated.Use Impact.impact_per_year instead.\n",
      "{'mdd_shift': 0.6123088062311912, 'mdd_scale': 1.705301186060599}\n",
      "2023-03-09 15:13:01,735 - climada.engine.impact - WARNING - The use of Impact().calc() is deprecated. Use ImpactCalc().impact() instead.\n",
      "2023-03-09 15:13:01,775 - climada.hazard.base - WARNING - Impact function id=3 has mdr(0) != 0.The mean damage ratio must thus be computed for all values ofhazard intensity including 0 which can be very time consuming.\n"
     ]
    },
    {
     "name": "stderr",
     "output_type": "stream",
     "text": [
      "/Users/szelie/python_projects/climada_python/climada/engine/calibration_opt.py:87: FutureWarning: iteritems is deprecated and will be removed in a future version. Use .items instead.\n",
      "  for cnt_, year in years_in_common.iteritems():\n",
      "/Users/szelie/miniconda3/envs/climada_env/lib/python3.8/site-packages/scipy/optimize/_hessian_update_strategy.py:182: UserWarning: delta_grad == 0.0. Check if the approximated function is linear. If the function is linear better results can be obtained by defining the Hessian as zero instead of using quasi-Newton approximations.\n",
      "  warn('delta_grad == 0.0. Check if the approximated '\n"
     ]
    },
    {
     "name": "stdout",
     "output_type": "stream",
     "text": [
      "2023-03-09 15:13:02,028 - climada.engine.impact - WARNING - The use of Impact.calc_impact_year_set is deprecated.Use Impact.impact_per_year instead.\n",
      "{'mdd_shift': 0.6123088211323524, 'mdd_scale': 1.705301186060599}\n",
      "2023-03-09 15:13:02,035 - climada.engine.impact - WARNING - The use of Impact().calc() is deprecated. Use ImpactCalc().impact() instead.\n",
      "2023-03-09 15:13:02,073 - climada.hazard.base - WARNING - Impact function id=3 has mdr(0) != 0.The mean damage ratio must thus be computed for all values ofhazard intensity including 0 which can be very time consuming.\n"
     ]
    },
    {
     "name": "stderr",
     "output_type": "stream",
     "text": [
      "/Users/szelie/python_projects/climada_python/climada/engine/calibration_opt.py:87: FutureWarning: iteritems is deprecated and will be removed in a future version. Use .items instead.\n",
      "  for cnt_, year in years_in_common.iteritems():\n"
     ]
    },
    {
     "name": "stdout",
     "output_type": "stream",
     "text": [
      "2023-03-09 15:13:02,319 - climada.engine.impact - WARNING - The use of Impact.calc_impact_year_set is deprecated.Use Impact.impact_per_year instead.\n",
      "{'mdd_shift': 0.6123088062311912, 'mdd_scale': 1.7053012114715669}\n",
      "2023-03-09 15:13:02,326 - climada.engine.impact - WARNING - The use of Impact().calc() is deprecated. Use ImpactCalc().impact() instead.\n",
      "2023-03-09 15:13:02,363 - climada.hazard.base - WARNING - Impact function id=3 has mdr(0) != 0.The mean damage ratio must thus be computed for all values ofhazard intensity including 0 which can be very time consuming.\n"
     ]
    },
    {
     "name": "stderr",
     "output_type": "stream",
     "text": [
      "/Users/szelie/python_projects/climada_python/climada/engine/calibration_opt.py:87: FutureWarning: iteritems is deprecated and will be removed in a future version. Use .items instead.\n",
      "  for cnt_, year in years_in_common.iteritems():\n"
     ]
    },
    {
     "name": "stdout",
     "output_type": "stream",
     "text": [
      "2023-03-09 15:13:02,607 - climada.engine.impact - WARNING - The use of Impact.calc_impact_year_set is deprecated.Use Impact.impact_per_year instead.\n",
      "{'mdd_shift': 0.6123088209357558, 'mdd_scale': 1.7053012053998657}\n",
      "2023-03-09 15:13:02,627 - climada.engine.impact - WARNING - The use of Impact().calc() is deprecated. Use ImpactCalc().impact() instead.\n",
      "2023-03-09 15:13:02,666 - climada.hazard.base - WARNING - Impact function id=3 has mdr(0) != 0.The mean damage ratio must thus be computed for all values ofhazard intensity including 0 which can be very time consuming.\n"
     ]
    },
    {
     "name": "stderr",
     "output_type": "stream",
     "text": [
      "/Users/szelie/python_projects/climada_python/climada/engine/calibration_opt.py:87: FutureWarning: iteritems is deprecated and will be removed in a future version. Use .items instead.\n",
      "  for cnt_, year in years_in_common.iteritems():\n",
      "/Users/szelie/miniconda3/envs/climada_env/lib/python3.8/site-packages/scipy/optimize/_hessian_update_strategy.py:182: UserWarning: delta_grad == 0.0. Check if the approximated function is linear. If the function is linear better results can be obtained by defining the Hessian as zero instead of using quasi-Newton approximations.\n",
      "  warn('delta_grad == 0.0. Check if the approximated '\n"
     ]
    },
    {
     "name": "stdout",
     "output_type": "stream",
     "text": [
      "2023-03-09 15:13:02,920 - climada.engine.impact - WARNING - The use of Impact.calc_impact_year_set is deprecated.Use Impact.impact_per_year instead.\n",
      "{'mdd_shift': 0.612308835836917, 'mdd_scale': 1.7053012053998657}\n",
      "2023-03-09 15:13:02,927 - climada.engine.impact - WARNING - The use of Impact().calc() is deprecated. Use ImpactCalc().impact() instead.\n",
      "2023-03-09 15:13:02,964 - climada.hazard.base - WARNING - Impact function id=3 has mdr(0) != 0.The mean damage ratio must thus be computed for all values ofhazard intensity including 0 which can be very time consuming.\n"
     ]
    },
    {
     "name": "stderr",
     "output_type": "stream",
     "text": [
      "/Users/szelie/python_projects/climada_python/climada/engine/calibration_opt.py:87: FutureWarning: iteritems is deprecated and will be removed in a future version. Use .items instead.\n",
      "  for cnt_, year in years_in_common.iteritems():\n"
     ]
    },
    {
     "name": "stdout",
     "output_type": "stream",
     "text": [
      "2023-03-09 15:13:03,209 - climada.engine.impact - WARNING - The use of Impact.calc_impact_year_set is deprecated.Use Impact.impact_per_year instead.\n",
      "{'mdd_shift': 0.6123088209357558, 'mdd_scale': 1.705301230810834}\n",
      "2023-03-09 15:13:03,216 - climada.engine.impact - WARNING - The use of Impact().calc() is deprecated. Use ImpactCalc().impact() instead.\n",
      "2023-03-09 15:13:03,253 - climada.hazard.base - WARNING - Impact function id=3 has mdr(0) != 0.The mean damage ratio must thus be computed for all values ofhazard intensity including 0 which can be very time consuming.\n"
     ]
    },
    {
     "name": "stderr",
     "output_type": "stream",
     "text": [
      "/Users/szelie/python_projects/climada_python/climada/engine/calibration_opt.py:87: FutureWarning: iteritems is deprecated and will be removed in a future version. Use .items instead.\n",
      "  for cnt_, year in years_in_common.iteritems():\n"
     ]
    },
    {
     "name": "stdout",
     "output_type": "stream",
     "text": [
      "2023-03-09 15:13:03,497 - climada.engine.impact - WARNING - The use of Impact.calc_impact_year_set is deprecated.Use Impact.impact_per_year instead.\n",
      "{'mdd_shift': 0.6123088062311912, 'mdd_scale': 1.705301186060599}\n",
      "2023-03-09 15:13:03,509 - climada.engine.impact - WARNING - The use of Impact().calc() is deprecated. Use ImpactCalc().impact() instead.\n",
      "2023-03-09 15:13:03,549 - climada.hazard.base - WARNING - Impact function id=3 has mdr(0) != 0.The mean damage ratio must thus be computed for all values ofhazard intensity including 0 which can be very time consuming.\n"
     ]
    },
    {
     "name": "stderr",
     "output_type": "stream",
     "text": [
      "/Users/szelie/python_projects/climada_python/climada/engine/calibration_opt.py:87: FutureWarning: iteritems is deprecated and will be removed in a future version. Use .items instead.\n",
      "  for cnt_, year in years_in_common.iteritems():\n",
      "/Users/szelie/miniconda3/envs/climada_env/lib/python3.8/site-packages/scipy/optimize/_hessian_update_strategy.py:182: UserWarning: delta_grad == 0.0. Check if the approximated function is linear. If the function is linear better results can be obtained by defining the Hessian as zero instead of using quasi-Newton approximations.\n",
      "  warn('delta_grad == 0.0. Check if the approximated '\n"
     ]
    },
    {
     "name": "stdout",
     "output_type": "stream",
     "text": [
      "2023-03-09 15:13:03,803 - climada.engine.impact - WARNING - The use of Impact.calc_impact_year_set is deprecated.Use Impact.impact_per_year instead.\n",
      "{'mdd_shift': 0.6123088211323524, 'mdd_scale': 1.705301186060599}\n",
      "2023-03-09 15:13:03,809 - climada.engine.impact - WARNING - The use of Impact().calc() is deprecated. Use ImpactCalc().impact() instead.\n",
      "2023-03-09 15:13:03,846 - climada.hazard.base - WARNING - Impact function id=3 has mdr(0) != 0.The mean damage ratio must thus be computed for all values ofhazard intensity including 0 which can be very time consuming.\n"
     ]
    },
    {
     "name": "stderr",
     "output_type": "stream",
     "text": [
      "/Users/szelie/python_projects/climada_python/climada/engine/calibration_opt.py:87: FutureWarning: iteritems is deprecated and will be removed in a future version. Use .items instead.\n",
      "  for cnt_, year in years_in_common.iteritems():\n"
     ]
    },
    {
     "name": "stdout",
     "output_type": "stream",
     "text": [
      "2023-03-09 15:13:04,093 - climada.engine.impact - WARNING - The use of Impact.calc_impact_year_set is deprecated.Use Impact.impact_per_year instead.\n",
      "{'mdd_shift': 0.6123088062311912, 'mdd_scale': 1.7053012114715669}\n",
      "2023-03-09 15:13:04,100 - climada.engine.impact - WARNING - The use of Impact().calc() is deprecated. Use ImpactCalc().impact() instead.\n",
      "2023-03-09 15:13:04,138 - climada.hazard.base - WARNING - Impact function id=3 has mdr(0) != 0.The mean damage ratio must thus be computed for all values ofhazard intensity including 0 which can be very time consuming.\n"
     ]
    },
    {
     "name": "stderr",
     "output_type": "stream",
     "text": [
      "/Users/szelie/python_projects/climada_python/climada/engine/calibration_opt.py:87: FutureWarning: iteritems is deprecated and will be removed in a future version. Use .items instead.\n",
      "  for cnt_, year in years_in_common.iteritems():\n"
     ]
    },
    {
     "name": "stdout",
     "output_type": "stream",
     "text": [
      "2023-03-09 15:13:04,383 - climada.engine.impact - WARNING - The use of Impact.calc_impact_year_set is deprecated.Use Impact.impact_per_year instead.\n",
      "{'mdd_shift': 0.6123088209357558, 'mdd_scale': 1.7053012053998657}\n",
      "2023-03-09 15:13:04,401 - climada.engine.impact - WARNING - The use of Impact().calc() is deprecated. Use ImpactCalc().impact() instead.\n",
      "2023-03-09 15:13:04,439 - climada.hazard.base - WARNING - Impact function id=3 has mdr(0) != 0.The mean damage ratio must thus be computed for all values ofhazard intensity including 0 which can be very time consuming.\n"
     ]
    },
    {
     "name": "stderr",
     "output_type": "stream",
     "text": [
      "/Users/szelie/python_projects/climada_python/climada/engine/calibration_opt.py:87: FutureWarning: iteritems is deprecated and will be removed in a future version. Use .items instead.\n",
      "  for cnt_, year in years_in_common.iteritems():\n",
      "/Users/szelie/miniconda3/envs/climada_env/lib/python3.8/site-packages/scipy/optimize/_hessian_update_strategy.py:182: UserWarning: delta_grad == 0.0. Check if the approximated function is linear. If the function is linear better results can be obtained by defining the Hessian as zero instead of using quasi-Newton approximations.\n",
      "  warn('delta_grad == 0.0. Check if the approximated '\n"
     ]
    },
    {
     "name": "stdout",
     "output_type": "stream",
     "text": [
      "2023-03-09 15:13:04,692 - climada.engine.impact - WARNING - The use of Impact.calc_impact_year_set is deprecated.Use Impact.impact_per_year instead.\n",
      "{'mdd_shift': 0.612308835836917, 'mdd_scale': 1.7053012053998657}\n",
      "2023-03-09 15:13:04,699 - climada.engine.impact - WARNING - The use of Impact().calc() is deprecated. Use ImpactCalc().impact() instead.\n",
      "2023-03-09 15:13:04,737 - climada.hazard.base - WARNING - Impact function id=3 has mdr(0) != 0.The mean damage ratio must thus be computed for all values ofhazard intensity including 0 which can be very time consuming.\n"
     ]
    },
    {
     "name": "stderr",
     "output_type": "stream",
     "text": [
      "/Users/szelie/python_projects/climada_python/climada/engine/calibration_opt.py:87: FutureWarning: iteritems is deprecated and will be removed in a future version. Use .items instead.\n",
      "  for cnt_, year in years_in_common.iteritems():\n"
     ]
    },
    {
     "name": "stdout",
     "output_type": "stream",
     "text": [
      "2023-03-09 15:13:04,980 - climada.engine.impact - WARNING - The use of Impact.calc_impact_year_set is deprecated.Use Impact.impact_per_year instead.\n",
      "{'mdd_shift': 0.6123088209357558, 'mdd_scale': 1.705301230810834}\n",
      "2023-03-09 15:13:04,987 - climada.engine.impact - WARNING - The use of Impact().calc() is deprecated. Use ImpactCalc().impact() instead.\n",
      "2023-03-09 15:13:05,025 - climada.hazard.base - WARNING - Impact function id=3 has mdr(0) != 0.The mean damage ratio must thus be computed for all values ofhazard intensity including 0 which can be very time consuming.\n"
     ]
    },
    {
     "name": "stderr",
     "output_type": "stream",
     "text": [
      "/Users/szelie/python_projects/climada_python/climada/engine/calibration_opt.py:87: FutureWarning: iteritems is deprecated and will be removed in a future version. Use .items instead.\n",
      "  for cnt_, year in years_in_common.iteritems():\n"
     ]
    },
    {
     "name": "stdout",
     "output_type": "stream",
     "text": [
      "2023-03-09 15:13:05,271 - climada.engine.impact - WARNING - The use of Impact.calc_impact_year_set is deprecated.Use Impact.impact_per_year instead.\n",
      "{'mdd_shift': 0.6123088062311912, 'mdd_scale': 1.705301186060599}\n",
      "2023-03-09 15:13:05,282 - climada.engine.impact - WARNING - The use of Impact().calc() is deprecated. Use ImpactCalc().impact() instead.\n",
      "2023-03-09 15:13:05,321 - climada.hazard.base - WARNING - Impact function id=3 has mdr(0) != 0.The mean damage ratio must thus be computed for all values ofhazard intensity including 0 which can be very time consuming.\n"
     ]
    },
    {
     "name": "stderr",
     "output_type": "stream",
     "text": [
      "/Users/szelie/python_projects/climada_python/climada/engine/calibration_opt.py:87: FutureWarning: iteritems is deprecated and will be removed in a future version. Use .items instead.\n",
      "  for cnt_, year in years_in_common.iteritems():\n",
      "/Users/szelie/miniconda3/envs/climada_env/lib/python3.8/site-packages/scipy/optimize/_hessian_update_strategy.py:182: UserWarning: delta_grad == 0.0. Check if the approximated function is linear. If the function is linear better results can be obtained by defining the Hessian as zero instead of using quasi-Newton approximations.\n",
      "  warn('delta_grad == 0.0. Check if the approximated '\n"
     ]
    },
    {
     "name": "stdout",
     "output_type": "stream",
     "text": [
      "2023-03-09 15:13:05,575 - climada.engine.impact - WARNING - The use of Impact.calc_impact_year_set is deprecated.Use Impact.impact_per_year instead.\n",
      "{'mdd_shift': 0.6123088211323524, 'mdd_scale': 1.705301186060599}\n",
      "2023-03-09 15:13:05,581 - climada.engine.impact - WARNING - The use of Impact().calc() is deprecated. Use ImpactCalc().impact() instead.\n",
      "2023-03-09 15:13:05,619 - climada.hazard.base - WARNING - Impact function id=3 has mdr(0) != 0.The mean damage ratio must thus be computed for all values ofhazard intensity including 0 which can be very time consuming.\n"
     ]
    },
    {
     "name": "stderr",
     "output_type": "stream",
     "text": [
      "/Users/szelie/python_projects/climada_python/climada/engine/calibration_opt.py:87: FutureWarning: iteritems is deprecated and will be removed in a future version. Use .items instead.\n",
      "  for cnt_, year in years_in_common.iteritems():\n"
     ]
    },
    {
     "name": "stdout",
     "output_type": "stream",
     "text": [
      "2023-03-09 15:13:05,864 - climada.engine.impact - WARNING - The use of Impact.calc_impact_year_set is deprecated.Use Impact.impact_per_year instead.\n",
      "{'mdd_shift': 0.6123088062311912, 'mdd_scale': 1.7053012114715669}\n",
      "2023-03-09 15:13:05,870 - climada.engine.impact - WARNING - The use of Impact().calc() is deprecated. Use ImpactCalc().impact() instead.\n",
      "2023-03-09 15:13:05,909 - climada.hazard.base - WARNING - Impact function id=3 has mdr(0) != 0.The mean damage ratio must thus be computed for all values ofhazard intensity including 0 which can be very time consuming.\n"
     ]
    },
    {
     "name": "stderr",
     "output_type": "stream",
     "text": [
      "/Users/szelie/python_projects/climada_python/climada/engine/calibration_opt.py:87: FutureWarning: iteritems is deprecated and will be removed in a future version. Use .items instead.\n",
      "  for cnt_, year in years_in_common.iteritems():\n"
     ]
    },
    {
     "name": "stdout",
     "output_type": "stream",
     "text": [
      "2023-03-09 15:13:06,154 - climada.engine.impact - WARNING - The use of Impact.calc_impact_year_set is deprecated.Use Impact.impact_per_year instead.\n",
      "{'mdd_shift': 0.6123088209357558, 'mdd_scale': 1.7053012053998657}\n",
      "2023-03-09 15:13:06,171 - climada.engine.impact - WARNING - The use of Impact().calc() is deprecated. Use ImpactCalc().impact() instead.\n",
      "2023-03-09 15:13:06,211 - climada.hazard.base - WARNING - Impact function id=3 has mdr(0) != 0.The mean damage ratio must thus be computed for all values ofhazard intensity including 0 which can be very time consuming.\n"
     ]
    },
    {
     "name": "stderr",
     "output_type": "stream",
     "text": [
      "/Users/szelie/python_projects/climada_python/climada/engine/calibration_opt.py:87: FutureWarning: iteritems is deprecated and will be removed in a future version. Use .items instead.\n",
      "  for cnt_, year in years_in_common.iteritems():\n",
      "/Users/szelie/miniconda3/envs/climada_env/lib/python3.8/site-packages/scipy/optimize/_hessian_update_strategy.py:182: UserWarning: delta_grad == 0.0. Check if the approximated function is linear. If the function is linear better results can be obtained by defining the Hessian as zero instead of using quasi-Newton approximations.\n",
      "  warn('delta_grad == 0.0. Check if the approximated '\n"
     ]
    },
    {
     "name": "stdout",
     "output_type": "stream",
     "text": [
      "2023-03-09 15:13:06,464 - climada.engine.impact - WARNING - The use of Impact.calc_impact_year_set is deprecated.Use Impact.impact_per_year instead.\n",
      "{'mdd_shift': 0.612308835836917, 'mdd_scale': 1.7053012053998657}\n",
      "2023-03-09 15:13:06,471 - climada.engine.impact - WARNING - The use of Impact().calc() is deprecated. Use ImpactCalc().impact() instead.\n",
      "2023-03-09 15:13:06,509 - climada.hazard.base - WARNING - Impact function id=3 has mdr(0) != 0.The mean damage ratio must thus be computed for all values ofhazard intensity including 0 which can be very time consuming.\n"
     ]
    },
    {
     "name": "stderr",
     "output_type": "stream",
     "text": [
      "/Users/szelie/python_projects/climada_python/climada/engine/calibration_opt.py:87: FutureWarning: iteritems is deprecated and will be removed in a future version. Use .items instead.\n",
      "  for cnt_, year in years_in_common.iteritems():\n"
     ]
    },
    {
     "name": "stdout",
     "output_type": "stream",
     "text": [
      "2023-03-09 15:13:06,753 - climada.engine.impact - WARNING - The use of Impact.calc_impact_year_set is deprecated.Use Impact.impact_per_year instead.\n",
      "{'mdd_shift': 0.6123088209357558, 'mdd_scale': 1.705301230810834}\n",
      "2023-03-09 15:13:06,760 - climada.engine.impact - WARNING - The use of Impact().calc() is deprecated. Use ImpactCalc().impact() instead.\n",
      "2023-03-09 15:13:06,797 - climada.hazard.base - WARNING - Impact function id=3 has mdr(0) != 0.The mean damage ratio must thus be computed for all values ofhazard intensity including 0 which can be very time consuming.\n"
     ]
    },
    {
     "name": "stderr",
     "output_type": "stream",
     "text": [
      "/Users/szelie/python_projects/climada_python/climada/engine/calibration_opt.py:87: FutureWarning: iteritems is deprecated and will be removed in a future version. Use .items instead.\n",
      "  for cnt_, year in years_in_common.iteritems():\n"
     ]
    },
    {
     "name": "stdout",
     "output_type": "stream",
     "text": [
      "2023-03-09 15:13:07,042 - climada.engine.impact - WARNING - The use of Impact.calc_impact_year_set is deprecated.Use Impact.impact_per_year instead.\n",
      "{'mdd_shift': 0.6123088062311912, 'mdd_scale': 1.705301186060599}\n",
      "2023-03-09 15:13:07,054 - climada.engine.impact - WARNING - The use of Impact().calc() is deprecated. Use ImpactCalc().impact() instead.\n",
      "2023-03-09 15:13:07,093 - climada.hazard.base - WARNING - Impact function id=3 has mdr(0) != 0.The mean damage ratio must thus be computed for all values ofhazard intensity including 0 which can be very time consuming.\n"
     ]
    },
    {
     "name": "stderr",
     "output_type": "stream",
     "text": [
      "/Users/szelie/python_projects/climada_python/climada/engine/calibration_opt.py:87: FutureWarning: iteritems is deprecated and will be removed in a future version. Use .items instead.\n",
      "  for cnt_, year in years_in_common.iteritems():\n",
      "/Users/szelie/miniconda3/envs/climada_env/lib/python3.8/site-packages/scipy/optimize/_hessian_update_strategy.py:182: UserWarning: delta_grad == 0.0. Check if the approximated function is linear. If the function is linear better results can be obtained by defining the Hessian as zero instead of using quasi-Newton approximations.\n",
      "  warn('delta_grad == 0.0. Check if the approximated '\n"
     ]
    },
    {
     "name": "stdout",
     "output_type": "stream",
     "text": [
      "2023-03-09 15:13:07,346 - climada.engine.impact - WARNING - The use of Impact.calc_impact_year_set is deprecated.Use Impact.impact_per_year instead.\n",
      "{'mdd_shift': 0.6123088211323524, 'mdd_scale': 1.705301186060599}\n",
      "2023-03-09 15:13:07,353 - climada.engine.impact - WARNING - The use of Impact().calc() is deprecated. Use ImpactCalc().impact() instead.\n",
      "2023-03-09 15:13:07,391 - climada.hazard.base - WARNING - Impact function id=3 has mdr(0) != 0.The mean damage ratio must thus be computed for all values ofhazard intensity including 0 which can be very time consuming.\n"
     ]
    },
    {
     "name": "stderr",
     "output_type": "stream",
     "text": [
      "/Users/szelie/python_projects/climada_python/climada/engine/calibration_opt.py:87: FutureWarning: iteritems is deprecated and will be removed in a future version. Use .items instead.\n",
      "  for cnt_, year in years_in_common.iteritems():\n"
     ]
    },
    {
     "name": "stdout",
     "output_type": "stream",
     "text": [
      "2023-03-09 15:13:07,636 - climada.engine.impact - WARNING - The use of Impact.calc_impact_year_set is deprecated.Use Impact.impact_per_year instead.\n",
      "{'mdd_shift': 0.6123088062311912, 'mdd_scale': 1.7053012114715669}\n",
      "2023-03-09 15:13:07,643 - climada.engine.impact - WARNING - The use of Impact().calc() is deprecated. Use ImpactCalc().impact() instead.\n",
      "2023-03-09 15:13:07,681 - climada.hazard.base - WARNING - Impact function id=3 has mdr(0) != 0.The mean damage ratio must thus be computed for all values ofhazard intensity including 0 which can be very time consuming.\n"
     ]
    },
    {
     "name": "stderr",
     "output_type": "stream",
     "text": [
      "/Users/szelie/python_projects/climada_python/climada/engine/calibration_opt.py:87: FutureWarning: iteritems is deprecated and will be removed in a future version. Use .items instead.\n",
      "  for cnt_, year in years_in_common.iteritems():\n"
     ]
    },
    {
     "name": "stdout",
     "output_type": "stream",
     "text": [
      "2023-03-09 15:13:07,927 - climada.engine.impact - WARNING - The use of Impact.calc_impact_year_set is deprecated.Use Impact.impact_per_year instead.\n",
      "{'mdd_shift': 0.6123088209357558, 'mdd_scale': 1.7053012053998657}\n",
      "2023-03-09 15:13:07,949 - climada.engine.impact - WARNING - The use of Impact().calc() is deprecated. Use ImpactCalc().impact() instead.\n",
      "2023-03-09 15:13:07,988 - climada.hazard.base - WARNING - Impact function id=3 has mdr(0) != 0.The mean damage ratio must thus be computed for all values ofhazard intensity including 0 which can be very time consuming.\n"
     ]
    },
    {
     "name": "stderr",
     "output_type": "stream",
     "text": [
      "/Users/szelie/python_projects/climada_python/climada/engine/calibration_opt.py:87: FutureWarning: iteritems is deprecated and will be removed in a future version. Use .items instead.\n",
      "  for cnt_, year in years_in_common.iteritems():\n",
      "/Users/szelie/miniconda3/envs/climada_env/lib/python3.8/site-packages/scipy/optimize/_hessian_update_strategy.py:182: UserWarning: delta_grad == 0.0. Check if the approximated function is linear. If the function is linear better results can be obtained by defining the Hessian as zero instead of using quasi-Newton approximations.\n",
      "  warn('delta_grad == 0.0. Check if the approximated '\n"
     ]
    },
    {
     "name": "stdout",
     "output_type": "stream",
     "text": [
      "2023-03-09 15:13:08,246 - climada.engine.impact - WARNING - The use of Impact.calc_impact_year_set is deprecated.Use Impact.impact_per_year instead.\n",
      "{'mdd_shift': 0.612308835836917, 'mdd_scale': 1.7053012053998657}\n",
      "2023-03-09 15:13:08,253 - climada.engine.impact - WARNING - The use of Impact().calc() is deprecated. Use ImpactCalc().impact() instead.\n",
      "2023-03-09 15:13:08,291 - climada.hazard.base - WARNING - Impact function id=3 has mdr(0) != 0.The mean damage ratio must thus be computed for all values ofhazard intensity including 0 which can be very time consuming.\n"
     ]
    },
    {
     "name": "stderr",
     "output_type": "stream",
     "text": [
      "/Users/szelie/python_projects/climada_python/climada/engine/calibration_opt.py:87: FutureWarning: iteritems is deprecated and will be removed in a future version. Use .items instead.\n",
      "  for cnt_, year in years_in_common.iteritems():\n"
     ]
    },
    {
     "name": "stdout",
     "output_type": "stream",
     "text": [
      "2023-03-09 15:13:08,536 - climada.engine.impact - WARNING - The use of Impact.calc_impact_year_set is deprecated.Use Impact.impact_per_year instead.\n",
      "{'mdd_shift': 0.6123088209357558, 'mdd_scale': 1.705301230810834}\n",
      "2023-03-09 15:13:08,543 - climada.engine.impact - WARNING - The use of Impact().calc() is deprecated. Use ImpactCalc().impact() instead.\n",
      "2023-03-09 15:13:08,581 - climada.hazard.base - WARNING - Impact function id=3 has mdr(0) != 0.The mean damage ratio must thus be computed for all values ofhazard intensity including 0 which can be very time consuming.\n"
     ]
    },
    {
     "name": "stderr",
     "output_type": "stream",
     "text": [
      "/Users/szelie/python_projects/climada_python/climada/engine/calibration_opt.py:87: FutureWarning: iteritems is deprecated and will be removed in a future version. Use .items instead.\n",
      "  for cnt_, year in years_in_common.iteritems():\n"
     ]
    },
    {
     "name": "stdout",
     "output_type": "stream",
     "text": [
      "2023-03-09 15:13:08,825 - climada.engine.impact - WARNING - The use of Impact.calc_impact_year_set is deprecated.Use Impact.impact_per_year instead.\n",
      "{'mdd_shift': 0.6123088062311912, 'mdd_scale': 1.705301186060599}\n",
      "2023-03-09 15:13:08,838 - climada.engine.impact - WARNING - The use of Impact().calc() is deprecated. Use ImpactCalc().impact() instead.\n",
      "2023-03-09 15:13:08,877 - climada.hazard.base - WARNING - Impact function id=3 has mdr(0) != 0.The mean damage ratio must thus be computed for all values ofhazard intensity including 0 which can be very time consuming.\n"
     ]
    },
    {
     "name": "stderr",
     "output_type": "stream",
     "text": [
      "/Users/szelie/python_projects/climada_python/climada/engine/calibration_opt.py:87: FutureWarning: iteritems is deprecated and will be removed in a future version. Use .items instead.\n",
      "  for cnt_, year in years_in_common.iteritems():\n",
      "/Users/szelie/miniconda3/envs/climada_env/lib/python3.8/site-packages/scipy/optimize/_hessian_update_strategy.py:182: UserWarning: delta_grad == 0.0. Check if the approximated function is linear. If the function is linear better results can be obtained by defining the Hessian as zero instead of using quasi-Newton approximations.\n",
      "  warn('delta_grad == 0.0. Check if the approximated '\n"
     ]
    },
    {
     "name": "stdout",
     "output_type": "stream",
     "text": [
      "2023-03-09 15:13:09,132 - climada.engine.impact - WARNING - The use of Impact.calc_impact_year_set is deprecated.Use Impact.impact_per_year instead.\n",
      "{'mdd_shift': 0.6123088211323524, 'mdd_scale': 1.705301186060599}\n",
      "2023-03-09 15:13:09,139 - climada.engine.impact - WARNING - The use of Impact().calc() is deprecated. Use ImpactCalc().impact() instead.\n",
      "2023-03-09 15:13:09,176 - climada.hazard.base - WARNING - Impact function id=3 has mdr(0) != 0.The mean damage ratio must thus be computed for all values ofhazard intensity including 0 which can be very time consuming.\n"
     ]
    },
    {
     "name": "stderr",
     "output_type": "stream",
     "text": [
      "/Users/szelie/python_projects/climada_python/climada/engine/calibration_opt.py:87: FutureWarning: iteritems is deprecated and will be removed in a future version. Use .items instead.\n",
      "  for cnt_, year in years_in_common.iteritems():\n"
     ]
    },
    {
     "name": "stdout",
     "output_type": "stream",
     "text": [
      "2023-03-09 15:13:09,420 - climada.engine.impact - WARNING - The use of Impact.calc_impact_year_set is deprecated.Use Impact.impact_per_year instead.\n",
      "{'mdd_shift': 0.6123088062311912, 'mdd_scale': 1.7053012114715669}\n",
      "2023-03-09 15:13:09,427 - climada.engine.impact - WARNING - The use of Impact().calc() is deprecated. Use ImpactCalc().impact() instead.\n",
      "2023-03-09 15:13:09,465 - climada.hazard.base - WARNING - Impact function id=3 has mdr(0) != 0.The mean damage ratio must thus be computed for all values ofhazard intensity including 0 which can be very time consuming.\n"
     ]
    },
    {
     "name": "stderr",
     "output_type": "stream",
     "text": [
      "/Users/szelie/python_projects/climada_python/climada/engine/calibration_opt.py:87: FutureWarning: iteritems is deprecated and will be removed in a future version. Use .items instead.\n",
      "  for cnt_, year in years_in_common.iteritems():\n"
     ]
    },
    {
     "name": "stdout",
     "output_type": "stream",
     "text": [
      "2023-03-09 15:13:09,710 - climada.engine.impact - WARNING - The use of Impact.calc_impact_year_set is deprecated.Use Impact.impact_per_year instead.\n",
      "{'mdd_shift': 0.6123088209357558, 'mdd_scale': 1.7053012053998657}\n",
      "2023-03-09 15:13:09,730 - climada.engine.impact - WARNING - The use of Impact().calc() is deprecated. Use ImpactCalc().impact() instead.\n",
      "2023-03-09 15:13:09,768 - climada.hazard.base - WARNING - Impact function id=3 has mdr(0) != 0.The mean damage ratio must thus be computed for all values ofhazard intensity including 0 which can be very time consuming.\n"
     ]
    },
    {
     "name": "stderr",
     "output_type": "stream",
     "text": [
      "/Users/szelie/python_projects/climada_python/climada/engine/calibration_opt.py:87: FutureWarning: iteritems is deprecated and will be removed in a future version. Use .items instead.\n",
      "  for cnt_, year in years_in_common.iteritems():\n",
      "/Users/szelie/miniconda3/envs/climada_env/lib/python3.8/site-packages/scipy/optimize/_hessian_update_strategy.py:182: UserWarning: delta_grad == 0.0. Check if the approximated function is linear. If the function is linear better results can be obtained by defining the Hessian as zero instead of using quasi-Newton approximations.\n",
      "  warn('delta_grad == 0.0. Check if the approximated '\n"
     ]
    },
    {
     "name": "stdout",
     "output_type": "stream",
     "text": [
      "2023-03-09 15:13:10,022 - climada.engine.impact - WARNING - The use of Impact.calc_impact_year_set is deprecated.Use Impact.impact_per_year instead.\n",
      "{'mdd_shift': 0.612308835836917, 'mdd_scale': 1.7053012053998657}\n",
      "2023-03-09 15:13:10,029 - climada.engine.impact - WARNING - The use of Impact().calc() is deprecated. Use ImpactCalc().impact() instead.\n",
      "2023-03-09 15:13:10,066 - climada.hazard.base - WARNING - Impact function id=3 has mdr(0) != 0.The mean damage ratio must thus be computed for all values ofhazard intensity including 0 which can be very time consuming.\n"
     ]
    },
    {
     "name": "stderr",
     "output_type": "stream",
     "text": [
      "/Users/szelie/python_projects/climada_python/climada/engine/calibration_opt.py:87: FutureWarning: iteritems is deprecated and will be removed in a future version. Use .items instead.\n",
      "  for cnt_, year in years_in_common.iteritems():\n"
     ]
    },
    {
     "name": "stdout",
     "output_type": "stream",
     "text": [
      "2023-03-09 15:13:10,310 - climada.engine.impact - WARNING - The use of Impact.calc_impact_year_set is deprecated.Use Impact.impact_per_year instead.\n",
      "{'mdd_shift': 0.6123088209357558, 'mdd_scale': 1.705301230810834}\n",
      "2023-03-09 15:13:10,317 - climada.engine.impact - WARNING - The use of Impact().calc() is deprecated. Use ImpactCalc().impact() instead.\n",
      "2023-03-09 15:13:10,354 - climada.hazard.base - WARNING - Impact function id=3 has mdr(0) != 0.The mean damage ratio must thus be computed for all values ofhazard intensity including 0 which can be very time consuming.\n"
     ]
    },
    {
     "name": "stderr",
     "output_type": "stream",
     "text": [
      "/Users/szelie/python_projects/climada_python/climada/engine/calibration_opt.py:87: FutureWarning: iteritems is deprecated and will be removed in a future version. Use .items instead.\n",
      "  for cnt_, year in years_in_common.iteritems():\n"
     ]
    },
    {
     "name": "stdout",
     "output_type": "stream",
     "text": [
      "2023-03-09 15:13:10,600 - climada.engine.impact - WARNING - The use of Impact.calc_impact_year_set is deprecated.Use Impact.impact_per_year instead.\n",
      "{'mdd_shift': 0.6123088062311912, 'mdd_scale': 1.705301186060599}\n",
      "2023-03-09 15:13:10,612 - climada.engine.impact - WARNING - The use of Impact().calc() is deprecated. Use ImpactCalc().impact() instead.\n",
      "2023-03-09 15:13:10,652 - climada.hazard.base - WARNING - Impact function id=3 has mdr(0) != 0.The mean damage ratio must thus be computed for all values ofhazard intensity including 0 which can be very time consuming.\n"
     ]
    },
    {
     "name": "stderr",
     "output_type": "stream",
     "text": [
      "/Users/szelie/python_projects/climada_python/climada/engine/calibration_opt.py:87: FutureWarning: iteritems is deprecated and will be removed in a future version. Use .items instead.\n",
      "  for cnt_, year in years_in_common.iteritems():\n",
      "/Users/szelie/miniconda3/envs/climada_env/lib/python3.8/site-packages/scipy/optimize/_hessian_update_strategy.py:182: UserWarning: delta_grad == 0.0. Check if the approximated function is linear. If the function is linear better results can be obtained by defining the Hessian as zero instead of using quasi-Newton approximations.\n",
      "  warn('delta_grad == 0.0. Check if the approximated '\n"
     ]
    },
    {
     "name": "stdout",
     "output_type": "stream",
     "text": [
      "2023-03-09 15:13:10,906 - climada.engine.impact - WARNING - The use of Impact.calc_impact_year_set is deprecated.Use Impact.impact_per_year instead.\n",
      "{'mdd_shift': 0.6123088211323524, 'mdd_scale': 1.705301186060599}\n",
      "2023-03-09 15:13:10,913 - climada.engine.impact - WARNING - The use of Impact().calc() is deprecated. Use ImpactCalc().impact() instead.\n",
      "2023-03-09 15:13:10,950 - climada.hazard.base - WARNING - Impact function id=3 has mdr(0) != 0.The mean damage ratio must thus be computed for all values ofhazard intensity including 0 which can be very time consuming.\n"
     ]
    },
    {
     "name": "stderr",
     "output_type": "stream",
     "text": [
      "/Users/szelie/python_projects/climada_python/climada/engine/calibration_opt.py:87: FutureWarning: iteritems is deprecated and will be removed in a future version. Use .items instead.\n",
      "  for cnt_, year in years_in_common.iteritems():\n"
     ]
    },
    {
     "name": "stdout",
     "output_type": "stream",
     "text": [
      "2023-03-09 15:13:11,194 - climada.engine.impact - WARNING - The use of Impact.calc_impact_year_set is deprecated.Use Impact.impact_per_year instead.\n",
      "{'mdd_shift': 0.6123088062311912, 'mdd_scale': 1.7053012114715669}\n",
      "2023-03-09 15:13:11,200 - climada.engine.impact - WARNING - The use of Impact().calc() is deprecated. Use ImpactCalc().impact() instead.\n",
      "2023-03-09 15:13:11,237 - climada.hazard.base - WARNING - Impact function id=3 has mdr(0) != 0.The mean damage ratio must thus be computed for all values ofhazard intensity including 0 which can be very time consuming.\n"
     ]
    },
    {
     "name": "stderr",
     "output_type": "stream",
     "text": [
      "/Users/szelie/python_projects/climada_python/climada/engine/calibration_opt.py:87: FutureWarning: iteritems is deprecated and will be removed in a future version. Use .items instead.\n",
      "  for cnt_, year in years_in_common.iteritems():\n"
     ]
    },
    {
     "name": "stdout",
     "output_type": "stream",
     "text": [
      "2023-03-09 15:13:11,482 - climada.engine.impact - WARNING - The use of Impact.calc_impact_year_set is deprecated.Use Impact.impact_per_year instead.\n",
      "{'mdd_shift': 0.6123088209357558, 'mdd_scale': 1.7053012053998657}\n",
      "2023-03-09 15:13:11,503 - climada.engine.impact - WARNING - The use of Impact().calc() is deprecated. Use ImpactCalc().impact() instead.\n",
      "2023-03-09 15:13:11,543 - climada.hazard.base - WARNING - Impact function id=3 has mdr(0) != 0.The mean damage ratio must thus be computed for all values ofhazard intensity including 0 which can be very time consuming.\n"
     ]
    },
    {
     "name": "stderr",
     "output_type": "stream",
     "text": [
      "/Users/szelie/python_projects/climada_python/climada/engine/calibration_opt.py:87: FutureWarning: iteritems is deprecated and will be removed in a future version. Use .items instead.\n",
      "  for cnt_, year in years_in_common.iteritems():\n",
      "/Users/szelie/miniconda3/envs/climada_env/lib/python3.8/site-packages/scipy/optimize/_hessian_update_strategy.py:182: UserWarning: delta_grad == 0.0. Check if the approximated function is linear. If the function is linear better results can be obtained by defining the Hessian as zero instead of using quasi-Newton approximations.\n",
      "  warn('delta_grad == 0.0. Check if the approximated '\n"
     ]
    },
    {
     "name": "stdout",
     "output_type": "stream",
     "text": [
      "2023-03-09 15:13:11,795 - climada.engine.impact - WARNING - The use of Impact.calc_impact_year_set is deprecated.Use Impact.impact_per_year instead.\n",
      "{'mdd_shift': 0.612308835836917, 'mdd_scale': 1.7053012053998657}\n",
      "2023-03-09 15:13:11,802 - climada.engine.impact - WARNING - The use of Impact().calc() is deprecated. Use ImpactCalc().impact() instead.\n",
      "2023-03-09 15:13:11,839 - climada.hazard.base - WARNING - Impact function id=3 has mdr(0) != 0.The mean damage ratio must thus be computed for all values ofhazard intensity including 0 which can be very time consuming.\n"
     ]
    },
    {
     "name": "stderr",
     "output_type": "stream",
     "text": [
      "/Users/szelie/python_projects/climada_python/climada/engine/calibration_opt.py:87: FutureWarning: iteritems is deprecated and will be removed in a future version. Use .items instead.\n",
      "  for cnt_, year in years_in_common.iteritems():\n"
     ]
    },
    {
     "name": "stdout",
     "output_type": "stream",
     "text": [
      "2023-03-09 15:13:12,085 - climada.engine.impact - WARNING - The use of Impact.calc_impact_year_set is deprecated.Use Impact.impact_per_year instead.\n",
      "{'mdd_shift': 0.6123088209357558, 'mdd_scale': 1.705301230810834}\n",
      "2023-03-09 15:13:12,091 - climada.engine.impact - WARNING - The use of Impact().calc() is deprecated. Use ImpactCalc().impact() instead.\n",
      "2023-03-09 15:13:12,129 - climada.hazard.base - WARNING - Impact function id=3 has mdr(0) != 0.The mean damage ratio must thus be computed for all values ofhazard intensity including 0 which can be very time consuming.\n"
     ]
    },
    {
     "name": "stderr",
     "output_type": "stream",
     "text": [
      "/Users/szelie/python_projects/climada_python/climada/engine/calibration_opt.py:87: FutureWarning: iteritems is deprecated and will be removed in a future version. Use .items instead.\n",
      "  for cnt_, year in years_in_common.iteritems():\n"
     ]
    },
    {
     "name": "stdout",
     "output_type": "stream",
     "text": [
      "2023-03-09 15:13:12,375 - climada.engine.impact - WARNING - The use of Impact.calc_impact_year_set is deprecated.Use Impact.impact_per_year instead.\n",
      "{'mdd_shift': 0.6123088062311912, 'mdd_scale': 1.705301186060599}\n",
      "2023-03-09 15:13:12,387 - climada.engine.impact - WARNING - The use of Impact().calc() is deprecated. Use ImpactCalc().impact() instead.\n",
      "2023-03-09 15:13:12,426 - climada.hazard.base - WARNING - Impact function id=3 has mdr(0) != 0.The mean damage ratio must thus be computed for all values ofhazard intensity including 0 which can be very time consuming.\n"
     ]
    },
    {
     "name": "stderr",
     "output_type": "stream",
     "text": [
      "/Users/szelie/python_projects/climada_python/climada/engine/calibration_opt.py:87: FutureWarning: iteritems is deprecated and will be removed in a future version. Use .items instead.\n",
      "  for cnt_, year in years_in_common.iteritems():\n",
      "/Users/szelie/miniconda3/envs/climada_env/lib/python3.8/site-packages/scipy/optimize/_hessian_update_strategy.py:182: UserWarning: delta_grad == 0.0. Check if the approximated function is linear. If the function is linear better results can be obtained by defining the Hessian as zero instead of using quasi-Newton approximations.\n",
      "  warn('delta_grad == 0.0. Check if the approximated '\n"
     ]
    },
    {
     "name": "stdout",
     "output_type": "stream",
     "text": [
      "2023-03-09 15:13:12,682 - climada.engine.impact - WARNING - The use of Impact.calc_impact_year_set is deprecated.Use Impact.impact_per_year instead.\n",
      "{'mdd_shift': 0.6123088211323524, 'mdd_scale': 1.705301186060599}\n",
      "2023-03-09 15:13:12,689 - climada.engine.impact - WARNING - The use of Impact().calc() is deprecated. Use ImpactCalc().impact() instead.\n",
      "2023-03-09 15:13:12,726 - climada.hazard.base - WARNING - Impact function id=3 has mdr(0) != 0.The mean damage ratio must thus be computed for all values ofhazard intensity including 0 which can be very time consuming.\n"
     ]
    },
    {
     "name": "stderr",
     "output_type": "stream",
     "text": [
      "/Users/szelie/python_projects/climada_python/climada/engine/calibration_opt.py:87: FutureWarning: iteritems is deprecated and will be removed in a future version. Use .items instead.\n",
      "  for cnt_, year in years_in_common.iteritems():\n"
     ]
    },
    {
     "name": "stdout",
     "output_type": "stream",
     "text": [
      "2023-03-09 15:13:12,972 - climada.engine.impact - WARNING - The use of Impact.calc_impact_year_set is deprecated.Use Impact.impact_per_year instead.\n",
      "{'mdd_shift': 0.6123088062311912, 'mdd_scale': 1.7053012114715669}\n",
      "2023-03-09 15:13:12,979 - climada.engine.impact - WARNING - The use of Impact().calc() is deprecated. Use ImpactCalc().impact() instead.\n",
      "2023-03-09 15:13:13,017 - climada.hazard.base - WARNING - Impact function id=3 has mdr(0) != 0.The mean damage ratio must thus be computed for all values ofhazard intensity including 0 which can be very time consuming.\n"
     ]
    },
    {
     "name": "stderr",
     "output_type": "stream",
     "text": [
      "/Users/szelie/python_projects/climada_python/climada/engine/calibration_opt.py:87: FutureWarning: iteritems is deprecated and will be removed in a future version. Use .items instead.\n",
      "  for cnt_, year in years_in_common.iteritems():\n"
     ]
    },
    {
     "name": "stdout",
     "output_type": "stream",
     "text": [
      "2023-03-09 15:13:13,261 - climada.engine.impact - WARNING - The use of Impact.calc_impact_year_set is deprecated.Use Impact.impact_per_year instead.\n",
      "{'mdd_shift': 0.6123088209357558, 'mdd_scale': 1.7053012053998657}\n",
      "2023-03-09 15:13:13,282 - climada.engine.impact - WARNING - The use of Impact().calc() is deprecated. Use ImpactCalc().impact() instead.\n",
      "2023-03-09 15:13:13,321 - climada.hazard.base - WARNING - Impact function id=3 has mdr(0) != 0.The mean damage ratio must thus be computed for all values ofhazard intensity including 0 which can be very time consuming.\n"
     ]
    },
    {
     "name": "stderr",
     "output_type": "stream",
     "text": [
      "/Users/szelie/python_projects/climada_python/climada/engine/calibration_opt.py:87: FutureWarning: iteritems is deprecated and will be removed in a future version. Use .items instead.\n",
      "  for cnt_, year in years_in_common.iteritems():\n",
      "/Users/szelie/miniconda3/envs/climada_env/lib/python3.8/site-packages/scipy/optimize/_hessian_update_strategy.py:182: UserWarning: delta_grad == 0.0. Check if the approximated function is linear. If the function is linear better results can be obtained by defining the Hessian as zero instead of using quasi-Newton approximations.\n",
      "  warn('delta_grad == 0.0. Check if the approximated '\n"
     ]
    },
    {
     "name": "stdout",
     "output_type": "stream",
     "text": [
      "2023-03-09 15:13:13,574 - climada.engine.impact - WARNING - The use of Impact.calc_impact_year_set is deprecated.Use Impact.impact_per_year instead.\n",
      "{'mdd_shift': 0.612308835836917, 'mdd_scale': 1.7053012053998657}\n",
      "2023-03-09 15:13:13,581 - climada.engine.impact - WARNING - The use of Impact().calc() is deprecated. Use ImpactCalc().impact() instead.\n",
      "2023-03-09 15:13:13,618 - climada.hazard.base - WARNING - Impact function id=3 has mdr(0) != 0.The mean damage ratio must thus be computed for all values ofhazard intensity including 0 which can be very time consuming.\n"
     ]
    },
    {
     "name": "stderr",
     "output_type": "stream",
     "text": [
      "/Users/szelie/python_projects/climada_python/climada/engine/calibration_opt.py:87: FutureWarning: iteritems is deprecated and will be removed in a future version. Use .items instead.\n",
      "  for cnt_, year in years_in_common.iteritems():\n"
     ]
    },
    {
     "name": "stdout",
     "output_type": "stream",
     "text": [
      "2023-03-09 15:13:13,864 - climada.engine.impact - WARNING - The use of Impact.calc_impact_year_set is deprecated.Use Impact.impact_per_year instead.\n",
      "{'mdd_shift': 0.6123088209357558, 'mdd_scale': 1.705301230810834}\n",
      "2023-03-09 15:13:13,871 - climada.engine.impact - WARNING - The use of Impact().calc() is deprecated. Use ImpactCalc().impact() instead.\n",
      "2023-03-09 15:13:13,912 - climada.hazard.base - WARNING - Impact function id=3 has mdr(0) != 0.The mean damage ratio must thus be computed for all values ofhazard intensity including 0 which can be very time consuming.\n"
     ]
    },
    {
     "name": "stderr",
     "output_type": "stream",
     "text": [
      "/Users/szelie/python_projects/climada_python/climada/engine/calibration_opt.py:87: FutureWarning: iteritems is deprecated and will be removed in a future version. Use .items instead.\n",
      "  for cnt_, year in years_in_common.iteritems():\n"
     ]
    },
    {
     "name": "stdout",
     "output_type": "stream",
     "text": [
      "2023-03-09 15:13:14,157 - climada.engine.impact - WARNING - The use of Impact.calc_impact_year_set is deprecated.Use Impact.impact_per_year instead.\n",
      "{'mdd_shift': 0.6123088062311912, 'mdd_scale': 1.705301186060599}\n",
      "2023-03-09 15:13:14,168 - climada.engine.impact - WARNING - The use of Impact().calc() is deprecated. Use ImpactCalc().impact() instead.\n",
      "2023-03-09 15:13:14,207 - climada.hazard.base - WARNING - Impact function id=3 has mdr(0) != 0.The mean damage ratio must thus be computed for all values ofhazard intensity including 0 which can be very time consuming.\n"
     ]
    },
    {
     "name": "stderr",
     "output_type": "stream",
     "text": [
      "/Users/szelie/python_projects/climada_python/climada/engine/calibration_opt.py:87: FutureWarning: iteritems is deprecated and will be removed in a future version. Use .items instead.\n",
      "  for cnt_, year in years_in_common.iteritems():\n",
      "/Users/szelie/miniconda3/envs/climada_env/lib/python3.8/site-packages/scipy/optimize/_hessian_update_strategy.py:182: UserWarning: delta_grad == 0.0. Check if the approximated function is linear. If the function is linear better results can be obtained by defining the Hessian as zero instead of using quasi-Newton approximations.\n",
      "  warn('delta_grad == 0.0. Check if the approximated '\n"
     ]
    },
    {
     "name": "stdout",
     "output_type": "stream",
     "text": [
      "2023-03-09 15:13:14,461 - climada.engine.impact - WARNING - The use of Impact.calc_impact_year_set is deprecated.Use Impact.impact_per_year instead.\n",
      "{'mdd_shift': 0.6123088211323524, 'mdd_scale': 1.705301186060599}\n",
      "2023-03-09 15:13:14,468 - climada.engine.impact - WARNING - The use of Impact().calc() is deprecated. Use ImpactCalc().impact() instead.\n",
      "2023-03-09 15:13:14,505 - climada.hazard.base - WARNING - Impact function id=3 has mdr(0) != 0.The mean damage ratio must thus be computed for all values ofhazard intensity including 0 which can be very time consuming.\n"
     ]
    },
    {
     "name": "stderr",
     "output_type": "stream",
     "text": [
      "/Users/szelie/python_projects/climada_python/climada/engine/calibration_opt.py:87: FutureWarning: iteritems is deprecated and will be removed in a future version. Use .items instead.\n",
      "  for cnt_, year in years_in_common.iteritems():\n"
     ]
    },
    {
     "name": "stdout",
     "output_type": "stream",
     "text": [
      "2023-03-09 15:13:14,749 - climada.engine.impact - WARNING - The use of Impact.calc_impact_year_set is deprecated.Use Impact.impact_per_year instead.\n",
      "{'mdd_shift': 0.6123088062311912, 'mdd_scale': 1.7053012114715669}\n",
      "2023-03-09 15:13:14,756 - climada.engine.impact - WARNING - The use of Impact().calc() is deprecated. Use ImpactCalc().impact() instead.\n",
      "2023-03-09 15:13:14,793 - climada.hazard.base - WARNING - Impact function id=3 has mdr(0) != 0.The mean damage ratio must thus be computed for all values ofhazard intensity including 0 which can be very time consuming.\n"
     ]
    },
    {
     "name": "stderr",
     "output_type": "stream",
     "text": [
      "/Users/szelie/python_projects/climada_python/climada/engine/calibration_opt.py:87: FutureWarning: iteritems is deprecated and will be removed in a future version. Use .items instead.\n",
      "  for cnt_, year in years_in_common.iteritems():\n"
     ]
    },
    {
     "name": "stdout",
     "output_type": "stream",
     "text": [
      "2023-03-09 15:13:15,036 - climada.engine.impact - WARNING - The use of Impact.calc_impact_year_set is deprecated.Use Impact.impact_per_year instead.\n",
      "{'mdd_shift': 0.6123088209357558, 'mdd_scale': 1.7053012053998657}\n",
      "2023-03-09 15:13:15,056 - climada.engine.impact - WARNING - The use of Impact().calc() is deprecated. Use ImpactCalc().impact() instead.\n",
      "2023-03-09 15:13:15,100 - climada.hazard.base - WARNING - Impact function id=3 has mdr(0) != 0.The mean damage ratio must thus be computed for all values ofhazard intensity including 0 which can be very time consuming.\n"
     ]
    },
    {
     "name": "stderr",
     "output_type": "stream",
     "text": [
      "/Users/szelie/python_projects/climada_python/climada/engine/calibration_opt.py:87: FutureWarning: iteritems is deprecated and will be removed in a future version. Use .items instead.\n",
      "  for cnt_, year in years_in_common.iteritems():\n",
      "/Users/szelie/miniconda3/envs/climada_env/lib/python3.8/site-packages/scipy/optimize/_hessian_update_strategy.py:182: UserWarning: delta_grad == 0.0. Check if the approximated function is linear. If the function is linear better results can be obtained by defining the Hessian as zero instead of using quasi-Newton approximations.\n",
      "  warn('delta_grad == 0.0. Check if the approximated '\n"
     ]
    },
    {
     "name": "stdout",
     "output_type": "stream",
     "text": [
      "2023-03-09 15:13:15,352 - climada.engine.impact - WARNING - The use of Impact.calc_impact_year_set is deprecated.Use Impact.impact_per_year instead.\n",
      "{'mdd_shift': 0.612308835836917, 'mdd_scale': 1.7053012053998657}\n",
      "2023-03-09 15:13:15,359 - climada.engine.impact - WARNING - The use of Impact().calc() is deprecated. Use ImpactCalc().impact() instead.\n",
      "2023-03-09 15:13:15,397 - climada.hazard.base - WARNING - Impact function id=3 has mdr(0) != 0.The mean damage ratio must thus be computed for all values ofhazard intensity including 0 which can be very time consuming.\n"
     ]
    },
    {
     "name": "stderr",
     "output_type": "stream",
     "text": [
      "/Users/szelie/python_projects/climada_python/climada/engine/calibration_opt.py:87: FutureWarning: iteritems is deprecated and will be removed in a future version. Use .items instead.\n",
      "  for cnt_, year in years_in_common.iteritems():\n"
     ]
    },
    {
     "name": "stdout",
     "output_type": "stream",
     "text": [
      "2023-03-09 15:13:15,642 - climada.engine.impact - WARNING - The use of Impact.calc_impact_year_set is deprecated.Use Impact.impact_per_year instead.\n",
      "{'mdd_shift': 0.6123088209357558, 'mdd_scale': 1.705301230810834}\n",
      "2023-03-09 15:13:15,649 - climada.engine.impact - WARNING - The use of Impact().calc() is deprecated. Use ImpactCalc().impact() instead.\n",
      "2023-03-09 15:13:15,686 - climada.hazard.base - WARNING - Impact function id=3 has mdr(0) != 0.The mean damage ratio must thus be computed for all values ofhazard intensity including 0 which can be very time consuming.\n"
     ]
    },
    {
     "name": "stderr",
     "output_type": "stream",
     "text": [
      "/Users/szelie/python_projects/climada_python/climada/engine/calibration_opt.py:87: FutureWarning: iteritems is deprecated and will be removed in a future version. Use .items instead.\n",
      "  for cnt_, year in years_in_common.iteritems():\n"
     ]
    },
    {
     "name": "stdout",
     "output_type": "stream",
     "text": [
      "2023-03-09 15:13:15,931 - climada.engine.impact - WARNING - The use of Impact.calc_impact_year_set is deprecated.Use Impact.impact_per_year instead.\n",
      "{'mdd_shift': 0.6123088062311912, 'mdd_scale': 1.705301186060599}\n",
      "2023-03-09 15:13:15,943 - climada.engine.impact - WARNING - The use of Impact().calc() is deprecated. Use ImpactCalc().impact() instead.\n",
      "2023-03-09 15:13:15,982 - climada.hazard.base - WARNING - Impact function id=3 has mdr(0) != 0.The mean damage ratio must thus be computed for all values ofhazard intensity including 0 which can be very time consuming.\n"
     ]
    },
    {
     "name": "stderr",
     "output_type": "stream",
     "text": [
      "/Users/szelie/python_projects/climada_python/climada/engine/calibration_opt.py:87: FutureWarning: iteritems is deprecated and will be removed in a future version. Use .items instead.\n",
      "  for cnt_, year in years_in_common.iteritems():\n",
      "/Users/szelie/miniconda3/envs/climada_env/lib/python3.8/site-packages/scipy/optimize/_hessian_update_strategy.py:182: UserWarning: delta_grad == 0.0. Check if the approximated function is linear. If the function is linear better results can be obtained by defining the Hessian as zero instead of using quasi-Newton approximations.\n",
      "  warn('delta_grad == 0.0. Check if the approximated '\n"
     ]
    },
    {
     "name": "stdout",
     "output_type": "stream",
     "text": [
      "2023-03-09 15:13:16,235 - climada.engine.impact - WARNING - The use of Impact.calc_impact_year_set is deprecated.Use Impact.impact_per_year instead.\n",
      "{'mdd_shift': 0.6123088211323524, 'mdd_scale': 1.705301186060599}\n",
      "2023-03-09 15:13:16,242 - climada.engine.impact - WARNING - The use of Impact().calc() is deprecated. Use ImpactCalc().impact() instead.\n",
      "2023-03-09 15:13:16,279 - climada.hazard.base - WARNING - Impact function id=3 has mdr(0) != 0.The mean damage ratio must thus be computed for all values ofhazard intensity including 0 which can be very time consuming.\n"
     ]
    },
    {
     "name": "stderr",
     "output_type": "stream",
     "text": [
      "/Users/szelie/python_projects/climada_python/climada/engine/calibration_opt.py:87: FutureWarning: iteritems is deprecated and will be removed in a future version. Use .items instead.\n",
      "  for cnt_, year in years_in_common.iteritems():\n"
     ]
    },
    {
     "name": "stdout",
     "output_type": "stream",
     "text": [
      "2023-03-09 15:13:16,523 - climada.engine.impact - WARNING - The use of Impact.calc_impact_year_set is deprecated.Use Impact.impact_per_year instead.\n",
      "{'mdd_shift': 0.6123088062311912, 'mdd_scale': 1.7053012114715669}\n",
      "2023-03-09 15:13:16,529 - climada.engine.impact - WARNING - The use of Impact().calc() is deprecated. Use ImpactCalc().impact() instead.\n",
      "2023-03-09 15:13:16,568 - climada.hazard.base - WARNING - Impact function id=3 has mdr(0) != 0.The mean damage ratio must thus be computed for all values ofhazard intensity including 0 which can be very time consuming.\n"
     ]
    },
    {
     "name": "stderr",
     "output_type": "stream",
     "text": [
      "/Users/szelie/python_projects/climada_python/climada/engine/calibration_opt.py:87: FutureWarning: iteritems is deprecated and will be removed in a future version. Use .items instead.\n",
      "  for cnt_, year in years_in_common.iteritems():\n"
     ]
    },
    {
     "name": "stdout",
     "output_type": "stream",
     "text": [
      "2023-03-09 15:13:16,814 - climada.engine.impact - WARNING - The use of Impact.calc_impact_year_set is deprecated.Use Impact.impact_per_year instead.\n",
      "{'mdd_shift': 0.6123088209357558, 'mdd_scale': 1.7053012053998657}\n",
      "2023-03-09 15:13:16,833 - climada.engine.impact - WARNING - The use of Impact().calc() is deprecated. Use ImpactCalc().impact() instead.\n",
      "2023-03-09 15:13:16,873 - climada.hazard.base - WARNING - Impact function id=3 has mdr(0) != 0.The mean damage ratio must thus be computed for all values ofhazard intensity including 0 which can be very time consuming.\n"
     ]
    },
    {
     "name": "stderr",
     "output_type": "stream",
     "text": [
      "/Users/szelie/python_projects/climada_python/climada/engine/calibration_opt.py:87: FutureWarning: iteritems is deprecated and will be removed in a future version. Use .items instead.\n",
      "  for cnt_, year in years_in_common.iteritems():\n",
      "/Users/szelie/miniconda3/envs/climada_env/lib/python3.8/site-packages/scipy/optimize/_hessian_update_strategy.py:182: UserWarning: delta_grad == 0.0. Check if the approximated function is linear. If the function is linear better results can be obtained by defining the Hessian as zero instead of using quasi-Newton approximations.\n",
      "  warn('delta_grad == 0.0. Check if the approximated '\n"
     ]
    },
    {
     "name": "stdout",
     "output_type": "stream",
     "text": [
      "2023-03-09 15:13:17,127 - climada.engine.impact - WARNING - The use of Impact.calc_impact_year_set is deprecated.Use Impact.impact_per_year instead.\n",
      "{'mdd_shift': 0.612308835836917, 'mdd_scale': 1.7053012053998657}\n",
      "2023-03-09 15:13:17,134 - climada.engine.impact - WARNING - The use of Impact().calc() is deprecated. Use ImpactCalc().impact() instead.\n",
      "2023-03-09 15:13:17,173 - climada.hazard.base - WARNING - Impact function id=3 has mdr(0) != 0.The mean damage ratio must thus be computed for all values ofhazard intensity including 0 which can be very time consuming.\n"
     ]
    },
    {
     "name": "stderr",
     "output_type": "stream",
     "text": [
      "/Users/szelie/python_projects/climada_python/climada/engine/calibration_opt.py:87: FutureWarning: iteritems is deprecated and will be removed in a future version. Use .items instead.\n",
      "  for cnt_, year in years_in_common.iteritems():\n"
     ]
    },
    {
     "name": "stdout",
     "output_type": "stream",
     "text": [
      "2023-03-09 15:13:17,421 - climada.engine.impact - WARNING - The use of Impact.calc_impact_year_set is deprecated.Use Impact.impact_per_year instead.\n",
      "{'mdd_shift': 0.6123088209357558, 'mdd_scale': 1.705301230810834}\n",
      "2023-03-09 15:13:17,428 - climada.engine.impact - WARNING - The use of Impact().calc() is deprecated. Use ImpactCalc().impact() instead.\n",
      "2023-03-09 15:13:17,466 - climada.hazard.base - WARNING - Impact function id=3 has mdr(0) != 0.The mean damage ratio must thus be computed for all values ofhazard intensity including 0 which can be very time consuming.\n"
     ]
    },
    {
     "name": "stderr",
     "output_type": "stream",
     "text": [
      "/Users/szelie/python_projects/climada_python/climada/engine/calibration_opt.py:87: FutureWarning: iteritems is deprecated and will be removed in a future version. Use .items instead.\n",
      "  for cnt_, year in years_in_common.iteritems():\n"
     ]
    },
    {
     "name": "stdout",
     "output_type": "stream",
     "text": [
      "2023-03-09 15:13:17,714 - climada.engine.impact - WARNING - The use of Impact.calc_impact_year_set is deprecated.Use Impact.impact_per_year instead.\n",
      "{'mdd_shift': 0.6123088062311912, 'mdd_scale': 1.705301186060599}\n",
      "2023-03-09 15:13:17,726 - climada.engine.impact - WARNING - The use of Impact().calc() is deprecated. Use ImpactCalc().impact() instead.\n",
      "2023-03-09 15:13:17,766 - climada.hazard.base - WARNING - Impact function id=3 has mdr(0) != 0.The mean damage ratio must thus be computed for all values ofhazard intensity including 0 which can be very time consuming.\n"
     ]
    },
    {
     "name": "stderr",
     "output_type": "stream",
     "text": [
      "/Users/szelie/python_projects/climada_python/climada/engine/calibration_opt.py:87: FutureWarning: iteritems is deprecated and will be removed in a future version. Use .items instead.\n",
      "  for cnt_, year in years_in_common.iteritems():\n",
      "/Users/szelie/miniconda3/envs/climada_env/lib/python3.8/site-packages/scipy/optimize/_hessian_update_strategy.py:182: UserWarning: delta_grad == 0.0. Check if the approximated function is linear. If the function is linear better results can be obtained by defining the Hessian as zero instead of using quasi-Newton approximations.\n",
      "  warn('delta_grad == 0.0. Check if the approximated '\n"
     ]
    },
    {
     "name": "stdout",
     "output_type": "stream",
     "text": [
      "2023-03-09 15:13:18,022 - climada.engine.impact - WARNING - The use of Impact.calc_impact_year_set is deprecated.Use Impact.impact_per_year instead.\n",
      "{'mdd_shift': 0.6123088211323524, 'mdd_scale': 1.705301186060599}\n",
      "2023-03-09 15:13:18,028 - climada.engine.impact - WARNING - The use of Impact().calc() is deprecated. Use ImpactCalc().impact() instead.\n",
      "2023-03-09 15:13:18,066 - climada.hazard.base - WARNING - Impact function id=3 has mdr(0) != 0.The mean damage ratio must thus be computed for all values ofhazard intensity including 0 which can be very time consuming.\n"
     ]
    },
    {
     "name": "stderr",
     "output_type": "stream",
     "text": [
      "/Users/szelie/python_projects/climada_python/climada/engine/calibration_opt.py:87: FutureWarning: iteritems is deprecated and will be removed in a future version. Use .items instead.\n",
      "  for cnt_, year in years_in_common.iteritems():\n"
     ]
    },
    {
     "name": "stdout",
     "output_type": "stream",
     "text": [
      "2023-03-09 15:13:18,317 - climada.engine.impact - WARNING - The use of Impact.calc_impact_year_set is deprecated.Use Impact.impact_per_year instead.\n",
      "{'mdd_shift': 0.6123088062311912, 'mdd_scale': 1.7053012114715669}\n",
      "2023-03-09 15:13:18,324 - climada.engine.impact - WARNING - The use of Impact().calc() is deprecated. Use ImpactCalc().impact() instead.\n",
      "2023-03-09 15:13:18,362 - climada.hazard.base - WARNING - Impact function id=3 has mdr(0) != 0.The mean damage ratio must thus be computed for all values ofhazard intensity including 0 which can be very time consuming.\n"
     ]
    },
    {
     "name": "stderr",
     "output_type": "stream",
     "text": [
      "/Users/szelie/python_projects/climada_python/climada/engine/calibration_opt.py:87: FutureWarning: iteritems is deprecated and will be removed in a future version. Use .items instead.\n",
      "  for cnt_, year in years_in_common.iteritems():\n"
     ]
    },
    {
     "name": "stdout",
     "output_type": "stream",
     "text": [
      "2023-03-09 15:13:18,607 - climada.engine.impact - WARNING - The use of Impact.calc_impact_year_set is deprecated.Use Impact.impact_per_year instead.\n",
      "{'mdd_shift': 0.6123088209357558, 'mdd_scale': 1.7053012053998657}\n",
      "2023-03-09 15:13:18,627 - climada.engine.impact - WARNING - The use of Impact().calc() is deprecated. Use ImpactCalc().impact() instead.\n",
      "2023-03-09 15:13:18,667 - climada.hazard.base - WARNING - Impact function id=3 has mdr(0) != 0.The mean damage ratio must thus be computed for all values ofhazard intensity including 0 which can be very time consuming.\n"
     ]
    },
    {
     "name": "stderr",
     "output_type": "stream",
     "text": [
      "/Users/szelie/python_projects/climada_python/climada/engine/calibration_opt.py:87: FutureWarning: iteritems is deprecated and will be removed in a future version. Use .items instead.\n",
      "  for cnt_, year in years_in_common.iteritems():\n",
      "/Users/szelie/miniconda3/envs/climada_env/lib/python3.8/site-packages/scipy/optimize/_hessian_update_strategy.py:182: UserWarning: delta_grad == 0.0. Check if the approximated function is linear. If the function is linear better results can be obtained by defining the Hessian as zero instead of using quasi-Newton approximations.\n",
      "  warn('delta_grad == 0.0. Check if the approximated '\n"
     ]
    },
    {
     "name": "stdout",
     "output_type": "stream",
     "text": [
      "2023-03-09 15:13:18,922 - climada.engine.impact - WARNING - The use of Impact.calc_impact_year_set is deprecated.Use Impact.impact_per_year instead.\n",
      "{'mdd_shift': 0.612308835836917, 'mdd_scale': 1.7053012053998657}\n",
      "2023-03-09 15:13:18,929 - climada.engine.impact - WARNING - The use of Impact().calc() is deprecated. Use ImpactCalc().impact() instead.\n",
      "2023-03-09 15:13:18,967 - climada.hazard.base - WARNING - Impact function id=3 has mdr(0) != 0.The mean damage ratio must thus be computed for all values ofhazard intensity including 0 which can be very time consuming.\n"
     ]
    },
    {
     "name": "stderr",
     "output_type": "stream",
     "text": [
      "/Users/szelie/python_projects/climada_python/climada/engine/calibration_opt.py:87: FutureWarning: iteritems is deprecated and will be removed in a future version. Use .items instead.\n",
      "  for cnt_, year in years_in_common.iteritems():\n"
     ]
    },
    {
     "name": "stdout",
     "output_type": "stream",
     "text": [
      "2023-03-09 15:13:19,214 - climada.engine.impact - WARNING - The use of Impact.calc_impact_year_set is deprecated.Use Impact.impact_per_year instead.\n",
      "{'mdd_shift': 0.6123088209357558, 'mdd_scale': 1.705301230810834}\n",
      "2023-03-09 15:13:19,220 - climada.engine.impact - WARNING - The use of Impact().calc() is deprecated. Use ImpactCalc().impact() instead.\n",
      "2023-03-09 15:13:19,258 - climada.hazard.base - WARNING - Impact function id=3 has mdr(0) != 0.The mean damage ratio must thus be computed for all values ofhazard intensity including 0 which can be very time consuming.\n"
     ]
    },
    {
     "name": "stderr",
     "output_type": "stream",
     "text": [
      "/Users/szelie/python_projects/climada_python/climada/engine/calibration_opt.py:87: FutureWarning: iteritems is deprecated and will be removed in a future version. Use .items instead.\n",
      "  for cnt_, year in years_in_common.iteritems():\n"
     ]
    },
    {
     "name": "stdout",
     "output_type": "stream",
     "text": [
      "2023-03-09 15:13:19,505 - climada.engine.impact - WARNING - The use of Impact.calc_impact_year_set is deprecated.Use Impact.impact_per_year instead.\n",
      "{'mdd_shift': 0.6123088062311912, 'mdd_scale': 1.705301186060599}\n",
      "2023-03-09 15:13:19,517 - climada.engine.impact - WARNING - The use of Impact().calc() is deprecated. Use ImpactCalc().impact() instead.\n",
      "2023-03-09 15:13:19,557 - climada.hazard.base - WARNING - Impact function id=3 has mdr(0) != 0.The mean damage ratio must thus be computed for all values ofhazard intensity including 0 which can be very time consuming.\n"
     ]
    },
    {
     "name": "stderr",
     "output_type": "stream",
     "text": [
      "/Users/szelie/python_projects/climada_python/climada/engine/calibration_opt.py:87: FutureWarning: iteritems is deprecated and will be removed in a future version. Use .items instead.\n",
      "  for cnt_, year in years_in_common.iteritems():\n",
      "/Users/szelie/miniconda3/envs/climada_env/lib/python3.8/site-packages/scipy/optimize/_hessian_update_strategy.py:182: UserWarning: delta_grad == 0.0. Check if the approximated function is linear. If the function is linear better results can be obtained by defining the Hessian as zero instead of using quasi-Newton approximations.\n",
      "  warn('delta_grad == 0.0. Check if the approximated '\n"
     ]
    },
    {
     "name": "stdout",
     "output_type": "stream",
     "text": [
      "2023-03-09 15:13:19,812 - climada.engine.impact - WARNING - The use of Impact.calc_impact_year_set is deprecated.Use Impact.impact_per_year instead.\n",
      "{'mdd_shift': 0.6123088211323524, 'mdd_scale': 1.705301186060599}\n",
      "2023-03-09 15:13:19,819 - climada.engine.impact - WARNING - The use of Impact().calc() is deprecated. Use ImpactCalc().impact() instead.\n",
      "2023-03-09 15:13:19,856 - climada.hazard.base - WARNING - Impact function id=3 has mdr(0) != 0.The mean damage ratio must thus be computed for all values ofhazard intensity including 0 which can be very time consuming.\n"
     ]
    },
    {
     "name": "stderr",
     "output_type": "stream",
     "text": [
      "/Users/szelie/python_projects/climada_python/climada/engine/calibration_opt.py:87: FutureWarning: iteritems is deprecated and will be removed in a future version. Use .items instead.\n",
      "  for cnt_, year in years_in_common.iteritems():\n"
     ]
    },
    {
     "name": "stdout",
     "output_type": "stream",
     "text": [
      "2023-03-09 15:13:20,102 - climada.engine.impact - WARNING - The use of Impact.calc_impact_year_set is deprecated.Use Impact.impact_per_year instead.\n",
      "{'mdd_shift': 0.6123088062311912, 'mdd_scale': 1.7053012114715669}\n",
      "2023-03-09 15:13:20,109 - climada.engine.impact - WARNING - The use of Impact().calc() is deprecated. Use ImpactCalc().impact() instead.\n",
      "2023-03-09 15:13:20,146 - climada.hazard.base - WARNING - Impact function id=3 has mdr(0) != 0.The mean damage ratio must thus be computed for all values ofhazard intensity including 0 which can be very time consuming.\n"
     ]
    },
    {
     "name": "stderr",
     "output_type": "stream",
     "text": [
      "/Users/szelie/python_projects/climada_python/climada/engine/calibration_opt.py:87: FutureWarning: iteritems is deprecated and will be removed in a future version. Use .items instead.\n",
      "  for cnt_, year in years_in_common.iteritems():\n"
     ]
    },
    {
     "name": "stdout",
     "output_type": "stream",
     "text": [
      "2023-03-09 15:13:20,391 - climada.engine.impact - WARNING - The use of Impact.calc_impact_year_set is deprecated.Use Impact.impact_per_year instead.\n",
      "{'mdd_shift': 0.6123088209357558, 'mdd_scale': 1.7053012053998657}\n",
      "2023-03-09 15:13:20,412 - climada.engine.impact - WARNING - The use of Impact().calc() is deprecated. Use ImpactCalc().impact() instead.\n",
      "2023-03-09 15:13:20,451 - climada.hazard.base - WARNING - Impact function id=3 has mdr(0) != 0.The mean damage ratio must thus be computed for all values ofhazard intensity including 0 which can be very time consuming.\n"
     ]
    },
    {
     "name": "stderr",
     "output_type": "stream",
     "text": [
      "/Users/szelie/python_projects/climada_python/climada/engine/calibration_opt.py:87: FutureWarning: iteritems is deprecated and will be removed in a future version. Use .items instead.\n",
      "  for cnt_, year in years_in_common.iteritems():\n",
      "/Users/szelie/miniconda3/envs/climada_env/lib/python3.8/site-packages/scipy/optimize/_hessian_update_strategy.py:182: UserWarning: delta_grad == 0.0. Check if the approximated function is linear. If the function is linear better results can be obtained by defining the Hessian as zero instead of using quasi-Newton approximations.\n",
      "  warn('delta_grad == 0.0. Check if the approximated '\n"
     ]
    },
    {
     "name": "stdout",
     "output_type": "stream",
     "text": [
      "2023-03-09 15:13:20,705 - climada.engine.impact - WARNING - The use of Impact.calc_impact_year_set is deprecated.Use Impact.impact_per_year instead.\n",
      "{'mdd_shift': 0.612308835836917, 'mdd_scale': 1.7053012053998657}\n",
      "2023-03-09 15:13:20,712 - climada.engine.impact - WARNING - The use of Impact().calc() is deprecated. Use ImpactCalc().impact() instead.\n",
      "2023-03-09 15:13:20,750 - climada.hazard.base - WARNING - Impact function id=3 has mdr(0) != 0.The mean damage ratio must thus be computed for all values ofhazard intensity including 0 which can be very time consuming.\n"
     ]
    },
    {
     "name": "stderr",
     "output_type": "stream",
     "text": [
      "/Users/szelie/python_projects/climada_python/climada/engine/calibration_opt.py:87: FutureWarning: iteritems is deprecated and will be removed in a future version. Use .items instead.\n",
      "  for cnt_, year in years_in_common.iteritems():\n"
     ]
    },
    {
     "name": "stdout",
     "output_type": "stream",
     "text": [
      "2023-03-09 15:13:20,996 - climada.engine.impact - WARNING - The use of Impact.calc_impact_year_set is deprecated.Use Impact.impact_per_year instead.\n",
      "{'mdd_shift': 0.6123088209357558, 'mdd_scale': 1.705301230810834}\n",
      "2023-03-09 15:13:21,003 - climada.engine.impact - WARNING - The use of Impact().calc() is deprecated. Use ImpactCalc().impact() instead.\n",
      "2023-03-09 15:13:21,044 - climada.hazard.base - WARNING - Impact function id=3 has mdr(0) != 0.The mean damage ratio must thus be computed for all values ofhazard intensity including 0 which can be very time consuming.\n"
     ]
    },
    {
     "name": "stderr",
     "output_type": "stream",
     "text": [
      "/Users/szelie/python_projects/climada_python/climada/engine/calibration_opt.py:87: FutureWarning: iteritems is deprecated and will be removed in a future version. Use .items instead.\n",
      "  for cnt_, year in years_in_common.iteritems():\n"
     ]
    },
    {
     "name": "stdout",
     "output_type": "stream",
     "text": [
      "2023-03-09 15:13:21,292 - climada.engine.impact - WARNING - The use of Impact.calc_impact_year_set is deprecated.Use Impact.impact_per_year instead.\n",
      "{'mdd_shift': 0.6123088062311912, 'mdd_scale': 1.705301186060599}\n",
      "2023-03-09 15:13:21,304 - climada.engine.impact - WARNING - The use of Impact().calc() is deprecated. Use ImpactCalc().impact() instead.\n",
      "2023-03-09 15:13:21,343 - climada.hazard.base - WARNING - Impact function id=3 has mdr(0) != 0.The mean damage ratio must thus be computed for all values ofhazard intensity including 0 which can be very time consuming.\n"
     ]
    },
    {
     "name": "stderr",
     "output_type": "stream",
     "text": [
      "/Users/szelie/python_projects/climada_python/climada/engine/calibration_opt.py:87: FutureWarning: iteritems is deprecated and will be removed in a future version. Use .items instead.\n",
      "  for cnt_, year in years_in_common.iteritems():\n",
      "/Users/szelie/miniconda3/envs/climada_env/lib/python3.8/site-packages/scipy/optimize/_hessian_update_strategy.py:182: UserWarning: delta_grad == 0.0. Check if the approximated function is linear. If the function is linear better results can be obtained by defining the Hessian as zero instead of using quasi-Newton approximations.\n",
      "  warn('delta_grad == 0.0. Check if the approximated '\n"
     ]
    },
    {
     "name": "stdout",
     "output_type": "stream",
     "text": [
      "2023-03-09 15:13:21,600 - climada.engine.impact - WARNING - The use of Impact.calc_impact_year_set is deprecated.Use Impact.impact_per_year instead.\n",
      "{'mdd_shift': 0.6123088211323524, 'mdd_scale': 1.705301186060599}\n",
      "2023-03-09 15:13:21,607 - climada.engine.impact - WARNING - The use of Impact().calc() is deprecated. Use ImpactCalc().impact() instead.\n",
      "2023-03-09 15:13:21,645 - climada.hazard.base - WARNING - Impact function id=3 has mdr(0) != 0.The mean damage ratio must thus be computed for all values ofhazard intensity including 0 which can be very time consuming.\n"
     ]
    },
    {
     "name": "stderr",
     "output_type": "stream",
     "text": [
      "/Users/szelie/python_projects/climada_python/climada/engine/calibration_opt.py:87: FutureWarning: iteritems is deprecated and will be removed in a future version. Use .items instead.\n",
      "  for cnt_, year in years_in_common.iteritems():\n"
     ]
    },
    {
     "name": "stdout",
     "output_type": "stream",
     "text": [
      "2023-03-09 15:13:21,891 - climada.engine.impact - WARNING - The use of Impact.calc_impact_year_set is deprecated.Use Impact.impact_per_year instead.\n",
      "{'mdd_shift': 0.6123088062311912, 'mdd_scale': 1.7053012114715669}\n",
      "2023-03-09 15:13:21,898 - climada.engine.impact - WARNING - The use of Impact().calc() is deprecated. Use ImpactCalc().impact() instead.\n",
      "2023-03-09 15:13:21,935 - climada.hazard.base - WARNING - Impact function id=3 has mdr(0) != 0.The mean damage ratio must thus be computed for all values ofhazard intensity including 0 which can be very time consuming.\n"
     ]
    },
    {
     "name": "stderr",
     "output_type": "stream",
     "text": [
      "/Users/szelie/python_projects/climada_python/climada/engine/calibration_opt.py:87: FutureWarning: iteritems is deprecated and will be removed in a future version. Use .items instead.\n",
      "  for cnt_, year in years_in_common.iteritems():\n"
     ]
    },
    {
     "name": "stdout",
     "output_type": "stream",
     "text": [
      "2023-03-09 15:13:22,181 - climada.engine.impact - WARNING - The use of Impact.calc_impact_year_set is deprecated.Use Impact.impact_per_year instead.\n",
      "`xtol` termination condition is satisfied.\n",
      "Number of iterations: 90, function evaluations: 90, CG iterations: 155, optimality: 5.01e+10, constraint violation: 0.00e+00, execution time: 2.6e+01 s.\n"
     ]
    },
    {
     "name": "stderr",
     "output_type": "stream",
     "text": [
      "/Users/szelie/python_projects/climada_python/climada/engine/calibration_opt.py:87: FutureWarning: iteritems is deprecated and will be removed in a future version. Use .items instead.\n",
      "  for cnt_, year in years_in_common.iteritems():\n",
      "/Users/szelie/miniconda3/envs/climada_env/lib/python3.8/site-packages/scipy/optimize/_hessian_update_strategy.py:182: UserWarning: delta_grad == 0.0. Check if the approximated function is linear. If the function is linear better results can be obtained by defining the Hessian as zero instead of using quasi-Newton approximations.\n",
      "  warn('delta_grad == 0.0. Check if the approximated '\n"
     ]
    },
    {
     "data": {
      "image/png": "[encoded data removed]",
      "text/plain": [
       "<Figure size 640x480 with 1 Axes>"
      ]
     },
     "metadata": {},
     "output_type": "display_data"
    }
   ],
   "source": [
    "import matplotlib.pyplot as plt\n",
    "fig, ax = plt.subplots()\n",
    "impf_dict = {}\n",
    "\n",
    "for reg in [\"EUR\"]:#np.unique(list(regions_df.Reg_name))[0:1]: \n",
    "    impf_dict[reg] = {}\n",
    "    for model in models[0:1]:\n",
    "        haz_1model = haz_rf.select([event_name for event_name in haz_rf.event_name if model in event_name])\n",
    "        haz_1model.frequency = np.ones(len(haz_1model.frequency))\n",
    "        assets_reg = copy.deepcopy(assets)\n",
    "        assets_reg.gdf = assets_reg.gdf[assets_reg.gdf.Reg_name == reg]        \n",
    "        assets_reg.region_id  = assets_reg.gdf.region_id\n",
    "        emdat_reg = emdat_RF[emdat_RF.Reg_name==reg]\n",
    "        emdat_reg = emdat_reg.groupby(\"year\").sum().reset_index()\n",
    "        year_range = [1980, 2010]\n",
    "        yearly_impact = True\n",
    "\n",
    "        cost_function = 'R2'\n",
    "        show_details = True\n",
    "        yearly_impact = True\n",
    "        impf = impf_set_flood.get_func()['RF'][np.unique(assets_reg.gdf['impf_RF'])[0]]\n",
    "\n",
    "        param_full_dict = {'mdd_shift': np.array(0), 'mdd_scale': np.array(0.9)}\n",
    "        bounds = ((0.0, np.inf), (0.0, np.inf), (0.0, 1.0))\n",
    "        param_result, result = clb.calib_optimize(haz_1model,assets_reg,impf,param_full_dict,\n",
    "                  emdat_reg, year_range, yearly_impact=yearly_impact,\n",
    "                  cost_fucntion=cost_function, show_details= show_details)\n",
    "        impf2 = clb.change_impf(impf, param_result)\n",
    "        impf_dict[reg][model] = [impf,impf2]"
   ]
  },
  {
   "cell_type": "code",
   "execution_count": null,
   "id": "d4bc3793",
   "metadata": {},
   "outputs": [],
   "source": []
  },
  {
   "cell_type": "code",
   "execution_count": 447,
   "id": "bd95c7d8",
   "metadata": {},
   "outputs": [
    {
     "data": {
      "text/html": [
       "<div>\n",
       "<style scoped>\n",
       "    .dataframe tbody tr th:only-of-type {\n",
       "        vertical-align: middle;\n",
       "    }\n",
       "\n",
       "    .dataframe tbody tr th {\n",
       "        vertical-align: top;\n",
       "    }\n",
       "\n",
       "    .dataframe thead th {\n",
       "        text-align: right;\n",
       "    }\n",
       "</style>\n",
       "<table border=\"1\" class=\"dataframe\">\n",
       "  <thead>\n",
       "    <tr style=\"text-align: right;\">\n",
       "      <th></th>\n",
       "      <th>year</th>\n",
       "      <th>region_id</th>\n",
       "      <th>Total Damages, Adjusted ('000 US$)</th>\n",
       "      <th>Growth Factor Rel 2020</th>\n",
       "      <th>impact_scaled</th>\n",
       "      <th>impact_CLIMADA</th>\n",
       "    </tr>\n",
       "  </thead>\n",
       "  <tbody>\n",
       "    <tr>\n",
       "      <th>0</th>\n",
       "      <td>1982</td>\n",
       "      <td>616</td>\n",
       "      <td>160733.0</td>\n",
       "      <td>0.136416</td>\n",
       "      <td>2.192662e+07</td>\n",
       "      <td>9.036244e+08</td>\n",
       "    </tr>\n",
       "    <tr>\n",
       "      <th>1</th>\n",
       "      <td>1983</td>\n",
       "      <td>250</td>\n",
       "      <td>1774734.0</td>\n",
       "      <td>0.139122</td>\n",
       "      <td>2.469054e+08</td>\n",
       "      <td>2.586485e+08</td>\n",
       "    </tr>\n",
       "    <tr>\n",
       "      <th>2</th>\n",
       "      <td>1985</td>\n",
       "      <td>752</td>\n",
       "      <td>15780.0</td>\n",
       "      <td>0.151132</td>\n",
       "      <td>2.384867e+06</td>\n",
       "      <td>3.586140e+08</td>\n",
       "    </tr>\n",
       "    <tr>\n",
       "      <th>3</th>\n",
       "      <td>1987</td>\n",
       "      <td>1340</td>\n",
       "      <td>4592331.0</td>\n",
       "      <td>0.406796</td>\n",
       "      <td>9.340705e+08</td>\n",
       "      <td>2.241519e+08</td>\n",
       "    </tr>\n",
       "    <tr>\n",
       "      <th>4</th>\n",
       "      <td>1991</td>\n",
       "      <td>40</td>\n",
       "      <td>176205.0</td>\n",
       "      <td>0.279225</td>\n",
       "      <td>4.920082e+07</td>\n",
       "      <td>1.298042e+08</td>\n",
       "    </tr>\n",
       "    <tr>\n",
       "      <th>5</th>\n",
       "      <td>1992</td>\n",
       "      <td>1288</td>\n",
       "      <td>1511906.0</td>\n",
       "      <td>0.895721</td>\n",
       "      <td>4.514155e+08</td>\n",
       "      <td>1.581517e+08</td>\n",
       "    </tr>\n",
       "    <tr>\n",
       "      <th>6</th>\n",
       "      <td>1993</td>\n",
       "      <td>1850</td>\n",
       "      <td>2789633.0</td>\n",
       "      <td>1.517309</td>\n",
       "      <td>8.465471e+08</td>\n",
       "      <td>2.799874e+08</td>\n",
       "    </tr>\n",
       "    <tr>\n",
       "      <th>7</th>\n",
       "      <td>1994</td>\n",
       "      <td>3134</td>\n",
       "      <td>20478830.0</td>\n",
       "      <td>2.292888</td>\n",
       "      <td>6.707952e+09</td>\n",
       "      <td>2.512956e+09</td>\n",
       "    </tr>\n",
       "    <tr>\n",
       "      <th>8</th>\n",
       "      <td>1995</td>\n",
       "      <td>578</td>\n",
       "      <td>576155.0</td>\n",
       "      <td>0.364823</td>\n",
       "      <td>2.101947e+08</td>\n",
       "      <td>4.346270e+09</td>\n",
       "    </tr>\n",
       "    <tr>\n",
       "      <th>9</th>\n",
       "      <td>1996</td>\n",
       "      <td>927</td>\n",
       "      <td>1143005.0</td>\n",
       "      <td>0.745942</td>\n",
       "      <td>4.263074e+08</td>\n",
       "      <td>2.940544e+08</td>\n",
       "    </tr>\n",
       "    <tr>\n",
       "      <th>10</th>\n",
       "      <td>1997</td>\n",
       "      <td>3012</td>\n",
       "      <td>11036591.0</td>\n",
       "      <td>2.601410</td>\n",
       "      <td>4.101529e+09</td>\n",
       "      <td>2.503152e+08</td>\n",
       "    </tr>\n",
       "    <tr>\n",
       "      <th>11</th>\n",
       "      <td>1998</td>\n",
       "      <td>2316</td>\n",
       "      <td>2041297.0</td>\n",
       "      <td>1.853380</td>\n",
       "      <td>7.566597e+08</td>\n",
       "      <td>1.687828e+08</td>\n",
       "    </tr>\n",
       "    <tr>\n",
       "      <th>12</th>\n",
       "      <td>1999</td>\n",
       "      <td>3297</td>\n",
       "      <td>2163405.0</td>\n",
       "      <td>2.693342</td>\n",
       "      <td>8.323986e+08</td>\n",
       "      <td>1.680257e+09</td>\n",
       "    </tr>\n",
       "    <tr>\n",
       "      <th>13</th>\n",
       "      <td>2000</td>\n",
       "      <td>1377</td>\n",
       "      <td>10256515.0</td>\n",
       "      <td>1.192857</td>\n",
       "      <td>4.078185e+09</td>\n",
       "      <td>2.486440e+09</td>\n",
       "    </tr>\n",
       "    <tr>\n",
       "      <th>14</th>\n",
       "      <td>2001</td>\n",
       "      <td>598</td>\n",
       "      <td>227011.0</td>\n",
       "      <td>0.790171</td>\n",
       "      <td>8.968879e+07</td>\n",
       "      <td>1.936130e+09</td>\n",
       "    </tr>\n",
       "    <tr>\n",
       "      <th>15</th>\n",
       "      <td>2002</td>\n",
       "      <td>1932</td>\n",
       "      <td>10397280.0</td>\n",
       "      <td>2.872032</td>\n",
       "      <td>4.265903e+09</td>\n",
       "      <td>2.522780e+09</td>\n",
       "    </tr>\n",
       "    <tr>\n",
       "      <th>16</th>\n",
       "      <td>2003</td>\n",
       "      <td>1060</td>\n",
       "      <td>2235180.0</td>\n",
       "      <td>1.380131</td>\n",
       "      <td>1.028281e+09</td>\n",
       "      <td>3.331372e+08</td>\n",
       "    </tr>\n",
       "    <tr>\n",
       "      <th>17</th>\n",
       "      <td>2004</td>\n",
       "      <td>732</td>\n",
       "      <td>22401.0</td>\n",
       "      <td>1.036924</td>\n",
       "      <td>1.161406e+07</td>\n",
       "      <td>1.581550e+08</td>\n",
       "    </tr>\n",
       "    <tr>\n",
       "      <th>18</th>\n",
       "      <td>2005</td>\n",
       "      <td>2125</td>\n",
       "      <td>4605053.0</td>\n",
       "      <td>2.807359</td>\n",
       "      <td>2.585608e+09</td>\n",
       "      <td>1.872591e+08</td>\n",
       "    </tr>\n",
       "    <tr>\n",
       "      <th>19</th>\n",
       "      <td>2006</td>\n",
       "      <td>300</td>\n",
       "      <td>8215.0</td>\n",
       "      <td>0.608423</td>\n",
       "      <td>4.998195e+06</td>\n",
       "      <td>9.123594e+08</td>\n",
       "    </tr>\n",
       "    <tr>\n",
       "      <th>20</th>\n",
       "      <td>2007</td>\n",
       "      <td>3958</td>\n",
       "      <td>12982580.0</td>\n",
       "      <td>3.428065</td>\n",
       "      <td>8.901025e+09</td>\n",
       "      <td>4.309291e+08</td>\n",
       "    </tr>\n",
       "    <tr>\n",
       "      <th>21</th>\n",
       "      <td>2008</td>\n",
       "      <td>1206</td>\n",
       "      <td>445842.0</td>\n",
       "      <td>1.506853</td>\n",
       "      <td>3.359091e+08</td>\n",
       "      <td>3.886177e+08</td>\n",
       "    </tr>\n",
       "    <tr>\n",
       "      <th>22</th>\n",
       "      <td>2009</td>\n",
       "      <td>2341</td>\n",
       "      <td>1328654.0</td>\n",
       "      <td>4.286728</td>\n",
       "      <td>9.492632e+08</td>\n",
       "      <td>8.404763e+08</td>\n",
       "    </tr>\n",
       "  </tbody>\n",
       "</table>\n",
       "</div>"
      ],
      "text/plain": [
       "    year  region_id  Total Damages, Adjusted ('000 US$)  \\\n",
       "0   1982        616                            160733.0   \n",
       "1   1983        250                           1774734.0   \n",
       "2   1985        752                             15780.0   \n",
       "3   1987       1340                           4592331.0   \n",
       "4   1991         40                            176205.0   \n",
       "5   1992       1288                           1511906.0   \n",
       "6   1993       1850                           2789633.0   \n",
       "7   1994       3134                          20478830.0   \n",
       "8   1995        578                            576155.0   \n",
       "9   1996        927                           1143005.0   \n",
       "10  1997       3012                          11036591.0   \n",
       "11  1998       2316                           2041297.0   \n",
       "12  1999       3297                           2163405.0   \n",
       "13  2000       1377                          10256515.0   \n",
       "14  2001        598                            227011.0   \n",
       "15  2002       1932                          10397280.0   \n",
       "16  2003       1060                           2235180.0   \n",
       "17  2004        732                             22401.0   \n",
       "18  2005       2125                           4605053.0   \n",
       "19  2006        300                              8215.0   \n",
       "20  2007       3958                          12982580.0   \n",
       "21  2008       1206                            445842.0   \n",
       "22  2009       2341                           1328654.0   \n",
       "\n",
       "    Growth Factor Rel 2020  impact_scaled  impact_CLIMADA  \n",
       "0                 0.136416   2.192662e+07    9.036244e+08  \n",
       "1                 0.139122   2.469054e+08    2.586485e+08  \n",
       "2                 0.151132   2.384867e+06    3.586140e+08  \n",
       "3                 0.406796   9.340705e+08    2.241519e+08  \n",
       "4                 0.279225   4.920082e+07    1.298042e+08  \n",
       "5                 0.895721   4.514155e+08    1.581517e+08  \n",
       "6                 1.517309   8.465471e+08    2.799874e+08  \n",
       "7                 2.292888   6.707952e+09    2.512956e+09  \n",
       "8                 0.364823   2.101947e+08    4.346270e+09  \n",
       "9                 0.745942   4.263074e+08    2.940544e+08  \n",
       "10                2.601410   4.101529e+09    2.503152e+08  \n",
       "11                1.853380   7.566597e+08    1.687828e+08  \n",
       "12                2.693342   8.323986e+08    1.680257e+09  \n",
       "13                1.192857   4.078185e+09    2.486440e+09  \n",
       "14                0.790171   8.968879e+07    1.936130e+09  \n",
       "15                2.872032   4.265903e+09    2.522780e+09  \n",
       "16                1.380131   1.028281e+09    3.331372e+08  \n",
       "17                1.036924   1.161406e+07    1.581550e+08  \n",
       "18                2.807359   2.585608e+09    1.872591e+08  \n",
       "19                0.608423   4.998195e+06    9.123594e+08  \n",
       "20                3.428065   8.901025e+09    4.309291e+08  \n",
       "21                1.506853   3.359091e+08    3.886177e+08  \n",
       "22                4.286728   9.492632e+08    8.404763e+08  "
      ]
     },
     "execution_count": 447,
     "metadata": {},
     "output_type": "execute_result"
    }
   ],
   "source": [
    "emdat_reg"
   ]
  },
  {
   "cell_type": "code",
   "execution_count": 435,
   "id": "d756a3db",
   "metadata": {},
   "outputs": [
    {
     "data": {
      "text/plain": [
       "{}"
      ]
     },
     "execution_count": 435,
     "metadata": {},
     "output_type": "execute_result"
    }
   ],
   "source": [
    "impf_dict['NAM']"
   ]
  },
  {
   "cell_type": "code",
   "execution_count": 425,
   "id": "02f66fd0",
   "metadata": {
    "collapsed": true,
    "jupyter": {
     "outputs_hidden": true
    }
   },
   "outputs": [
    {
     "data": {
      "text/plain": [
       "<AxesSubplot:title={'center':'RF 3: Flood Europe JRC Residential noPAA'}, xlabel='Intensity (m)', ylabel='Impact (%)'>"
      ]
     },
     "execution_count": 425,
     "metadata": {},
     "output_type": "execute_result"
    },
    {
     "data": {
      "image/png": "[encoded data removed]",
      "text/plain": [
       "<Figure size 640x480 with 1 Axes>"
      ]
     },
     "metadata": {},
     "output_type": "display_data"
    }
   ],
   "source": [
    "impf_dict['EUR']['gswp3_jules-w1_hist'][1].plot()"
   ]
  },
  {
   "cell_type": "code",
   "execution_count": 421,
   "id": "dce8c6cb",
   "metadata": {
    "collapsed": true,
    "jupyter": {
     "outputs_hidden": true
    }
   },
   "outputs": [
    {
     "data": {
      "text/plain": [
       "<matplotlib.collections.PathCollection at 0x7fea906d1f40>"
      ]
     },
     "execution_count": 421,
     "metadata": {},
     "output_type": "execute_result"
    },
    {
     "data": {
      "image/png": "[encoded data removed]",
      "text/plain": [
       "<Figure size 640x480 with 1 Axes>"
      ]
     },
     "metadata": {},
     "output_type": "display_data"
    }
   ],
   "source": [
    "fig, ax = plt.subplots()\n",
    "ax.scatter(emdat_reg.impact_scaled, emdat_reg.impact_CLIMADA)"
   ]
  },
  {
   "cell_type": "code",
   "execution_count": 318,
   "id": "6ff9f8d0",
   "metadata": {},
   "outputs": [],
   "source": [
    "from climada.engine import Impact"
   ]
  },
  {
   "cell_type": "code",
   "execution_count": 452,
   "id": "a826c96a",
   "metadata": {},
   "outputs": [
    {
     "data": {
      "text/plain": [
       "<AxesSubplot:title={'center':'RF 3: Flood Europe JRC Residential noPAA'}, xlabel='Intensity (m)', ylabel='Impact (%)'>"
      ]
     },
     "execution_count": 452,
     "metadata": {},
     "output_type": "execute_result"
    },
    {
     "data": {
      "image/png": "[encoded data removed]",
      "text/plain": [
       "<Figure size 640x480 with 1 Axes>"
      ]
     },
     "metadata": {},
     "output_type": "display_data"
    }
   ],
   "source": [
    "#impf2.mdd[impf2.mdd<0]=0\n",
    "impf2.plot()\n",
    "#impf_set_flood.append(impf2)"
   ]
  },
  {
   "cell_type": "code",
   "execution_count": 374,
   "id": "074fef2a",
   "metadata": {
    "scrolled": true
   },
   "outputs": [
    {
     "data": {
      "text/plain": [
       "array(['ARA', 'AUS', 'CAR', 'CAS', 'CHN', 'EUA', 'EUR', 'LAN', 'LAS',\n",
       "       'NAF', 'NAM', 'PIS1', 'PIS2', 'SAF', 'SEA', 'SSA', 'SWA', 'nan'],\n",
       "      dtype='<U32')"
      ]
     },
     "execution_count": 374,
     "metadata": {},
     "output_type": "execute_result"
    }
   ],
   "source": [
    "np.unique(list(regions_df.Reg_name))"
   ]
  },
  {
   "cell_type": "code",
   "execution_count": 528,
   "id": "eaf16686",
   "metadata": {
    "scrolled": true
   },
   "outputs": [
    {
     "data": {
      "text/html": [
       "<div>\n",
       "<style scoped>\n",
       "    .dataframe tbody tr th:only-of-type {\n",
       "        vertical-align: middle;\n",
       "    }\n",
       "\n",
       "    .dataframe tbody tr th {\n",
       "        vertical-align: top;\n",
       "    }\n",
       "\n",
       "    .dataframe thead th {\n",
       "        text-align: right;\n",
       "    }\n",
       "</style>\n",
       "<table border=\"1\" class=\"dataframe\">\n",
       "  <thead>\n",
       "    <tr style=\"text-align: right;\">\n",
       "      <th></th>\n",
       "      <th>value</th>\n",
       "      <th>geometry</th>\n",
       "      <th>latitude</th>\n",
       "      <th>longitude</th>\n",
       "      <th>region_id</th>\n",
       "      <th>impf_</th>\n",
       "      <th>region_id2</th>\n",
       "      <th>Reg_name</th>\n",
       "      <th>impf_RF</th>\n",
       "    </tr>\n",
       "  </thead>\n",
       "  <tbody>\n",
       "    <tr>\n",
       "      <th>0</th>\n",
       "      <td>1.282043e+09</td>\n",
       "      <td>POINT (-70.02083 12.56250)</td>\n",
       "      <td>12.562500</td>\n",
       "      <td>-70.020833</td>\n",
       "      <td>533</td>\n",
       "      <td>1</td>\n",
       "      <td>0    CAR\\nName: Reg_name, dtype: object</td>\n",
       "      <td>CAR</td>\n",
       "      <td>6</td>\n",
       "    </tr>\n",
       "    <tr>\n",
       "      <th>1</th>\n",
       "      <td>6.681992e+07</td>\n",
       "      <td>POINT (-69.97917 12.56250)</td>\n",
       "      <td>12.562500</td>\n",
       "      <td>-69.979167</td>\n",
       "      <td>533</td>\n",
       "      <td>1</td>\n",
       "      <td>0    CAR\\nName: Reg_name, dtype: object</td>\n",
       "      <td>CAR</td>\n",
       "      <td>6</td>\n",
       "    </tr>\n",
       "    <tr>\n",
       "      <th>2</th>\n",
       "      <td>1.130641e+09</td>\n",
       "      <td>POINT (-70.02083 12.52083)</td>\n",
       "      <td>12.520833</td>\n",
       "      <td>-70.020833</td>\n",
       "      <td>533</td>\n",
       "      <td>1</td>\n",
       "      <td>0    CAR\\nName: Reg_name, dtype: object</td>\n",
       "      <td>CAR</td>\n",
       "      <td>6</td>\n",
       "    </tr>\n",
       "    <tr>\n",
       "      <th>3</th>\n",
       "      <td>7.358551e+08</td>\n",
       "      <td>POINT (-69.97917 12.52083)</td>\n",
       "      <td>12.520833</td>\n",
       "      <td>-69.979167</td>\n",
       "      <td>533</td>\n",
       "      <td>1</td>\n",
       "      <td>0    CAR\\nName: Reg_name, dtype: object</td>\n",
       "      <td>CAR</td>\n",
       "      <td>6</td>\n",
       "    </tr>\n",
       "    <tr>\n",
       "      <th>4</th>\n",
       "      <td>2.680846e+07</td>\n",
       "      <td>POINT (-69.93750 12.52083)</td>\n",
       "      <td>12.520833</td>\n",
       "      <td>-69.937500</td>\n",
       "      <td>533</td>\n",
       "      <td>1</td>\n",
       "      <td>0    CAR\\nName: Reg_name, dtype: object</td>\n",
       "      <td>CAR</td>\n",
       "      <td>6</td>\n",
       "    </tr>\n",
       "    <tr>\n",
       "      <th>...</th>\n",
       "      <td>...</td>\n",
       "      <td>...</td>\n",
       "      <td>...</td>\n",
       "      <td>...</td>\n",
       "      <td>...</td>\n",
       "      <td>...</td>\n",
       "      <td>...</td>\n",
       "      <td>...</td>\n",
       "      <td>...</td>\n",
       "    </tr>\n",
       "    <tr>\n",
       "      <th>8418523</th>\n",
       "      <td>1.614874e+04</td>\n",
       "      <td>POINT (31.39583 -22.31250)</td>\n",
       "      <td>-22.312500</td>\n",
       "      <td>31.395833</td>\n",
       "      <td>716</td>\n",
       "      <td>1</td>\n",
       "      <td>229    SSA\\nName: Reg_name, dtype: object</td>\n",
       "      <td>SSA</td>\n",
       "      <td>1</td>\n",
       "    </tr>\n",
       "    <tr>\n",
       "      <th>8418524</th>\n",
       "      <td>1.296877e+04</td>\n",
       "      <td>POINT (31.22917 -22.35417)</td>\n",
       "      <td>-22.354167</td>\n",
       "      <td>31.229167</td>\n",
       "      <td>716</td>\n",
       "      <td>1</td>\n",
       "      <td>229    SSA\\nName: Reg_name, dtype: object</td>\n",
       "      <td>SSA</td>\n",
       "      <td>1</td>\n",
       "    </tr>\n",
       "    <tr>\n",
       "      <th>8418525</th>\n",
       "      <td>1.663883e+04</td>\n",
       "      <td>POINT (31.27083 -22.35417)</td>\n",
       "      <td>-22.354167</td>\n",
       "      <td>31.270833</td>\n",
       "      <td>716</td>\n",
       "      <td>1</td>\n",
       "      <td>229    SSA\\nName: Reg_name, dtype: object</td>\n",
       "      <td>SSA</td>\n",
       "      <td>1</td>\n",
       "    </tr>\n",
       "    <tr>\n",
       "      <th>8418526</th>\n",
       "      <td>1.928599e+04</td>\n",
       "      <td>POINT (31.31250 -22.35417)</td>\n",
       "      <td>-22.354167</td>\n",
       "      <td>31.312500</td>\n",
       "      <td>716</td>\n",
       "      <td>1</td>\n",
       "      <td>229    SSA\\nName: Reg_name, dtype: object</td>\n",
       "      <td>SSA</td>\n",
       "      <td>1</td>\n",
       "    </tr>\n",
       "    <tr>\n",
       "      <th>8418527</th>\n",
       "      <td>1.118102e+04</td>\n",
       "      <td>POINT (31.35417 -22.35417)</td>\n",
       "      <td>-22.354167</td>\n",
       "      <td>31.354167</td>\n",
       "      <td>716</td>\n",
       "      <td>1</td>\n",
       "      <td>229    SSA\\nName: Reg_name, dtype: object</td>\n",
       "      <td>SSA</td>\n",
       "      <td>1</td>\n",
       "    </tr>\n",
       "  </tbody>\n",
       "</table>\n",
       "<p>8418528 rows × 9 columns</p>\n",
       "</div>"
      ],
      "text/plain": [
       "                value                    geometry   latitude  longitude  \\\n",
       "0        1.282043e+09  POINT (-70.02083 12.56250)  12.562500 -70.020833   \n",
       "1        6.681992e+07  POINT (-69.97917 12.56250)  12.562500 -69.979167   \n",
       "2        1.130641e+09  POINT (-70.02083 12.52083)  12.520833 -70.020833   \n",
       "3        7.358551e+08  POINT (-69.97917 12.52083)  12.520833 -69.979167   \n",
       "4        2.680846e+07  POINT (-69.93750 12.52083)  12.520833 -69.937500   \n",
       "...               ...                         ...        ...        ...   \n",
       "8418523  1.614874e+04  POINT (31.39583 -22.31250) -22.312500  31.395833   \n",
       "8418524  1.296877e+04  POINT (31.22917 -22.35417) -22.354167  31.229167   \n",
       "8418525  1.663883e+04  POINT (31.27083 -22.35417) -22.354167  31.270833   \n",
       "8418526  1.928599e+04  POINT (31.31250 -22.35417) -22.354167  31.312500   \n",
       "8418527  1.118102e+04  POINT (31.35417 -22.35417) -22.354167  31.354167   \n",
       "\n",
       "         region_id  impf_                                 region_id2 Reg_name  \\\n",
       "0              533      1    0    CAR\\nName: Reg_name, dtype: object      CAR   \n",
       "1              533      1    0    CAR\\nName: Reg_name, dtype: object      CAR   \n",
       "2              533      1    0    CAR\\nName: Reg_name, dtype: object      CAR   \n",
       "3              533      1    0    CAR\\nName: Reg_name, dtype: object      CAR   \n",
       "4              533      1    0    CAR\\nName: Reg_name, dtype: object      CAR   \n",
       "...            ...    ...                                        ...      ...   \n",
       "8418523        716      1  229    SSA\\nName: Reg_name, dtype: object      SSA   \n",
       "8418524        716      1  229    SSA\\nName: Reg_name, dtype: object      SSA   \n",
       "8418525        716      1  229    SSA\\nName: Reg_name, dtype: object      SSA   \n",
       "8418526        716      1  229    SSA\\nName: Reg_name, dtype: object      SSA   \n",
       "8418527        716      1  229    SSA\\nName: Reg_name, dtype: object      SSA   \n",
       "\n",
       "         impf_RF  \n",
       "0              6  \n",
       "1              6  \n",
       "2              6  \n",
       "3              6  \n",
       "4              6  \n",
       "...          ...  \n",
       "8418523        1  \n",
       "8418524        1  \n",
       "8418525        1  \n",
       "8418526        1  \n",
       "8418527        1  \n",
       "\n",
       "[8418528 rows x 9 columns]"
      ]
     },
     "execution_count": 528,
     "metadata": {},
     "output_type": "execute_result"
    }
   ],
   "source": [
    "assets.gdf"
   ]
  },
  {
   "cell_type": "code",
   "execution_count": 602,
   "id": "9b1aa09f",
   "metadata": {},
   "outputs": [
    {
     "data": {
      "text/plain": [
       "['1980_gswp3_watergap2_hist',\n",
       " '1981_gswp3_watergap2_hist',\n",
       " '1982_gswp3_watergap2_hist',\n",
       " '1983_gswp3_watergap2_hist',\n",
       " '1984_gswp3_watergap2_hist',\n",
       " '1985_gswp3_watergap2_hist',\n",
       " '1986_gswp3_watergap2_hist',\n",
       " '1987_gswp3_watergap2_hist',\n",
       " '1988_gswp3_watergap2_hist',\n",
       " '1989_gswp3_watergap2_hist',\n",
       " '1990_gswp3_watergap2_hist',\n",
       " '1991_gswp3_watergap2_hist',\n",
       " '1992_gswp3_watergap2_hist',\n",
       " '1993_gswp3_watergap2_hist',\n",
       " '1994_gswp3_watergap2_hist',\n",
       " '1995_gswp3_watergap2_hist',\n",
       " '1996_gswp3_watergap2_hist',\n",
       " '1997_gswp3_watergap2_hist',\n",
       " '1998_gswp3_watergap2_hist',\n",
       " '1999_gswp3_watergap2_hist',\n",
       " '2000_gswp3_watergap2_hist',\n",
       " '2001_gswp3_watergap2_hist',\n",
       " '2002_gswp3_watergap2_hist',\n",
       " '2003_gswp3_watergap2_hist',\n",
       " '2004_gswp3_watergap2_hist',\n",
       " '2005_gswp3_watergap2_hist',\n",
       " '2006_gswp3_watergap2_hist',\n",
       " '2007_gswp3_watergap2_hist',\n",
       " '2008_gswp3_watergap2_hist',\n",
       " '2009_gswp3_watergap2_hist',\n",
       " '1980_princeton_watergap2_hist',\n",
       " '1981_princeton_watergap2_hist',\n",
       " '1982_princeton_watergap2_hist',\n",
       " '1983_princeton_watergap2_hist',\n",
       " '1984_princeton_watergap2_hist',\n",
       " '1985_princeton_watergap2_hist',\n",
       " '1986_princeton_watergap2_hist',\n",
       " '1987_princeton_watergap2_hist',\n",
       " '1988_princeton_watergap2_hist',\n",
       " '1989_princeton_watergap2_hist',\n",
       " '1990_princeton_watergap2_hist',\n",
       " '1991_princeton_watergap2_hist',\n",
       " '1992_princeton_watergap2_hist',\n",
       " '1993_princeton_watergap2_hist',\n",
       " '1994_princeton_watergap2_hist',\n",
       " '1995_princeton_watergap2_hist',\n",
       " '1996_princeton_watergap2_hist',\n",
       " '1997_princeton_watergap2_hist',\n",
       " '1998_princeton_watergap2_hist',\n",
       " '1999_princeton_watergap2_hist',\n",
       " '2000_princeton_watergap2_hist',\n",
       " '2001_princeton_watergap2_hist',\n",
       " '2002_princeton_watergap2_hist',\n",
       " '2003_princeton_watergap2_hist',\n",
       " '2004_princeton_watergap2_hist',\n",
       " '2005_princeton_watergap2_hist',\n",
       " '2006_princeton_watergap2_hist',\n",
       " '2007_princeton_watergap2_hist',\n",
       " '2008_princeton_watergap2_hist',\n",
       " '2009_princeton_watergap2_hist',\n",
       " '1980_watch_watergap2_hist',\n",
       " '1981_watch_watergap2_hist',\n",
       " '1982_watch_watergap2_hist',\n",
       " '1983_watch_watergap2_hist',\n",
       " '1984_watch_watergap2_hist',\n",
       " '1985_watch_watergap2_hist',\n",
       " '1986_watch_watergap2_hist',\n",
       " '1987_watch_watergap2_hist',\n",
       " '1988_watch_watergap2_hist',\n",
       " '1989_watch_watergap2_hist',\n",
       " '1990_watch_watergap2_hist',\n",
       " '1991_watch_watergap2_hist',\n",
       " '1992_watch_watergap2_hist',\n",
       " '1993_watch_watergap2_hist',\n",
       " '1994_watch_watergap2_hist',\n",
       " '1995_watch_watergap2_hist',\n",
       " '1996_watch_watergap2_hist',\n",
       " '1997_watch_watergap2_hist',\n",
       " '1998_watch_watergap2_hist',\n",
       " '1999_watch_watergap2_hist',\n",
       " '2000_watch_watergap2_hist',\n",
       " '2001_watch_watergap2_hist',\n",
       " '1980_wfdei_watergap2_hist',\n",
       " '1981_wfdei_watergap2_hist',\n",
       " '1982_wfdei_watergap2_hist',\n",
       " '1983_wfdei_watergap2_hist',\n",
       " '1984_wfdei_watergap2_hist',\n",
       " '1985_wfdei_watergap2_hist',\n",
       " '1986_wfdei_watergap2_hist',\n",
       " '1987_wfdei_watergap2_hist',\n",
       " '1988_wfdei_watergap2_hist',\n",
       " '1989_wfdei_watergap2_hist',\n",
       " '1990_wfdei_watergap2_hist',\n",
       " '1991_wfdei_watergap2_hist',\n",
       " '1992_wfdei_watergap2_hist',\n",
       " '1993_wfdei_watergap2_hist',\n",
       " '1994_wfdei_watergap2_hist',\n",
       " '1995_wfdei_watergap2_hist',\n",
       " '1996_wfdei_watergap2_hist',\n",
       " '1997_wfdei_watergap2_hist',\n",
       " '1998_wfdei_watergap2_hist',\n",
       " '1999_wfdei_watergap2_hist',\n",
       " '2000_wfdei_watergap2_hist',\n",
       " '2001_wfdei_watergap2_hist',\n",
       " '2002_wfdei_watergap2_hist',\n",
       " '2003_wfdei_watergap2_hist',\n",
       " '2004_wfdei_watergap2_hist',\n",
       " '2005_wfdei_watergap2_hist',\n",
       " '2006_wfdei_watergap2_hist',\n",
       " '2007_wfdei_watergap2_hist',\n",
       " '2008_wfdei_watergap2_hist',\n",
       " '2009_wfdei_watergap2_hist']"
      ]
     },
     "execution_count": 602,
     "metadata": {},
     "output_type": "execute_result"
    }
   ],
   "source": [
    "event_names"
   ]
  },
  {
   "cell_type": "code",
   "execution_count": 612,
   "id": "a461c67f",
   "metadata": {},
   "outputs": [
    {
     "data": {
      "text/plain": [
       "array(['clm40', 'dbh', 'h08', 'jules-b1', 'jules-w1', 'lpjml', 'matsiro',\n",
       "       'mpi-hm', 'orchidee', 'pcr-globwb', 'vic', 'watergap2'],\n",
       "      dtype='<U10')"
      ]
     },
     "execution_count": 612,
     "metadata": {},
     "output_type": "execute_result"
    }
   ],
   "source": [
    "models"
   ]
  },
  {
   "cell_type": "code",
   "execution_count": 611,
   "id": "aafe9be3",
   "metadata": {},
   "outputs": [
    {
     "data": {
      "text/plain": [
       "array(['clm40', 'dbh', 'h08', 'jules-b1', 'jules-w1', 'lpjml', 'matsiro',\n",
       "       'mpi-hm', 'orchidee', 'pcr-globwb', 'vic', 'watergap2'],\n",
       "      dtype='<U10')"
      ]
     },
     "execution_count": 611,
     "metadata": {},
     "output_type": "execute_result"
    }
   ],
   "source": [
    "models = np.unique([event.split('_')[2] for event in impact.event_name])\n",
    "models"
   ]
  },
  {
   "cell_type": "code",
   "execution_count": 613,
   "id": "744155fd",
   "metadata": {
    "scrolled": true
   },
   "outputs": [
    {
     "name": "stdout",
     "output_type": "stream",
     "text": [
      "2023-03-09 17:08:53,163 - climada.engine.impact - WARNING - The use of Impact().calc() is deprecated. Use ImpactCalc().impact() instead.\n",
      "2023-03-09 17:09:12,829 - climada.engine.impact - WARNING - The use of Impact().calc() is deprecated. Use ImpactCalc().impact() instead.\n",
      "2023-03-09 17:09:29,551 - climada.engine.impact - WARNING - The use of Impact().calc() is deprecated. Use ImpactCalc().impact() instead.\n",
      "2023-03-09 17:09:46,842 - climada.engine.impact - WARNING - The use of Impact().calc() is deprecated. Use ImpactCalc().impact() instead.\n",
      "2023-03-09 17:10:07,706 - climada.engine.impact - WARNING - The use of Impact().calc() is deprecated. Use ImpactCalc().impact() instead.\n",
      "2023-03-09 17:10:29,089 - climada.engine.impact - WARNING - The use of Impact().calc() is deprecated. Use ImpactCalc().impact() instead.\n",
      "2023-03-09 17:11:01,214 - climada.engine.impact - WARNING - The use of Impact().calc() is deprecated. Use ImpactCalc().impact() instead.\n",
      "2023-03-09 17:11:21,951 - climada.engine.impact - WARNING - The use of Impact().calc() is deprecated. Use ImpactCalc().impact() instead.\n",
      "2023-03-09 17:11:44,111 - climada.engine.impact - WARNING - The use of Impact().calc() is deprecated. Use ImpactCalc().impact() instead.\n",
      "2023-03-09 17:12:00,526 - climada.engine.impact - WARNING - The use of Impact().calc() is deprecated. Use ImpactCalc().impact() instead.\n",
      "2023-03-09 17:12:18,366 - climada.engine.impact - WARNING - The use of Impact().calc() is deprecated. Use ImpactCalc().impact() instead.\n",
      "2023-03-09 17:12:43,216 - climada.engine.impact - WARNING - The use of Impact().calc() is deprecated. Use ImpactCalc().impact() instead.\n",
      "2023-03-09 17:12:57,784 - climada.engine.impact - WARNING - The use of Impact().calc() is deprecated. Use ImpactCalc().impact() instead.\n",
      "2023-03-09 17:13:11,436 - climada.engine.impact - WARNING - The use of Impact().calc() is deprecated. Use ImpactCalc().impact() instead.\n",
      "2023-03-09 17:13:27,111 - climada.engine.impact - WARNING - The use of Impact().calc() is deprecated. Use ImpactCalc().impact() instead.\n",
      "2023-03-09 17:13:45,320 - climada.engine.impact - WARNING - The use of Impact().calc() is deprecated. Use ImpactCalc().impact() instead.\n",
      "2023-03-09 17:14:22,691 - climada.engine.impact - WARNING - The use of Impact().calc() is deprecated. Use ImpactCalc().impact() instead.\n"
     ]
    },
    {
     "ename": "KeyboardInterrupt",
     "evalue": "",
     "output_type": "error",
     "traceback": [
      "\u001b[0;31m---------------------------------------------------------------------------\u001b[0m",
      "\u001b[0;31mKeyboardInterrupt\u001b[0m                         Traceback (most recent call last)",
      "Cell \u001b[0;32mIn [613], line 11\u001b[0m\n\u001b[1;32m      9\u001b[0m assets_reg\u001b[38;5;241m.\u001b[39mgdf \u001b[38;5;241m=\u001b[39m assets_reg\u001b[38;5;241m.\u001b[39mgdf[assets_reg\u001b[38;5;241m.\u001b[39mgdf\u001b[38;5;241m.\u001b[39mReg_name \u001b[38;5;241m==\u001b[39m region]        \n\u001b[1;32m     10\u001b[0m assets_reg\u001b[38;5;241m.\u001b[39mregion_id  \u001b[38;5;241m=\u001b[39m assets_reg\u001b[38;5;241m.\u001b[39mgdf\u001b[38;5;241m.\u001b[39mregion_id\n\u001b[0;32m---> 11\u001b[0m \u001b[43mimpact\u001b[49m\u001b[38;5;241;43m.\u001b[39;49m\u001b[43mcalc\u001b[49m\u001b[43m(\u001b[49m\u001b[43massets_reg\u001b[49m\u001b[43m,\u001b[49m\u001b[43m \u001b[49m\u001b[43mimpf_set_flood\u001b[49m\u001b[43m,\u001b[49m\u001b[43m \u001b[49m\u001b[43mhaz_rf\u001b[49m\u001b[43m,\u001b[49m\u001b[43m \u001b[49m\u001b[43msave_mat\u001b[49m\u001b[38;5;241;43m=\u001b[39;49m\u001b[38;5;28;43;01mTrue\u001b[39;49;00m\u001b[43m)\u001b[49m\n\u001b[1;32m     13\u001b[0m \u001b[38;5;28;01mfor\u001b[39;00m model \u001b[38;5;129;01min\u001b[39;00m models:\n\u001b[1;32m     14\u001b[0m     event_names \u001b[38;5;241m=\u001b[39m [event \u001b[38;5;28;01mfor\u001b[39;00m event \u001b[38;5;129;01min\u001b[39;00m impact\u001b[38;5;241m.\u001b[39mevent_name \u001b[38;5;28;01mif\u001b[39;00m model \u001b[38;5;129;01min\u001b[39;00m event]\n",
      "File \u001b[0;32m~/python_projects/climada_python/climada/engine/impact.py:212\u001b[0m, in \u001b[0;36mImpact.calc\u001b[0;34m(self, exposures, impact_funcs, hazard, save_mat, assign_centroids)\u001b[0m\n\u001b[1;32m    209\u001b[0m \u001b[38;5;28;01melse\u001b[39;00m:\n\u001b[1;32m    210\u001b[0m     LOGGER\u001b[38;5;241m.\u001b[39mwarning(\u001b[38;5;124m\"\u001b[39m\u001b[38;5;124mThe use of Impact().calc() is deprecated. \u001b[39m\u001b[38;5;124m\"\u001b[39m\n\u001b[1;32m    211\u001b[0m                    \u001b[38;5;124m\"\u001b[39m\u001b[38;5;124mUse ImpactCalc().impact() instead.\u001b[39m\u001b[38;5;124m\"\u001b[39m)\n\u001b[0;32m--> 212\u001b[0m     \u001b[38;5;28mself\u001b[39m\u001b[38;5;241m.\u001b[39m\u001b[38;5;18m__dict__\u001b[39m \u001b[38;5;241m=\u001b[39m \u001b[43mimpcalc\u001b[49m\u001b[38;5;241;43m.\u001b[39;49m\u001b[43mimpact\u001b[49m\u001b[43m(\u001b[49m\u001b[43msave_mat\u001b[49m\u001b[43m,\u001b[49m\u001b[43m \u001b[49m\u001b[43massign_centroids\u001b[49m\u001b[43m)\u001b[49m\u001b[38;5;241m.\u001b[39m\u001b[38;5;18m__dict__\u001b[39m\n",
      "File \u001b[0;32m~/python_projects/climada_python/climada/engine/impact_calc.py:137\u001b[0m, in \u001b[0;36mImpactCalc.impact\u001b[0;34m(self, save_mat, assign_centroids)\u001b[0m\n\u001b[1;32m    106\u001b[0m \u001b[38;5;124;03m\"\"\"Compute the impact of a hazard on exposures.\u001b[39;00m\n\u001b[1;32m    107\u001b[0m \n\u001b[1;32m    108\u001b[0m \u001b[38;5;124;03mParameters\u001b[39;00m\n\u001b[0;32m   (...)\u001b[0m\n\u001b[1;32m    134\u001b[0m \u001b[38;5;124;03mthe column is added to the exposures geodataframe.\u001b[39;00m\n\u001b[1;32m    135\u001b[0m \u001b[38;5;124;03m\"\"\"\u001b[39;00m\n\u001b[1;32m    136\u001b[0m impf_col \u001b[38;5;241m=\u001b[39m \u001b[38;5;28mself\u001b[39m\u001b[38;5;241m.\u001b[39mexposures\u001b[38;5;241m.\u001b[39mget_impf_column(\u001b[38;5;28mself\u001b[39m\u001b[38;5;241m.\u001b[39mhazard\u001b[38;5;241m.\u001b[39mhaz_type)\n\u001b[0;32m--> 137\u001b[0m exp_gdf \u001b[38;5;241m=\u001b[39m \u001b[38;5;28;43mself\u001b[39;49m\u001b[38;5;241;43m.\u001b[39;49m\u001b[43mminimal_exp_gdf\u001b[49m\u001b[43m(\u001b[49m\u001b[43mimpf_col\u001b[49m\u001b[43m,\u001b[49m\u001b[43m \u001b[49m\u001b[43massign_centroids\u001b[49m\u001b[43m)\u001b[49m\n\u001b[1;32m    138\u001b[0m \u001b[38;5;28;01mif\u001b[39;00m exp_gdf\u001b[38;5;241m.\u001b[39msize \u001b[38;5;241m==\u001b[39m \u001b[38;5;241m0\u001b[39m:\n\u001b[1;32m    139\u001b[0m     \u001b[38;5;28;01mreturn\u001b[39;00m \u001b[38;5;28mself\u001b[39m\u001b[38;5;241m.\u001b[39m_return_empty(save_mat)\n",
      "File \u001b[0;32m~/python_projects/climada_python/climada/engine/impact_calc.py:272\u001b[0m, in \u001b[0;36mImpactCalc.minimal_exp_gdf\u001b[0;34m(self, impf_col, assign_centroids)\u001b[0m\n\u001b[1;32m    256\u001b[0m \u001b[38;5;124;03m\"\"\"Get minimal exposures geodataframe for impact computation\u001b[39;00m\n\u001b[1;32m    257\u001b[0m \n\u001b[1;32m    258\u001b[0m \u001b[38;5;124;03mParameters\u001b[39;00m\n\u001b[0;32m   (...)\u001b[0m\n\u001b[1;32m    269\u001b[0m \u001b[38;5;124;03m    calculation.\u001b[39;00m\n\u001b[1;32m    270\u001b[0m \u001b[38;5;124;03m\"\"\"\u001b[39;00m\n\u001b[1;32m    271\u001b[0m \u001b[38;5;28;01mif\u001b[39;00m assign_centroids:\n\u001b[0;32m--> 272\u001b[0m     \u001b[38;5;28;43mself\u001b[39;49m\u001b[38;5;241;43m.\u001b[39;49m\u001b[43mexposures\u001b[49m\u001b[38;5;241;43m.\u001b[39;49m\u001b[43massign_centroids\u001b[49m\u001b[43m(\u001b[49m\u001b[38;5;28;43mself\u001b[39;49m\u001b[38;5;241;43m.\u001b[39;49m\u001b[43mhazard\u001b[49m\u001b[43m,\u001b[49m\u001b[43m \u001b[49m\u001b[43moverwrite\u001b[49m\u001b[38;5;241;43m=\u001b[39;49m\u001b[38;5;28;43;01mTrue\u001b[39;49;00m\u001b[43m)\u001b[49m\n\u001b[1;32m    273\u001b[0m \u001b[38;5;28;01melif\u001b[39;00m \u001b[38;5;28mself\u001b[39m\u001b[38;5;241m.\u001b[39mhazard\u001b[38;5;241m.\u001b[39mcentr_exp_col \u001b[38;5;129;01mnot\u001b[39;00m \u001b[38;5;129;01min\u001b[39;00m \u001b[38;5;28mself\u001b[39m\u001b[38;5;241m.\u001b[39mexposures\u001b[38;5;241m.\u001b[39mgdf\u001b[38;5;241m.\u001b[39mcolumns:\n\u001b[1;32m    274\u001b[0m     \u001b[38;5;28;01mraise\u001b[39;00m \u001b[38;5;167;01mValueError\u001b[39;00m(\u001b[38;5;124m\"\u001b[39m\u001b[38;5;124m'\u001b[39m\u001b[38;5;124massign_centroids\u001b[39m\u001b[38;5;124m'\u001b[39m\u001b[38;5;124m is set to \u001b[39m\u001b[38;5;124m'\u001b[39m\u001b[38;5;124mFalse\u001b[39m\u001b[38;5;124m'\u001b[39m\u001b[38;5;124m but no centroids are assigned\u001b[39m\u001b[38;5;124m\"\u001b[39m\n\u001b[1;32m    275\u001b[0m                      \u001b[38;5;124mf\u001b[39m\u001b[38;5;124m\"\u001b[39m\u001b[38;5;124m for the given hazard type (\u001b[39m\u001b[38;5;132;01m{\u001b[39;00m\u001b[38;5;28mself\u001b[39m\u001b[38;5;241m.\u001b[39mhazard\u001b[38;5;241m.\u001b[39mtag\u001b[38;5;241m.\u001b[39mhaz_type\u001b[38;5;132;01m}\u001b[39;00m\u001b[38;5;124m).\u001b[39m\u001b[38;5;124m\"\u001b[39m\n\u001b[1;32m    276\u001b[0m                      \u001b[38;5;124m\"\u001b[39m\u001b[38;5;124m Run \u001b[39m\u001b[38;5;124m'\u001b[39m\u001b[38;5;124mexposures.assign_centroids()\u001b[39m\u001b[38;5;124m'\u001b[39m\u001b[38;5;124m beforehand or set\u001b[39m\u001b[38;5;124m\"\u001b[39m\n\u001b[1;32m    277\u001b[0m                      \u001b[38;5;124m\"\u001b[39m\u001b[38;5;124m \u001b[39m\u001b[38;5;124m'\u001b[39m\u001b[38;5;124massign_centroids\u001b[39m\u001b[38;5;124m'\u001b[39m\u001b[38;5;124m to \u001b[39m\u001b[38;5;124m'\u001b[39m\u001b[38;5;124mTrue\u001b[39m\u001b[38;5;124m'\u001b[39m\u001b[38;5;124m\"\u001b[39m)\n",
      "File \u001b[0;32m~/python_projects/climada_python/climada/entity/exposures/base.py:432\u001b[0m, in \u001b[0;36mExposures.assign_centroids\u001b[0;34m(self, hazard, distance, threshold, overwrite)\u001b[0m\n\u001b[1;32m    427\u001b[0m     assigned \u001b[38;5;241m=\u001b[39m u_coord\u001b[38;5;241m.\u001b[39massign_grid_points(\n\u001b[1;32m    428\u001b[0m         \u001b[38;5;28mself\u001b[39m\u001b[38;5;241m.\u001b[39mgdf\u001b[38;5;241m.\u001b[39mlongitude\u001b[38;5;241m.\u001b[39mvalues, \u001b[38;5;28mself\u001b[39m\u001b[38;5;241m.\u001b[39mgdf\u001b[38;5;241m.\u001b[39mlatitude\u001b[38;5;241m.\u001b[39mvalues,\n\u001b[1;32m    429\u001b[0m         hazard\u001b[38;5;241m.\u001b[39mcentroids\u001b[38;5;241m.\u001b[39mmeta[\u001b[38;5;124m'\u001b[39m\u001b[38;5;124mwidth\u001b[39m\u001b[38;5;124m'\u001b[39m], hazard\u001b[38;5;241m.\u001b[39mcentroids\u001b[38;5;241m.\u001b[39mmeta[\u001b[38;5;124m'\u001b[39m\u001b[38;5;124mheight\u001b[39m\u001b[38;5;124m'\u001b[39m],\n\u001b[1;32m    430\u001b[0m         hazard\u001b[38;5;241m.\u001b[39mcentroids\u001b[38;5;241m.\u001b[39mmeta[\u001b[38;5;124m'\u001b[39m\u001b[38;5;124mtransform\u001b[39m\u001b[38;5;124m'\u001b[39m])\n\u001b[1;32m    431\u001b[0m \u001b[38;5;28;01melse\u001b[39;00m:\n\u001b[0;32m--> 432\u001b[0m     assigned \u001b[38;5;241m=\u001b[39m \u001b[43mu_coord\u001b[49m\u001b[38;5;241;43m.\u001b[39;49m\u001b[43massign_coordinates\u001b[49m\u001b[43m(\u001b[49m\n\u001b[1;32m    433\u001b[0m \u001b[43m        \u001b[49m\u001b[43mnp\u001b[49m\u001b[38;5;241;43m.\u001b[39;49m\u001b[43mstack\u001b[49m\u001b[43m(\u001b[49m\u001b[43m[\u001b[49m\u001b[38;5;28;43mself\u001b[39;49m\u001b[38;5;241;43m.\u001b[39;49m\u001b[43mgdf\u001b[49m\u001b[38;5;241;43m.\u001b[39;49m\u001b[43mlatitude\u001b[49m\u001b[38;5;241;43m.\u001b[39;49m\u001b[43mvalues\u001b[49m\u001b[43m,\u001b[49m\u001b[43m \u001b[49m\u001b[38;5;28;43mself\u001b[39;49m\u001b[38;5;241;43m.\u001b[39;49m\u001b[43mgdf\u001b[49m\u001b[38;5;241;43m.\u001b[39;49m\u001b[43mlongitude\u001b[49m\u001b[38;5;241;43m.\u001b[39;49m\u001b[43mvalues\u001b[49m\u001b[43m]\u001b[49m\u001b[43m,\u001b[49m\u001b[43m \u001b[49m\u001b[43maxis\u001b[49m\u001b[38;5;241;43m=\u001b[39;49m\u001b[38;5;241;43m1\u001b[39;49m\u001b[43m)\u001b[49m\u001b[43m,\u001b[49m\n\u001b[1;32m    434\u001b[0m \u001b[43m        \u001b[49m\u001b[43mhazard\u001b[49m\u001b[38;5;241;43m.\u001b[39;49m\u001b[43mcentroids\u001b[49m\u001b[38;5;241;43m.\u001b[39;49m\u001b[43mcoord\u001b[49m\u001b[43m,\u001b[49m\u001b[43m \u001b[49m\u001b[43mdistance\u001b[49m\u001b[38;5;241;43m=\u001b[39;49m\u001b[43mdistance\u001b[49m\u001b[43m,\u001b[49m\u001b[43m \u001b[49m\u001b[43mthreshold\u001b[49m\u001b[38;5;241;43m=\u001b[39;49m\u001b[43mthreshold\u001b[49m\u001b[43m)\u001b[49m\n\u001b[1;32m    435\u001b[0m \u001b[38;5;28mself\u001b[39m\u001b[38;5;241m.\u001b[39mgdf[centr_haz] \u001b[38;5;241m=\u001b[39m assigned\n",
      "File \u001b[0;32m~/python_projects/climada_python/climada/util/coordinates.py:1023\u001b[0m, in \u001b[0;36massign_coordinates\u001b[0;34m(coords, coords_to_assign, distance, threshold, **kwargs)\u001b[0m\n\u001b[1;32m   1021\u001b[0m \u001b[38;5;66;03m# assign each hazard coordsinate to an element in coords using searchsorted\u001b[39;00m\n\u001b[1;32m   1022\u001b[0m coords_sorter \u001b[38;5;241m=\u001b[39m np\u001b[38;5;241m.\u001b[39margsort(coords_view)\n\u001b[0;32m-> 1023\u001b[0m sort_assign_idx \u001b[38;5;241m=\u001b[39m np\u001b[38;5;241m.\u001b[39mfmin(coords_sorter\u001b[38;5;241m.\u001b[39msize \u001b[38;5;241m-\u001b[39m \u001b[38;5;241m1\u001b[39m, \u001b[43mnp\u001b[49m\u001b[38;5;241;43m.\u001b[39;49m\u001b[43msearchsorted\u001b[49m\u001b[43m(\u001b[49m\n\u001b[1;32m   1024\u001b[0m \u001b[43m    \u001b[49m\u001b[43mcoords_view\u001b[49m\u001b[43m,\u001b[49m\u001b[43m \u001b[49m\u001b[43mcoords_to_assign_view\u001b[49m\u001b[43m,\u001b[49m\u001b[43m \u001b[49m\u001b[43mside\u001b[49m\u001b[38;5;241;43m=\u001b[39;49m\u001b[38;5;124;43m\"\u001b[39;49m\u001b[38;5;124;43mleft\u001b[39;49m\u001b[38;5;124;43m\"\u001b[39;49m\u001b[43m,\u001b[49m\u001b[43m \u001b[49m\u001b[43msorter\u001b[49m\u001b[38;5;241;43m=\u001b[39;49m\u001b[43mcoords_sorter\u001b[49m\u001b[43m)\u001b[49m)\n\u001b[1;32m   1025\u001b[0m sort_assign_idx \u001b[38;5;241m=\u001b[39m coords_sorter[sort_assign_idx]\n\u001b[1;32m   1027\u001b[0m \u001b[38;5;66;03m# determine which of the assignements match exactly\u001b[39;00m\n",
      "File \u001b[0;32m<__array_function__ internals>:180\u001b[0m, in \u001b[0;36msearchsorted\u001b[0;34m(*args, **kwargs)\u001b[0m\n",
      "File \u001b[0;32m~/miniconda3/envs/climada_env/lib/python3.8/site-packages/numpy/core/fromnumeric.py:1387\u001b[0m, in \u001b[0;36msearchsorted\u001b[0;34m(a, v, side, sorter)\u001b[0m\n\u001b[1;32m   1319\u001b[0m \u001b[38;5;129m@array_function_dispatch\u001b[39m(_searchsorted_dispatcher)\n\u001b[1;32m   1320\u001b[0m \u001b[38;5;28;01mdef\u001b[39;00m \u001b[38;5;21msearchsorted\u001b[39m(a, v, side\u001b[38;5;241m=\u001b[39m\u001b[38;5;124m'\u001b[39m\u001b[38;5;124mleft\u001b[39m\u001b[38;5;124m'\u001b[39m, sorter\u001b[38;5;241m=\u001b[39m\u001b[38;5;28;01mNone\u001b[39;00m):\n\u001b[1;32m   1321\u001b[0m     \u001b[38;5;124;03m\"\"\"\u001b[39;00m\n\u001b[1;32m   1322\u001b[0m \u001b[38;5;124;03m    Find indices where elements should be inserted to maintain order.\u001b[39;00m\n\u001b[1;32m   1323\u001b[0m \n\u001b[0;32m   (...)\u001b[0m\n\u001b[1;32m   1385\u001b[0m \n\u001b[1;32m   1386\u001b[0m \u001b[38;5;124;03m    \"\"\"\u001b[39;00m\n\u001b[0;32m-> 1387\u001b[0m     \u001b[38;5;28;01mreturn\u001b[39;00m \u001b[43m_wrapfunc\u001b[49m\u001b[43m(\u001b[49m\u001b[43ma\u001b[49m\u001b[43m,\u001b[49m\u001b[43m \u001b[49m\u001b[38;5;124;43m'\u001b[39;49m\u001b[38;5;124;43msearchsorted\u001b[39;49m\u001b[38;5;124;43m'\u001b[39;49m\u001b[43m,\u001b[49m\u001b[43m \u001b[49m\u001b[43mv\u001b[49m\u001b[43m,\u001b[49m\u001b[43m \u001b[49m\u001b[43mside\u001b[49m\u001b[38;5;241;43m=\u001b[39;49m\u001b[43mside\u001b[49m\u001b[43m,\u001b[49m\u001b[43m \u001b[49m\u001b[43msorter\u001b[49m\u001b[38;5;241;43m=\u001b[39;49m\u001b[43msorter\u001b[49m\u001b[43m)\u001b[49m\n",
      "File \u001b[0;32m~/miniconda3/envs/climada_env/lib/python3.8/site-packages/numpy/core/fromnumeric.py:57\u001b[0m, in \u001b[0;36m_wrapfunc\u001b[0;34m(obj, method, *args, **kwds)\u001b[0m\n\u001b[1;32m     54\u001b[0m     \u001b[38;5;28;01mreturn\u001b[39;00m _wrapit(obj, method, \u001b[38;5;241m*\u001b[39margs, \u001b[38;5;241m*\u001b[39m\u001b[38;5;241m*\u001b[39mkwds)\n\u001b[1;32m     56\u001b[0m \u001b[38;5;28;01mtry\u001b[39;00m:\n\u001b[0;32m---> 57\u001b[0m     \u001b[38;5;28;01mreturn\u001b[39;00m \u001b[43mbound\u001b[49m\u001b[43m(\u001b[49m\u001b[38;5;241;43m*\u001b[39;49m\u001b[43margs\u001b[49m\u001b[43m,\u001b[49m\u001b[43m \u001b[49m\u001b[38;5;241;43m*\u001b[39;49m\u001b[38;5;241;43m*\u001b[39;49m\u001b[43mkwds\u001b[49m\u001b[43m)\u001b[49m\n\u001b[1;32m     58\u001b[0m \u001b[38;5;28;01mexcept\u001b[39;00m \u001b[38;5;167;01mTypeError\u001b[39;00m:\n\u001b[1;32m     59\u001b[0m     \u001b[38;5;66;03m# A TypeError occurs if the object does have such a method in its\u001b[39;00m\n\u001b[1;32m     60\u001b[0m     \u001b[38;5;66;03m# class, but its signature is not identical to that of NumPy's. This\u001b[39;00m\n\u001b[0;32m   (...)\u001b[0m\n\u001b[1;32m     64\u001b[0m     \u001b[38;5;66;03m# Call _wrapit from within the except clause to ensure a potential\u001b[39;00m\n\u001b[1;32m     65\u001b[0m     \u001b[38;5;66;03m# exception has a traceback chain.\u001b[39;00m\n\u001b[1;32m     66\u001b[0m     \u001b[38;5;28;01mreturn\u001b[39;00m _wrapit(obj, method, \u001b[38;5;241m*\u001b[39margs, \u001b[38;5;241m*\u001b[39m\u001b[38;5;241m*\u001b[39mkwds)\n",
      "\u001b[0;31mKeyboardInterrupt\u001b[0m: "
     ]
    }
   ],
   "source": [
    "#assets.gdf = assets.gdf.merge(regions_df[[\"region_id\",\"Reg_name\",\"impf_RF\"]])\n",
    "models = np.unique([event.split('_')[2] for event in impact.event_name])\n",
    "impact_dict = {}\n",
    "impact_model = []\n",
    "for region in np.unique(list(regions_df.Reg_name)):\n",
    "    impact = Impact()\n",
    "    impf_set_flood = flood_imp_func_set()\n",
    "    assets_reg = copy.deepcopy(assets)\n",
    "    assets_reg.gdf = assets_reg.gdf[assets_reg.gdf.Reg_name == region]        \n",
    "    assets_reg.region_id  = assets_reg.gdf.region_id\n",
    "    impact.calc(assets_reg, impf_set_flood, haz_rf, save_mat=True)\n",
    "    \n",
    "    for model in models:\n",
    "        event_names = [event for event in impact.event_name if model in event]\n",
    "        if len(event_names)==112:\n",
    "            impact_model.append(impact.select(event_names=event_names).at_event)\n",
    "    median_impact_ghm = np.median(np.stack(impact_model),axis=0)\n",
    "    impact_obs = np.zeros(len(median_impact_ghm))\n",
    "    impact_year = [event.split('_')[0] for event in impact.event_name]\n",
    "    for n in range(len(impact.at_event)):\n",
    "        year = impact_year[n]\n",
    "        try:\n",
    "            impact_obs[n] = emdat_reg.impact_scaled[int(year)==emdat_reg.year]\n",
    "        except:\n",
    "            continue\n",
    "    impact_obs[impact_obs==0] = np.mean(impact_obs[impact_obs>0])\n",
    "    imp_ratio = median_impact_ghm/impact_obs\n",
    "    p30 = np.percentile(imp_ratio, 30)\n",
    "    p70 = np.percentile(imp_ratio, 70)\n",
    "    impact_dict[region] = np.mean(median_impact_ghm[(imp_ratio>p30)&(imp_ratio<p70)])/1e9"
   ]
  },
  {
   "cell_type": "code",
   "execution_count": 614,
   "id": "b884a10d",
   "metadata": {
    "scrolled": true
   },
   "outputs": [
    {
     "data": {
      "text/plain": [
       "{'ARA': 2.248836014034348,\n",
       " 'AUS': 0.5531727917010852,\n",
       " 'CAR': 2.776617513266995,\n",
       " 'CAS': 2.9795445324065546,\n",
       " 'CHN': 4.88191424011681,\n",
       " 'EUA': 5.591042825624062,\n",
       " 'EUR': 7.182047991448577,\n",
       " 'LAN': 8.234412471541606,\n",
       " 'LAS': 6.703302659840272,\n",
       " 'NAF': 5.571710826462091,\n",
       " 'NAM': 5.336446609118397,\n",
       " 'PIS1': 4.23081582350096,\n",
       " 'PIS2': 3.1831556115500876,\n",
       " 'SAF': 2.308405196413174,\n",
       " 'SEA': 3.043687510585891,\n",
       " 'SSA': 3.7593555394310747}"
      ]
     },
     "execution_count": 614,
     "metadata": {},
     "output_type": "execute_result"
    }
   ],
   "source": [
    "impact_dict"
   ]
  },
  {
   "cell_type": "code",
   "execution_count": null,
   "id": "bba640b3",
   "metadata": {},
   "outputs": [],
   "source": []
  },
  {
   "cell_type": "code",
   "execution_count": 490,
   "id": "8e977dfe",
   "metadata": {
    "collapsed": true,
    "jupyter": {
     "outputs_hidden": true
    }
   },
   "outputs": [
    {
     "data": {
      "text/plain": [
       "0     1982\n",
       "1     1983\n",
       "2     1985\n",
       "3     1987\n",
       "4     1991\n",
       "5     1992\n",
       "6     1993\n",
       "7     1994\n",
       "8     1995\n",
       "9     1996\n",
       "10    1997\n",
       "11    1998\n",
       "12    1999\n",
       "13    2000\n",
       "14    2001\n",
       "15    2002\n",
       "16    2003\n",
       "17    2004\n",
       "18    2005\n",
       "19    2006\n",
       "20    2007\n",
       "21    2008\n",
       "22    2009\n",
       "Name: year, dtype: int64"
      ]
     },
     "execution_count": 490,
     "metadata": {},
     "output_type": "execute_result"
    }
   ],
   "source": [
    "emdat_reg.year"
   ]
  },
  {
   "cell_type": "code",
   "execution_count": 503,
   "id": "5457ab63",
   "metadata": {
    "scrolled": true
   },
   "outputs": [],
   "source": [
    "impact_obs = np.zeros(len(impact.at_event))\n",
    "impact_year = [event.split('_')[0] for event in impact.event_name]\n",
    "for n in range(len(impact.at_event)):\n",
    "    year = impact_year[n]\n",
    "    try:\n",
    "        impact_obs[n] = emdat_reg.impact_scaled[int(year)==emdat_reg.year]\n",
    "    except:\n",
    "        continue"
   ]
  },
  {
   "cell_type": "code",
   "execution_count": 506,
   "id": "dba4bcc6",
   "metadata": {},
   "outputs": [],
   "source": [
    "imp_ratio = impact.at_event[impact_obs>0]/impact_obs[impact_obs>0]\n",
    "p30 = np.percentile(imp_ratio, 30)\n",
    "p70 = np.percentile(imp_ratio, 70)"
   ]
  },
  {
   "cell_type": "code",
   "execution_count": 510,
   "id": "ba6787ee",
   "metadata": {},
   "outputs": [],
   "source": [
    "p30 = np.percentile(imp_ratio, 30)\n",
    "p70 = np.percentile(imp_ratio, 70)"
   ]
  },
  {
   "cell_type": "code",
   "execution_count": 519,
   "id": "35d99521",
   "metadata": {
    "scrolled": true
   },
   "outputs": [
    {
     "data": {
      "text/plain": [
       "(970,)"
      ]
     },
     "execution_count": 519,
     "metadata": {},
     "output_type": "execute_result"
    }
   ],
   "source": [
    "np.shape((imp_ratio>p30)&(imp_ratio<p70))"
   ]
  },
  {
   "cell_type": "code",
   "execution_count": 527,
   "id": "3b892667",
   "metadata": {},
   "outputs": [
    {
     "data": {
      "text/plain": [
       "25.22188347875299"
      ]
     },
     "execution_count": 527,
     "metadata": {},
     "output_type": "execute_result"
    }
   ],
   "source": [
    "np.median(impact.at_event)/1e9"
   ]
  },
  {
   "cell_type": "code",
   "execution_count": 525,
   "id": "d1818137",
   "metadata": {
    "scrolled": true
   },
   "outputs": [
    {
     "data": {
      "text/plain": [
       "28.989966355132385"
      ]
     },
     "execution_count": 525,
     "metadata": {},
     "output_type": "execute_result"
    }
   ],
   "source": [
    "np.median(impact.at_event[impact_obs>0][(imp_ratio>p30)&(imp_ratio<p70)])/1e9"
   ]
  },
  {
   "cell_type": "code",
   "execution_count": 476,
   "id": "8486e86a",
   "metadata": {
    "scrolled": true
   },
   "outputs": [],
   "source": [
    "impf_set_flood = flood_imp_func_set()\n",
    "impf = impf_set_flood.get_func()['RF'][3]\n",
    "impf.mdd = impf.mdd/2\n",
    "impf.mdd[impf.intensity<=0.5] = 0\n",
    "impf_set_flood.append(impf)"
   ]
  },
  {
   "cell_type": "code",
   "execution_count": 477,
   "id": "57e68961",
   "metadata": {},
   "outputs": [
    {
     "data": {
      "image/png": "[encoded data removed]",
      "text/plain": [
       "<Figure size 640x480 with 1 Axes>"
      ]
     },
     "metadata": {},
     "output_type": "display_data"
    }
   ],
   "source": [
    "impf = impf_set_flood.get_func()['RF'][3].plot()\n"
   ]
  },
  {
   "cell_type": "code",
   "execution_count": 479,
   "id": "5b5bd146",
   "metadata": {},
   "outputs": [
    {
     "data": {
      "text/plain": [
       "array([4.37138110e+09, 2.08817705e+10, 2.09399600e+10, 4.40355841e+09,\n",
       "       1.37092505e+10, 6.12511171e+09, 5.82495824e+10, 3.89464237e+09,\n",
       "       2.46773822e+10, 4.30191681e+09, 1.51637748e+09, 1.39819239e+09,\n",
       "       2.03301134e+09, 4.76792182e+09, 6.20535259e+10, 1.10143705e+11,\n",
       "       5.85041314e+09, 4.20556950e+09, 2.27442274e+09, 4.07746178e+10,\n",
       "       6.15089174e+10, 4.75930513e+10, 6.30544137e+10, 5.76464830e+09,\n",
       "       2.13909387e+09, 3.11529717e+09, 2.15173971e+10, 8.82291411e+09,\n",
       "       8.09022810e+09, 1.93492724e+10])"
      ]
     },
     "execution_count": 479,
     "metadata": {},
     "output_type": "execute_result"
    }
   ],
   "source": [
    "impact.at_event"
   ]
  },
  {
   "cell_type": "code",
   "execution_count": 278,
   "id": "242badf6",
   "metadata": {},
   "outputs": [
    {
     "data": {
      "text/plain": [
       "<AxesSubplot:title={'center':'RF 2: Flood Asia JRC Residential noPAA'}, xlabel='Intensity (m)', ylabel='Impact (%)'>"
      ]
     },
     "execution_count": 278,
     "metadata": {},
     "output_type": "execute_result"
    },
    {
     "data": {
      "image/png": "[encoded data removed]",
      "text/plain": [
       "<Figure size 640x480 with 1 Axes>"
      ]
     },
     "metadata": {},
     "output_type": "display_data"
    }
   ],
   "source": [
    "impf_dict['ARA']['gswp3_h08_hist'][1].plot()"
   ]
  },
  {
   "cell_type": "code",
   "execution_count": 275,
   "id": "574081c6",
   "metadata": {},
   "outputs": [
    {
     "ename": "TypeError",
     "evalue": "list indices must be integers or slices, not str",
     "output_type": "error",
     "traceback": [
      "\u001b[0;31m---------------------------------------------------------------------------\u001b[0m",
      "\u001b[0;31mTypeError\u001b[0m                                 Traceback (most recent call last)",
      "Cell \u001b[0;32mIn [275], line 1\u001b[0m\n\u001b[0;32m----> 1\u001b[0m \u001b[43ma\u001b[49m\u001b[43m[\u001b[49m\u001b[38;5;124;43m'\u001b[39;49m\u001b[38;5;124;43mARA\u001b[39;49m\u001b[38;5;124;43m'\u001b[39;49m\u001b[43m]\u001b[49m\n",
      "\u001b[0;31mTypeError\u001b[0m: list indices must be integers or slices, not str"
     ]
    }
   ],
   "source": [
    "a['ARA']"
   ]
  },
  {
   "cell_type": "code",
   "execution_count": 273,
   "id": "4acf4127",
   "metadata": {},
   "outputs": [
    {
     "data": {
      "text/plain": [
       "<AxesSubplot:title={'center':'RF 2: Flood Asia JRC Residential noPAA'}, xlabel='Intensity (m)', ylabel='Impact (%)'>"
      ]
     },
     "execution_count": 273,
     "metadata": {},
     "output_type": "execute_result"
    },
    {
     "data": {
      "image/png": "[encoded data removed]",
      "text/plain": [
       "<Figure size 640x480 with 1 Axes>"
      ]
     },
     "metadata": {},
     "output_type": "display_data"
    }
   ],
   "source": [
    "impf2.plot()"
   ]
  }
 ],
 "metadata": {
  "kernelspec": {
   "display_name": "Python 3 (ipykernel)",
   "language": "python",
   "name": "python3"
  },
  "language_info": {
   "codemirror_mode": {
    "name": "ipython",
    "version": 3
   },
   "file_extension": ".py",
   "mimetype": "text/x-python",
   "name": "python",
   "nbconvert_exporter": "python",
   "pygments_lexer": "ipython3",
   "version": "3.10.4"
  }
 },
 "nbformat": 4,
 "nbformat_minor": 5
}
