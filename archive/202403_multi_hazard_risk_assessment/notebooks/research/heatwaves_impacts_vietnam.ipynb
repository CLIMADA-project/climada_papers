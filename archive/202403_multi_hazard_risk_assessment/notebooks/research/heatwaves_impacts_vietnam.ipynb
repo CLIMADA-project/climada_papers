{
 "cells": [
  {
   "cell_type": "code",
   "execution_count": 1,
   "id": "5e786406-5fdb-4d04-95b6-b081d94a90f4",
   "metadata": {},
   "outputs": [],
   "source": [
    "from climada.hazard import Hazard"
   ]
  },
  {
   "cell_type": "code",
   "execution_count": 2,
   "id": "53d14021-2484-47e3-9f7d-779d70ea469b",
   "metadata": {},
   "outputs": [],
   "source": [
    "import netCDF4 as nc\n",
    "import numpy as np\n",
    "import xarray as xr\n",
    "import os\n",
    "\n",
    "\n",
    "#Dictionary with years for warming levels\n",
    "years_warming_level = {\n",
    "    '1': {\n",
    "        'rcp26': {'gfdl-esm2m': [2006, 2023], 'miroc5': [2006, 2025], 'hadgem2-es': [2006, 2019], 'ipsl-cm5a-lr': None},\n",
    "        'rcp60': {'gfdl-esm2m': [2006, 2027], 'miroc5': [2013, 2034], 'hadgem2-es': [2006, 2023], 'ipsl-cm5a-lr': None}\n",
    "    },\n",
    "    '2': {\n",
    "        'rcp26': {'gfdl-esm2m': None, 'miroc5': None, 'hadgem2-es': None, 'ipsl-cm5a-lr': [2019, 2040]},\n",
    "        'rcp60': {'gfdl-esm2m': [2066, 2087], 'miroc5': [2061, 2082], 'hadgem2-es': [2040, 2061], 'ipsl-cm5a-lr': [2019, 2040]}\n",
    "    }\n",
    "}\n"
   ]
  },
  {
   "cell_type": "code",
   "execution_count": 3,
   "id": "d20dca88-ed33-4f5d-b99d-87d1e576c05b",
   "metadata": {},
   "outputs": [],
   "source": [
    "\n",
    "# Function definitions for load_temperature_data, calculate_percentile, identify_heatwaves remain the same\n",
    "from scipy.stats import norm\n",
    "\n",
    "import xarray as xr\n",
    "import os\n",
    "\n",
    "def load_vietnam_data(file_path, variable):\n",
    "    \"\"\"\n",
    "    Load temperature data from a netCDF4 file, subset for Vietnam.\n",
    "    \"\"\"\n",
    "    # Define the bounding box for Vietnam\n",
    "    lat_bounds = slice(25, 8)  # Vietnam's approximate latitude bounds\n",
    "    lon_bounds = slice(100, 110)  # Vietnam's approximate longitude bounds\n",
    "    \n",
    "    # Load the data and select the region of interest\n",
    "    data = xr.open_dataset(file_path)[variable]  # Assuming 'tas' is the temperature variable\n",
    "    data = data.sel(lat=lat_bounds, lon=lon_bounds)\n",
    "    \n",
    "    return data\n",
    "\n",
    "\n"
   ]
  },
  {
   "cell_type": "code",
   "execution_count": 4,
   "id": "e9a69dfa-5731-457a-9580-d655c4700e20",
   "metadata": {},
   "outputs": [],
   "source": [
    "def round_year(year):\n",
    "    \"\"\"\n",
    "    Round the input year to match specific naming of the climate data files.\n",
    "\n",
    "    Parameters:\n",
    "    - year (int): The year to round.\n",
    "\n",
    "    Returns:\n",
    "    - int: The rounded year based on predefined rules. The rules are as follows:\n",
    "        - If the year is before 2010, it rounds down to 2006.\n",
    "        - If the year is after 2010 and is a decade year (e.g., 2020), it returns the year of the start of the decade plus one (e.g., 2011 for 2020).\n",
    "        - Otherwise, it rounds down to the start of the decade year plus one (e.g., 2021 for any year between 2021-2029).\n",
    "    \"\"\"\n",
    "    if year < 2010:\n",
    "        return 2006\n",
    "    elif year % 10 == 0 and year > 2010:\n",
    "        return (year - 10) + 1\n",
    "    else:\n",
    "        return (year // 10) * 10 + 1\n",
    "\n",
    "def get_relevant_files(years_range, scenario, model, base_path, variable):\n",
    "    \"\"\"\n",
    "    Get a list of file paths for climate data files that are relevant to the given parameters.\n",
    "\n",
    "    Parameters:\n",
    "    - years_range (tuple): A tuple containing the start and end years of interest.\n",
    "    - scenario (str): The climate scenario (e.g., RCP4.5, RCP8.5).\n",
    "    - model (str): The climate model used for the simulation.\n",
    "    - base_path (str): The base path where the climate data files are stored.\n",
    "    - variable (str): The climate variable of interest (e.g., temperature, precipitation).\n",
    "\n",
    "    Returns:\n",
    "    - list: A list of file paths that match the given parameters and fall within the specified years range. The files are selected based on the rounding rules defined in `round_year` and are expected to exist at the specified `base_path`.\n",
    "\n",
    "    Notes:\n",
    "    - The function rounds the start and end years using `round_year` to match the file naming conventions.\n",
    "    - It assumes file naming format as \"{variable}_day_{model}_{scenario}_r1i1p1_EWEMBI_{start_year}0101-{end_year}1231.nc4\".\n",
    "    - Files are only included if they exist on the filesystem at the constructed path.\n",
    "    \"\"\"\n",
    "    start_year, end_year = years_range\n",
    "    start_year_rounded = round_year(start_year)\n",
    "    end_year_rounded = round_year(end_year)\n",
    "    middle_year_rounded = round_year(start_year + 9)\n",
    "    middle_year2_rounded = round_year(start_year + 11)\n",
    "\n",
    "    unique_files_starting_year = np.unique([start_year_rounded, end_year_rounded, middle_year_rounded, middle_year2_rounded])\n",
    "    files = []\n",
    "    for year in unique_files_starting_year:\n",
    "        if year == 2006:\n",
    "            end_year_file = 2010\n",
    "        else:\n",
    "            end_year_file = year + 9\n",
    "        file_base = f\"{base_path}/{variable}_day_{model}_{scenario}_r1i1p1_EWEMBI_{str(year)}0101-{end_year_file}1231\"\n",
    "        file_path = f\"{file_base}.nc4\"\n",
    "        if os.path.exists(file_path):\n",
    "            files.append(file_path)\n",
    "       \n",
    "    return files"
   ]
  },
  {
   "cell_type": "markdown",
   "id": "d3a8771e-ea0d-427a-ba2b-3ad903b65641",
   "metadata": {},
   "source": [
    "## Calculate the WBGT and save it as a CLIMADA hazard"
   ]
  },
  {
   "cell_type": "code",
   "execution_count": 5,
   "id": "9fa96341-ba29-4d97-a69c-a5c9d872158f",
   "metadata": {},
   "outputs": [],
   "source": [
    "# Initialize a dictionary to store heatwave data\n",
    "heatwave_data_dict = {}\n",
    "base_path = \"/nfs/n2o/wcr/szelie/isimip2b\"\n",
    "# Process data for each warming level\n",
    "heat_hazards ={}\n",
    "from climada.hazard import Centroids\n",
    "import pandas as pd\n",
    "import scipy as sp\n",
    "import datetime\n",
    "from climada.hazard import Hazard\n",
    "def calculate_wbgt(Ta, RH, SR):\n",
    "    # ESI formula for WBGT\n",
    "    ESI = (0.63 * Ta - 0.03 * RH + 0.002 * SR +\n",
    "           0.0054 * (Ta * RH) - 0.073 * (0.1 + SR) ** -1)\n",
    "    ESI[ESI < 20] = 0\n",
    "    return ESI\n",
    "\n",
    "for warming_level in ['1','2']:\n",
    "    heat_hazards[warming_level] = []\n",
    "    heatwave_data_dict[warming_level] = {}\n",
    "\n",
    "    for scenario in years_warming_level[warming_level]:\n",
    "        \n",
    "        heatwave_data_dict[warming_level][scenario] = {}\n",
    "        \n",
    "        for model, years in years_warming_level[warming_level][scenario].items():\n",
    "            if model == 'hadgem2-es':\n",
    "                model_upper='HadGEM2-ES'\n",
    "            else:\n",
    "                model_upper=model.upper()\n",
    "            if years is None:\n",
    "                continue\n",
    "            hurs_files = get_relevant_files(years, scenario, model_upper, base_path, 'hurs')\n",
    "            tas_files = get_relevant_files(years, scenario, model_upper, base_path, 'tas')\n",
    "            rsds_files = get_relevant_files(years, scenario, model_upper, base_path, 'rsds')\n",
    "\n",
    "            hurs_data_list = []\n",
    "            tas_data_list = []\n",
    "            rsds_data_list = []\n",
    "            \n",
    "            for hurs_file, tas_file, rsds_file in zip(hurs_files, tas_files, rsds_files):\n",
    "                hurs_data = load_vietnam_data(os.path.join(base_path, hurs_file),'hurs')\n",
    "                tas_data = load_vietnam_data(os.path.join(base_path, tas_file),'tas')\n",
    "                rsds_data = load_vietnam_data(os.path.join(base_path, rsds_file), 'rsds')\n",
    "\n",
    "                hurs_data_list.append(hurs_data)\n",
    "                tas_data_list.append(tas_data)\n",
    "                rsds_data_list.append(rsds_data)\n",
    "            \n",
    "            #print(years)\n",
    "            tas_data = xr.concat(tas_data_list, dim='time')\n",
    "            tas_data_relevant_years = tas_data.sel(time=slice(\"-\".join([str(years[0]),\"01\",\"01\"]), \"-\".join([str(years[1]-1),\"12\",\"31\"])))\n",
    "\n",
    "            hurs_data = xr.concat(hurs_data_list, dim='time')\n",
    "            hurs_data_relevant_years = hurs_data.sel(time=slice(\"-\".join([str(years[0]),\"01\",\"01\"]), \"-\".join([str(years[1]-1),\"12\",\"31\"])))\n",
    "\n",
    "            rsds_data = xr.concat(rsds_data_list, dim='time')\n",
    "            rsds_data_relevant_years = rsds_data.sel(time=slice(\"-\".join([str(years[0]),\"01\",\"01\"]), \"-\".join([str(years[1]-1),\"12\",\"31\"])))\n",
    "\n",
    "\n",
    "            Ta = tas_data_relevant_years.values - 273.15  # Convert to Celsius\n",
    "            RH = hurs_data_relevant_years.values  # It is assumed that it's already in percentage\n",
    "            SR = rsds_data_relevant_years.values\n",
    "\n",
    "            wbgt = calculate_wbgt(Ta, RH, SR)\n",
    "\n",
    "            n_times, n_latitude, n_longitude = wbgt.shape\n",
    "            wbgt_reshaped = wbgt.reshape(n_times, n_latitude * n_longitude)\n",
    "            #wbgt_reshaped[wbgt_reshaped<25] = 0\n",
    "            wbgt_reshaped = sp.sparse.csr_matrix(wbgt_reshaped)\n",
    "            df = hurs_data.to_dataframe().groupby(['lat','lon']).sum().reset_index()\n",
    "            \n",
    "            centroids = Centroids.from_lat_lon(df.lat,df.lon)\n",
    "\n",
    "            time = tas_data_relevant_years.time\n",
    "            ordinal_dates = pd.to_datetime(time.values).to_pydatetime()\n",
    "            ordinal_dates = [date.toordinal() for date in ordinal_dates]\n",
    "            years = [datetime.date.fromordinal(date).year for date in ordinal_dates]\n",
    "            event_name = [\"_\".join([str(year), model, scenario]) for year in years]\n",
    "            #print(event_name)\n",
    "            wbgt_haz = Hazard(\n",
    "                haz_type=\"HW\",\n",
    "                centroids=centroids,\n",
    "                frequency=np.ones(len(time)) / len(np.unique(years)),\n",
    "                event_id=np.arange(1, len(time) + 1),\n",
    "                event_name=event_name,\n",
    "                date=ordinal_dates,\n",
    "                intensity=wbgt_reshaped\n",
    "            )\n",
    "            wbgt_haz.intensity.data[wbgt_haz.intensity.data<25] = 0\n",
    "            heat_hazards[warming_level].intensity.eliminate_zeros()\n",
    "            #wbgt_haz.intensity.data[wbgt_haz.centroids.region_id[wbgt_haz.intensity.nonzero()[1]] != 1] = 0\n",
    "\n",
    "            heat_hazards[warming_level].append(wbgt_haz)\n",
    "            \n",
    "    heat_hazards[warming_level] = Hazard.concat(heat_hazards[warming_level])"
   ]
  },
  {
   "cell_type": "code",
   "execution_count": 10,
   "id": "44a9181b-4ca1-4f68-84d7-a105b0a6ef56",
   "metadata": {},
   "outputs": [
    {
     "data": {
      "text/plain": [
       "105"
      ]
     },
     "execution_count": 10,
     "metadata": {},
     "output_type": "execute_result"
    }
   ],
   "source": [
    "len(np.unique(heat_hazards['2'].event_name))"
   ]
  },
  {
   "cell_type": "code",
   "execution_count": 13,
   "id": "7f268d63-231a-4d11-b349-35e2be9888ec",
   "metadata": {},
   "outputs": [
    {
     "data": {
      "text/plain": [
       "(array([2.640849e+06, 3.997047e+06, 4.703194e+06, 3.504295e+06,\n",
       "        1.377752e+06, 3.501240e+05, 7.280200e+04, 1.266100e+04,\n",
       "        1.024000e+03, 8.500000e+01]),\n",
       " array([25.      , 26.212835, 27.42567 , 28.638506, 29.851341, 31.064177,\n",
       "        32.27701 , 33.489845, 34.702682, 35.91552 , 37.128353],\n",
       "       dtype=float32),\n",
       " <BarContainer object of 10 artists>)"
      ]
     },
     "execution_count": 13,
     "metadata": {},
     "output_type": "execute_result"
    },
    {
     "data": {
      "image/png": "[encoded data removed]",
      "text/plain": [
       "<Figure size 432x288 with 1 Axes>"
      ]
     },
     "metadata": {
      "needs_background": "light"
     },
     "output_type": "display_data"
    }
   ],
   "source": [
    "import matplotlib.pyplot as plt\n",
    "plt.hist(heat_hazards[\"1\"].intensity.data)"
   ]
  },
  {
   "cell_type": "code",
   "execution_count": 14,
   "id": "ba72987b-d2d8-4318-bdca-8b582e8b9222",
   "metadata": {},
   "outputs": [
    {
     "data": {
      "text/plain": [
       "(array([2.154252e+06, 3.052377e+06, 4.649435e+06, 4.342878e+06,\n",
       "        2.422332e+06, 7.031390e+05, 1.475830e+05, 2.349700e+04,\n",
       "        2.279000e+03, 7.600000e+01]),\n",
       " array([25.      , 26.251764, 27.503529, 28.755295, 30.00706 , 31.258823,\n",
       "        32.51059 , 33.762352, 35.01412 , 36.26588 , 37.517647],\n",
       "       dtype=float32),\n",
       " <BarContainer object of 10 artists>)"
      ]
     },
     "execution_count": 14,
     "metadata": {},
     "output_type": "execute_result"
    },
    {
     "data": {
      "image/png": "[encoded data removed]",
      "text/plain": [
       "<Figure size 432x288 with 1 Axes>"
      ]
     },
     "metadata": {
      "needs_background": "light"
     },
     "output_type": "display_data"
    }
   ],
   "source": [
    "import matplotlib.pyplot as plt\n",
    "plt.hist(heat_hazards[\"2\"].intensity.data)"
   ]
  },
  {
   "cell_type": "code",
   "execution_count": 82,
   "id": "de9c609c-ca02-42c2-bb39-4afe16cd78a5",
   "metadata": {},
   "outputs": [],
   "source": [
    "from pathlib import Path\n",
    "import xarray as xr\n",
    "\n",
    "base_path = Path(\"/nfs/n2o/wcr/szelie/isimip2b\")\n",
    "\n",
    "path = base_path / \"rsds_day_HadGEM2-ES_rcp60_r1i1p1_EWEMBI_20510101-20601231.nc4\""
   ]
  },
  {
   "cell_type": "code",
   "execution_count": 36,
   "id": "bf07dd7a-2465-4fd4-a00c-ee750bedc5ce",
   "metadata": {},
   "outputs": [],
   "source": [
    "had = load_vietnam_data(path, 'rsds')\n",
    "\n",
    "path2 = base_path / \"rsds_day_MIROC5_rcp60_r1i1p1_EWEMBI_20510101-20601231.nc4\"\n",
    "mir = load_vietnam_data(path2, 'rsds')\n"
   ]
  },
  {
   "cell_type": "code",
   "execution_count": 26,
   "id": "cfd537fa-7ad3-4609-ac3a-698f67dc54f5",
   "metadata": {},
   "outputs": [
    {
     "data": {
      "text/plain": [
       "array([283.41788, 283.7245 , 283.37772, ..., 298.8913 , 298.5747 ,\n",
       "       298.63535], dtype=float32)"
      ]
     },
     "execution_count": 26,
     "metadata": {},
     "output_type": "execute_result"
    }
   ],
   "source": [
    "mir.values.flatten()"
   ]
  },
  {
   "cell_type": "code",
   "execution_count": 37,
   "id": "39d54ec5-9f35-4938-9072-156a49cb401f",
   "metadata": {},
   "outputs": [
    {
     "data": {
      "text/plain": [
       "(array([ 26484.,  75495., 150261., 290568., 409656., 503758., 510075.,\n",
       "        344818., 146305.,  26620.]),\n",
       " array([2.8001067e-01, 3.5314823e+01, 7.0349640e+01, 1.0538445e+02,\n",
       "        1.4041927e+02, 1.7545407e+02, 2.1048889e+02, 2.4552370e+02,\n",
       "        2.8055850e+02, 3.1559332e+02, 3.5062814e+02], dtype=float32),\n",
       " <BarContainer object of 10 artists>)"
      ]
     },
     "execution_count": 37,
     "metadata": {},
     "output_type": "execute_result"
    },
    {
     "data": {
      "image/png": "[encoded data removed]",
      "text/plain": [
       "<Figure size 432x288 with 1 Axes>"
      ]
     },
     "metadata": {
      "needs_background": "light"
     },
     "output_type": "display_data"
    }
   ],
   "source": [
    "import matplotlib.pyplot as plt\n",
    "plt.hist(mir.values.flatten())"
   ]
  },
  {
   "cell_type": "code",
   "execution_count": 38,
   "id": "a5304fd7-f1ea-4067-969a-00d97487f0d4",
   "metadata": {},
   "outputs": [
    {
     "data": {
      "text/plain": [
       "(array([ 27579., 102315., 158784., 215787., 330819., 530010., 597882.,\n",
       "        391793., 125921.,   3150.]),\n",
       " array([  0.5217427,  36.808666 ,  73.09559  , 109.38251  , 145.66943  ,\n",
       "        181.95634  , 218.24327  , 254.5302   , 290.8171   , 327.10403  ,\n",
       "        363.39096  ], dtype=float32),\n",
       " <BarContainer object of 10 artists>)"
      ]
     },
     "execution_count": 38,
     "metadata": {},
     "output_type": "execute_result"
    },
    {
     "data": {
      "image/png": "[encoded data removed]",
      "text/plain": [
       "<Figure size 432x288 with 1 Axes>"
      ]
     },
     "metadata": {
      "needs_background": "light"
     },
     "output_type": "display_data"
    }
   ],
   "source": [
    "plt.hist(had.values.flatten())"
   ]
  },
  {
   "cell_type": "code",
   "execution_count": 15,
   "id": "6ede0a59-3bd4-4dba-acba-2eac7321a863",
   "metadata": {},
   "outputs": [
    {
     "name": "stderr",
     "output_type": "stream",
     "text": [
      "/cluster/apps/nss/gcc-8.2.0/python/3.10.4/x86_64/lib64/python3.10/pickle.py:1718: UserWarning: Unpickling a shapely <2.0 geometry object. Please save the pickle again; shapely 2.1 will not have this compatibility.\n",
      "  setstate(state)\n"
     ]
    }
   ],
   "source": [
    "from climada.util.api_client import Client\n",
    "client = Client()\n",
    "pop = client.get_litpop(exponents=(0, 1), country=\"VNM\")"
   ]
  },
  {
   "cell_type": "code",
   "execution_count": 25,
   "id": "7051400d-2c1c-46aa-afe7-e9bef0b034ce",
   "metadata": {},
   "outputs": [],
   "source": [
    "from climada.entity.impact_funcs import ImpactFunc, ImpactFuncSet\n",
    "\n",
    "impf_set = ImpactFuncSet()\n",
    "\n",
    "impf_hw = ImpactFunc()\n",
    "impf_hw.id = 1\n",
    "impf_hw.haz_type = 'HW'\n",
    "impf_hw.name = 'Step function heatwave'\n",
    "impf_hw.intensity_unit = ''\n",
    "impf_hw.intensity = np.array([0, 0, 32.9, 33, 50])\n",
    "impf_hw.mdd = np.array([0, 0, 0, 1, 1])\n",
    "impf_hw.paa = np.ones(impf_hw.intensity.shape)\n",
    "impf_hw.check() \n",
    "impf_set.append(impf_hw)\n"
   ]
  },
  {
   "cell_type": "code",
   "execution_count": 19,
   "id": "56db5c00-db5d-41d7-a548-441c21097374",
   "metadata": {},
   "outputs": [],
   "source": [
    "def aggregate_impact_from_event_name(impact, how='sum', exp=None):\n",
    "    \"\"\"\n",
    "    Aggregate the impact per year to make yearsets. Maximum impact per year\n",
    "    at each exposure point is exposure value if exp is not None.\n",
    "\n",
    "    Parameters\n",
    "    ----------\n",
    "    impact : Impact\n",
    "        Impact with an impact matrix and events with dates per year\n",
    "    how : How to aggregate impacts, options are 'sum' or 'max'\n",
    "    exp : Exposure\n",
    "        Exposure of Impact to cap the impact value at the value of the exposure\n",
    "    Raises\n",
    "    ------\n",
    "    AttributeError\n",
    "        If impact matrix is empty.\n",
    "\n",
    "    Returns\n",
    "    -------\n",
    "    impact : Impact\n",
    "        Impact yearset.\n",
    "\n",
    "    \"\"\"\n",
    "\n",
    "    imp = copy.deepcopy(impact)\n",
    "    if how == 'sum':\n",
    "        mask = [np.ma.make_mask(np.array(imp.event_name) == event).astype(int)\n",
    "                for event in np.unique(imp.event_name)]\n",
    "        mask_matrix = sp.sparse.csr_matrix(mask)\n",
    "        imp_mat = mask_matrix.dot(imp.imp_mat)\n",
    "\n",
    "    elif how == 'max':\n",
    "        imp_mat = sp.sparse.csr_matrix(sp.sparse.vstack(\n",
    "        [imp.imp_mat[(np.array(imp.event_name) == event).astype(bool)].max(axis=0)\n",
    "         for event in np.unique(imp.event_name)]))\n",
    "\n",
    "    frequency = np.ones(imp_mat.shape[0])/imp_mat.shape[0]\n",
    "    date = np.arange(1, len(frequency) + 1)\n",
    "    event_id = np.arange(1, len(frequency) + 1)\n",
    "    event_name = np.unique(imp.event_name)\n",
    "    at_event, eai_exp, aai_agg = ImpactCalc.risk_metrics(imp_mat, frequency)\n",
    "    \n",
    "    impact_aggr = Impact(\n",
    "        event_id=event_id,\n",
    "        event_name=event_name,\n",
    "        date=date,\n",
    "        at_event=at_event,\n",
    "        eai_exp=eai_exp,\n",
    "        aai_agg=aai_agg,\n",
    "        coord_exp=impact.coord_exp,\n",
    "        crs=DEF_CRS,\n",
    "        imp_mat=imp_mat,\n",
    "        frequency=frequency,\n",
    "        tot_value=imp.tot_value,\n",
    "        unit=imp.unit,\n",
    "        frequency_unit=\"1/year\"\n",
    "    )\n",
    "    return impact_aggr\n"
   ]
  },
  {
   "cell_type": "code",
   "execution_count": 26,
   "id": "078bcc96-cb2d-47b9-9ee6-3ddf6b4358cf",
   "metadata": {},
   "outputs": [
    {
     "name": "stdout",
     "output_type": "stream",
     "text": [
      "2023-11-24 10:33:02,304 - climada.engine.impact - WARNING - The Impact.tot_value attribute is deprecated.Use Exposures.affected_total_value to calculate the affected total exposure value based on a specific hazard intensity threshold\n",
      "2023-11-24 10:33:09,830 - climada.engine.impact - WARNING - The Impact.tot_value attribute is deprecated.Use Exposures.affected_total_value to calculate the affected total exposure value based on a specific hazard intensity threshold\n"
     ]
    }
   ],
   "source": [
    "from climada.engine import Impact, ImpactCalc\n",
    "from climada.util.constants import DEF_CRS\n",
    "import copy\n",
    "from pathlib import Path\n",
    "from config import BASE_DIR\n",
    "\n",
    "impacts = {}\n",
    "for warming_level in ['1', '2']:\n",
    "    impacts[warming_level] = ImpactCalc(pop, impf_set, heat_hazards[warming_level]).impact(save_mat=True)\n",
    "    impacts[warming_level] = aggregate_impact_from_event_name(impacts[warming_level], how=\"max\")\n",
    "    impacts[warming_level].write_csv(BASE_DIR / f\"impact/vietnam/csv/HW_impact_pop_150arcsec_{warming_level}_vnm.csv\")\n",
    "    impacts[warming_level].write_sparse_csr(BASE_DIR / f\"impact/vietnam/npz/HW_impact_pop_150arcsec_{warming_level}_vnm.npz\")"
   ]
  },
  {
   "cell_type": "code",
   "execution_count": 27,
   "id": "b34c08d4-a09b-45b2-8bb3-b70e80a0387b",
   "metadata": {},
   "outputs": [
    {
     "data": {
      "text/plain": [
       "<AxesSubplot:title={'center':'Exceedance frequency curve'}, xlabel='Return period (year)', ylabel='Impact (people)'>"
      ]
     },
     "execution_count": 27,
     "metadata": {},
     "output_type": "execute_result"
    },
    {
     "data": {
      "image/png": "[encoded data removed]",
      "text/plain": [
       "<Figure size 432x288 with 1 Axes>"
      ]
     },
     "metadata": {
      "needs_background": "light"
     },
     "output_type": "display_data"
    }
   ],
   "source": [
    "fig,ax = plt.subplots()\n",
    "impacts['2'].calc_freq_curve().plot(axis=ax)\n",
    "impacts['1'].calc_freq_curve().plot(axis=ax, color=\"red\")\n"
   ]
  }
 ],
 "metadata": {
  "kernelspec": {
   "display_name": "Python 3 (ipykernel)",
   "language": "python",
   "name": "python3"
  },
  "language_info": {
   "codemirror_mode": {
    "name": "ipython",
    "version": 3
   },
   "file_extension": ".py",
   "mimetype": "text/x-python",
   "name": "python",
   "nbconvert_exporter": "python",
   "pygments_lexer": "ipython3",
   "version": "3.10.4"
  }
 },
 "nbformat": 4,
 "nbformat_minor": 5
}
