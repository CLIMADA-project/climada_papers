{
 "cells": [
  {
   "attachments": {},
   "cell_type": "markdown",
   "metadata": {},
   "source": [
    "# Get Skill metrics of different model setups (Table 3)"
   ]
  },
  {
   "cell_type": "code",
   "execution_count": 2,
   "metadata": {},
   "outputs": [],
   "source": [
    "import sys, os\n",
    "from pathlib import Path\n",
    "#add path to path of current skript, where also utility.py lies\n",
    "sys.path.append(Path.cwd().absolute())\n",
    "#own utility functions\n",
    "from utility import data_dir, read_at_centroid_data, compute_verification_stats"
   ]
  },
  {
   "attachments": {},
   "cell_type": "markdown",
   "metadata": {},
   "source": [
    "Select hazard variable and croptypes, load data."
   ]
  },
  {
   "cell_type": "code",
   "execution_count": 30,
   "metadata": {},
   "outputs": [],
   "source": [
    "#%% SETUP\n",
    "variable='MESHS'\n",
    "croptypes_lists=[['grapevine']] #['wheat','maize','barley','rapeseed']]#,['wheat'],['maize'],['barley'],['rapeseed'],['Aepfel'],['grapevine']]\n",
    "datadir = f\"{data_dir}/data_at_centroid/\"\n",
    "figdir = 'C:/Users/F80840370/projects/scClim/climada/scClim/subproj_D/papers/NHESS/fig/'\n",
    "at_centroid_data_crops={}\n",
    "for croptypes in croptypes_lists:\n",
    "    at_centroid_data, croptype = read_at_centroid_data(datadir,croptypes,variable=variable)\n",
    "    at_centroid_data_crops[croptype] = at_centroid_data\n",
    " "
   ]
  },
  {
   "attachments": {},
   "cell_type": "markdown",
   "metadata": {},
   "source": [
    "Select resolution, MESHS thresholds and exposure thresholds and compute verification statistics"
   ]
  },
  {
   "cell_type": "code",
   "execution_count": 34,
   "metadata": {},
   "outputs": [],
   "source": [
    "res='1km'\n",
    "thresholds=[20,30,34,40]\n",
    "exposure_threshs=[10,1]\n",
    "    \n",
    "data={sc: [] for sc in exposure_threshs}\n",
    "\n",
    "\n",
    "#get data for different resolutions for this croptype\n",
    "for exp_thresh in exposure_threshs:\n",
    "        df, npred = compute_verification_stats(at_centroid_data_crops[croptype][res],\n",
    "                                           variable = variable, exposure_thresh=exp_thresh)\n",
    "\n",
    "        data[exp_thresh]=df\n"
   ]
  },
  {
   "cell_type": "code",
   "execution_count": 39,
   "metadata": {},
   "outputs": [
    {
     "name": "stdout",
     "output_type": "stream",
     "text": [
      "10\n",
      "            POD       FAR       HSS         B\n",
      "MESHS                                        \n",
      "20.0   0.704600  0.605691  0.479261  1.786925\n",
      "30.0   0.544794  0.556213  0.465868  1.227603\n",
      "34.0   0.443099  0.553659  0.421957  0.992736\n",
      "1\n",
      "            POD       FAR       HSS         B\n",
      "MESHS                                        \n",
      "20.0   0.750378  0.788034  0.304549  3.540091\n",
      "30.0   0.577912  0.760201  0.315760  2.409985\n",
      "34.0   0.490166  0.757121  0.302441  2.018154\n"
     ]
    }
   ],
   "source": [
    "for exp_thresh in exposure_threshs:\n",
    "    print(exp_thresh)\n",
    "    print(data[exp_thresh].loc[[20,30,34]][['POD','FAR','HSS','B']])\n"
   ]
  }
 ],
 "metadata": {
  "kernelspec": {
   "display_name": "climada_env_3.9",
   "language": "python",
   "name": "python3"
  },
  "language_info": {
   "codemirror_mode": {
    "name": "ipython",
    "version": 3
   },
   "file_extension": ".py",
   "mimetype": "text/x-python",
   "name": "python",
   "nbconvert_exporter": "python",
   "pygments_lexer": "ipython3",
   "version": "3.9.16"
  },
  "orig_nbformat": 4
 },
 "nbformat": 4,
 "nbformat_minor": 2
}
