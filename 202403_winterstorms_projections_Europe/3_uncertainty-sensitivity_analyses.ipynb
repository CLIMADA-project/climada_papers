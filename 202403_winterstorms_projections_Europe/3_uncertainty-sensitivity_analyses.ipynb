{
 "cells": [
  {
   "cell_type": "markdown",
   "id": "9f3df8d9-eaa8-43c0-af10-fa93f3571047",
   "metadata": {},
   "source": [
    "# Projections and uncertainties of future winter windstorm damage in Europe\n",
    "## Notebook 3: Uncertainty and sensitivity quantification\n",
    "This notebook reproduces the results of the uncertainty and sensitivity analysis of the publication Projections and uncertainties of future winter windstorm damage in Europe. The hazard data must be pre-processed beforehand using the notebook 1. The CLIMADA package needs to be installed. See tutorial on https://github.com/CLIMADA-project/climada_python/blob/main/doc/guide/Guide_Installation.ipynb for guidance to install CLIMADA. See tutorial https://github.com/CLIMADA-project/climada_python/blob/main/doc/tutorial/1_main_climada.ipynb for guidance to use CLIMADA. Exposure data is loaded using LitPop (see tutorial https://github.com/CLIMADA-project/climada_python/blob/main/doc/tutorial/climada_entity_LitPop.ipynb). The uncertainty and sensitivity analysis is done using the delta_impact submodule of the unsequa module (see tutorial https://github.com/CLIMADA-project/climada_python/blob/main/doc/tutorial/climada_engine_unsequa.ipynb). The delta_impact module can be find under the feature/unsequa_delta_climate branch of the CLIMADA githbu project (https://github.com/CLIMADA-project/climada_python/blob/feature/unsequa_delta_climate/doc/tutorial/climada_entity_LitPop.ipynb).\n"
   ]
  },
  {
   "cell_type": "code",
   "execution_count": 2,
   "id": "c91b3d37-14bb-4155-b451-068f8f0c80d6",
   "metadata": {
    "execution": {
     "iopub.execute_input": "2023-01-04T10:52:15.219299Z",
     "iopub.status.busy": "2023-01-04T10:52:15.218857Z",
     "iopub.status.idle": "2023-01-04T10:52:15.229570Z",
     "shell.execute_reply": "2023-01-04T10:52:15.229169Z",
     "shell.execute_reply.started": "2023-01-04T10:52:15.219261Z"
    },
    "tags": []
   },
   "outputs": [
    {
     "name": "stdout",
     "output_type": "stream",
     "text": [
      "The autotime extension is already loaded. To reload it, use:\n",
      "  %reload_ext autotime\n",
      "time: 1.09 ms (started: 2023-01-04 11:52:15 +01:00)\n"
     ]
    }
   ],
   "source": [
    "import numpy as np\n",
    "import copy as cp\n",
    "import pandas as pd\n",
    "import scipy as sp\n",
    "import geopandas as gpd\n",
    "import seaborn as sns\n",
    "import countryinfo\n",
    "from timeit import default_timer as timer \n",
    "\n",
    "#CLIMADA\n",
    "from climada.engine import Impact\n",
    "from climada.entity import ImpactFunc,ImpactFuncSet, Exposures\n",
    "from climada.entity.impact_funcs import storm_europe\n",
    "from climada.hazard import Hazard\n",
    "from climada.engine.unsequa import InputVar, CalcImpact, CalcDeltaImpact\n",
    "%load_ext autotime\n",
    "idx = pd.IndexSlice"
   ]
  },
  {
   "cell_type": "code",
   "execution_count": 3,
   "id": "3b641fa9-a62f-4602-b670-4ed631596b4e",
   "metadata": {
    "execution": {
     "iopub.execute_input": "2023-01-04T10:52:16.370625Z",
     "iopub.status.busy": "2023-01-04T10:52:16.370370Z",
     "iopub.status.idle": "2023-01-04T10:52:16.375524Z",
     "shell.execute_reply": "2023-01-04T10:52:16.375089Z",
     "shell.execute_reply.started": "2023-01-04T10:52:16.370601Z"
    },
    "tags": []
   },
   "outputs": [
    {
     "name": "stdout",
     "output_type": "stream",
     "text": [
      "time: 965 µs (started: 2023-01-04 11:52:16 +01:00)\n"
     ]
    }
   ],
   "source": [
    "#plotting params\n",
    "import matplotlib.pyplot as plt\n",
    "import matplotlib as mpl\n",
    "import matplotlib.colors as mcolors\n",
    "#plt.style.use('tableau-colorblind10')\n",
    "SMALL_SIZE = 16\n",
    "MEDIUM_SIZE = 18\n",
    "BIGGER_SIZE = 24\n",
    "mpl.rcParams['axes.titleweight'] = 'bold'\n",
    "mpl.rcParams['axes.titlesize'] = MEDIUM_SIZE\n",
    "mpl.rcParams['axes.titlelocation'] = 'left'\n",
    "mpl.rcParams['axes.labelsize'] = MEDIUM_SIZE\n",
    "mpl.rcParams['axes.labelweight'] = 'bold'\n",
    "mpl.rcParams['xtick.labelsize'] = SMALL_SIZE\n",
    "mpl.rcParams['ytick.labelsize'] = SMALL_SIZE\n",
    "mpl.rcParams['legend.fontsize'] = SMALL_SIZE\n",
    "tab_cols = mcolors.TABLEAU_COLORS\n",
    "clist = mpl.rcParams['axes.prop_cycle']\n"
   ]
  },
  {
   "cell_type": "code",
   "execution_count": 4,
   "id": "380745ba-2457-4ce1-96d1-1ee62fe3e264",
   "metadata": {
    "execution": {
     "iopub.execute_input": "2023-01-04T10:52:19.319272Z",
     "iopub.status.busy": "2023-01-04T10:52:19.318981Z",
     "iopub.status.idle": "2023-01-04T10:52:19.324916Z",
     "shell.execute_reply": "2023-01-04T10:52:19.324523Z",
     "shell.execute_reply.started": "2023-01-04T10:52:19.319248Z"
    },
    "tags": []
   },
   "outputs": [
    {
     "name": "stdout",
     "output_type": "stream",
     "text": [
      "time: 3.49 ms (started: 2023-01-04 11:52:19 +01:00)\n"
     ]
    }
   ],
   "source": [
    "##function definition\n",
    "from functions import *\n",
    "from climada_functions import *\n",
    "from constants import * "
   ]
  },
  {
   "cell_type": "code",
   "execution_count": 49,
   "id": "9574ab62-3db0-499b-a6c3-ad922bf47ff8",
   "metadata": {
    "execution": {
     "iopub.execute_input": "2023-01-09T08:59:43.109188Z",
     "iopub.status.busy": "2023-01-09T08:59:43.108826Z",
     "iopub.status.idle": "2023-01-09T08:59:43.123354Z",
     "shell.execute_reply": "2023-01-09T08:59:43.122661Z",
     "shell.execute_reply.started": "2023-01-09T08:59:43.109153Z"
    }
   },
   "outputs": [
    {
     "name": "stdout",
     "output_type": "stream",
     "text": [
      "time: 3.89 ms (started: 2023-01-09 09:59:43 +01:00)\n"
     ]
    }
   ],
   "source": [
    "#setup folders and folder variables. \n",
    "# All these variables need to be defined correctly for the code to work.\n",
    "# The strings in these variables should point to existing folders on your computer.\n",
    "project_folder = '/home/lseverino/MT/scripts MTP'\n",
    "data_folder = '/home/lseverino/MT/scripts MTP/data/' #this folder will contain the netcdf files downloaded by this script\n",
    "results_folder = '/home/lseverino/MT/scripts MTP/results2/' #this folder will contain results (e.g. climada impact data) \n",
    "                                                            # produced by this script\n",
    "file_identifier = '_v01' # this string is added to all files written by this code"
   ]
  },
  {
   "cell_type": "markdown",
   "id": "acc6f6eb-ca9a-4969-b5cc-2c3d73df22d3",
   "metadata": {},
   "source": [
    "### Prepare data"
   ]
  },
  {
   "cell_type": "code",
   "execution_count": 51,
   "id": "96d75ad9-fac4-4b7a-a058-d700eb4eca22",
   "metadata": {
    "execution": {
     "iopub.execute_input": "2023-01-09T09:00:44.323027Z",
     "iopub.status.busy": "2023-01-09T09:00:44.322729Z",
     "iopub.status.idle": "2023-01-09T09:00:44.354609Z",
     "shell.execute_reply": "2023-01-09T09:00:44.354056Z",
     "shell.execute_reply.started": "2023-01-09T09:00:44.322995Z"
    },
    "tags": []
   },
   "outputs": [
    {
     "name": "stdout",
     "output_type": "stream",
     "text": [
      "time: 24.7 ms (started: 2023-01-09 10:00:44 +01:00)\n"
     ]
    }
   ],
   "source": [
    "##Prepare country lists for regional damage assessment\n",
    "\n",
    "EU_countries = ['Andorra', 'Albania', 'Austria', 'Belgium', 'Bulgaria', 'Belarus', 'Czechia', 'Germany', \n",
    "                'Denmark', 'Estonia', 'Finland', 'France', 'Greece', 'Hungary', 'Italy', 'Liechtenstein', 'Lithuania', \n",
    "                'Luxembourg', 'Latvia', 'Malta', 'Netherlands', 'Norway', 'Poland', 'Portugal', 'Romania', \n",
    "                'Sweden', 'Slovenia', 'Slovakia', 'San Marino', 'Ukraine', 'Bosnia and Herzegovina', 'Croatia', 'Moldova', \n",
    "                'Monaco', 'Montenegro', 'Serbia', 'Spain', 'Switzerland', 'United Kingdom of Great Britain and Northern Ireland', 'Vatican City State', 'Ireland', \n",
    "                'Moldova, Republic of', 'Kosovo', 'Macedonia, the former Yugoslav Republic of']#'United Kingdom','Czech Republic'\n",
    "#regions \n",
    "BI = ['United Kingdom of Great Britain and Northern Ireland','Ireland'] \n",
    "IP = ['Spain', 'Portugal','Andorra']\n",
    "WEU = ['France','Monaco','Netherlands','Luxembourg','Belgium']#'Kingdom of the Netherlands'\n",
    "CEU = ['Switzerland','Germany','Liechtenstein','Czechia', 'Austria']#'Czech Republic'\n",
    "SC = ['Denmark','Sweden','Finland','Norway','Estonia','Latvia','Lithuania']\n",
    "MED = ['Italy','Albania','Bosnia and Herzegovina','Croatia','Montenegro','Malta','Greece','San Marino',\n",
    "      'Slovenia','Macedonia, the former Yugoslav Republic of','Bulgaria','Serbia','Kosovo']\n",
    "EEU = [ctr for ctr in EU_countries if ctr not in (BI+IP+WEU+CEU+SC+MED)] # eastern Europe\n",
    "\n",
    "\n",
    "reg_ctrnames_dict = {'BI':BI, 'IP':IP, 'WEU':WEU , 'CEU':CEU, 'SC':SC, 'MED':MED,'EEU':EEU, 'EU':EU_countries}\n",
    "\n",
    "#construct dict with region ids to select regional exposure\n",
    "reg_ctrids_dict = {}\n",
    "for reg,ctr_list in reg_ctrnames_dict.items():\n",
    "    #get region ids from litpop info file\n",
    "    reg_ids = ltpop_info['region_id'].where(ltpop_info['country_name'].isin(ctr_list)).dropna().tolist()\n",
    "    reg_ctrids_dict[reg] = reg_ids"
   ]
  },
  {
   "cell_type": "code",
   "execution_count": 60,
   "id": "e878fae2-4cee-4803-b4f7-420ca26fe464",
   "metadata": {
    "execution": {
     "iopub.execute_input": "2023-01-09T09:06:56.704178Z",
     "iopub.status.busy": "2023-01-09T09:06:56.703862Z",
     "iopub.status.idle": "2023-01-09T09:06:56.712056Z",
     "shell.execute_reply": "2023-01-09T09:06:56.711215Z",
     "shell.execute_reply.started": "2023-01-09T09:06:56.704138Z"
    },
    "tags": []
   },
   "outputs": [
    {
     "name": "stdout",
     "output_type": "stream",
     "text": [
      "time: 1.55 ms (started: 2023-01-09 10:06:56 +01:00)\n"
     ]
    }
   ],
   "source": [
    "## Litpop files\n",
    "from climada.entity import LitPop\n",
    "\n",
    "#exp param\n",
    "res_exp =600\n",
    "exp_thres=1\n",
    "#basename for exposure files\n",
    "expbn = \"_\".join([\"_cropped\"+str(exp_thres),\"res\"+str(res_exp)])+'.h5'\n",
    "\n",
    "#Litpop params\n",
    "mlist = [0.75,1,1.25]\n",
    "nlist = [0.75,1,1.25]\n",
    "\n",
    "\n",
    "\n",
    "litpop_list = []\n",
    "litpop_dict = {} #to store file names\n",
    "for m in mlist:\n",
    "    for n in nlist:\n",
    "        expfn = \"_\".join([\"exp\",\"m\"+str(m).replace(\".\",\"-\"),\"n\"+str(n)])+expbn\n",
    "        litpop_dict[(m, n)] = results_folder+'exposure/'+expfn\n",
    "        litpop_list.append(results_folder+'exposure/'+expfn)"
   ]
  },
  {
   "cell_type": "code",
   "execution_count": 61,
   "id": "816eba86-ca0b-4baf-83b4-71f6c4e62498",
   "metadata": {
    "execution": {
     "iopub.execute_input": "2023-01-09T09:06:58.934055Z",
     "iopub.status.busy": "2023-01-09T09:06:58.933815Z",
     "iopub.status.idle": "2023-01-09T09:06:58.942191Z",
     "shell.execute_reply": "2023-01-09T09:06:58.941680Z",
     "shell.execute_reply.started": "2023-01-09T09:06:58.934032Z"
    },
    "tags": []
   },
   "outputs": [
    {
     "name": "stdout",
     "output_type": "stream",
     "text": [
      "time: 2.36 ms (started: 2023-01-09 10:06:58 +01:00)\n"
     ]
    }
   ],
   "source": [
    "## Hazard files\n",
    "#base name\n",
    "bn = 'SWM_br_day_EU_winE'\n",
    "\n",
    "#preprocessing \n",
    "gst_fact = 1.00\n",
    "qt = 0.98\n",
    "cut=1.5E5\n",
    "mask_abs = 15 #mask everything below 15 m/s\n",
    "bias_corr = \"bias_corrWG10\"\n",
    "\n",
    "#naming\n",
    "processings = [\"qt\"+str(qt)[-2:]+\"pst\",\"mask_abs\"+format(mask_abs,'.0f'),\"cutarea\"+format(cut,'.1E').replace(\"+0\",'').replace('.','-'),\"gst\"+format(gst_fact,'.2f').replace(\".\",'-')]\n",
    "bn_proc = make_fn(processings,bn)\n",
    "\n",
    "#unc param to consider: GCMs, SSPs, and members (and impf type?)\n",
    "#modlist = ['CanESM5', 'CNRM-CM6-1', 'CNRM-ESM2-1', 'EC-Earth3-Veg', 'EC-Earth3-Veg-LR', 'IPSL-CM6A-LR', 'MIROC-ES2L', 'UKESM1-0-LL', 'MRI-ESM2-0', 'FGOALS-g3', 'ACCESS-ESM1-5', 'MIROC6', 'MPI-ESM1-2-LR', 'KACE-1-0-G']\n",
    "modlist = ['CanESM5', 'IPSL-CM6A-LR']\n",
    "\n",
    "scenlist= ['ssp126','ssp245','ssp370','ssp585']\n",
    "nmems_max = 3\n",
    "memlist = [str(i) for i in np.arange(0,nmems_max)]\n",
    "impflist = ['Sw2010','CubEOT']\n",
    "impf_procdict = {'CubEOT':'scale_qt','Sw2010':'mask_qt'}\n",
    "reglist = regions4\n",
    "\n",
    "haz_dict = {}\n",
    "for mod in modlist:\n",
    "    for scen in scenlist+['historical']:\n",
    "        for mem in memlist:\n",
    "            for impf,impf_proc in impf_procdict.items():\n",
    "                haz_fn = make_fn(['haz',bias_corr,'nmem'+mem,scen,mod,impf_proc]+processings,bn,filetype='.h5')\n",
    "                haz_dict[(mod,scen,mem,impf)] = results.joinpath('hazards/memsep/'+scen+'/'+haz_fn)"
   ]
  },
  {
   "cell_type": "markdown",
   "id": "dc39781a-cb1a-4898-9aee-22cecbb90f0f",
   "metadata": {},
   "source": [
    "### Define InputVars"
   ]
  },
  {
   "cell_type": "code",
   "execution_count": 63,
   "id": "8a8e8b2a-035a-4e1b-87d2-1f63a277f28d",
   "metadata": {
    "execution": {
     "iopub.execute_input": "2023-01-09T09:08:19.888359Z",
     "iopub.status.busy": "2023-01-09T09:08:19.887927Z",
     "iopub.status.idle": "2023-01-09T09:08:19.915704Z",
     "shell.execute_reply": "2023-01-09T09:08:19.915102Z",
     "shell.execute_reply.started": "2023-01-09T09:08:19.888309Z"
    },
    "tags": []
   },
   "outputs": [
    {
     "name": "stdout",
     "output_type": "stream",
     "text": [
      "time: 10 ms (started: 2023-01-09 10:08:19 +01:00)\n"
     ]
    }
   ],
   "source": [
    "#Define the input variable for the loading files\n",
    "def haz_func_fut(modid, scenid, memid ,impfid=0, modlist=modlist, scenlist=scenlist, memlist=memlist,\n",
    "             impflist=impflist, filename_dict=haz_dict):\n",
    "    \n",
    "    mod = modlist[int(modid)] #map variables\n",
    "    scen = scenlist[int(scenid)]\n",
    "    mem = memlist[int(memid)]\n",
    "    impf = impflist[int(impfid)]\n",
    "    filename = filename_dict[(mod,scen,mem,impf)]\n",
    "    global haz_base\n",
    "    if 'haz_base' in globals():\n",
    "        if isinstance(haz_base, Hazard):\n",
    "            if haz_base.tag.file_name != str(filename):\n",
    "                haz_base = Hazard.from_hdf5(filename)\n",
    "    else:\n",
    "        haz_base = Hazard.from_hdf5(filename)\n",
    "\n",
    "    haz = cp.deepcopy(haz_base)\n",
    "    return haz\n",
    "\n",
    "\n",
    "haz_distr_fut = {\"modid\": sp.stats.randint(low=0, high=len(modlist)),\n",
    "             \"scenid\": sp.stats.randint(low=0, high=len(scenlist)),\n",
    "             \"memid\": sp.stats.randint(low=0, high=len(memlist)),\n",
    "             \"impfid\": sp.stats.randint(low=0, high=len(impflist))\n",
    "}\n",
    "haz_iv_fut = InputVar(haz_func_fut, haz_distr_fut)\n",
    "\n",
    "def haz_func_past(modid, memid=0 ,impfid=0, modlist=modlist, memlist=memlist,\n",
    "             impflist=impflist, filename_dict=haz_dict):\n",
    "    \n",
    "    mod = modlist[int(modid)] #map variables\n",
    "    scen = 'historical'\n",
    "    mem = memlist[int(memid)]\n",
    "    impf = impflist[int(impfid)]\n",
    "    filename = filename_dict[(mod,scen,mem,impf)]\n",
    "    global haz_base\n",
    "    if 'haz_base' in globals():\n",
    "        if isinstance(haz_base, Hazard):\n",
    "            if haz_base.tag.file_name != str(filename):\n",
    "                haz_base = Hazard.from_hdf5(filename)\n",
    "    else:\n",
    "        haz_base = Hazard.from_hdf5(filename)\n",
    "\n",
    "    haz = cp.deepcopy(haz_base)\n",
    "    return haz\n",
    "\n",
    "haz_distr_past = {\"modid\": sp.stats.randint(low=0, high=len(modlist)),\n",
    "             \"memid\": sp.stats.randint(low=0, high=len(memlist)),\n",
    "             \"impfid\": sp.stats.randint(low=0, high=len(impflist))\n",
    "}\n",
    "haz_iv_past = InputVar(haz_func_past, haz_distr_past)\n",
    "\n",
    "def impf_func(impfid=0, impflist=impflist, x_scale=1, y_scale=1, _id=1):    \n",
    "    impf = impflist[int(impfid)] #map variables\n",
    "    x_scale = np.float64(x_scale)\n",
    "    y_scale = np.float64(y_scale)\n",
    "\n",
    "    if impf == 'Sw2010':\n",
    "        imp_fun = storm_europe.ImpfStormEurope.from_schwierz()\n",
    "        imp_fun.id = _id\n",
    "        imp_fun.intensity = imp_fun.intensity*x_scale #perturb intensity\n",
    "        imp_fun.mdd = imp_fun.mdd*y_scale #perturb mdd\n",
    "        \n",
    "        \n",
    "    elif impf == 'CubEOT':\n",
    "        imp_fun = ImpactFunc()\n",
    "        imp_fun.haz_type = 'WS'\n",
    "        imp_fun.id = _id\n",
    "        imp_fun.intensity_unit = 'm/s'\n",
    "        imp_fun.intensity = np.linspace(0, 1, num=20)\n",
    "        imp_fun.mdd = imp_fun.intensity**3\n",
    "        imp_fun.intensity = np.append(imp_fun.intensity, [100])\n",
    "        imp_fun.mdd = np.append(imp_fun.mdd, [1]) #cap intensity to 100%\n",
    "        imp_fun.paa = np.ones(imp_fun.intensity.shape)\n",
    "        imp_fun.mdd = CubEOT_corr_fact*imp_fun.mdd #add correction factor\n",
    "        imp_fun.intensity = imp_fun.intensity*x_scale #perturb intensity\n",
    "        imp_fun.mdd = imp_fun.mdd*y_scale #perturb mdd\n",
    "        \n",
    "    else:\n",
    "        raise ValueError('Unknown impact function.')\n",
    "    \n",
    "    imp_fun.check()\n",
    "    impf_set = ImpactFuncSet()\n",
    "    impf_set.append(imp_fun)\n",
    "    return impf_set\n",
    "\n",
    "impf_distr = {\n",
    "    \"impfid\": sp.stats.randint(low=0, high=len(impflist)),\n",
    "    \"x_scale\": sp.stats.uniform(0.8, 0.4),\n",
    "    \"y_scale\": sp.stats.uniform(0.8, 0.4) #with impf param uncertainty\n",
    "} \n",
    "\n",
    "impf_iv = InputVar(impf_func, impf_distr)"
   ]
  },
  {
   "cell_type": "markdown",
   "id": "114b549a-de0a-408e-b03f-d9ccc3cce9e7",
   "metadata": {},
   "source": [
    "## Make sample, compute uncertainty and sensitivity for each region"
   ]
  },
  {
   "cell_type": "code",
   "execution_count": 64,
   "id": "fa05fdda-f716-4e05-a4d0-6941b0bf39f9",
   "metadata": {
    "execution": {
     "iopub.execute_input": "2023-01-09T09:08:20.916182Z",
     "iopub.status.busy": "2023-01-09T09:08:20.915969Z",
     "iopub.status.idle": "2023-01-09T09:09:43.600561Z",
     "shell.execute_reply": "2023-01-09T09:09:43.600026Z",
     "shell.execute_reply.started": "2023-01-09T09:08:20.916155Z"
    },
    "tags": []
   },
   "outputs": [
    {
     "name": "stdout",
     "output_type": "stream",
     "text": [
      "2023-01-09 10:08:20,955 - climada.engine.unsequa.calc_base - WARNING - \n",
      "\n",
      "The input parameter impfid is shared among at least 2 input variables. Their uncertainty is thus computed with the same samples for this input paramter.\n",
      "\n",
      "\n",
      "2023-01-09 10:08:20,956 - climada.engine.unsequa.calc_base - WARNING - \n",
      "\n",
      "The input parameter f_exp is shared among at least 2 input variables. Their uncertainty is thus computed with the same samples for this input paramter.\n",
      "\n",
      "\n",
      "2023-01-09 10:08:20,958 - climada.engine.unsequa.calc_base - WARNING - \n",
      "\n",
      "The input parameter impfid is shared among at least 2 input variables. Their uncertainty is thus computed with the same samples for this input paramter.\n",
      "\n",
      "\n",
      "2023-01-09 10:08:20,959 - climada.engine.unsequa.calc_base - WARNING - \n",
      "\n",
      "The input parameter x_scale is shared among at least 2 input variables. Their uncertainty is thus computed with the same samples for this input paramter.\n",
      "\n",
      "\n",
      "2023-01-09 10:08:20,961 - climada.engine.unsequa.calc_base - WARNING - \n",
      "\n",
      "The input parameter y_scale is shared among at least 2 input variables. Their uncertainty is thus computed with the same samples for this input paramter.\n",
      "\n",
      "\n",
      "2023-01-09 10:08:20,962 - climada.engine.unsequa.calc_base - WARNING - \n",
      "\n",
      "The input parameter modid is shared among at least 2 input variables. Their uncertainty is thus computed with the same samples for this input paramter.\n",
      "\n",
      "\n",
      "2023-01-09 10:08:20,964 - climada.engine.unsequa.calc_base - WARNING - \n",
      "\n",
      "The input parameter memid is shared among at least 2 input variables. Their uncertainty is thus computed with the same samples for this input paramter.\n",
      "\n",
      "\n",
      "2023-01-09 10:08:20,965 - climada.engine.unsequa.calc_base - WARNING - \n",
      "\n",
      "The input parameter impfid is shared among at least 2 input variables. Their uncertainty is thus computed with the same samples for this input paramter.\n",
      "\n",
      "\n"
     ]
    },
    {
     "name": "stderr",
     "output_type": "stream",
     "text": [
      "/home/lseverino/.conda/envs/climada_env/lib/python3.8/site-packages/scipy/stats/_discrete_distns.py:1035: RuntimeWarning: divide by zero encountered in true_divide\n",
      "  g2 = -6.0/5.0 * (d*d + 1.0) / (d*d - 1.0)\n"
     ]
    },
    {
     "name": "stdout",
     "output_type": "stream",
     "text": [
      "2023-01-09 10:08:27,799 - climada.engine.unsequa.calc_base - WARNING - \n",
      "\n",
      "The input parameter impfid is shared among at least 2 input variables. Their uncertainty is thus computed with the same samples for this input paramter.\n",
      "\n",
      "\n",
      "2023-01-09 10:08:27,800 - climada.engine.unsequa.calc_base - WARNING - \n",
      "\n",
      "The input parameter f_exp is shared among at least 2 input variables. Their uncertainty is thus computed with the same samples for this input paramter.\n",
      "\n",
      "\n",
      "2023-01-09 10:08:27,802 - climada.engine.unsequa.calc_base - WARNING - \n",
      "\n",
      "The input parameter impfid is shared among at least 2 input variables. Their uncertainty is thus computed with the same samples for this input paramter.\n",
      "\n",
      "\n",
      "2023-01-09 10:08:27,802 - climada.engine.unsequa.calc_base - WARNING - \n",
      "\n",
      "The input parameter x_scale is shared among at least 2 input variables. Their uncertainty is thus computed with the same samples for this input paramter.\n",
      "\n",
      "\n",
      "2023-01-09 10:08:27,804 - climada.engine.unsequa.calc_base - WARNING - \n",
      "\n",
      "The input parameter y_scale is shared among at least 2 input variables. Their uncertainty is thus computed with the same samples for this input paramter.\n",
      "\n",
      "\n",
      "2023-01-09 10:08:27,805 - climada.engine.unsequa.calc_base - WARNING - \n",
      "\n",
      "The input parameter modid is shared among at least 2 input variables. Their uncertainty is thus computed with the same samples for this input paramter.\n",
      "\n",
      "\n",
      "2023-01-09 10:08:27,806 - climada.engine.unsequa.calc_base - WARNING - \n",
      "\n",
      "The input parameter memid is shared among at least 2 input variables. Their uncertainty is thus computed with the same samples for this input paramter.\n",
      "\n",
      "\n",
      "2023-01-09 10:08:27,807 - climada.engine.unsequa.calc_base - WARNING - \n",
      "\n",
      "The input parameter impfid is shared among at least 2 input variables. Their uncertainty is thus computed with the same samples for this input paramter.\n",
      "\n",
      "\n"
     ]
    },
    {
     "name": "stderr",
     "output_type": "stream",
     "text": [
      "/home/lseverino/.conda/envs/climada_env/lib/python3.8/site-packages/SALib/analyze/sobol.py:87: RuntimeWarning: invalid value encountered in true_divide\n",
      "  Y = (Y - Y.mean()) / Y.std()\n",
      "/home/lseverino/.conda/envs/climada_env/lib/python3.8/site-packages/scipy/stats/_discrete_distns.py:1035: RuntimeWarning: divide by zero encountered in true_divide\n",
      "  g2 = -6.0/5.0 * (d*d + 1.0) / (d*d - 1.0)\n"
     ]
    },
    {
     "name": "stdout",
     "output_type": "stream",
     "text": [
      "2023-01-09 10:08:35,719 - climada.engine.unsequa.calc_base - WARNING - \n",
      "\n",
      "The input parameter impfid is shared among at least 2 input variables. Their uncertainty is thus computed with the same samples for this input paramter.\n",
      "\n",
      "\n",
      "2023-01-09 10:08:35,721 - climada.engine.unsequa.calc_base - WARNING - \n",
      "\n",
      "The input parameter f_exp is shared among at least 2 input variables. Their uncertainty is thus computed with the same samples for this input paramter.\n",
      "\n",
      "\n",
      "2023-01-09 10:08:35,722 - climada.engine.unsequa.calc_base - WARNING - \n",
      "\n",
      "The input parameter impfid is shared among at least 2 input variables. Their uncertainty is thus computed with the same samples for this input paramter.\n",
      "\n",
      "\n",
      "2023-01-09 10:08:35,723 - climada.engine.unsequa.calc_base - WARNING - \n",
      "\n",
      "The input parameter x_scale is shared among at least 2 input variables. Their uncertainty is thus computed with the same samples for this input paramter.\n",
      "\n",
      "\n",
      "2023-01-09 10:08:35,724 - climada.engine.unsequa.calc_base - WARNING - \n",
      "\n",
      "The input parameter y_scale is shared among at least 2 input variables. Their uncertainty is thus computed with the same samples for this input paramter.\n",
      "\n",
      "\n",
      "2023-01-09 10:08:35,725 - climada.engine.unsequa.calc_base - WARNING - \n",
      "\n",
      "The input parameter modid is shared among at least 2 input variables. Their uncertainty is thus computed with the same samples for this input paramter.\n",
      "\n",
      "\n",
      "2023-01-09 10:08:35,726 - climada.engine.unsequa.calc_base - WARNING - \n",
      "\n",
      "The input parameter memid is shared among at least 2 input variables. Their uncertainty is thus computed with the same samples for this input paramter.\n",
      "\n",
      "\n",
      "2023-01-09 10:08:35,727 - climada.engine.unsequa.calc_base - WARNING - \n",
      "\n",
      "The input parameter impfid is shared among at least 2 input variables. Their uncertainty is thus computed with the same samples for this input paramter.\n",
      "\n",
      "\n"
     ]
    },
    {
     "name": "stderr",
     "output_type": "stream",
     "text": [
      "/home/lseverino/.conda/envs/climada_env/lib/python3.8/site-packages/SALib/analyze/sobol.py:87: RuntimeWarning: invalid value encountered in true_divide\n",
      "  Y = (Y - Y.mean()) / Y.std()\n",
      "/home/lseverino/.conda/envs/climada_env/lib/python3.8/site-packages/scipy/stats/_discrete_distns.py:1035: RuntimeWarning: divide by zero encountered in true_divide\n",
      "  g2 = -6.0/5.0 * (d*d + 1.0) / (d*d - 1.0)\n"
     ]
    },
    {
     "name": "stdout",
     "output_type": "stream",
     "text": [
      "2023-01-09 10:08:44,179 - climada.engine.unsequa.calc_base - WARNING - \n",
      "\n",
      "The input parameter impfid is shared among at least 2 input variables. Their uncertainty is thus computed with the same samples for this input paramter.\n",
      "\n",
      "\n",
      "2023-01-09 10:08:44,180 - climada.engine.unsequa.calc_base - WARNING - \n",
      "\n",
      "The input parameter f_exp is shared among at least 2 input variables. Their uncertainty is thus computed with the same samples for this input paramter.\n",
      "\n",
      "\n",
      "2023-01-09 10:08:44,181 - climada.engine.unsequa.calc_base - WARNING - \n",
      "\n",
      "The input parameter impfid is shared among at least 2 input variables. Their uncertainty is thus computed with the same samples for this input paramter.\n",
      "\n",
      "\n",
      "2023-01-09 10:08:44,183 - climada.engine.unsequa.calc_base - WARNING - \n",
      "\n",
      "The input parameter x_scale is shared among at least 2 input variables. Their uncertainty is thus computed with the same samples for this input paramter.\n",
      "\n",
      "\n",
      "2023-01-09 10:08:44,184 - climada.engine.unsequa.calc_base - WARNING - \n",
      "\n",
      "The input parameter y_scale is shared among at least 2 input variables. Their uncertainty is thus computed with the same samples for this input paramter.\n",
      "\n",
      "\n",
      "2023-01-09 10:08:44,185 - climada.engine.unsequa.calc_base - WARNING - \n",
      "\n",
      "The input parameter modid is shared among at least 2 input variables. Their uncertainty is thus computed with the same samples for this input paramter.\n",
      "\n",
      "\n",
      "2023-01-09 10:08:44,186 - climada.engine.unsequa.calc_base - WARNING - \n",
      "\n",
      "The input parameter memid is shared among at least 2 input variables. Their uncertainty is thus computed with the same samples for this input paramter.\n",
      "\n",
      "\n",
      "2023-01-09 10:08:44,187 - climada.engine.unsequa.calc_base - WARNING - \n",
      "\n",
      "The input parameter impfid is shared among at least 2 input variables. Their uncertainty is thus computed with the same samples for this input paramter.\n",
      "\n",
      "\n"
     ]
    },
    {
     "name": "stderr",
     "output_type": "stream",
     "text": [
      "/home/lseverino/.conda/envs/climada_env/lib/python3.8/site-packages/SALib/analyze/sobol.py:87: RuntimeWarning: invalid value encountered in true_divide\n",
      "  Y = (Y - Y.mean()) / Y.std()\n",
      "/home/lseverino/.conda/envs/climada_env/lib/python3.8/site-packages/scipy/stats/_discrete_distns.py:1035: RuntimeWarning: divide by zero encountered in true_divide\n",
      "  g2 = -6.0/5.0 * (d*d + 1.0) / (d*d - 1.0)\n"
     ]
    },
    {
     "name": "stdout",
     "output_type": "stream",
     "text": [
      "2023-01-09 10:08:52,340 - climada.engine.unsequa.calc_base - WARNING - \n",
      "\n",
      "The input parameter impfid is shared among at least 2 input variables. Their uncertainty is thus computed with the same samples for this input paramter.\n",
      "\n",
      "\n",
      "2023-01-09 10:08:52,341 - climada.engine.unsequa.calc_base - WARNING - \n",
      "\n",
      "The input parameter f_exp is shared among at least 2 input variables. Their uncertainty is thus computed with the same samples for this input paramter.\n",
      "\n",
      "\n",
      "2023-01-09 10:08:52,343 - climada.engine.unsequa.calc_base - WARNING - \n",
      "\n",
      "The input parameter impfid is shared among at least 2 input variables. Their uncertainty is thus computed with the same samples for this input paramter.\n",
      "\n",
      "\n",
      "2023-01-09 10:08:52,343 - climada.engine.unsequa.calc_base - WARNING - \n",
      "\n",
      "The input parameter x_scale is shared among at least 2 input variables. Their uncertainty is thus computed with the same samples for this input paramter.\n",
      "\n",
      "\n",
      "2023-01-09 10:08:52,344 - climada.engine.unsequa.calc_base - WARNING - \n",
      "\n",
      "The input parameter y_scale is shared among at least 2 input variables. Their uncertainty is thus computed with the same samples for this input paramter.\n",
      "\n",
      "\n",
      "2023-01-09 10:08:52,346 - climada.engine.unsequa.calc_base - WARNING - \n",
      "\n",
      "The input parameter modid is shared among at least 2 input variables. Their uncertainty is thus computed with the same samples for this input paramter.\n",
      "\n",
      "\n",
      "2023-01-09 10:08:52,347 - climada.engine.unsequa.calc_base - WARNING - \n",
      "\n",
      "The input parameter memid is shared among at least 2 input variables. Their uncertainty is thus computed with the same samples for this input paramter.\n",
      "\n",
      "\n",
      "2023-01-09 10:08:52,348 - climada.engine.unsequa.calc_base - WARNING - \n",
      "\n",
      "The input parameter impfid is shared among at least 2 input variables. Their uncertainty is thus computed with the same samples for this input paramter.\n",
      "\n",
      "\n"
     ]
    },
    {
     "name": "stderr",
     "output_type": "stream",
     "text": [
      "/home/lseverino/.conda/envs/climada_env/lib/python3.8/site-packages/SALib/analyze/sobol.py:87: RuntimeWarning: invalid value encountered in true_divide\n",
      "  Y = (Y - Y.mean()) / Y.std()\n",
      "/home/lseverino/.conda/envs/climada_env/lib/python3.8/site-packages/scipy/stats/_discrete_distns.py:1035: RuntimeWarning: divide by zero encountered in true_divide\n",
      "  g2 = -6.0/5.0 * (d*d + 1.0) / (d*d - 1.0)\n"
     ]
    },
    {
     "name": "stdout",
     "output_type": "stream",
     "text": [
      "2023-01-09 10:09:04,184 - climada.engine.unsequa.calc_base - WARNING - \n",
      "\n",
      "The input parameter impfid is shared among at least 2 input variables. Their uncertainty is thus computed with the same samples for this input paramter.\n",
      "\n",
      "\n",
      "2023-01-09 10:09:04,186 - climada.engine.unsequa.calc_base - WARNING - \n",
      "\n",
      "The input parameter f_exp is shared among at least 2 input variables. Their uncertainty is thus computed with the same samples for this input paramter.\n",
      "\n",
      "\n",
      "2023-01-09 10:09:04,187 - climada.engine.unsequa.calc_base - WARNING - \n",
      "\n",
      "The input parameter impfid is shared among at least 2 input variables. Their uncertainty is thus computed with the same samples for this input paramter.\n",
      "\n",
      "\n",
      "2023-01-09 10:09:04,189 - climada.engine.unsequa.calc_base - WARNING - \n",
      "\n",
      "The input parameter x_scale is shared among at least 2 input variables. Their uncertainty is thus computed with the same samples for this input paramter.\n",
      "\n",
      "\n",
      "2023-01-09 10:09:04,190 - climada.engine.unsequa.calc_base - WARNING - \n",
      "\n",
      "The input parameter y_scale is shared among at least 2 input variables. Their uncertainty is thus computed with the same samples for this input paramter.\n",
      "\n",
      "\n",
      "2023-01-09 10:09:04,191 - climada.engine.unsequa.calc_base - WARNING - \n",
      "\n",
      "The input parameter modid is shared among at least 2 input variables. Their uncertainty is thus computed with the same samples for this input paramter.\n",
      "\n",
      "\n",
      "2023-01-09 10:09:04,193 - climada.engine.unsequa.calc_base - WARNING - \n",
      "\n",
      "The input parameter memid is shared among at least 2 input variables. Their uncertainty is thus computed with the same samples for this input paramter.\n",
      "\n",
      "\n",
      "2023-01-09 10:09:04,194 - climada.engine.unsequa.calc_base - WARNING - \n",
      "\n",
      "The input parameter impfid is shared among at least 2 input variables. Their uncertainty is thus computed with the same samples for this input paramter.\n",
      "\n",
      "\n"
     ]
    },
    {
     "name": "stderr",
     "output_type": "stream",
     "text": [
      "/home/lseverino/.conda/envs/climada_env/lib/python3.8/site-packages/SALib/analyze/sobol.py:87: RuntimeWarning: invalid value encountered in true_divide\n",
      "  Y = (Y - Y.mean()) / Y.std()\n",
      "/home/lseverino/.conda/envs/climada_env/lib/python3.8/site-packages/scipy/stats/_discrete_distns.py:1035: RuntimeWarning: divide by zero encountered in true_divide\n",
      "  g2 = -6.0/5.0 * (d*d + 1.0) / (d*d - 1.0)\n"
     ]
    },
    {
     "name": "stdout",
     "output_type": "stream",
     "text": [
      "2023-01-09 10:09:12,369 - climada.engine.unsequa.calc_base - WARNING - \n",
      "\n",
      "The input parameter impfid is shared among at least 2 input variables. Their uncertainty is thus computed with the same samples for this input paramter.\n",
      "\n",
      "\n",
      "2023-01-09 10:09:12,370 - climada.engine.unsequa.calc_base - WARNING - \n",
      "\n",
      "The input parameter f_exp is shared among at least 2 input variables. Their uncertainty is thus computed with the same samples for this input paramter.\n",
      "\n",
      "\n",
      "2023-01-09 10:09:12,371 - climada.engine.unsequa.calc_base - WARNING - \n",
      "\n",
      "The input parameter impfid is shared among at least 2 input variables. Their uncertainty is thus computed with the same samples for this input paramter.\n",
      "\n",
      "\n",
      "2023-01-09 10:09:12,372 - climada.engine.unsequa.calc_base - WARNING - \n",
      "\n",
      "The input parameter x_scale is shared among at least 2 input variables. Their uncertainty is thus computed with the same samples for this input paramter.\n",
      "\n",
      "\n",
      "2023-01-09 10:09:12,373 - climada.engine.unsequa.calc_base - WARNING - \n",
      "\n",
      "The input parameter y_scale is shared among at least 2 input variables. Their uncertainty is thus computed with the same samples for this input paramter.\n",
      "\n",
      "\n",
      "2023-01-09 10:09:12,374 - climada.engine.unsequa.calc_base - WARNING - \n",
      "\n",
      "The input parameter modid is shared among at least 2 input variables. Their uncertainty is thus computed with the same samples for this input paramter.\n",
      "\n",
      "\n",
      "2023-01-09 10:09:12,376 - climada.engine.unsequa.calc_base - WARNING - \n",
      "\n",
      "The input parameter memid is shared among at least 2 input variables. Their uncertainty is thus computed with the same samples for this input paramter.\n",
      "\n",
      "\n",
      "2023-01-09 10:09:12,377 - climada.engine.unsequa.calc_base - WARNING - \n",
      "\n",
      "The input parameter impfid is shared among at least 2 input variables. Their uncertainty is thus computed with the same samples for this input paramter.\n",
      "\n",
      "\n"
     ]
    },
    {
     "name": "stderr",
     "output_type": "stream",
     "text": [
      "/home/lseverino/.conda/envs/climada_env/lib/python3.8/site-packages/SALib/analyze/sobol.py:87: RuntimeWarning: invalid value encountered in true_divide\n",
      "  Y = (Y - Y.mean()) / Y.std()\n",
      "/home/lseverino/.conda/envs/climada_env/lib/python3.8/site-packages/scipy/stats/_discrete_distns.py:1035: RuntimeWarning: divide by zero encountered in true_divide\n",
      "  g2 = -6.0/5.0 * (d*d + 1.0) / (d*d - 1.0)\n"
     ]
    },
    {
     "name": "stdout",
     "output_type": "stream",
     "text": [
      "2023-01-09 10:09:21,310 - climada.engine.unsequa.calc_base - WARNING - \n",
      "\n",
      "The input parameter impfid is shared among at least 2 input variables. Their uncertainty is thus computed with the same samples for this input paramter.\n",
      "\n",
      "\n",
      "2023-01-09 10:09:21,311 - climada.engine.unsequa.calc_base - WARNING - \n",
      "\n",
      "The input parameter f_exp is shared among at least 2 input variables. Their uncertainty is thus computed with the same samples for this input paramter.\n",
      "\n",
      "\n",
      "2023-01-09 10:09:21,313 - climada.engine.unsequa.calc_base - WARNING - \n",
      "\n",
      "The input parameter impfid is shared among at least 2 input variables. Their uncertainty is thus computed with the same samples for this input paramter.\n",
      "\n",
      "\n",
      "2023-01-09 10:09:21,315 - climada.engine.unsequa.calc_base - WARNING - \n",
      "\n",
      "The input parameter x_scale is shared among at least 2 input variables. Their uncertainty is thus computed with the same samples for this input paramter.\n",
      "\n",
      "\n",
      "2023-01-09 10:09:21,316 - climada.engine.unsequa.calc_base - WARNING - \n",
      "\n",
      "The input parameter y_scale is shared among at least 2 input variables. Their uncertainty is thus computed with the same samples for this input paramter.\n",
      "\n",
      "\n",
      "2023-01-09 10:09:21,318 - climada.engine.unsequa.calc_base - WARNING - \n",
      "\n",
      "The input parameter modid is shared among at least 2 input variables. Their uncertainty is thus computed with the same samples for this input paramter.\n",
      "\n",
      "\n",
      "2023-01-09 10:09:21,320 - climada.engine.unsequa.calc_base - WARNING - \n",
      "\n",
      "The input parameter memid is shared among at least 2 input variables. Their uncertainty is thus computed with the same samples for this input paramter.\n",
      "\n",
      "\n",
      "2023-01-09 10:09:21,321 - climada.engine.unsequa.calc_base - WARNING - \n",
      "\n",
      "The input parameter impfid is shared among at least 2 input variables. Their uncertainty is thus computed with the same samples for this input paramter.\n",
      "\n",
      "\n"
     ]
    },
    {
     "name": "stderr",
     "output_type": "stream",
     "text": [
      "/home/lseverino/.conda/envs/climada_env/lib/python3.8/site-packages/SALib/analyze/sobol.py:87: RuntimeWarning: invalid value encountered in true_divide\n",
      "  Y = (Y - Y.mean()) / Y.std()\n",
      "/home/lseverino/.conda/envs/climada_env/lib/python3.8/site-packages/scipy/stats/_discrete_distns.py:1035: RuntimeWarning: divide by zero encountered in true_divide\n",
      "  g2 = -6.0/5.0 * (d*d + 1.0) / (d*d - 1.0)\n"
     ]
    },
    {
     "name": "stdout",
     "output_type": "stream",
     "text": [
      "time: 1min 22s (started: 2023-01-09 10:08:20 +01:00)\n"
     ]
    },
    {
     "name": "stderr",
     "output_type": "stream",
     "text": [
      "/home/lseverino/.conda/envs/climada_env/lib/python3.8/site-packages/SALib/analyze/sobol.py:87: RuntimeWarning: invalid value encountered in true_divide\n",
      "  Y = (Y - Y.mean()) / Y.std()\n"
     ]
    }
   ],
   "source": [
    "from pathos.pools import ProcessPool as Pool\n",
    "\n",
    "\n",
    "#sampling params\n",
    "N = 2**5\n",
    "D = 7 #nb of param\n",
    "N_sample = N*(2*D+2)\n",
    "\n",
    "res_dict = {} #dict to save results\n",
    "\n",
    "for reg in reglist:\n",
    "    \n",
    "    #need to define func here\n",
    "    def exp_func(f_exp=4, reg=reg, reg_dict=regids_dict ,filename_list=litpop_list):\n",
    "        #m = mlist[int(mid)] #map variables\n",
    "        #n = nlist[int(nid)]\n",
    "        #filename = filename_dict[(m,n)]\n",
    "        filename = filename_list[int(f_exp)]\n",
    "        global exp_base\n",
    "        if 'exp_base' in globals():\n",
    "            if isinstance(exp_base, Exposures):\n",
    "                if exp_base.tag.file_name != str(filename):\n",
    "                    exp_base = Exposures.from_hdf5(filename)\n",
    "        else:\n",
    "            exp_base = Exposures.from_hdf5(filename)\n",
    "        if reg is not None:\n",
    "            reg_ids = regids_dict[reg]\n",
    "            exp = sel_reg_exp(reg_ids,exp_base)\n",
    "        else:\n",
    "            exp = exp_base.copy()\n",
    "        return exp\n",
    "\n",
    "    exp_distr = {\n",
    "        'f_exp': sp.stats.randint(low=0, high=len(litpop_list))}\n",
    "        \n",
    "    exp_iv = InputVar(exp_func, exp_distr)\n",
    "    \n",
    "    calc_imp = CalcDeltaImpact(exp_iv, impf_iv, haz_iv_past, exp_iv, impf_iv, haz_iv_fut)\n",
    "    \n",
    "    output_imp = calc_imp.make_sample(N=N) #sampling_kwargs={'skip_values': 2*N_sample}) #use N=100*(2*D+2)~1000\n",
    "#\n",
    "    ##order samples\n",
    "    output_imp.order_samples(by=['f_exp','modid','scenid','memid','impfid'])\n",
    "    \n",
    "    \n",
    "    \n",
    "    #compute uncertainty\n",
    "    pool = Pool()\n",
    "    output_imp = calc_imp.uncertainty(output_imp,rp=[1,15,30],calc_eai_exp=False, calc_at_event=False,pool=pool)\n",
    "    pool.close() #Do not forget to close your pool!\n",
    "    pool.join()\n",
    "    pool.clear()\n",
    "    \n",
    "    #reorder samples back in place\n",
    "    idx = output_imp.samples_df.index.values\n",
    "    output_imp.samples_df.sort_index(inplace=True)\n",
    "    for metric in output_imp.uncertainty_metrics:\n",
    "        df = output_imp.__dict__[metric + '_unc_df']\n",
    "        df.index = idx\n",
    "        df.sort_index(inplace=True)\n",
    "        output_imp.__dict__[metric + '_unc_df'] = df\n",
    "    \n",
    "    #sensitivity calculation\n",
    "    output_imp = calc_imp.sensitivity(output_imp)\n",
    "    \n",
    "    #save into dict\n",
    "    res_dict[reg] = output_imp"
   ]
  },
  {
   "cell_type": "markdown",
   "id": "d5023a7c-371d-44c8-8722-eb5d8ec49c33",
   "metadata": {},
   "source": [
    "### Plots"
   ]
  },
  {
   "cell_type": "code",
   "execution_count": 65,
   "id": "e04a978c-d07c-4b97-a686-362654d46a57",
   "metadata": {
    "execution": {
     "iopub.execute_input": "2023-01-09T09:09:47.303501Z",
     "iopub.status.busy": "2023-01-09T09:09:47.303034Z",
     "iopub.status.idle": "2023-01-09T09:09:47.346692Z",
     "shell.execute_reply": "2023-01-09T09:09:47.346178Z",
     "shell.execute_reply.started": "2023-01-09T09:09:47.303434Z"
    },
    "tags": []
   },
   "outputs": [
    {
     "name": "stdout",
     "output_type": "stream",
     "text": [
      "time: 36.6 ms (started: 2023-01-09 10:09:47 +01:00)\n"
     ]
    }
   ],
   "source": [
    "## prepare dataframe for uncertainty distribution plots\n",
    "reg_unc_dict = {}\n",
    "for reg, out_df in res_dict.items():\n",
    "    unc_dict = {}\n",
    "    for metric in out_df.uncertainty_metrics:\n",
    "        df = out_df.__dict__[metric + '_unc_df']\n",
    "        unc_dict[metric] = df\n",
    "    unc_df = pd.concat(unc_dict,axis=1)\n",
    "    unc_df.columns = unc_df.columns.droplevel(0)\n",
    "    reg_unc_dict[reg] = unc_df.drop('tot_value',axis=1)\n",
    "reg_unc_df = pd.concat(reg_unc_dict,axis=1,names=[\"region\",\"metric\"])\n",
    "stacked_df = pd.DataFrame(reg_unc_df.stack(level=[\"region\",\"metric\"]),columns=[\"value\"]).reset_index().drop('level_0',axis=1)\n"
   ]
  },
  {
   "cell_type": "code",
   "execution_count": 66,
   "id": "071dd853-af00-4b4a-b06b-3357c0af49a4",
   "metadata": {
    "execution": {
     "iopub.execute_input": "2023-01-09T09:09:52.850844Z",
     "iopub.status.busy": "2023-01-09T09:09:52.850533Z",
     "iopub.status.idle": "2023-01-09T09:09:54.083631Z",
     "shell.execute_reply": "2023-01-09T09:09:54.083146Z",
     "shell.execute_reply.started": "2023-01-09T09:09:52.850811Z"
    },
    "tags": []
   },
   "outputs": [
    {
     "data": {
      "image/png": "[encoded data removed]",
      "text/plain": [
       "<Figure size 720x504 with 2 Axes>"
      ]
     },
     "metadata": {},
     "output_type": "display_data"
    },
    {
     "name": "stdout",
     "output_type": "stream",
     "text": [
      "time: 1.22 s (started: 2023-01-09 10:09:52 +01:00)\n"
     ]
    }
   ],
   "source": [
    "#with axis break\n",
    "#plotting params\n",
    "saving = False\n",
    "met_set = ['aai_agg','rp1','rp15','rp30']\n",
    "break_ax = True #separate y-axis in two to deal with outliers\n",
    "savelocation=\"results/figures/uncertainty/\"\n",
    "bn = \"nsamp\"+str(N_sample)\n",
    "savefileName = make_fn([\"reg_unc\"]+impflist+output_imp.samples_df.columns.tolist(),bn,filetype=\".png\")\n",
    "title ='Uncertainty distributions'\n",
    "cpal = sns.color_palette(\"tab10\")\n",
    "\n",
    "#labels option\n",
    "ttsize = 12\n",
    "sublabsize = 12\n",
    "gllabsize = 8\n",
    "cbarlabsize = 16\n",
    "cbarticksize = 16\n",
    "\n",
    "#initiate fig\n",
    "fig = plt.figure(figsize=(10,7))\n",
    "\n",
    "nrows = 2\n",
    "    \n",
    "gridspec={'height_ratios':np.repeat([1/3,2/3],nrows/2)}\n",
    "axs = fig.subplots(nrows=nrows,ncols=1,sharey=False,sharex=True,gridspec_kw=gridspec)\n",
    "fig.subplots_adjust(hspace=0.1)  # adjust space between axes\n",
    "\n",
    "ax1 = axs[0]\n",
    "ax2 = axs[1]\n",
    "sns.violinplot(ax=ax1,x=\"region\",order=reglist, y=\"value\",data=stacked_df,hue=\"metric\",hue_order=met_set,palette=cpal)#palette=\"colorblind\"\n",
    "sns.violinplot(ax=ax2,x=\"region\",order=reglist, y=\"value\",data=stacked_df,hue=\"metric\",hue_order=met_set,palette=cpal)#palette=\"Set3\"\n",
    "\n",
    "#bottom axis\n",
    "ax2.axhline(0,linewidth=2,color=\"r\")\n",
    "ax2.set_ylabel('')#,fontweight='bold'\n",
    "ax2.set_xlabel('Region',fontsize = cbarticksize,fontweight='bold')#,fontweight='bold'\n",
    "ax2.yaxis.set_label_position(\"right\")\n",
    "ax2.get_legend().remove()\n",
    "ax2.yaxis.tick_right()\n",
    "ax2.tick_params(axis='y', labelsize=cbarticksize)\n",
    "ax2.tick_params(axis='x', labelsize=cbarticksize)\n",
    "\n",
    "#top axis\n",
    "ax1.yaxis.set_label_position(\"right\")\n",
    "ax1.yaxis.tick_right()\n",
    "#ax1.set_title(title,loc='left',fontsize = cbarticksize,fontweight='bold')\n",
    "ax1.tick_params(axis='y', labelsize=cbarticksize)\n",
    "ax1.tick_params(axis='x', labelsize=cbarticksize)\n",
    "ax1.set_ylabel('')\n",
    "ax1.set_xlabel('')\n",
    "ax1.legend(loc=\"upper left\",frameon=True,title='Risk metric',title_fontsize=16)\n",
    "\n",
    "# zoom-in / limit the view to different portions of the data\n",
    "ax1.set_ylim(150, 2000)  # outliers only (150, 2000)\n",
    "#ax1.set_yscale('log')\n",
    "ax2.set_ylim(-150, 150)  # most of the data (-150, 150)\n",
    "\n",
    "#common y label\n",
    "fig.supylabel('Future-minus-past / past change [%]',fontsize = cbarticksize,fontweight='bold',x=0.99)\n",
    "fig.supylabel\n",
    "\n",
    "# hide the spines between ax and ax2\n",
    "ax1.spines.bottom.set_visible(False)\n",
    "ax2.spines.top.set_visible(False)\n",
    "ax1.xaxis.tick_top()\n",
    "ax1.tick_params(labeltop=False)  # don't put tick labels at the top\n",
    "ax2.xaxis.tick_bottom()\n",
    "\n",
    "#add breaks\n",
    "d = .5  # proportion of vertical to horizontal extent of the slanted line\n",
    "kwargs = dict(marker=[(-1, -d), (1, d)], markersize=12,\n",
    "              linestyle=\"none\", color='k', mec='k', mew=1, clip_on=False)\n",
    "ax1.plot([0, 1], [0, 0], transform=ax1.transAxes, **kwargs)\n",
    "ax2.plot([0, 1], [1, 1], transform=ax2.transAxes, **kwargs)\n",
    "    \n",
    "if saving:\n",
    "    fig.savefig(savelocation+savefileName,transparent=False,bbox_inches='tight')"
   ]
  },
  {
   "cell_type": "code",
   "execution_count": 67,
   "id": "b8b7850a-c6b7-42dd-9617-dca5c69479e1",
   "metadata": {
    "execution": {
     "iopub.execute_input": "2023-01-09T09:09:58.244984Z",
     "iopub.status.busy": "2023-01-09T09:09:58.244529Z",
     "iopub.status.idle": "2023-01-09T09:09:58.327066Z",
     "shell.execute_reply": "2023-01-09T09:09:58.326588Z",
     "shell.execute_reply.started": "2023-01-09T09:09:58.244933Z"
    },
    "tags": []
   },
   "outputs": [
    {
     "name": "stdout",
     "output_type": "stream",
     "text": [
      "time: 75.5 ms (started: 2023-01-09 10:09:58 +01:00)\n"
     ]
    }
   ],
   "source": [
    "## prepare dataframe for sensitivity plots\n",
    "reg_sens_dict = {}\n",
    "for reg, out_df in res_dict.items():\n",
    "    sens_dict = dict()\n",
    "    for metric in out_df.sensitivity_metrics:\n",
    "        df = out_df.__dict__[metric + '_sens_df']\n",
    "        try:\n",
    "            df.set_index(['param','param2','si'],inplace=True)\n",
    "        except:\n",
    "            pass\n",
    "        sens_dict[metric] = df\n",
    "    sens_df = pd.concat(sens_dict,axis=1)\n",
    "\n",
    "    reg_sens_dict[reg] = sens_df.drop('tot_value',axis=1).droplevel(0,axis=1)\n",
    "reg_sens_df = pd.concat(reg_sens_dict,axis=1,names=[\"region\",\"metric\"])\n"
   ]
  },
  {
   "cell_type": "code",
   "execution_count": 68,
   "id": "3789ffa6-3735-4a08-9ba1-70be6e0f7eb3",
   "metadata": {
    "execution": {
     "iopub.execute_input": "2023-01-09T09:09:59.509117Z",
     "iopub.status.busy": "2023-01-09T09:09:59.508777Z",
     "iopub.status.idle": "2023-01-09T09:09:59.535645Z",
     "shell.execute_reply": "2023-01-09T09:09:59.535083Z",
     "shell.execute_reply.started": "2023-01-09T09:09:59.509076Z"
    },
    "tags": []
   },
   "outputs": [
    {
     "name": "stdout",
     "output_type": "stream",
     "text": [
      "time: 20.8 ms (started: 2023-01-09 10:09:59 +01:00)\n"
     ]
    }
   ],
   "source": [
    "metrics = ['aai_agg','rp15']\n",
    "si_met = 'S1'\n",
    "idx = pd.IndexSlice\n",
    "    \n",
    "ss_df = reg_sens_df.loc[:,idx[:,metrics]].query(\"si==@si_met\")\n",
    "ss_conf_df = reg_sens_df.loc[:,idx[:,metrics]].query(\"si==@si_met+'_conf'\")\n",
    "\n",
    "ss_df = ss_df.droplevel(\"param2\",axis=0).droplevel(\"si\",axis=0)\n",
    "ss_conf_df = ss_conf_df.droplevel(\"param2\",axis=0).droplevel(\"si\",axis=0)\n",
    "\n",
    "#set negative values to 0\n",
    "#ss_df[ss_df<0] = 0\n",
    "\n",
    "#drop useless params\n",
    "params = ['modid','scenid','memid','impfid','f_exp','x_scale','y_scale']\n",
    "keep = ['modid','memid','scenid','impfid']\n",
    "keep = params\n",
    "ss_df = ss_df.loc[keep].T\n",
    "ss_conf_df = ss_conf_df.loc[keep].T"
   ]
  },
  {
   "cell_type": "code",
   "execution_count": 69,
   "id": "4b5b67ba-4d96-4251-8d93-550785617cc1",
   "metadata": {
    "execution": {
     "iopub.execute_input": "2023-01-09T09:10:00.963738Z",
     "iopub.status.busy": "2023-01-09T09:10:00.963305Z",
     "iopub.status.idle": "2023-01-09T09:10:02.265683Z",
     "shell.execute_reply": "2023-01-09T09:10:02.264975Z",
     "shell.execute_reply.started": "2023-01-09T09:10:00.963689Z"
    },
    "tags": []
   },
   "outputs": [
    {
     "name": "stderr",
     "output_type": "stream",
     "text": [
      "/tmp/ipykernel_7674/1763842682.py:37: MatplotlibDeprecationWarning: \n",
      "The is_first_col function was deprecated in Matplotlib 3.4 and will be removed two minor releases later. Use ax.get_subplotspec().is_first_col() instead.\n",
      "  if ax.is_first_col():\n",
      "/tmp/ipykernel_7674/1763842682.py:37: MatplotlibDeprecationWarning: \n",
      "The is_first_col function was deprecated in Matplotlib 3.4 and will be removed two minor releases later. Use ax.get_subplotspec().is_first_col() instead.\n",
      "  if ax.is_first_col():\n",
      "/tmp/ipykernel_7674/1763842682.py:37: MatplotlibDeprecationWarning: \n",
      "The is_first_col function was deprecated in Matplotlib 3.4 and will be removed two minor releases later. Use ax.get_subplotspec().is_first_col() instead.\n",
      "  if ax.is_first_col():\n",
      "/tmp/ipykernel_7674/1763842682.py:37: MatplotlibDeprecationWarning: \n",
      "The is_first_col function was deprecated in Matplotlib 3.4 and will be removed two minor releases later. Use ax.get_subplotspec().is_first_col() instead.\n",
      "  if ax.is_first_col():\n",
      "/tmp/ipykernel_7674/1763842682.py:37: MatplotlibDeprecationWarning: \n",
      "The is_first_col function was deprecated in Matplotlib 3.4 and will be removed two minor releases later. Use ax.get_subplotspec().is_first_col() instead.\n",
      "  if ax.is_first_col():\n",
      "/tmp/ipykernel_7674/1763842682.py:37: MatplotlibDeprecationWarning: \n",
      "The is_first_col function was deprecated in Matplotlib 3.4 and will be removed two minor releases later. Use ax.get_subplotspec().is_first_col() instead.\n",
      "  if ax.is_first_col():\n",
      "/tmp/ipykernel_7674/1763842682.py:37: MatplotlibDeprecationWarning: \n",
      "The is_first_col function was deprecated in Matplotlib 3.4 and will be removed two minor releases later. Use ax.get_subplotspec().is_first_col() instead.\n",
      "  if ax.is_first_col():\n",
      "/tmp/ipykernel_7674/1763842682.py:37: MatplotlibDeprecationWarning: \n",
      "The is_first_col function was deprecated in Matplotlib 3.4 and will be removed two minor releases later. Use ax.get_subplotspec().is_first_col() instead.\n",
      "  if ax.is_first_col():\n"
     ]
    },
    {
     "data": {
      "text/plain": [
       "Text(0.0, 1.0, '(a)')"
      ]
     },
     "execution_count": 69,
     "metadata": {},
     "output_type": "execute_result"
    },
    {
     "data": {
      "image/png": "[encoded data removed]",
      "text/plain": [
       "<Figure size 1008x576 with 8 Axes>"
      ]
     },
     "metadata": {},
     "output_type": "display_data"
    },
    {
     "name": "stdout",
     "output_type": "stream",
     "text": [
      "time: 1.29 s (started: 2023-01-09 10:10:00 +01:00)\n"
     ]
    }
   ],
   "source": [
    "df = ss_df\n",
    "cols = ['darkcyan', 'tab:purple', 'silver','peru']\n",
    "cols2 = ['tomato','lightsteelblue','gold']\n",
    "title = '(a)'\n",
    "\n",
    "zones = df.index.levels[0]\n",
    "nplots = zones.size\n",
    "plots_width_ratios = [df.xs(zone).index.size for zone in zones]\n",
    "fig, axes = plt.subplots(nrows=1, ncols=nplots, sharey=True, figsize=(14, 8),\n",
    "                         gridspec_kw = dict(width_ratios=plots_width_ratios, wspace=0))\n",
    "\n",
    "# Loop through array of axes to create grouped bar chart for each factory zone\n",
    "alpha = 0.3 # used for grid lines, bottom spine and separation lines between zones\n",
    "for zone, ax in zip(zones, axes):\n",
    "    # Create bar chart with grid lines and no spines except bottom one\n",
    "    df.xs(zone).plot.bar(ax=ax, legend=None, zorder=2,stacked=True,yerr=ss_conf_df.xs(zone),color=cols+cols2)\n",
    "    ax.grid(axis='y', zorder=1, color='black', alpha=alpha)\n",
    "    for spine in ['top', 'left', 'right']:\n",
    "        ax.spines[spine].set_visible(False)\n",
    "    ax.spines['bottom'].set_alpha(alpha)\n",
    "    \n",
    "    # Set and place x labels for factory zones\n",
    "    ax.set_xlabel(zone)\n",
    "    ax.xaxis.set_label_coords(x=0.5, y=-0.2)\n",
    "    \n",
    "    # Format major tick labels for factory names: note that because this figure is\n",
    "    # only about 10 inches wide, I choose to rewrite the long names on two lines.\n",
    "    ticklabels = [name.replace(' ', '\\n') if len(name) > 10 else name\n",
    "                  for name in df.xs(zone).index]\n",
    "    ax.set_xticklabels(ticklabels, rotation=0, ha='center')\n",
    "    ax.tick_params(axis='both', length=0, pad=7)\n",
    "    \n",
    "    # Set and format minor tick marks for separation lines between zones: note\n",
    "    # that except for the first subplot, only the right tick mark is drawn to avoid\n",
    "    # duplicate overlapping lines so that when an alpha different from 1 is chosen\n",
    "    # (like in this example) all the lines look the same\n",
    "    if ax.is_first_col():\n",
    "        ax.set_xticks([*ax.get_xlim()], minor=True)\n",
    "    else:\n",
    "        ax.set_xticks([ax.get_xlim()[1]], minor=True)\n",
    "    ax.tick_params(which='minor', length=55, width=0.8, color=[0, 0, 0, alpha])\n",
    "    ax.set_ylabel(si_met)\n",
    "#fig.supxlabel('Regions')\n",
    "\n",
    "# Add legend using the labels and handles from the last subplot\n",
    "fig.legend(*ax.get_legend_handles_labels(), frameon=True,loc=(0.08, 0.2),title='Uncertainty parameter',title_fontsize=16)#loc='lower left'\n",
    "\n",
    "#fig.suptitle('(b)', y=1, size=14);\n",
    "axes[0].set_title(title,loc='left')\n"
   ]
  }
 ],
 "metadata": {
  "kernelspec": {
   "display_name": "Python [conda env:.conda-climada_env]",
   "language": "python",
   "name": "conda-env-.conda-climada_env-py"
  },
  "language_info": {
   "codemirror_mode": {
    "name": "ipython",
    "version": 3
   },
   "file_extension": ".py",
   "mimetype": "text/x-python",
   "name": "python",
   "nbconvert_exporter": "python",
   "pygments_lexer": "ipython3",
   "version": "3.8.12"
  }
 },
 "nbformat": 4,
 "nbformat_minor": 5
}
